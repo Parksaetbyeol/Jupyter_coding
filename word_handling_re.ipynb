{
 "cells": [
  {
   "cell_type": "markdown",
   "id": "a16790e9-f44f-499e-a012-ff3c26dc6cd6",
   "metadata": {},
   "source": [
    "# 문자열 다루기\n",
    "- 한글만 있는것\n",
    "- 년도가 있는 한글은 남길것"
   ]
  },
  {
   "cell_type": "code",
   "execution_count": 1,
   "id": "14ec0821-6ad6-4efb-9207-541c4e8d5acc",
   "metadata": {},
   "outputs": [],
   "source": [
    "import numpy as np\n",
    "import pandas as pd\n",
    "import re"
   ]
  },
  {
   "cell_type": "code",
   "execution_count": 2,
   "id": "33bb172f-d9ad-477c-bcc0-1743f7f182cd",
   "metadata": {},
   "outputs": [
    {
     "name": "stdout",
     "output_type": "stream",
     "text": [
      "123abc\n"
     ]
    }
   ],
   "source": [
    "text = '123abc456'\n",
    "\n",
    "text_substituted = re.sub(r'[^1-3a-z]', '', text)\n",
    "print(text_substituted)"
   ]
  },
  {
   "cell_type": "code",
   "execution_count": 51,
   "id": "ee25711c-1ebd-4160-8330-7c9cfb15a621",
   "metadata": {},
   "outputs": [],
   "source": [
    "num = ['123abc456','한국어다','2023 한국어','abcd','13454235']"
   ]
  },
  {
   "cell_type": "code",
   "execution_count": 52,
   "id": "4cb8e132-7035-4c85-b04b-80d133092e77",
   "metadata": {},
   "outputs": [
    {
     "data": {
      "text/plain": [
       "['123456', '한국어다', '2023 한국어', '', '13454235']"
      ]
     },
     "execution_count": 52,
     "metadata": {},
     "output_type": "execute_result"
    }
   ],
   "source": [
    "end = []\n",
    "for r in num:\n",
    "    hangul = re.compile('[^ 0-9ㄱ-ㅣ가-힣]+')\n",
    "    result = hangul.sub('',r)\n",
    "    end.append(result)\n",
    "end"
   ]
  },
  {
   "cell_type": "code",
   "execution_count": 53,
   "id": "cd175859-f40e-4bf2-b16c-fddbcfe772a2",
   "metadata": {},
   "outputs": [
    {
     "name": "stdout",
     "output_type": "stream",
     "text": [
      "True\n",
      "False\n",
      "False\n",
      "False\n",
      "True\n"
     ]
    },
    {
     "data": {
      "text/plain": [
       "['한국어다', '2023 한국어', '']"
      ]
     },
     "execution_count": 53,
     "metadata": {},
     "output_type": "execute_result"
    }
   ],
   "source": [
    "last = []\n",
    "for e in end:\n",
    "    print(e.isdigit())\n",
    "    if e.isnumeric() == False:\n",
    "        last.append(e.strip())\n",
    "last"
   ]
  },
  {
   "cell_type": "code",
   "execution_count": null,
   "id": "9c8735f5-1323-4a0b-accb-2b4b61fcaa51",
   "metadata": {},
   "outputs": [],
   "source": []
  }
 ],
 "metadata": {
  "kernelspec": {
   "display_name": "Python 3 (ipykernel)",
   "language": "python",
   "name": "python3"
  },
  "language_info": {
   "codemirror_mode": {
    "name": "ipython",
    "version": 3
   },
   "file_extension": ".py",
   "mimetype": "text/x-python",
   "name": "python",
   "nbconvert_exporter": "python",
   "pygments_lexer": "ipython3",
   "version": "3.8.13"
  }
 },
 "nbformat": 4,
 "nbformat_minor": 5
}
