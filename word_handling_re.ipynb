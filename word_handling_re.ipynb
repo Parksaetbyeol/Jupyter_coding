{
 "cells": [
  {
   "cell_type": "markdown",
   "id": "a16790e9-f44f-499e-a012-ff3c26dc6cd6",
   "metadata": {},
   "source": [
    "# 문자열 다루기\n",
    "- 한글만 있는것 남기기\n",
    "- 년도가 있는 한글은 남길것"
   ]
  },
  {
   "cell_type": "code",
   "execution_count": 1,
   "id": "14ec0821-6ad6-4efb-9207-541c4e8d5acc",
   "metadata": {},
   "outputs": [],
   "source": [
    "import numpy as np\n",
    "import pandas as pd\n",
    "import re"
   ]
  },
  {
   "cell_type": "code",
   "execution_count": 2,
   "id": "33bb172f-d9ad-477c-bcc0-1743f7f182cd",
   "metadata": {},
   "outputs": [
    {
     "name": "stdout",
     "output_type": "stream",
     "text": [
      "123abc\n"
     ]
    }
   ],
   "source": [
    "text = '123abc456'\n",
    "\n",
    "text_substituted = re.sub(r'[^1-3a-z]', '', text)\n",
    "print(text_substituted)"
   ]
  },
  {
   "cell_type": "code",
   "execution_count": 51,
   "id": "ee25711c-1ebd-4160-8330-7c9cfb15a621",
   "metadata": {},
   "outputs": [],
   "source": [
    "num = ['123abc456','한국어다','2023 한국어','abcd','13454235']"
   ]
  },
  {
   "cell_type": "code",
   "execution_count": 52,
   "id": "4cb8e132-7035-4c85-b04b-80d133092e77",
   "metadata": {},
   "outputs": [
    {
     "data": {
      "text/plain": [
       "['123456', '한국어다', '2023 한국어', '', '13454235']"
      ]
     },
     "execution_count": 52,
     "metadata": {},
     "output_type": "execute_result"
    }
   ],
   "source": [
    "end = []\n",
    "for r in num:\n",
    "    hangul = re.compile('[^ 0-9ㄱ-ㅣ가-힣]+')\n",
    "    result = hangul.sub('',r)\n",
    "    end.append(result)\n",
    "end"
   ]
  },
  {
   "cell_type": "code",
   "execution_count": 53,
   "id": "cd175859-f40e-4bf2-b16c-fddbcfe772a2",
   "metadata": {},
   "outputs": [
    {
     "name": "stdout",
     "output_type": "stream",
     "text": [
      "True\n",
      "False\n",
      "False\n",
      "False\n",
      "True\n"
     ]
    },
    {
     "data": {
      "text/plain": [
       "['한국어다', '2023 한국어', '']"
      ]
     },
     "execution_count": 53,
     "metadata": {},
     "output_type": "execute_result"
    }
   ],
   "source": [
    "last = []\n",
    "for e in end:\n",
    "    print(e.isdigit())\n",
    "    if e.isnumeric() == False:\n",
    "        last.append(e.strip())\n",
    "last"
   ]
  },
  {
   "cell_type": "markdown",
   "id": "721f9b8b-5b26-4c14-8f10-41c6b8958c0d",
   "metadata": {},
   "source": [
    "## 문자열 거꾸로 출력"
   ]
  },
  {
   "cell_type": "code",
   "execution_count": 3,
   "id": "42750ce2-5877-4808-997e-f01148d43520",
   "metadata": {},
   "outputs": [
    {
     "name": "stdout",
     "output_type": "stream",
     "text": [
      "edcba\n"
     ]
    }
   ],
   "source": [
    "txt = 'abcde'\n",
    "txt_reverse = ''  # 기존 문자열을 역순으로 담아줄 빈 문자열 선언\n",
    "for char in txt:\n",
    "    txt_reverse = char + txt_reverse # 문자 새로 가져와서 앞에 넣어주기\n",
    "\n",
    "print(txt_reverse)  # edcba"
   ]
  },
  {
   "cell_type": "code",
   "execution_count": 5,
   "id": "0d8ddf98-255e-46b1-b60f-5e1fcddc8099",
   "metadata": {},
   "outputs": [
    {
     "name": "stdout",
     "output_type": "stream",
     "text": [
      "['e', 'd', 'c', 'b', 'a']\n"
     ]
    }
   ],
   "source": [
    "txt = 'abcde'\n",
    "txt_list = list(txt) # 하나씩 리스트에 넣기\n",
    "txt_list.reverse()\n",
    "print(txt_list)"
   ]
  },
  {
   "cell_type": "code",
   "execution_count": 7,
   "id": "cdba0c1c-3809-4e0c-9165-5caee9d65bef",
   "metadata": {},
   "outputs": [
    {
     "data": {
      "text/plain": [
       "'edcba'"
      ]
     },
     "execution_count": 7,
     "metadata": {},
     "output_type": "execute_result"
    }
   ],
   "source": [
    "''.join(txt_list) # 리스트를 다시 연결하기"
   ]
  },
  {
   "cell_type": "code",
   "execution_count": 9,
   "id": "5534e393-2cd5-436b-ac8d-1d0a3f5b2997",
   "metadata": {},
   "outputs": [
    {
     "data": {
      "text/plain": [
       "'edcba'"
      ]
     },
     "execution_count": 9,
     "metadata": {},
     "output_type": "execute_result"
    }
   ],
   "source": [
    "# 이렇게도 가능\n",
    "txt = 'abcde'\n",
    "''.join(reversed(txt))"
   ]
  },
  {
   "cell_type": "code",
   "execution_count": 10,
   "id": "b685985f-9de8-4f5b-8f8b-33596abd7e51",
   "metadata": {},
   "outputs": [
    {
     "data": {
      "text/plain": [
       "'edcba'"
      ]
     },
     "execution_count": 10,
     "metadata": {},
     "output_type": "execute_result"
    }
   ],
   "source": [
    "# [::-1]\n",
    "txt = 'abcde'\n",
    "txt[::-1]"
   ]
  },
  {
   "cell_type": "markdown",
   "id": "910d755c-4402-4d38-a449-390853f59ff3",
   "metadata": {},
   "source": [
    "## index 지정해서 역순 출력하기"
   ]
  },
  {
   "cell_type": "code",
   "execution_count": 13,
   "id": "391e9a41-c773-4b13-89fc-8797f5eef8d7",
   "metadata": {},
   "outputs": [
    {
     "data": {
      "text/plain": [
       "'lpp'"
      ]
     },
     "execution_count": 13,
     "metadata": {},
     "output_type": "execute_result"
    }
   ],
   "source": [
    "# 지정 문자만 역순 출력하기\n",
    "txt = 'apple'\n",
    "txt[3:0:-1] # 3번 index 부터 1번 index까지 역순으로 출력 (0번부터 아님!!)"
   ]
  },
  {
   "cell_type": "code",
   "execution_count": 14,
   "id": "6454d7da-4386-4417-b3b2-852d834ce21e",
   "metadata": {},
   "outputs": [
    {
     "data": {
      "text/plain": [
       "'elppa'"
      ]
     },
     "execution_count": 14,
     "metadata": {},
     "output_type": "execute_result"
    }
   ],
   "source": [
    "txt = 'apple'\n",
    "txt[4::-1] # 4번 index부터 0번 index까지 역순으로 출력"
   ]
  },
  {
   "cell_type": "code",
   "execution_count": 16,
   "id": "878c8806-766b-4466-b7ad-6a7303785c39",
   "metadata": {},
   "outputs": [
    {
     "data": {
      "text/plain": [
       "['e', 'd', 'c', 'b', 'a']"
      ]
     },
     "execution_count": 16,
     "metadata": {},
     "output_type": "execute_result"
    }
   ],
   "source": [
    "# 리스트 가능\n",
    "l = ['a', 'b', 'c', 'd', 'e']\n",
    "l[::-1]"
   ]
  },
  {
   "cell_type": "code",
   "execution_count": 17,
   "id": "03159a04-4755-4855-8c90-40fc7fa11dfe",
   "metadata": {},
   "outputs": [
    {
     "data": {
      "text/plain": [
       "('e', 'd', 'c', 'b', 'a')"
      ]
     },
     "execution_count": 17,
     "metadata": {},
     "output_type": "execute_result"
    }
   ],
   "source": [
    "# 튜플도 가능\n",
    "t = ('a', 'b', 'c', 'd', 'e')\n",
    "t[::-1]"
   ]
  }
 ],
 "metadata": {
  "kernelspec": {
   "display_name": "Python 3 (ipykernel)",
   "language": "python",
   "name": "python3"
  },
  "language_info": {
   "codemirror_mode": {
    "name": "ipython",
    "version": 3
   },
   "file_extension": ".py",
   "mimetype": "text/x-python",
   "name": "python",
   "nbconvert_exporter": "python",
   "pygments_lexer": "ipython3",
   "version": "3.8.13"
  }
 },
 "nbformat": 4,
 "nbformat_minor": 5
}
