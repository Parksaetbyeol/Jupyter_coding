{
 "cells": [
  {
   "cell_type": "markdown",
   "id": "498063cb-aa28-41bc-904a-e87fd9c093db",
   "metadata": {},
   "source": [
    "# requests, beautifulsoup\n",
    "- 토스 뉴스타이틀 가져오기"
   ]
  },
  {
   "cell_type": "code",
   "execution_count": 1,
   "id": "1690de62-2047-445e-aeb8-ab7dc6e18250",
   "metadata": {},
   "outputs": [],
   "source": [
    "import numpy as np\n",
    "import pandas as pd"
   ]
  },
  {
   "cell_type": "code",
   "execution_count": 2,
   "id": "489dafe5-7822-453a-b327-178aeefecc60",
   "metadata": {},
   "outputs": [],
   "source": [
    "import requests\n",
    "from bs4 import BeautifulSoup as bs"
   ]
  },
  {
   "cell_type": "code",
   "execution_count": 121,
   "id": "6d4de5dd-2a9a-44f7-9865-ce4ea4f6e07e",
   "metadata": {},
   "outputs": [
    {
     "data": {
      "text/plain": [
       "200"
      ]
     },
     "execution_count": 121,
     "metadata": {},
     "output_type": "execute_result"
    }
   ],
   "source": [
    "url = 'https://search.naver.com/search.naver?where=news&query=%ED%86%A0%EC%8A%A4&sm=tab_tmr&nso=so:r,p:all,a:all&sort=0'\n",
    "response  = requests.get(url)\n",
    "response.status_code"
   ]
  },
  {
   "cell_type": "code",
   "execution_count": 96,
   "id": "131d9057-9ada-4a66-a5db-dacc2f5ba9a7",
   "metadata": {
    "tags": []
   },
   "outputs": [],
   "source": [
    "html = response.text\n",
    "soup = bs(html, \"html.parser\")"
   ]
  },
  {
   "cell_type": "code",
   "execution_count": 97,
   "id": "172e214c-fbca-4983-9e45-c0f353d19e15",
   "metadata": {
    "collapsed": true,
    "jupyter": {
     "outputs_hidden": true
    },
    "tags": []
   },
   "outputs": [
    {
     "name": "stdout",
     "output_type": "stream",
     "text": [
      "[<div class=\"group_news\"> <ul class=\"list_news\"> <li class=\"bx\" id=\"sp_nws1\"> <div class=\"news_wrap api_ani_send\"> <div class=\"news_area\"> <div class=\"news_info\"> <div class=\"api_save_group _keep_wrap\"> <a aria-pressed=\"false\" class=\"btn_save _keep_trigger\" data-url=\"https://www.sedaily.com/NewsView/29ULBWFU6J\" href=\"#\" onclick=\"tCR('a=nws*j.kep&amp;r=1&amp;i=88000108_000000000000000004235646&amp;u=javascript'); return false;\" role=\"button\"><i class=\"spnew ico_save\">문서 저장하기</i></a> <div class=\"api_ly_save _keep_save_layer\"> <a class=\"spnew_af item item_save _keep_save\" data-cr-off=\"a=nws*j.kepoff&amp;r=1&amp;i=88000108_000000000000000004235646&amp;u=javascript\" data-cr-on=\"a=nws*j.kepon&amp;r=1&amp;i=88000108_000000000000000004235646&amp;u=javascript\" href=\"#\" role=\"button\">Keep에 저장</a> <a class=\"spnew_af item item_quick\" href=\"https://keep.naver.com/\" onclick=\"return goOtherCR(this,'a=nws*j.kephome&amp;r=1&amp;i=88000108_000000000000000004235646&amp;u='+urlencode(this.href));\" target=\"_blank\">Keep 바로가기</a> </div></div><div class=\"info_group\"> <a class=\"info press\" href=\"http://www.sedaily.com\" onclick=\"return goOtherCR(this, 'a=nws*j.prof&amp;r=1&amp;i=88000108_000000000000000004235646&amp;g=011.0004235646&amp;u='+urlencode(this.href));\" target=\"_blank\"><span class=\"thumb_box\"><img alt=\"\" class=\"thumb\" data-lazysrc=\"https://search.pstatic.net/common/?src=https%3A%2F%2Fmimgnews.pstatic.net%2Fimage%2Fupload%2Foffice_logo%2F011%2F2022%2F07%2F29%2Flogo_011_18_20220729150242.jpg&amp;type=f54_54&amp;expire=24&amp;refresh=true\" height=\"20\" onerror=\"this.src='data:image/gif;base64,R0lGODlhAQABAIAAAAAAAP///yH5BAEAAAAALAAAAAABAAEAAAIBRAA7';this.className='thumb bg_default_press'\" src=\"data:image/gif;base64,R0lGODlhAQABAIAAAAAAAP///yH5BAEAAAAALAAAAAABAAEAAAIBRAA7\" width=\"20\"/></span>서울경제<i class=\"spnew ico_pick\">언론사 선정</i></a><span class=\"info\"><i class=\"spnew ico_paper\"></i>21면 TOP</span><span class=\"info\">6시간 전</span><a class=\"info\" href=\"https://n.news.naver.com/mnews/article/011/0004235646?sid=101\" onclick=\"return goOtherCR(this, 'a=nws*j.nav&amp;r=1&amp;i=88000108_000000000000000004235646&amp;u='+urlencode(this.href));\" target=\"_blank\">네이버뉴스</a> </div></div><a class=\"news_tit\" href=\"https://www.sedaily.com/NewsView/29ULBWFU6J\" onclick=\"return goOtherCR(this, 'a=nws*j.tit&amp;r=1&amp;i=88000108_000000000000000004235646&amp;g=011.0004235646&amp;u='+urlencode(this.href));\" target=\"_blank\" title=\"[단독] 토스證, 올해도 '전산오류 1위' 불명예\">[단독] <mark>토스</mark>證, 올해도 '전산오류 1위' 불명예</a> <div class=\"news_dsc\"> <div class=\"dsc_wrap\"> <a class=\"api_txt_lines dsc_txt_wrap\" href=\"https://www.sedaily.com/NewsView/29ULBWFU6J\" onclick=\"return goOtherCR(this, 'a=nws*j.body&amp;r=1&amp;i=88000108_000000000000000004235646&amp;g=011.0004235646&amp;u='+urlencode(this.href));\" target=\"_blank\">‘디지털 특화’를 무기로 전통 금융투자 회사들에 도전장을 낸 국내 대표 핀테크 업체 <mark>토스</mark>증권이... 7일 서울경제신문이 입수한 김한규 더불어민주당 의원실 자료에 따르면 <mark>토스</mark>증권은 올해 1~7월 국내 28개 증권사...</a> </div></div></div><a class=\"dsc_thumb\" href=\"https://www.sedaily.com/NewsView/29ULBWFU6J\" onclick=\"return goOtherCR(this, 'a=nws*j.img&amp;r=1&amp;i=88000108_000000000000000004235646&amp;g=011.0004235646&amp;u='+urlencode(this.href));\" target=\"_blank\"><img alt=\"[단독] 토스證, 올해도\" class=\"thumb api_get\" data-lazysrc=\"https://search.pstatic.net/common/?src=https%3A%2F%2Fimgnews.pstatic.net%2Fimage%2Forigin%2F011%2F2023%2F09%2F07%2F4235646.jpg&amp;type=ff264_180&amp;expire=2&amp;refresh=true\" height=\"90\" onerror=\"this.parentNode.style.display='none';\" src=\"data:image/gif;base64,R0lGODlhAQABAIAAAAAAAP///yH5BAEAAAAALAAAAAABAAEAAAIBRAA7\" width=\"132\"/></a> </div></li> <li class=\"bx\" id=\"sp_nws2\"> <div class=\"news_wrap api_ani_send\"> <div class=\"news_area\"> <div class=\"news_info\"> <div class=\"api_save_group _keep_wrap\"> <a aria-pressed=\"false\" class=\"btn_save _keep_trigger\" data-url=\"http://www.newsis.com/view/?id=NISX20230907_0002441455&amp;cID=15003&amp;pID=15000\" href=\"#\" onclick=\"tCR('a=nws*a.kep&amp;r=2&amp;i=88000127_000000000000000012075171&amp;u=javascript'); return false;\" role=\"button\"><i class=\"spnew ico_save\">문서 저장하기</i></a> <div class=\"api_ly_save _keep_save_layer\"> <a class=\"spnew_af item item_save _keep_save\" data-cr-off=\"a=nws*a.kepoff&amp;r=2&amp;i=88000127_000000000000000012075171&amp;u=javascript\" data-cr-on=\"a=nws*a.kepon&amp;r=2&amp;i=88000127_000000000000000012075171&amp;u=javascript\" href=\"#\" role=\"button\">Keep에 저장</a> <a class=\"spnew_af item item_quick\" href=\"https://keep.naver.com/\" onclick=\"return goOtherCR(this,'a=nws*a.kephome&amp;r=2&amp;i=88000127_000000000000000012075171&amp;u='+urlencode(this.href));\" target=\"_blank\">Keep 바로가기</a> </div></div><div class=\"info_group\"> <a class=\"info press\" href=\"http://www.newsis.com\" onclick=\"return goOtherCR(this, 'a=nws*a.prof&amp;r=2&amp;i=88000127_000000000000000012075171&amp;g=003.0012075171&amp;u='+urlencode(this.href));\" target=\"_blank\"><span class=\"thumb_box\"><img alt=\"\" class=\"thumb\" data-lazysrc=\"https://search.pstatic.net/common/?src=https%3A%2F%2Fmimgnews.pstatic.net%2Fimage%2Fupload%2Foffice_logo%2F003%2F2019%2F02%2F19%2Flogo_003_18_20190219111719.jpg&amp;type=f54_54&amp;expire=24&amp;refresh=true\" height=\"20\" onerror=\"this.src='data:image/gif;base64,R0lGODlhAQABAIAAAAAAAP///yH5BAEAAAAALAAAAAABAAEAAAIBRAA7';this.className='thumb bg_default_press'\" src=\"data:image/gif;base64,R0lGODlhAQABAIAAAAAAAP///yH5BAEAAAAALAAAAAABAAEAAAIBRAA7\" width=\"20\"/></span>뉴시스</a><span class=\"info\">11시간 전</span><a class=\"info\" href=\"https://n.news.naver.com/mnews/article/003/0012075171?sid=101\" onclick=\"return goOtherCR(this, 'a=nws*a.nav&amp;r=2&amp;i=88000127_000000000000000012075171&amp;u='+urlencode(this.href));\" target=\"_blank\">네이버뉴스</a> </div></div><a class=\"news_tit\" href=\"http://www.newsis.com/view/?id=NISX20230907_0002441455&amp;cID=15003&amp;pID=15000\" onclick=\"return goOtherCR(this, 'a=nws*a.tit&amp;r=2&amp;i=88000127_000000000000000012075171&amp;g=003.0012075171&amp;u='+urlencode(this.href));\" target=\"_blank\" title=\"토스뱅크, '목돈 굴리기'에서 삼성증권 채권상품 소개\"><mark>토스</mark>뱅크, '목돈 굴리기'에서 삼성증권 채권상품 소개</a> <div class=\"news_dsc\"> <div class=\"dsc_wrap\"> <a class=\"api_txt_lines dsc_txt_wrap\" href=\"http://www.newsis.com/view/?id=NISX20230907_0002441455&amp;cID=15003&amp;pID=15000\" onclick=\"return goOtherCR(this, 'a=nws*a.body&amp;r=2&amp;i=88000127_000000000000000012075171&amp;g=003.0012075171&amp;u='+urlencode(this.href));\" target=\"_blank\"><mark>토스</mark>뱅크는 '목돈 굴리기' 서비스에서 삼성증권의 <mark>토스</mark>뱅크 연계 종합매매계좌를 개설하고 삼성증권이 판매 중인 채권 상품을 만날 수 있다고 7일 밝혔다. 삼성증권의 종합매매계좌는 국내를 포함한 해외 주식, 채권...</a> </div></div></div><a class=\"dsc_thumb\" href=\"http://www.newsis.com/view/?id=NISX20230907_0002441455&amp;cID=15003&amp;pID=15000\" onclick=\"return goOtherCR(this, 'a=nws*a.img&amp;r=2&amp;i=88000127_000000000000000012075171&amp;g=003.0012075171&amp;u='+urlencode(this.href));\" target=\"_blank\"><img alt=\"토스뱅크, ‘목돈 굴리\" class=\"thumb api_get\" data-lazysrc=\"https://search.pstatic.net/common/?src=https%3A%2F%2Fimgnews.pstatic.net%2Fimage%2Forigin%2F003%2F2023%2F09%2F07%2F12075171.jpg&amp;type=ff264_180&amp;expire=2&amp;refresh=true\" height=\"90\" onerror=\"this.parentNode.style.display='none';\" src=\"data:image/gif;base64,R0lGODlhAQABAIAAAAAAAP///yH5BAEAAAAALAAAAAABAAEAAAIBRAA7\" width=\"132\"/></a> </div><div class=\"news_cluster\"> <ul class=\"list_cluster\"> <li class=\"sub_bx\"> <span class=\"sub_wrap\"> <span class=\"sub_area\"> <cite class=\"sub_txt press\" title=\"한국경제\">한국경제</cite><span class=\"sub_txt\">12시간 전</span><a class=\"sub_txt\" href=\"https://n.news.naver.com/mnews/article/015/0004888840?sid=101\" onclick=\"return goOtherCR(this, 'a=nws*c.nav&amp;r=3&amp;i=88000107_000000000000000004888840&amp;u='+urlencode(this.href));\" target=\"_blank\">네이버뉴스</a> </span><a class=\"elss sub_tit\" href=\"https://www.hankyung.com/article/202309070379i\" onclick=\"return goOtherCR(this, 'a=nws*c.tit&amp;r=3&amp;i=88000107_000000000000000004888840&amp;g=015.0004888840&amp;u='+urlencode(this.href));\" target=\"_blank\" title=\"토스뱅크, '목돈 굴리기'에서 삼성증권 판매 채권 소개 개시\"><mark>토스</mark>뱅크, '목돈 굴리기'에서 삼성증권 판매 채권 소개 개시</a> </span></li> <li class=\"sub_bx\"> <span class=\"sub_wrap\"> <span class=\"sub_area\"> <cite class=\"sub_txt press\" title=\"조선비즈\">조선비즈</cite><span class=\"sub_txt\">11시간 전</span><a class=\"sub_txt\" href=\"https://n.news.naver.com/mnews/article/366/0000930130?sid=101\" onclick=\"return goOtherCR(this, 'a=nws*c.nav&amp;r=4&amp;i=88127058_000000000000000000930130&amp;u='+urlencode(this.href));\" target=\"_blank\">네이버뉴스</a> </span><a class=\"elss sub_tit\" href=\"https://biz.chosun.com/stock/finance/2023/09/07/I53LXI3ROFAWHNTXL7QLR7MSQY/?utm_source=naver&amp;utm_medium=original&amp;utm_campaign=biz\" onclick=\"return goOtherCR(this, 'a=nws*c.tit&amp;r=4&amp;i=88127058_000000000000000000930130&amp;g=366.0000930130&amp;u='+urlencode(this.href));\" target=\"_blank\" title=\"토스뱅크, 목돈 굴리기에서 삼성증권 채권상품 소개 개시\"><mark>토스</mark>뱅크, 목돈 굴리기에서 삼성증권 채권상품 소개 개시</a> </span></li> <li class=\"sub_bx\"> <span class=\"sub_wrap\"> <span class=\"sub_area\"> <cite class=\"sub_txt press\" title=\"부산일보\">부산일보</cite><span class=\"sub_txt\">7시간 전</span><a class=\"sub_txt\" href=\"https://n.news.naver.com/mnews/article/082/0001231106?sid=101\" onclick=\"return goOtherCR(this, 'a=nws*c.nav&amp;r=5&amp;i=880000CE_000000000000000001231106&amp;u='+urlencode(this.href));\" target=\"_blank\">네이버뉴스</a> </span><a class=\"elss sub_tit\" href=\"https://www.busan.com/view/busan/view.php?code=2023090714353547578\" onclick=\"return goOtherCR(this, 'a=nws*c.tit&amp;r=5&amp;i=880000CE_000000000000000001231106&amp;g=082.0001231106&amp;u='+urlencode(this.href));\" target=\"_blank\" title=\"토스뱅크, ‘목돈 굴리기’에 삼성증권 추가\"><mark>토스</mark>뱅크, ‘목돈 굴리기’에 삼성증권 추가</a> </span></li> <li class=\"sub_bx\"> <span class=\"sub_wrap\"> <span class=\"sub_area\"> <cite class=\"sub_txt press\" title=\"스포츠서울\">스포츠서울</cite><span class=\"sub_txt\">5시간 전</span><a class=\"sub_txt\" href=\"https://n.news.naver.com/mnews/article/468/0000978180?sid=101\" onclick=\"return goOtherCR(this, 'a=nws*c.nav&amp;r=6&amp;i=88156f78_000000000000000000978180&amp;u='+urlencode(this.href));\" target=\"_blank\">네이버뉴스</a> </span><a class=\"elss sub_tit\" href=\"https://www.sportsseoul.com/news/read/1346760?ref=naver\" onclick=\"return goOtherCR(this, 'a=nws*c.tit&amp;r=6&amp;i=88156f78_000000000000000000978180&amp;g=468.0000978180&amp;u='+urlencode(this.href));\" target=\"_blank\" title=\"토스뱅크, ‘목돈 굴리기’에 삼성증권 채권 상품 소개 개시\"><mark>토스</mark>뱅크, ‘목돈 굴리기’에 삼성증권 채권 상품 소개 개시</a> </span></li> </ul></div><a class=\"news_more\" href=\"?where=news&amp;sm=tab_tnw&amp;query=%ED%86%A0%EC%8A%A4&amp;sort=0&amp;photo=0&amp;field=0&amp;pd=0&amp;ds=&amp;de=&amp;mynews=0&amp;office_type=0&amp;office_section_code=0&amp;news_office_checked=&amp;related=1&amp;docid=0030012075171&amp;office_category=0&amp;service_area=0&amp;nso=so:r,p:all,a:all\" onclick=\"return goOtherCR(this, 'a=nws*r.more&amp;u='+urlencode(urlexpand(this.href)));\">관련뉴스 39건 전체보기<i class=\"spnew ico_arrow\"></i></a> </li> <li class=\"bx\" id=\"sp_nws7\"> <div class=\"news_wrap api_ani_send\"> <div class=\"news_area\"> <div class=\"news_info\"> <div class=\"api_save_group _keep_wrap\"> <a aria-pressed=\"false\" class=\"btn_save _keep_trigger\" data-url=\"http://www.fnnews.com/news/202309071547134736\" href=\"#\" onclick=\"tCR('a=nws*e.kep&amp;r=7&amp;i=880000FF_000000000000000005069334&amp;u=javascript'); return false;\" role=\"button\"><i class=\"spnew ico_save\">문서 저장하기</i></a> <div class=\"api_ly_save _keep_save_layer\"> <a class=\"spnew_af item item_save _keep_save\" data-cr-off=\"a=nws*e.kepoff&amp;r=7&amp;i=880000FF_000000000000000005069334&amp;u=javascript\" data-cr-on=\"a=nws*e.kepon&amp;r=7&amp;i=880000FF_000000000000000005069334&amp;u=javascript\" href=\"#\" role=\"button\">Keep에 저장</a> <a class=\"spnew_af item item_quick\" href=\"https://keep.naver.com/\" onclick=\"return goOtherCR(this,'a=nws*e.kephome&amp;r=7&amp;i=880000FF_000000000000000005069334&amp;u='+urlencode(this.href));\" target=\"_blank\">Keep 바로가기</a> </div></div><div class=\"info_group\"> <a class=\"info press\" href=\"http://www.fnnews.com/\" onclick=\"return goOtherCR(this, 'a=nws*e.prof&amp;r=7&amp;i=880000FF_000000000000000005069334&amp;g=014.0005069334&amp;u='+urlencode(this.href));\" target=\"_blank\"><span class=\"thumb_box\"><img alt=\"\" class=\"thumb\" data-lazysrc=\"https://search.pstatic.net/common/?src=https%3A%2F%2Fmimgnews.pstatic.net%2Fimage%2Fupload%2Foffice_logo%2F014%2F2020%2F12%2F30%2Flogo_014_18_20201230135042.png&amp;type=f54_54&amp;expire=24&amp;refresh=true\" height=\"20\" onerror=\"this.src='data:image/gif;base64,R0lGODlhAQABAIAAAAAAAP///yH5BAEAAAAALAAAAAABAAEAAAIBRAA7';this.className='thumb bg_default_press'\" src=\"data:image/gif;base64,R0lGODlhAQABAIAAAAAAAP///yH5BAEAAAAALAAAAAABAAEAAAIBRAA7\" width=\"20\"/></span>파이낸셜뉴스</a><span class=\"info\">1시간 전</span><a class=\"info\" href=\"https://n.news.naver.com/mnews/article/014/0005069334?sid=100\" onclick=\"return goOtherCR(this, 'a=nws*e.nav&amp;r=7&amp;i=880000FF_000000000000000005069334&amp;u='+urlencode(this.href));\" target=\"_blank\">네이버뉴스</a> </div></div><a class=\"news_tit\" href=\"http://www.fnnews.com/news/202309071547134736\" onclick=\"return goOtherCR(this, 'a=nws*e.tit&amp;r=7&amp;i=880000FF_000000000000000005069334&amp;g=014.0005069334&amp;u='+urlencode(this.href));\" target=\"_blank\" title=\"4면메인 산업부 토스용\">4면메인 산업부 <mark>토스</mark>용</a> <div class=\"news_dsc\"> <div class=\"dsc_wrap\"> <a class=\"api_txt_lines dsc_txt_wrap\" href=\"http://www.fnnews.com/news/202309071547134736\" onclick=\"return goOtherCR(this, 'a=nws*e.body&amp;r=7&amp;i=880000FF_000000000000000005069334&amp;g=014.0005069334&amp;u='+urlencode(this.href));\" target=\"_blank\">[자카르타(인도네시아)=서영준 기자] 윤석열 대통령은 이날 한국과 인도네시아 양국 상공회의소가 주관하는 한-인도네시아 비즈니스 라운드테이블에 참석했다. 윤 대통령은 지난해 인도네시아 발리에서 열린 주요...</a> </div></div></div></div></li> <li class=\"bx\" id=\"sp_nws8\"> <div class=\"news_wrap api_ani_send\"> <div class=\"news_area\"> <div class=\"news_info\"> <div class=\"api_save_group _keep_wrap\"> <a aria-pressed=\"false\" class=\"btn_save _keep_trigger\" data-url=\"https://zdnet.co.kr/view/?no=20230905102044\" href=\"#\" onclick=\"tCR('a=nws*h.kep&amp;r=8&amp;i=8800011E_000000000000000002304047&amp;u=javascript'); return false;\" role=\"button\"><i class=\"spnew ico_save\">문서 저장하기</i></a> <div class=\"api_ly_save _keep_save_layer\"> <a class=\"spnew_af item item_save _keep_save\" data-cr-off=\"a=nws*h.kepoff&amp;r=8&amp;i=8800011E_000000000000000002304047&amp;u=javascript\" data-cr-on=\"a=nws*h.kepon&amp;r=8&amp;i=8800011E_000000000000000002304047&amp;u=javascript\" href=\"#\" role=\"button\">Keep에 저장</a> <a class=\"spnew_af item item_quick\" href=\"https://keep.naver.com/\" onclick=\"return goOtherCR(this,'a=nws*h.kephome&amp;r=8&amp;i=8800011E_000000000000000002304047&amp;u='+urlencode(this.href));\" target=\"_blank\">Keep 바로가기</a> </div></div><div class=\"info_group\"> <a class=\"info press\" href=\"https://zdnet.co.kr/\" onclick=\"return goOtherCR(this, 'a=nws*h.prof&amp;r=8&amp;i=8800011E_000000000000000002304047&amp;g=092.0002304047&amp;u='+urlencode(this.href));\" target=\"_blank\"><span class=\"thumb_box\"><img alt=\"\" class=\"thumb\" data-lazysrc=\"https://search.pstatic.net/common/?src=https%3A%2F%2Fmimgnews.pstatic.net%2Fimage%2Fupload%2Foffice_logo%2F092%2F2022%2F09%2F05%2Flogo_092_18_20220905090445.png&amp;type=f54_54&amp;expire=24&amp;refresh=true\" height=\"20\" onerror=\"this.src='data:image/gif;base64,R0lGODlhAQABAIAAAAAAAP///yH5BAEAAAAALAAAAAABAAEAAAIBRAA7';this.className='thumb bg_default_press'\" src=\"data:image/gif;base64,R0lGODlhAQABAIAAAAAAAP///yH5BAEAAAAALAAAAAABAAEAAAIBRAA7\" width=\"20\"/></span>지디넷코리아<i class=\"spnew ico_pick\">언론사 선정</i></a><span class=\"info\">2일 전</span><a class=\"info\" href=\"https://n.news.naver.com/mnews/article/092/0002304047?sid=105\" onclick=\"return goOtherCR(this, 'a=nws*h.nav&amp;r=8&amp;i=8800011E_000000000000000002304047&amp;u='+urlencode(this.href));\" target=\"_blank\">네이버뉴스</a> </div></div><a class=\"news_tit\" href=\"https://zdnet.co.kr/view/?no=20230905102044\" onclick=\"return goOtherCR(this, 'a=nws*h.tit&amp;r=8&amp;i=8800011E_000000000000000002304047&amp;g=092.0002304047&amp;u='+urlencode(this.href));\" target=\"_blank\" title=\"토스뱅크 '전세패키지' 내놨다\"><mark>토스</mark>뱅크 '전세패키지' 내놨다</a> <div class=\"news_dsc\"> <div class=\"dsc_wrap\"> <a class=\"api_txt_lines dsc_txt_wrap\" href=\"https://zdnet.co.kr/view/?no=20230905102044\" onclick=\"return goOtherCR(this, 'a=nws*h.body&amp;r=8&amp;i=8800011E_000000000000000002304047&amp;g=092.0002304047&amp;u='+urlencode(this.href));\" target=\"_blank\">인터넷전문은행 '<mark>토스</mark>뱅크'가 전·월세를 구할 경우 필요한 모든 것을 서비스해주는 '전세패키지'를 출시했다. 5일 서울 여의도 콘래드호텔서 <mark>토스</mark>뱅크는 기자간담회를 열고 전·월세보증금대출과 전세보증...</a> </div></div></div><a class=\"dsc_thumb\" href=\"https://zdnet.co.kr/view/?no=20230905102044\" onclick=\"return goOtherCR(this, 'a=nws*h.img&amp;r=8&amp;i=8800011E_000000000000000002304047&amp;g=092.0002304047&amp;u='+urlencode(this.href));\" target=\"_blank\"><img alt=\"토스뱅크 ‘전세패키지\" class=\"thumb api_get\" data-lazysrc=\"https://search.pstatic.net/common/?src=https%3A%2F%2Fimgnews.pstatic.net%2Fimage%2Forigin%2F092%2F2023%2F09%2F05%2F2304047.jpg&amp;type=ff264_180&amp;expire=2&amp;refresh=true\" height=\"90\" onerror=\"this.parentNode.style.display='none';\" src=\"data:image/gif;base64,R0lGODlhAQABAIAAAAAAAP///yH5BAEAAAAALAAAAAABAAEAAAIBRAA7\" width=\"132\"/></a> </div><div class=\"news_cluster\"> <ul class=\"list_cluster\"> <li class=\"sub_bx\"> <span class=\"sub_wrap\"> <span class=\"sub_area\"> <cite class=\"sub_txt press\" title=\"아시아경제\">아시아경제<i class=\"spnew ico_pick\">언론사 선정</i></cite><span class=\"sub_txt\">2일 전</span><a class=\"sub_txt\" href=\"https://n.news.naver.com/mnews/article/277/0005309736?sid=101\" onclick=\"return goOtherCR(this, 'a=nws*i.nav&amp;r=9&amp;i=88000385_000000000000000005309736&amp;u='+urlencode(this.href));\" target=\"_blank\">네이버뉴스</a> </span><a class=\"elss sub_tit\" href=\"https://view.asiae.co.kr/article/2023090514001786032\" onclick=\"return goOtherCR(this, 'a=nws*i.tit&amp;r=9&amp;i=88000385_000000000000000005309736&amp;g=277.0005309736&amp;u='+urlencode(this.href));\" target=\"_blank\" title=\"영역 확장 나선 토스뱅크, 전월세대출 출시…최저 연 3.32%(종합)\">영역 확장 나선 <mark>토스</mark>뱅크, 전월세대출 출시…최저 연 3.32%(종합)</a> </span></li> <li class=\"sub_bx\"> <span class=\"sub_wrap\"> <span class=\"sub_area\"> <cite class=\"sub_txt press\" title=\"아이뉴스24\">아이뉴스24<i class=\"spnew ico_pick\">언론사 선정</i></cite><span class=\"sub_txt\">2일 전</span><a class=\"sub_txt\" href=\"https://n.news.naver.com/mnews/article/031/0000770589?sid=101\" onclick=\"return goOtherCR(this, 'a=nws*i.nav&amp;r=10&amp;i=880000D6_000000000000000000770589&amp;u='+urlencode(this.href));\" target=\"_blank\">네이버뉴스</a> </span><a class=\"elss sub_tit\" href=\"http://www.inews24.com/view/1629685\" onclick=\"return goOtherCR(this, 'a=nws*i.tit&amp;r=10&amp;i=880000D6_000000000000000000770589&amp;g=031.0000770589&amp;u='+urlencode(this.href));\" target=\"_blank\" title=\"토스뱅크, 연 3%대로 전월세대출…보증금 88% 보증\"><mark>토스</mark>뱅크, 연 3%대로 전월세대출…보증금 88% 보증</a> </span></li> <li class=\"sub_bx\"> <span class=\"sub_wrap\"> <span class=\"sub_area\"> <cite class=\"sub_txt press\" title=\"아이뉴스24\">아이뉴스24<i class=\"spnew ico_pick\">언론사 선정</i></cite><span class=\"sub_txt\">2일 전</span><a class=\"sub_txt\" href=\"https://n.news.naver.com/mnews/article/031/0000770591?sid=101\" onclick=\"return goOtherCR(this, 'a=nws*i.nav&amp;r=11&amp;i=880000D6_000000000000000000770591&amp;u='+urlencode(this.href));\" target=\"_blank\">네이버뉴스</a> </span><a class=\"elss sub_tit\" href=\"http://www.inews24.com/view/1629689\" onclick=\"return goOtherCR(this, 'a=nws*i.tit&amp;r=11&amp;i=880000D6_000000000000000000770591&amp;g=031.0000770591&amp;u='+urlencode(this.href));\" target=\"_blank\" title='홍민택 토스뱅크 대표 \"2030 청년 거주 문제 해결\"'>홍민택 <mark>토스</mark>뱅크 대표 \"2030 청년 거주 문제 해결\"</a> </span></li> <li class=\"sub_bx\"> <span class=\"sub_wrap\"> <span class=\"sub_area\"> <cite class=\"sub_txt press\" title=\"파이낸셜뉴스\">파이낸셜뉴스<i class=\"spnew ico_pick\">언론사 선정</i></cite><span class=\"sub_txt\">2일 전</span><a class=\"sub_txt\" href=\"https://n.news.naver.com/mnews/article/014/0005067742?sid=101\" onclick=\"return goOtherCR(this, 'a=nws*i.nav&amp;r=12&amp;i=880000FF_000000000000000005067742&amp;u='+urlencode(this.href));\" target=\"_blank\">네이버뉴스</a> </span><a class=\"elss sub_tit\" href=\"http://www.fnnews.com/news/202309051352132606\" onclick=\"return goOtherCR(this, 'a=nws*i.tit&amp;r=12&amp;i=880000FF_000000000000000005067742&amp;g=014.0005067742&amp;u='+urlencode(this.href));\" target=\"_blank\" title=\"“소중한 전세보증금, 업계 최저 보증료로 안전하게” 토스뱅크표 전월세보증금 대출 나왔다\">“소중한 전세보증금, 업계 최저 보증료로 안전하게” <mark>토스</mark>뱅크표 전월세보증...</a> </span></li> </ul></div><a class=\"news_more\" href=\"?where=news&amp;sm=tab_tnw&amp;query=%ED%86%A0%EC%8A%A4&amp;sort=0&amp;photo=0&amp;field=0&amp;pd=0&amp;ds=&amp;de=&amp;mynews=0&amp;office_type=0&amp;office_section_code=0&amp;news_office_checked=&amp;related=1&amp;docid=0920002304047&amp;office_category=0&amp;service_area=0&amp;nso=so:r,p:all,a:all\" onclick=\"return goOtherCR(this, 'a=nws*r.more&amp;u='+urlencode(urlexpand(this.href)));\">관련뉴스 9건 전체보기<i class=\"spnew ico_arrow\"></i></a> </li> <li class=\"bx\" id=\"sp_nws13\"> <div class=\"news_wrap api_ani_send\"> <div class=\"news_area\"> <div class=\"news_info\"> <div class=\"api_save_group _keep_wrap\"> <a aria-pressed=\"false\" class=\"btn_save _keep_trigger\" data-url=\"https://economist.co.kr/article/view/ecn202309050009\" href=\"#\" onclick=\"tCR('a=nws*h.kep&amp;r=13&amp;i=880002EC_000000000000000000049778&amp;u=javascript'); return false;\" role=\"button\"><i class=\"spnew ico_save\">문서 저장하기</i></a> <div class=\"api_ly_save _keep_save_layer\"> <a class=\"spnew_af item item_save _keep_save\" data-cr-off=\"a=nws*h.kepoff&amp;r=13&amp;i=880002EC_000000000000000000049778&amp;u=javascript\" data-cr-on=\"a=nws*h.kepon&amp;r=13&amp;i=880002EC_000000000000000000049778&amp;u=javascript\" href=\"#\" role=\"button\">Keep에 저장</a> <a class=\"spnew_af item item_quick\" href=\"https://keep.naver.com/\" onclick=\"return goOtherCR(this,'a=nws*h.kephome&amp;r=13&amp;i=880002EC_000000000000000000049778&amp;u='+urlencode(this.href));\" target=\"_blank\">Keep 바로가기</a> </div></div><div class=\"info_group\"> <a class=\"info press\" href=\"https://jmagazine.joins.com/economist?cloc=joongang-home-jmnet\" onclick=\"return goOtherCR(this, 'a=nws*h.prof&amp;r=13&amp;i=880002EC_000000000000000000049778&amp;g=243.0000049778&amp;u='+urlencode(this.href));\" target=\"_blank\"><span class=\"thumb_box\"><img alt=\"\" class=\"thumb\" data-lazysrc=\"https://search.pstatic.net/common/?src=https%3A%2F%2Fmimgnews.pstatic.net%2Fimage%2Fupload%2Foffice_logo%2F243%2F2023%2F01%2F12%2Flogo_243_18_20230112142410.png&amp;type=f54_54&amp;expire=24&amp;refresh=true\" height=\"20\" onerror=\"this.src='data:image/gif;base64,R0lGODlhAQABAIAAAAAAAP///yH5BAEAAAAALAAAAAABAAEAAAIBRAA7';this.className='thumb bg_default_press'\" src=\"data:image/gif;base64,R0lGODlhAQABAIAAAAAAAP///yH5BAEAAAAALAAAAAABAAEAAAIBRAA7\" width=\"20\"/></span>이코노미스트<i class=\"spnew ico_pick\">언론사 선정</i></a><span class=\"info\">2일 전</span><a class=\"info\" href=\"https://n.news.naver.com/mnews/article/243/0000049778?sid=101\" onclick=\"return goOtherCR(this, 'a=nws*h.nav&amp;r=13&amp;i=880002EC_000000000000000000049778&amp;u='+urlencode(this.href));\" target=\"_blank\">네이버뉴스</a> </div></div><a class=\"news_tit\" href=\"https://economist.co.kr/article/view/ecn202309050009\" onclick=\"return goOtherCR(this, 'a=nws*h.tit&amp;r=13&amp;i=880002EC_000000000000000000049778&amp;g=243.0000049778&amp;u='+urlencode(this.href));\" target=\"_blank\" title=\"토스뱅크, 전월세대출 출시 “금리는 최저 연 3.32%”\"><mark>토스</mark>뱅크, 전월세대출 출시 “금리는 최저 연 3.32%”</a> <div class=\"news_dsc\"> <div class=\"dsc_wrap\"> <a class=\"api_txt_lines dsc_txt_wrap\" href=\"https://economist.co.kr/article/view/ecn202309050009\" onclick=\"return goOtherCR(this, 'a=nws*h.body&amp;r=13&amp;i=880002EC_000000000000000000049778&amp;g=243.0000049778&amp;u='+urlencode(this.href));\" target=\"_blank\"><mark>토스</mark>뱅크가 전월세보증금 대출을 선보인다. 비대면으로 전세보증금반환보증까지 원스톱으로 신청 가능한... 5일 <mark>토스</mark>뱅크가 선보이는 전월세보증금대출은 ‘전세지킴보증’, ‘등기변동알림’, ‘다자녀 특례 대출’ 등...</a> </div></div></div><a class=\"dsc_thumb\" href=\"https://economist.co.kr/article/view/ecn202309050009\" onclick=\"return goOtherCR(this, 'a=nws*h.img&amp;r=13&amp;i=880002EC_000000000000000000049778&amp;g=243.0000049778&amp;u='+urlencode(this.href));\" target=\"_blank\"><img alt=\"토스뱅크, 전월세대출\" class=\"thumb api_get\" data-lazysrc=\"https://search.pstatic.net/common/?src=https%3A%2F%2Fimgnews.pstatic.net%2Fimage%2Forigin%2F243%2F2023%2F09%2F05%2F49778.jpg&amp;type=ff264_180&amp;expire=2&amp;refresh=true\" height=\"90\" onerror=\"this.parentNode.style.display='none';\" src=\"data:image/gif;base64,R0lGODlhAQABAIAAAAAAAP///yH5BAEAAAAALAAAAAABAAEAAAIBRAA7\" width=\"132\"/></a> </div><div class=\"news_cluster\"> <ul class=\"list_cluster\"> <li class=\"sub_bx\"> <span class=\"sub_wrap\"> <span class=\"sub_area\"> <cite class=\"sub_txt press\" title=\"데일리안\">데일리안<i class=\"spnew ico_pick\">언론사 선정</i></cite><span class=\"sub_txt\">2일 전</span><a class=\"sub_txt\" href=\"https://n.news.naver.com/mnews/article/119/0002746042?sid=101\" onclick=\"return goOtherCR(this, 'a=nws*i.nav&amp;r=14&amp;i=8812A0A8_000000000000000002746042&amp;u='+urlencode(this.href));\" target=\"_blank\">네이버뉴스</a> </span><a class=\"elss sub_tit\" href=\"https://www.dailian.co.kr/news/view/1269927/?sc=Naver\" onclick=\"return goOtherCR(this, 'a=nws*i.tit&amp;r=14&amp;i=8812A0A8_000000000000000002746042&amp;g=119.0002746042&amp;u='+urlencode(this.href));\" target=\"_blank\" title=\"토스뱅크, 전세사기 막는 보증금대출 출시…최저 금리 3.32%\"><mark>토스</mark>뱅크, 전세사기 막는 보증금대출 출시…최저 금리 3.32%</a> </span></li> <li class=\"sub_bx\"> <span class=\"sub_wrap\"> <span class=\"sub_area\"> <cite class=\"sub_txt press\" title=\"블로터\">블로터<i class=\"spnew ico_pick\">언론사 선정</i></cite><span class=\"sub_txt\">2일 전</span><a class=\"sub_txt\" href=\"https://n.news.naver.com/mnews/article/293/0000047404?sid=101\" onclick=\"return goOtherCR(this, 'a=nws*i.nav&amp;r=15&amp;i=880003A5_000000000000000000047404&amp;u='+urlencode(this.href));\" target=\"_blank\">네이버뉴스</a> </span><a class=\"elss sub_tit\" href=\"https://www.bloter.net/news/articleView.html?idxno=606075\" onclick=\"return goOtherCR(this, 'a=nws*i.tit&amp;r=15&amp;i=880003A5_000000000000000000047404&amp;g=293.0000047404&amp;u='+urlencode(this.href));\" target=\"_blank\" title=\"토스뱅크서 전월세 보증금 대출받고 보증보험까지 한번에\"><mark>토스</mark>뱅크서 전월세 보증금 대출받고 보증보험까지 한번에</a> </span></li> </ul></div></li> <li class=\"bx\" id=\"sp_nws16\"> <div class=\"news_wrap api_ani_send\"> <div class=\"news_area\"> <div class=\"news_info\"> <div class=\"api_save_group _keep_wrap\"> <a aria-pressed=\"false\" class=\"btn_save _keep_trigger\" data-url=\"https://www.etnews.com/20230905000156\" href=\"#\" onclick=\"tCR('a=nws*h.kep&amp;r=16&amp;i=880000EA_000000000000000003132638&amp;u=javascript'); return false;\" role=\"button\"><i class=\"spnew ico_save\">문서 저장하기</i></a> <div class=\"api_ly_save _keep_save_layer\"> <a class=\"spnew_af item item_save _keep_save\" data-cr-off=\"a=nws*h.kepoff&amp;r=16&amp;i=880000EA_000000000000000003132638&amp;u=javascript\" data-cr-on=\"a=nws*h.kepon&amp;r=16&amp;i=880000EA_000000000000000003132638&amp;u=javascript\" href=\"#\" role=\"button\">Keep에 저장</a> <a class=\"spnew_af item item_quick\" href=\"https://keep.naver.com/\" onclick=\"return goOtherCR(this,'a=nws*h.kephome&amp;r=16&amp;i=880000EA_000000000000000003132638&amp;u='+urlencode(this.href));\" target=\"_blank\">Keep 바로가기</a> </div></div><div class=\"info_group\"> <a class=\"info press\" href=\"http://www.etnews.com\" onclick=\"return goOtherCR(this, 'a=nws*h.prof&amp;r=16&amp;i=880000EA_000000000000000003132638&amp;g=030.0003132638&amp;u='+urlencode(this.href));\" target=\"_blank\"><span class=\"thumb_box\"><img alt=\"\" class=\"thumb\" data-lazysrc=\"https://search.pstatic.net/common/?src=https%3A%2F%2Fmimgnews.pstatic.net%2Fimage%2Fupload%2Foffice_logo%2F030%2F2017%2F01%2F05%2Flogo_030_18_20170105111205.png&amp;type=f54_54&amp;expire=24&amp;refresh=true\" height=\"20\" onerror=\"this.src='data:image/gif;base64,R0lGODlhAQABAIAAAAAAAP///yH5BAEAAAAALAAAAAABAAEAAAIBRAA7';this.className='thumb bg_default_press'\" src=\"data:image/gif;base64,R0lGODlhAQABAIAAAAAAAP///yH5BAEAAAAALAAAAAABAAEAAAIBRAA7\" width=\"20\"/></span>전자신문<i class=\"spnew ico_pick\">언론사 선정</i></a><span class=\"info\"><i class=\"spnew ico_paper\"></i>10면 2단</span><span class=\"info\">2일 전</span><a class=\"info\" href=\"https://n.news.naver.com/mnews/article/030/0003132638?sid=101\" onclick=\"return goOtherCR(this, 'a=nws*h.nav&amp;r=16&amp;i=880000EA_000000000000000003132638&amp;u='+urlencode(this.href));\" target=\"_blank\">네이버뉴스</a> </div></div><a class=\"news_tit\" href=\"https://www.etnews.com/20230905000156\" onclick=\"return goOtherCR(this, 'a=nws*h.tit&amp;r=16&amp;i=880000EA_000000000000000003132638&amp;g=030.0003132638&amp;u='+urlencode(this.href));\" target=\"_blank\" title=\"토스뱅크, 최저 연 3.32% 전월세대출 출시\"><mark>토스</mark>뱅크, 최저 연 3.32% 전월세대출 출시</a> <div class=\"news_dsc\"> <div class=\"dsc_wrap\"> <a class=\"api_txt_lines dsc_txt_wrap\" href=\"https://www.etnews.com/20230905000156\" onclick=\"return goOtherCR(this, 'a=nws*h.body&amp;r=16&amp;i=880000EA_000000000000000003132638&amp;g=030.0003132638&amp;u='+urlencode(this.href));\" target=\"_blank\"><mark>토스</mark>뱅크가 '<mark>토스</mark>뱅크 케어'를 담은 전월세보증금대출을 출시했다. 고객 편의성과 안정성을 갖춘 전월세자금 대출에 이어 공동대출·외화·키즈 서비스를 준비하며 규모의 성장을 이어간다는 계획이다. <mark>토스</mark>뱅크는 5일...</a> </div></div></div><a class=\"dsc_thumb\" href=\"https://www.etnews.com/20230905000156\" onclick=\"return goOtherCR(this, 'a=nws*h.img&amp;r=16&amp;i=880000EA_000000000000000003132638&amp;g=030.0003132638&amp;u='+urlencode(this.href));\" target=\"_blank\"><img alt=\"토스뱅크, 최저 연 3.\" class=\"thumb api_get\" data-lazysrc=\"https://search.pstatic.net/common/?src=https%3A%2F%2Fimgnews.pstatic.net%2Fimage%2Forigin%2F030%2F2023%2F09%2F05%2F3132638.jpg&amp;type=ff264_180&amp;expire=2&amp;refresh=true\" height=\"90\" onerror=\"this.parentNode.style.display='none';\" src=\"data:image/gif;base64,R0lGODlhAQABAIAAAAAAAP///yH5BAEAAAAALAAAAAABAAEAAAIBRAA7\" width=\"132\"/></a> </div><div class=\"news_cluster\"> <ul class=\"list_cluster\"> <li class=\"sub_bx\"> <span class=\"sub_wrap\"> <span class=\"sub_area\"> <cite class=\"sub_txt press\" title=\"뉴스1\">뉴스1</cite><span class=\"sub_txt\">2일 전</span><a class=\"sub_txt\" href=\"https://n.news.naver.com/mnews/article/421/0007030531?sid=101\" onclick=\"return goOtherCR(this, 'a=nws*c.nav&amp;r=17&amp;i=08138263_000000000000000007030531&amp;u='+urlencode(this.href));\" target=\"_blank\">네이버뉴스</a> </span><a class=\"elss sub_tit\" href=\"https://www.news1.kr/articles/5161742\" onclick=\"return goOtherCR(this, 'a=nws*c.tit&amp;r=17&amp;i=08138263_000000000000000007030531&amp;g=421.0007030531&amp;u='+urlencode(this.href));\" target=\"_blank\" title=\"베일 벗은 '토스뱅크 전월세대출'…지킴보증·등기변동알림·다자녀까지(종합)\">베일 벗은 '<mark>토스</mark>뱅크 전월세대출'…지킴보증·등기변동알림·다자녀까지(종합...</a> </span></li> </ul></div></li> <li class=\"bx\" id=\"sp_nws18\"> <div class=\"news_wrap api_ani_send\"> <div class=\"news_area\"> <div class=\"news_info\"> <div class=\"api_save_group _keep_wrap\"> <a aria-pressed=\"false\" class=\"btn_save _keep_trigger\" data-url=\"https://www.hankyung.com/article/202309055248i\" href=\"#\" onclick=\"tCR('a=nws*j.kep&amp;r=18&amp;i=88000107_000000000000000004887911&amp;u=javascript'); return false;\" role=\"button\"><i class=\"spnew ico_save\">문서 저장하기</i></a> <div class=\"api_ly_save _keep_save_layer\"> <a class=\"spnew_af item item_save _keep_save\" data-cr-off=\"a=nws*j.kepoff&amp;r=18&amp;i=88000107_000000000000000004887911&amp;u=javascript\" data-cr-on=\"a=nws*j.kepon&amp;r=18&amp;i=88000107_000000000000000004887911&amp;u=javascript\" href=\"#\" role=\"button\">Keep에 저장</a> <a class=\"spnew_af item item_quick\" href=\"https://keep.naver.com/\" onclick=\"return goOtherCR(this,'a=nws*j.kephome&amp;r=18&amp;i=88000107_000000000000000004887911&amp;u='+urlencode(this.href));\" target=\"_blank\">Keep 바로가기</a> </div></div><div class=\"info_group\"> <a class=\"info press\" href=\"http://www.hankyung.com/\" onclick=\"return goOtherCR(this, 'a=nws*j.prof&amp;r=18&amp;i=88000107_000000000000000004887911&amp;g=015.0004887911&amp;u='+urlencode(this.href));\" target=\"_blank\"><span class=\"thumb_box\"><img alt=\"\" class=\"thumb\" data-lazysrc=\"https://search.pstatic.net/common/?src=https%3A%2F%2Fmimgnews.pstatic.net%2Fimage%2Fupload%2Foffice_logo%2F015%2F2018%2F08%2F01%2Flogo_015_18_20180801163901.png&amp;type=f54_54&amp;expire=24&amp;refresh=true\" height=\"20\" onerror=\"this.src='data:image/gif;base64,R0lGODlhAQABAIAAAAAAAP///yH5BAEAAAAALAAAAAABAAEAAAIBRAA7';this.className='thumb bg_default_press'\" src=\"data:image/gif;base64,R0lGODlhAQABAIAAAAAAAP///yH5BAEAAAAALAAAAAABAAEAAAIBRAA7\" width=\"20\"/></span>한국경제<i class=\"spnew ico_pick\">언론사 선정</i></a><span class=\"info\">2일 전</span><a class=\"info\" href=\"https://n.news.naver.com/mnews/article/015/0004887911?sid=101\" onclick=\"return goOtherCR(this, 'a=nws*j.nav&amp;r=18&amp;i=88000107_000000000000000004887911&amp;u='+urlencode(this.href));\" target=\"_blank\">네이버뉴스</a> </div></div><a class=\"news_tit\" href=\"https://www.hankyung.com/article/202309055248i\" onclick=\"return goOtherCR(this, 'a=nws*j.tit&amp;r=18&amp;i=88000107_000000000000000004887911&amp;g=015.0004887911&amp;u='+urlencode(this.href));\" target=\"_blank\" title='\"주담대, 하긴 해야 하는데…\" 토스뱅크의 딜레마'>\"주담대, 하긴 해야 하는데…\" <mark>토스</mark>뱅크의 딜레마</a> <div class=\"news_dsc\"> <div class=\"dsc_wrap\"> <a class=\"api_txt_lines dsc_txt_wrap\" href=\"https://www.hankyung.com/article/202309055248i\" onclick=\"return goOtherCR(this, 'a=nws*j.body&amp;r=18&amp;i=88000107_000000000000000004887911&amp;g=015.0004887911&amp;u='+urlencode(this.href));\" target=\"_blank\">\"<mark>토스</mark>뱅크도 (주택담보대출을) 해야 한다고 보고는 있습니다. 하지만 거시경제 환경 등이 준비돼야 진출할 수 있을 것으로 봅니다.\" 홍민택 <mark>토스</mark>뱅크 대표는 5일 전·월세보증금 대출 출시를 주제로 개최한 기자간담회에서...</a> </div></div></div><a class=\"dsc_thumb\" href=\"https://www.hankyung.com/article/202309055248i\" onclick=\"return goOtherCR(this, 'a=nws*j.img&amp;r=18&amp;i=88000107_000000000000000004887911&amp;g=015.0004887911&amp;u='+urlencode(this.href));\" target=\"_blank\"><img alt='\"주담대, 하긴 해야 하' class=\"thumb api_get\" data-lazysrc=\"https://search.pstatic.net/common/?src=https%3A%2F%2Fimgnews.pstatic.net%2Fimage%2Forigin%2F015%2F2023%2F09%2F05%2F4887911.jpg&amp;type=ff264_180&amp;expire=2&amp;refresh=true\" height=\"90\" onerror=\"this.parentNode.style.display='none';\" src=\"data:image/gif;base64,R0lGODlhAQABAIAAAAAAAP///yH5BAEAAAAALAAAAAABAAEAAAIBRAA7\" width=\"132\"/></a> </div></li> <li class=\"bx\" id=\"sp_nws19\"> <div class=\"news_wrap api_ani_send\"> <div class=\"news_area\"> <div class=\"news_info\"> <div class=\"api_save_group _keep_wrap\"> <a aria-pressed=\"false\" class=\"btn_save _keep_trigger\" data-url=\"http://www.segye.com/newsView/20230906516431?OutUrl=naver\" href=\"#\" onclick=\"tCR('a=nws*a.kep&amp;r=19&amp;i=880000D2_000000000000000003852822&amp;u=javascript'); return false;\" role=\"button\"><i class=\"spnew ico_save\">문서 저장하기</i></a> <div class=\"api_ly_save _keep_save_layer\"> <a class=\"spnew_af item item_save _keep_save\" data-cr-off=\"a=nws*a.kepoff&amp;r=19&amp;i=880000D2_000000000000000003852822&amp;u=javascript\" data-cr-on=\"a=nws*a.kepon&amp;r=19&amp;i=880000D2_000000000000000003852822&amp;u=javascript\" href=\"#\" role=\"button\">Keep에 저장</a> <a class=\"spnew_af item item_quick\" href=\"https://keep.naver.com/\" onclick=\"return goOtherCR(this,'a=nws*a.kephome&amp;r=19&amp;i=880000D2_000000000000000003852822&amp;u='+urlencode(this.href));\" target=\"_blank\">Keep 바로가기</a> </div></div><div class=\"info_group\"> <a class=\"info press\" href=\"http://www.segye.com\" onclick=\"return goOtherCR(this, 'a=nws*a.prof&amp;r=19&amp;i=880000D2_000000000000000003852822&amp;g=022.0003852822&amp;u='+urlencode(this.href));\" target=\"_blank\"><span class=\"thumb_box\"><img alt=\"\" class=\"thumb\" data-lazysrc=\"https://search.pstatic.net/common/?src=https%3A%2F%2Fmimgnews.pstatic.net%2Fimage%2Fupload%2Foffice_logo%2F022%2F2017%2F01%2F05%2Flogo_022_18_20170105111205.png&amp;type=f54_54&amp;expire=24&amp;refresh=true\" height=\"20\" onerror=\"this.src='data:image/gif;base64,R0lGODlhAQABAIAAAAAAAP///yH5BAEAAAAALAAAAAABAAEAAAIBRAA7';this.className='thumb bg_default_press'\" src=\"data:image/gif;base64,R0lGODlhAQABAIAAAAAAAP///yH5BAEAAAAALAAAAAABAAEAAAIBRAA7\" width=\"20\"/></span>세계일보</a><span class=\"info\">1일 전</span><a class=\"info\" href=\"https://sports.news.naver.com/news.nhn?oid=022&amp;aid=0003852822\" onclick=\"return goOtherCR(this, 'a=nws*a.nav&amp;r=19&amp;i=880000D2_000000000000000003852822&amp;u='+urlencode(this.href));\" target=\"_blank\">네이버뉴스</a> </div></div><a class=\"news_tit\" href=\"http://www.segye.com/newsView/20230906516431?OutUrl=naver\" onclick=\"return goOtherCR(this, 'a=nws*a.tit&amp;r=19&amp;i=880000D2_000000000000000003852822&amp;g=022.0003852822&amp;u='+urlencode(this.href));\" target=\"_blank\" title=\"KIA 산체스 이달 말 복귀할 듯…“토스 시작했는데 통증 없다더라”\">KIA 산체스 이달 말 복귀할 듯…“<mark>토스</mark> 시작했는데 통증 없다더라”</a> <div class=\"news_dsc\"> <div class=\"dsc_wrap\"> <a class=\"api_txt_lines dsc_txt_wrap\" href=\"http://www.segye.com/newsView/20230906516431?OutUrl=naver\" onclick=\"return goOtherCR(this, 'a=nws*a.body&amp;r=19&amp;i=880000D2_000000000000000003852822&amp;g=022.0003852822&amp;u='+urlencode(this.href));\" target=\"_blank\">김종국 KIA 감독은 6일 잠실구장에서 펼쳐지는 두산 베어스전을 앞두고 가진 기자회견에서 산체스에 대해 “어제 30m <mark>토스</mark>를 시작했는데 통증이 없다고 했다. 이번 주까지 롱<mark>토스</mark>를 하고, 다음 주부터 하프 피칭에...</a> </div></div></div><a class=\"dsc_thumb\" href=\"http://www.segye.com/newsView/20230906516431?OutUrl=naver\" onclick=\"return goOtherCR(this, 'a=nws*a.img&amp;r=19&amp;i=880000D2_000000000000000003852822&amp;g=022.0003852822&amp;u='+urlencode(this.href));\" target=\"_blank\"><img alt=\"KIA 산체스 이달 말 복\" class=\"thumb api_get\" data-lazysrc=\"https://search.pstatic.net/common/?src=https%3A%2F%2Fimgnews.pstatic.net%2Fimage%2Forigin%2F022%2F2023%2F09%2F06%2F3852822.jpg&amp;type=ff264_180&amp;expire=2&amp;refresh=true\" height=\"90\" onerror=\"this.parentNode.style.display='none';\" src=\"data:image/gif;base64,R0lGODlhAQABAIAAAAAAAP///yH5BAEAAAAALAAAAAABAAEAAAIBRAA7\" width=\"132\"/></a> </div><div class=\"news_cluster\"> <ul class=\"list_cluster\"> <li class=\"sub_bx\"> <span class=\"sub_wrap\"> <span class=\"sub_area\"> <cite class=\"sub_txt press\" title=\"뉴시스\">뉴시스</cite><span class=\"sub_txt\">1일 전</span><a class=\"sub_txt\" href=\"https://sports.news.naver.com/news.nhn?oid=003&amp;aid=0012074100\" onclick=\"return goOtherCR(this, 'a=nws*c.nav&amp;r=20&amp;i=88000127_000000000000000012074100&amp;u='+urlencode(this.href));\" target=\"_blank\">네이버뉴스</a> </span><a class=\"elss sub_tit\" href=\"http://www.newsis.com/view/?id=NISX20230906_0002440656&amp;cID=10502&amp;pID=10500\" onclick=\"return goOtherCR(this, 'a=nws*c.tit&amp;r=20&amp;i=88000127_000000000000000012074100&amp;g=003.0012074100&amp;u='+urlencode(this.href));\" target=\"_blank\" title=\"'팔꿈치 인대 손상' KIA 산체스, 이달 말 복귀 계획…&quot;토스 시작&quot;\">'팔꿈치 인대 손상' KIA 산체스, 이달 말 복귀 계획…\"<mark>토스</mark> 시작\"</a> </span></li> </ul></div></li> <li class=\"bx\" id=\"sp_nws21\"> <div class=\"news_wrap api_ani_send\"> <div class=\"news_area\"> <div class=\"news_info\"> <div class=\"api_save_group _keep_wrap\"> <a aria-pressed=\"false\" class=\"btn_save _keep_trigger\" data-url=\"https://www.bntnews.co.kr/article/view/bnt202309070001\" href=\"#\" onclick=\"tCR('a=nws*f.kep&amp;r=21&amp;i=88123FBF_000000000000000000374938&amp;u=javascript'); return false;\" role=\"button\"><i class=\"spnew ico_save\">문서 저장하기</i></a> <div class=\"api_ly_save _keep_save_layer\"> <a class=\"spnew_af item item_save _keep_save\" data-cr-off=\"a=nws*f.kepoff&amp;r=21&amp;i=88123FBF_000000000000000000374938&amp;u=javascript\" data-cr-on=\"a=nws*f.kepon&amp;r=21&amp;i=88123FBF_000000000000000000374938&amp;u=javascript\" href=\"#\" role=\"button\">Keep에 저장</a> <a class=\"spnew_af item item_quick\" href=\"https://keep.naver.com/\" onclick=\"return goOtherCR(this,'a=nws*f.kephome&amp;r=21&amp;i=88123FBF_000000000000000000374938&amp;u='+urlencode(this.href));\" target=\"_blank\">Keep 바로가기</a> </div></div><div class=\"info_group\"> <a class=\"info press\" href=\"http://www.bntnews.co.kr\" onclick=\"return goOtherCR(this, 'a=nws*f.prof&amp;r=21&amp;i=88123FBF_000000000000000000374938&amp;g=5191.0000374938&amp;u='+urlencode(this.href));\" target=\"_blank\"><span class=\"thumb_box\"><img alt=\"\" class=\"thumb\" data-lazysrc=\"https://search.pstatic.net/common/?src=https%3A%2F%2Fimg.bntnews.co.kr%2Fandroid-icon-192x192.png&amp;type=f54_54&amp;expire=24&amp;refresh=true\" height=\"20\" onerror=\"this.src='data:image/gif;base64,R0lGODlhAQABAIAAAAAAAP///yH5BAEAAAAALAAAAAABAAEAAAIBRAA7';this.className='thumb bg_default_press'\" src=\"data:image/gif;base64,R0lGODlhAQABAIAAAAAAAP///yH5BAEAAAAALAAAAAABAAEAAAIBRAA7\" width=\"20\"/></span>bnt뉴스</a><span class=\"info\">12시간 전</span> </div></div><a class=\"news_tit\" href=\"https://www.bntnews.co.kr/article/view/bnt202309070001\" onclick=\"return goOtherCR(this, 'a=nws*f.tit&amp;r=21&amp;i=88123FBF_000000000000000000374938&amp;g=5191.0000374938&amp;u='+urlencode(this.href));\" target=\"_blank\" title=\"토스 행운퀴즈 정답 9월 7일\"><mark>토스</mark> 행운퀴즈 정답 9월 7일</a> <div class=\"news_dsc\"> <div class=\"dsc_wrap\"> <a class=\"api_txt_lines dsc_txt_wrap\" href=\"https://www.bntnews.co.kr/article/view/bnt202309070001\" onclick=\"return goOtherCR(this, 'a=nws*f.body&amp;r=21&amp;i=88123FBF_000000000000000000374938&amp;g=5191.0000374938&amp;u='+urlencode(this.href));\" target=\"_blank\"><mark>토스</mark> 행운퀴즈 정답 ©bntnews 앱을 통해 광고를 시청하고 보상을 얻는 앱테크가 큰 인기를 끌며, 다양한 앱에서 퀴즈 형태의 이벤트를 진행하고 있다. <mark>토스</mark> 행운퀴즈 정답을 정리한다. 퀴즈 풀고 10원 받기 ▶ 정답 - 정육...</a> </div></div></div><a class=\"dsc_thumb\" href=\"https://www.bntnews.co.kr/article/view/bnt202309070001\" onclick=\"return goOtherCR(this, 'a=nws*f.img&amp;r=21&amp;i=88123FBF_000000000000000000374938&amp;g=5191.0000374938&amp;u='+urlencode(this.href));\" target=\"_blank\"><img alt=\"토스 행운퀴즈 정답 9\" class=\"thumb api_get\" data-lazysrc=\"https://search.pstatic.net/common/?src=https%3A%2F%2Fimgnews.pstatic.net%2Fimage%2Forigin%2F5191%2F2023%2F09%2F07%2F374938.jpg&amp;type=ff264_180&amp;expire=2&amp;refresh=true\" height=\"90\" onerror=\"this.parentNode.style.display='none';\" src=\"data:image/gif;base64,R0lGODlhAQABAIAAAAAAAP///yH5BAEAAAAALAAAAAABAAEAAAIBRAA7\" width=\"132\"/></a> </div></li> <li class=\"bx\" id=\"sp_nws22\"> <div class=\"news_wrap api_ani_send\"> <div class=\"news_area\"> <div class=\"news_info\"> <div class=\"api_save_group _keep_wrap\"> <a aria-pressed=\"false\" class=\"btn_save _keep_trigger\" data-url=\"http://www.newsis.com/view/?id=NISX20230906_0002439805&amp;cID=15003&amp;pID=15000\" href=\"#\" onclick=\"tCR('a=nws*j.kep&amp;r=22&amp;i=88000127_000000000000000012072519&amp;u=javascript'); return false;\" role=\"button\"><i class=\"spnew ico_save\">문서 저장하기</i></a> <div class=\"api_ly_save _keep_save_layer\"> <a class=\"spnew_af item item_save _keep_save\" data-cr-off=\"a=nws*j.kepoff&amp;r=22&amp;i=88000127_000000000000000012072519&amp;u=javascript\" data-cr-on=\"a=nws*j.kepon&amp;r=22&amp;i=88000127_000000000000000012072519&amp;u=javascript\" href=\"#\" role=\"button\">Keep에 저장</a> <a class=\"spnew_af item item_quick\" href=\"https://keep.naver.com/\" onclick=\"return goOtherCR(this,'a=nws*j.kephome&amp;r=22&amp;i=88000127_000000000000000012072519&amp;u='+urlencode(this.href));\" target=\"_blank\">Keep 바로가기</a> </div></div><div class=\"info_group\"> <a class=\"info press\" href=\"http://www.newsis.com\" onclick=\"return goOtherCR(this, 'a=nws*j.prof&amp;r=22&amp;i=88000127_000000000000000012072519&amp;g=003.0012072519&amp;u='+urlencode(this.href));\" target=\"_blank\"><span class=\"thumb_box\"><img alt=\"\" class=\"thumb\" data-lazysrc=\"https://search.pstatic.net/common/?src=https%3A%2F%2Fmimgnews.pstatic.net%2Fimage%2Fupload%2Foffice_logo%2F003%2F2019%2F02%2F19%2Flogo_003_18_20190219111719.jpg&amp;type=f54_54&amp;expire=24&amp;refresh=true\" height=\"20\" onerror=\"this.src='data:image/gif;base64,R0lGODlhAQABAIAAAAAAAP///yH5BAEAAAAALAAAAAABAAEAAAIBRAA7';this.className='thumb bg_default_press'\" src=\"data:image/gif;base64,R0lGODlhAQABAIAAAAAAAP///yH5BAEAAAAALAAAAAABAAEAAAIBRAA7\" width=\"20\"/></span>뉴시스<i class=\"spnew ico_pick\">언론사 선정</i></a><span class=\"info\">1일 전</span><a class=\"info\" href=\"https://n.news.naver.com/mnews/article/003/0012072519?sid=101\" onclick=\"return goOtherCR(this, 'a=nws*j.nav&amp;r=22&amp;i=88000127_000000000000000012072519&amp;u='+urlencode(this.href));\" target=\"_blank\">네이버뉴스</a> </div></div><a class=\"news_tit\" href=\"http://www.newsis.com/view/?id=NISX20230906_0002439805&amp;cID=15003&amp;pID=15000\" onclick=\"return goOtherCR(this, 'a=nws*j.tit&amp;r=22&amp;i=88000127_000000000000000012072519&amp;g=003.0012072519&amp;u='+urlencode(this.href));\" target=\"_blank\" title=\"막 오른 인뱅 전월세대출 경쟁…어디가 유리하나\">막 오른 인뱅 전월세대출 경쟁…어디가 유리하나</a> <div class=\"news_dsc\"> <div class=\"dsc_wrap\"> <a class=\"api_txt_lines dsc_txt_wrap\" href=\"http://www.newsis.com/view/?id=NISX20230906_0002439805&amp;cID=15003&amp;pID=15000\" onclick=\"return goOtherCR(this, 'a=nws*j.body&amp;r=22&amp;i=88000127_000000000000000012072519&amp;g=003.0012072519&amp;u='+urlencode(this.href));\" target=\"_blank\">카카오뱅크와 케이뱅크에 이어 <mark>토스</mark>뱅크가 전월세보증금 대출 상품을 출시하면서 인터넷전문은행 3사의... 6일 금융권에 따르면 <mark>토스</mark>뱅크는 전날 전월세보증금 대출을 출시했다. 카카오뱅크와 케이뱅크에 이어...</a> </div></div></div><a class=\"dsc_thumb\" href=\"http://www.newsis.com/view/?id=NISX20230906_0002439805&amp;cID=15003&amp;pID=15000\" onclick=\"return goOtherCR(this, 'a=nws*j.img&amp;r=22&amp;i=88000127_000000000000000012072519&amp;g=003.0012072519&amp;u='+urlencode(this.href));\" target=\"_blank\"><img alt=\"막 오른 인뱅 전월세대\" class=\"thumb api_get\" data-lazysrc=\"https://search.pstatic.net/common/?src=https%3A%2F%2Fimgnews.pstatic.net%2Fimage%2Forigin%2F003%2F2023%2F09%2F06%2F12072519.jpg&amp;type=ff264_180&amp;expire=2&amp;refresh=true\" height=\"90\" onerror=\"this.parentNode.style.display='none';\" src=\"data:image/gif;base64,R0lGODlhAQABAIAAAAAAAP///yH5BAEAAAAALAAAAAABAAEAAAIBRAA7\" width=\"132\"/></a> </div></li> </ul> </div>]\n"
     ]
    }
   ],
   "source": [
    "b = soup.find_all('div','group_news')\n",
    "print(b)"
   ]
  },
  {
   "cell_type": "code",
   "execution_count": 99,
   "id": "6bd4b862-dc48-40e1-b50e-b9198e499453",
   "metadata": {},
   "outputs": [
    {
     "data": {
      "text/plain": [
       "[\"[단독] 토스證, 올해도 '전산오류 1위' 불명예\",\n",
       " \"토스뱅크, '목돈 굴리기'에서 삼성증권 채권상품 소개\",\n",
       " '4면메인 산업부 토스용',\n",
       " \"토스뱅크 '전세패키지' 내놨다\",\n",
       " '토스뱅크, 전월세대출 출시 “금리는 최저 연 3.32%”',\n",
       " '토스뱅크, 최저 연 3.32% 전월세대출 출시',\n",
       " '\"주담대, 하긴 해야 하는데…\" 토스뱅크의 딜레마',\n",
       " 'KIA 산체스 이달 말 복귀할 듯…“토스 시작했는데 통증 없다더라”',\n",
       " '토스 행운퀴즈 정답 9월 7일',\n",
       " '막 오른 인뱅 전월세대출 경쟁…어디가 유리하나',\n",
       " \"[단독] 토스證, 올해도 '전산오류 1위' 불명예\",\n",
       " \"토스뱅크, '목돈 굴리기'에서 삼성증권 채권상품 소개\",\n",
       " '4면메인 산업부 토스용',\n",
       " \"토스뱅크 '전세패키지' 내놨다\",\n",
       " '토스뱅크, 전월세대출 출시 “금리는 최저 연 3.32%”',\n",
       " '토스뱅크, 최저 연 3.32% 전월세대출 출시',\n",
       " '\"주담대, 하긴 해야 하는데…\" 토스뱅크의 딜레마',\n",
       " 'KIA 산체스 이달 말 복귀할 듯…“토스 시작했는데 통증 없다더라”',\n",
       " '토스 행운퀴즈 정답 9월 7일',\n",
       " '막 오른 인뱅 전월세대출 경쟁…어디가 유리하나',\n",
       " \"[단독] 토스證, 올해도 '전산오류 1위' 불명예\",\n",
       " \"토스뱅크, '목돈 굴리기'에서 삼성증권 채권상품 소개\",\n",
       " '4면메인 산업부 토스용',\n",
       " \"토스뱅크 '전세패키지' 내놨다\",\n",
       " '토스뱅크, 전월세대출 출시 “금리는 최저 연 3.32%”',\n",
       " '토스뱅크, 최저 연 3.32% 전월세대출 출시',\n",
       " '\"주담대, 하긴 해야 하는데…\" 토스뱅크의 딜레마',\n",
       " 'KIA 산체스 이달 말 복귀할 듯…“토스 시작했는데 통증 없다더라”',\n",
       " '토스 행운퀴즈 정답 9월 7일',\n",
       " '막 오른 인뱅 전월세대출 경쟁…어디가 유리하나']"
      ]
     },
     "execution_count": 99,
     "metadata": {},
     "output_type": "execute_result"
    }
   ],
   "source": [
    "title = []\n",
    "\n",
    "for i in soup.find('div','group_news'):\n",
    "    result = soup.find_all('a','news_tit')\n",
    "    for r in result:\n",
    "        title.append(r.get_text())\n",
    "title"
   ]
  },
  {
   "cell_type": "markdown",
   "id": "2523370a-920b-4c17-873a-67edaafe8ca0",
   "metadata": {},
   "source": [
    "# selenium\n",
    "- selenium 이용해서 다음페이지 클릭하면서 뉴스 타이틀 가져오기"
   ]
  },
  {
   "cell_type": "code",
   "execution_count": 31,
   "id": "ed524487-bab6-4497-b0e5-f71cf912092f",
   "metadata": {},
   "outputs": [],
   "source": [
    "from selenium import webdriver\n",
    "from selenium.webdriver.chrome.service import Service\n",
    "from webdriver_manager.chrome import ChromeDriverManager\n",
    "from selenium.webdriver.common.by import By\n",
    "from time import time\n",
    "from time import sleep"
   ]
  },
  {
   "cell_type": "code",
   "execution_count": 3,
   "id": "253064c6-244c-4b62-bb9a-352c53b2c5ab",
   "metadata": {},
   "outputs": [],
   "source": [
    "chrome_options = webdriver.ChromeOptions()\n",
    "driver = webdriver.Chrome(service=Service(ChromeDriverManager().install()),options=chrome_options)"
   ]
  },
  {
   "cell_type": "raw",
   "id": "77a4f303-a773-4a2d-a071-d447bf358c7c",
   "metadata": {},
   "source": [
    "# 이런식으로 검색어 입력한 창을 바로 URL로 넣어서도 가능\n",
    "url = 'https://search.naver.com/search.naver?where=news&query=%ED%86%A0%EC%8A%A4&sm=tab_tmr&nso=so:r,p:all,a:all&sort=0'\n",
    "driver = webdriver.Chrome()\n",
    "driver.get(url)"
   ]
  },
  {
   "cell_type": "markdown",
   "id": "124f8056-cd52-41e7-b839-8c0eec8d2d8e",
   "metadata": {},
   "source": [
    "## 검색어 입력하는것부터 시작"
   ]
  },
  {
   "cell_type": "code",
   "execution_count": 92,
   "id": "55c7326a-f2ab-493d-9b2a-a7cda1d88154",
   "metadata": {},
   "outputs": [],
   "source": [
    "# 정상작동 확인\n",
    "driver = webdriver.Chrome()\n",
    "driver.get('https://www.naver.com')"
   ]
  },
  {
   "cell_type": "code",
   "execution_count": 93,
   "id": "8b2e8c67-50ee-45c4-abc1-e1c2458e2e11",
   "metadata": {},
   "outputs": [],
   "source": [
    "element = driver.find_element(By.ID, 'query') # 검색창 찾기\n",
    "element.send_keys('토스') # 검색어 입력\n",
    "element.send_keys('\\n') # 엔터누르기"
   ]
  },
  {
   "cell_type": "code",
   "execution_count": 94,
   "id": "f5a0a901-f502-4187-a2a4-e6f0196a8119",
   "metadata": {},
   "outputs": [],
   "source": [
    "# 뉴스탭 클릭\n",
    "driver.find_element(By.XPATH, '//*[@id=\"lnb\"]/div[1]/div/div[1]/div/div[1]/div[1]/a').click()"
   ]
  },
  {
   "cell_type": "code",
   "execution_count": 95,
   "id": "d7695698-6259-4da4-bbfb-d4b7b7bf4527",
   "metadata": {},
   "outputs": [
    {
     "data": {
      "text/plain": [
       "['\"MTS 먹통\"…토스증권, 올해 전산 장애 \\'최다\\'',\n",
       " \"네이버부터 카카오·토스까지 바다 건너서도 '페이전쟁'\",\n",
       " '토스뱅크, 전월세대출 출시 “금리는 최저 연 3.32%”',\n",
       " \"토스뱅크 '전세패키지' 내놨다\",\n",
       " '토스뱅크, 최저 연 3.32% 전월세대출 출시',\n",
       " '막내 토스 반란, 인터넷은행·증권 판도 흔든다',\n",
       " '만기앞둔 예금 100조… 은행권, 고객재유치 금리경쟁 가열',\n",
       " \"토스뱅크, '목돈 굴리기'에서 삼성증권 판매 채권 소개 개시\",\n",
       " '발언하는 홍민택 토스뱅크 대표',\n",
       " \"[단독] 토스證, 올해도 '전산오류 1위' 불명예\"]"
      ]
     },
     "execution_count": 95,
     "metadata": {},
     "output_type": "execute_result"
    }
   ],
   "source": [
    "title = []\n",
    "news = []\n",
    "\n",
    "news_title = driver.find_elements(By.CSS_SELECTOR,'.list_news li.bx a.news_tit')\n",
    "for n in news_title:\n",
    "    title.append(n.text)\n",
    "title"
   ]
  },
  {
   "cell_type": "code",
   "execution_count": 91,
   "id": "bcbb6e4c-3475-4a2e-8d0b-f180277e2e8a",
   "metadata": {},
   "outputs": [
    {
     "ename": "InvalidSessionIdException",
     "evalue": "Message: invalid session id\nStacktrace:\n\tGetHandleVerifier [0x00007FF7C3C352A2+57122]\n\t(No symbol) [0x00007FF7C3BAEA92]\n\t(No symbol) [0x00007FF7C3A7E25D]\n\t(No symbol) [0x00007FF7C3AACCFE]\n\t(No symbol) [0x00007FF7C3AD6ED2]\n\t(No symbol) [0x00007FF7C3AD2E65]\n\t(No symbol) [0x00007FF7C3AD2780]\n\t(No symbol) [0x00007FF7C3A54270]\n\tGetHandleVerifier [0x00007FF7C3EDEF82+2849794]\n\tGetHandleVerifier [0x00007FF7C3F31D24+3189156]\n\tGetHandleVerifier [0x00007FF7C3F2ACAF+3160367]\n\tGetHandleVerifier [0x00007FF7C3CC6D06+653702]\n\t(No symbol) [0x00007FF7C3BBA208]\n\t(No symbol) [0x00007FF7C3A530E5]\n\tGetHandleVerifier [0x00007FF7C3F68E08+3414664]\n\tBaseThreadInitThunk [0x00007FFB519126AD+29]\n\tRtlUserThreadStart [0x00007FFB536CAA68+40]\n",
     "output_type": "error",
     "traceback": [
      "\u001b[1;31m---------------------------------------------------------------------------\u001b[0m",
      "\u001b[1;31mInvalidSessionIdException\u001b[0m                 Traceback (most recent call last)",
      "Input \u001b[1;32mIn [91]\u001b[0m, in \u001b[0;36m<cell line: 1>\u001b[1;34m()\u001b[0m\n\u001b[0;32m      1\u001b[0m \u001b[38;5;28;01mfor\u001b[39;00m i \u001b[38;5;129;01min\u001b[39;00m \u001b[38;5;28mrange\u001b[39m(\u001b[38;5;241m10\u001b[39m):\n\u001b[1;32m----> 2\u001b[0m     \u001b[43mdriver\u001b[49m\u001b[38;5;241;43m.\u001b[39;49m\u001b[43mfind_element\u001b[49m\u001b[43m(\u001b[49m\u001b[43mBy\u001b[49m\u001b[38;5;241;43m.\u001b[39;49m\u001b[43mCSS_SELECTOR\u001b[49m\u001b[43m,\u001b[49m\u001b[38;5;124;43m'\u001b[39;49m\u001b[38;5;124;43m.list_news li.bx a.news_tit\u001b[39;49m\u001b[38;5;124;43m'\u001b[39;49m\u001b[43m)\u001b[49m\u001b[38;5;241m.\u001b[39mclick() \u001b[38;5;66;03m# 뉴스 클릭\u001b[39;00m\n\u001b[0;32m      3\u001b[0m     driver\u001b[38;5;241m.\u001b[39mswitch_to\u001b[38;5;241m.\u001b[39mwindow(driver\u001b[38;5;241m.\u001b[39mwindow_handles[\u001b[38;5;241m-\u001b[39m\u001b[38;5;241m1\u001b[39m]) \u001b[38;5;66;03m# 새탭으로 이동\u001b[39;00m\n\u001b[0;32m      4\u001b[0m     sleep(\u001b[38;5;241m1\u001b[39m)\n",
      "File \u001b[1;32m~\\anaconda3\\envs\\py38\\lib\\site-packages\\selenium\\webdriver\\remote\\webdriver.py:738\u001b[0m, in \u001b[0;36mWebDriver.find_element\u001b[1;34m(self, by, value)\u001b[0m\n\u001b[0;32m    735\u001b[0m     by \u001b[38;5;241m=\u001b[39m By\u001b[38;5;241m.\u001b[39mCSS_SELECTOR\n\u001b[0;32m    736\u001b[0m     value \u001b[38;5;241m=\u001b[39m \u001b[38;5;124mf\u001b[39m\u001b[38;5;124m'\u001b[39m\u001b[38;5;124m[name=\u001b[39m\u001b[38;5;124m\"\u001b[39m\u001b[38;5;132;01m{\u001b[39;00mvalue\u001b[38;5;132;01m}\u001b[39;00m\u001b[38;5;124m\"\u001b[39m\u001b[38;5;124m]\u001b[39m\u001b[38;5;124m'\u001b[39m\n\u001b[1;32m--> 738\u001b[0m \u001b[38;5;28;01mreturn\u001b[39;00m \u001b[38;5;28;43mself\u001b[39;49m\u001b[38;5;241;43m.\u001b[39;49m\u001b[43mexecute\u001b[49m\u001b[43m(\u001b[49m\u001b[43mCommand\u001b[49m\u001b[38;5;241;43m.\u001b[39;49m\u001b[43mFIND_ELEMENT\u001b[49m\u001b[43m,\u001b[49m\u001b[43m \u001b[49m\u001b[43m{\u001b[49m\u001b[38;5;124;43m\"\u001b[39;49m\u001b[38;5;124;43musing\u001b[39;49m\u001b[38;5;124;43m\"\u001b[39;49m\u001b[43m:\u001b[49m\u001b[43m \u001b[49m\u001b[43mby\u001b[49m\u001b[43m,\u001b[49m\u001b[43m \u001b[49m\u001b[38;5;124;43m\"\u001b[39;49m\u001b[38;5;124;43mvalue\u001b[39;49m\u001b[38;5;124;43m\"\u001b[39;49m\u001b[43m:\u001b[49m\u001b[43m \u001b[49m\u001b[43mvalue\u001b[49m\u001b[43m}\u001b[49m\u001b[43m)\u001b[49m[\u001b[38;5;124m\"\u001b[39m\u001b[38;5;124mvalue\u001b[39m\u001b[38;5;124m\"\u001b[39m]\n",
      "File \u001b[1;32m~\\anaconda3\\envs\\py38\\lib\\site-packages\\selenium\\webdriver\\remote\\webdriver.py:344\u001b[0m, in \u001b[0;36mWebDriver.execute\u001b[1;34m(self, driver_command, params)\u001b[0m\n\u001b[0;32m    342\u001b[0m response \u001b[38;5;241m=\u001b[39m \u001b[38;5;28mself\u001b[39m\u001b[38;5;241m.\u001b[39mcommand_executor\u001b[38;5;241m.\u001b[39mexecute(driver_command, params)\n\u001b[0;32m    343\u001b[0m \u001b[38;5;28;01mif\u001b[39;00m response:\n\u001b[1;32m--> 344\u001b[0m     \u001b[38;5;28;43mself\u001b[39;49m\u001b[38;5;241;43m.\u001b[39;49m\u001b[43merror_handler\u001b[49m\u001b[38;5;241;43m.\u001b[39;49m\u001b[43mcheck_response\u001b[49m\u001b[43m(\u001b[49m\u001b[43mresponse\u001b[49m\u001b[43m)\u001b[49m\n\u001b[0;32m    345\u001b[0m     response[\u001b[38;5;124m\"\u001b[39m\u001b[38;5;124mvalue\u001b[39m\u001b[38;5;124m\"\u001b[39m] \u001b[38;5;241m=\u001b[39m \u001b[38;5;28mself\u001b[39m\u001b[38;5;241m.\u001b[39m_unwrap_value(response\u001b[38;5;241m.\u001b[39mget(\u001b[38;5;124m\"\u001b[39m\u001b[38;5;124mvalue\u001b[39m\u001b[38;5;124m\"\u001b[39m, \u001b[38;5;28;01mNone\u001b[39;00m))\n\u001b[0;32m    346\u001b[0m     \u001b[38;5;28;01mreturn\u001b[39;00m response\n",
      "File \u001b[1;32m~\\anaconda3\\envs\\py38\\lib\\site-packages\\selenium\\webdriver\\remote\\errorhandler.py:229\u001b[0m, in \u001b[0;36mErrorHandler.check_response\u001b[1;34m(self, response)\u001b[0m\n\u001b[0;32m    227\u001b[0m         alert_text \u001b[38;5;241m=\u001b[39m value[\u001b[38;5;124m\"\u001b[39m\u001b[38;5;124malert\u001b[39m\u001b[38;5;124m\"\u001b[39m]\u001b[38;5;241m.\u001b[39mget(\u001b[38;5;124m\"\u001b[39m\u001b[38;5;124mtext\u001b[39m\u001b[38;5;124m\"\u001b[39m)\n\u001b[0;32m    228\u001b[0m     \u001b[38;5;28;01mraise\u001b[39;00m exception_class(message, screen, stacktrace, alert_text)  \u001b[38;5;66;03m# type: ignore[call-arg]  # mypy is not smart enough here\u001b[39;00m\n\u001b[1;32m--> 229\u001b[0m \u001b[38;5;28;01mraise\u001b[39;00m exception_class(message, screen, stacktrace)\n",
      "\u001b[1;31mInvalidSessionIdException\u001b[0m: Message: invalid session id\nStacktrace:\n\tGetHandleVerifier [0x00007FF7C3C352A2+57122]\n\t(No symbol) [0x00007FF7C3BAEA92]\n\t(No symbol) [0x00007FF7C3A7E25D]\n\t(No symbol) [0x00007FF7C3AACCFE]\n\t(No symbol) [0x00007FF7C3AD6ED2]\n\t(No symbol) [0x00007FF7C3AD2E65]\n\t(No symbol) [0x00007FF7C3AD2780]\n\t(No symbol) [0x00007FF7C3A54270]\n\tGetHandleVerifier [0x00007FF7C3EDEF82+2849794]\n\tGetHandleVerifier [0x00007FF7C3F31D24+3189156]\n\tGetHandleVerifier [0x00007FF7C3F2ACAF+3160367]\n\tGetHandleVerifier [0x00007FF7C3CC6D06+653702]\n\t(No symbol) [0x00007FF7C3BBA208]\n\t(No symbol) [0x00007FF7C3A530E5]\n\tGetHandleVerifier [0x00007FF7C3F68E08+3414664]\n\tBaseThreadInitThunk [0x00007FFB519126AD+29]\n\tRtlUserThreadStart [0x00007FFB536CAA68+40]\n"
     ]
    }
   ],
   "source": [
    "for i in range(10):\n",
    "    driver.find_element(By.CSS_SELECTOR,'.list_news li.bx a.news_tit').click() # 뉴스 클릭\n",
    "    driver.switch_to.window(driver.window_handles[-1]) # 새탭으로 이동\n",
    "    sleep(1)\n",
    "\n",
    "    driver.close()  #링크 이동 후 탭 닫기\n",
    "    driver.switch_to.window(driver.window_handles[-1])  #다시 이전 창(탭)으로 이동"
   ]
  },
  {
   "cell_type": "code",
   "execution_count": 84,
   "id": "288d9208-88ad-468a-97a7-83ff5bfd4c5d",
   "metadata": {},
   "outputs": [],
   "source": [
    "title = []\n",
    "news = []\n",
    "\n",
    "try:\n",
    "    for i in range(2):\n",
    "        news_title = driver.find_elements(By.CSS_SELECTOR,'.list_news li.bx a.news_tit') # 제목 크롤링\n",
    "        for t in news_title:\n",
    "            title.append(t.text)\n",
    "        for z in range(10):\n",
    "            driver.find_element(By.CSS_SELECTOR,'.list_news li.bx a.news_tit').click() # 뉴스 클릭\n",
    "            driver.switch_to.window(driver.window_handles[-1]) # 새탭으로 이동\n",
    "            sleep(1)\n",
    "\n",
    "            news = []\n",
    "            content = driver.find_elements(By.CSS_SELECTOR,'.viewer article')\n",
    "            for n in content:\n",
    "                news.append(n.text.replace('\\n',''))\n",
    "\n",
    "            driver.close()  #링크 이동 후 탭 닫기\n",
    "            driver.switch_to.window(driver.window_handles[-1])  #다시 이전 창(탭)으로 이동\n",
    "        driver.find_element(By.XPATH,'//*[@id=\"main_pack\"]/div[2]/div/a[2]').click() # 다음 페이지 클릭\n",
    "except:\n",
    "    driver.quit()"
   ]
  },
  {
   "cell_type": "code",
   "execution_count": 85,
   "id": "a525c4c5-8686-4f0f-9b6b-2142b4b5709c",
   "metadata": {},
   "outputs": [
    {
     "data": {
      "text/plain": [
       "['\"MTS 먹통\"…토스증권, 올해 전산 장애 \\'최다\\'',\n",
       " \"네이버부터 카카오·토스까지 바다 건너서도 '페이전쟁'\",\n",
       " '토스뱅크, 전월세대출 출시 “금리는 최저 연 3.32%”',\n",
       " \"토스뱅크 '전세패키지' 내놨다\",\n",
       " '토스뱅크, 최저 연 3.32% 전월세대출 출시',\n",
       " '막내 토스 반란, 인터넷은행·증권 판도 흔든다',\n",
       " '만기앞둔 예금 100조… 은행권, 고객재유치 금리경쟁 가열',\n",
       " \"토스뱅크, '목돈 굴리기'에서 삼성증권 판매 채권 소개 개시\",\n",
       " '발언하는 홍민택 토스뱅크 대표',\n",
       " \"[단독] 토스證, 올해도 '전산오류 1위' 불명예\"]"
      ]
     },
     "execution_count": 85,
     "metadata": {},
     "output_type": "execute_result"
    }
   ],
   "source": [
    "title"
   ]
  },
  {
   "cell_type": "code",
   "execution_count": 157,
   "id": "7c05c627-58f9-4f8b-8d30-344be68e0f9f",
   "metadata": {},
   "outputs": [],
   "source": [
    "title = []\n",
    "news = []\n",
    "\n",
    "try:\n",
    "    for i in range(50):\n",
    "        news_title = driver.find_elements(By.CSS_SELECTOR,'.list_news li.bx a.news_tit')\n",
    "        for t in news_title:\n",
    "            title.append(t.text)\n",
    "        driver.find_elements(By.CSS_SELECTOR,'.list_news li.bx a.news_tit').click()\n",
    "        driver.find_element(By.XPATH,'//*[@id=\"main_pack\"]/div[2]/div/a[2]').click()\n",
    "except:\n",
    "    driver.quit()"
   ]
  },
  {
   "cell_type": "code",
   "execution_count": 161,
   "id": "2ec71f3d-cd0c-410b-8c36-55ca4fbcb9b2",
   "metadata": {},
   "outputs": [
    {
     "data": {
      "text/plain": [
       "[\"[단독] 토스證, 올해도 '전산오류 1위' 불명예\",\n",
       " \"토스뱅크, '목돈 굴리기'에서 삼성증권 채권상품 소개\",\n",
       " \"토스뱅크 '전세패키지' 내놨다\",\n",
       " '토스뱅크, 전월세대출 출시 “금리는 최저 연 3.32%”',\n",
       " '토스뱅크, 최저 연 3.32% 전월세대출 출시',\n",
       " '\"주담대, 하긴 해야 하는데…\" 토스뱅크의 딜레마',\n",
       " 'KIA 산체스 이달 말 복귀할 듯…“토스 시작했는데 통증 없다더라”',\n",
       " '토스 행운퀴즈 정답 9월 7일',\n",
       " '막 오른 인뱅 전월세대출 경쟁…어디가 유리하나',\n",
       " '발언하는 홍민택 토스뱅크 대표',\n",
       " '토스 행운퀴즈 정답 9월 7일',\n",
       " \"[포토] 토스뱅크, '한경 핀테크대상' 서비스 분야 대상 수상\",\n",
       " '토스뱅크, 전·월세 보증금 대출 출시',\n",
       " '전월세보증금 대출 출시한 토스뱅크…주담대는 미정',\n",
       " '홍민택 토스뱅크 대표 \"주담대 출시 시기 미정…시장환경 맞아야\"']"
      ]
     },
     "execution_count": 161,
     "metadata": {},
     "output_type": "execute_result"
    }
   ],
   "source": [
    "title[:15]"
   ]
  },
  {
   "cell_type": "code",
   "execution_count": null,
   "id": "8daeb9ac-647e-409f-8ac4-02fa34e37ac4",
   "metadata": {},
   "outputs": [],
   "source": []
  }
 ],
 "metadata": {
  "kernelspec": {
   "display_name": "Python 3 (ipykernel)",
   "language": "python",
   "name": "python3"
  },
  "language_info": {
   "codemirror_mode": {
    "name": "ipython",
    "version": 3
   },
   "file_extension": ".py",
   "mimetype": "text/x-python",
   "name": "python",
   "nbconvert_exporter": "python",
   "pygments_lexer": "ipython3",
   "version": "3.8.13"
  }
 },
 "nbformat": 4,
 "nbformat_minor": 5
}
