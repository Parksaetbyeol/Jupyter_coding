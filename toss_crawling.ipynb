{
 "cells": [
  {
   "cell_type": "markdown",
   "id": "498063cb-aa28-41bc-904a-e87fd9c093db",
   "metadata": {},
   "source": [
    "# requests, beautifulsoup\n",
    "- 토스 뉴스타이틀 가져오기"
   ]
  },
  {
   "cell_type": "code",
   "execution_count": 1,
   "id": "1690de62-2047-445e-aeb8-ab7dc6e18250",
   "metadata": {},
   "outputs": [],
   "source": [
    "import numpy as np\n",
    "import pandas as pd"
   ]
  },
  {
   "cell_type": "code",
   "execution_count": 2,
   "id": "489dafe5-7822-453a-b327-178aeefecc60",
   "metadata": {},
   "outputs": [],
   "source": [
    "import requests\n",
    "from bs4 import BeautifulSoup as bs"
   ]
  },
  {
   "cell_type": "code",
   "execution_count": 3,
   "id": "6d4de5dd-2a9a-44f7-9865-ce4ea4f6e07e",
   "metadata": {},
   "outputs": [
    {
     "data": {
      "text/plain": [
       "200"
      ]
     },
     "execution_count": 3,
     "metadata": {},
     "output_type": "execute_result"
    }
   ],
   "source": [
    "url = 'https://search.naver.com/search.naver?where=news&query=%ED%86%A0%EC%8A%A4&sm=tab_tmr&nso=so:r,p:all,a:all&sort=0'\n",
    "response  = requests.get(url)\n",
    "response.status_code"
   ]
  },
  {
   "cell_type": "code",
   "execution_count": 4,
   "id": "131d9057-9ada-4a66-a5db-dacc2f5ba9a7",
   "metadata": {
    "tags": []
   },
   "outputs": [],
   "source": [
    "html = response.text\n",
    "soup = bs(html, \"html.parser\")"
   ]
  },
  {
   "cell_type": "code",
   "execution_count": 5,
   "id": "172e214c-fbca-4983-9e45-c0f353d19e15",
   "metadata": {
    "collapsed": true,
    "jupyter": {
     "outputs_hidden": true
    },
    "tags": []
   },
   "outputs": [
    {
     "name": "stdout",
     "output_type": "stream",
     "text": [
      "[<div class=\"group_news\"> <ul class=\"list_news\"> <li class=\"bx\" id=\"sp_nws1\"> <div class=\"news_wrap api_ani_send\"> <div class=\"news_area\"> <div class=\"news_info\"> <div class=\"api_save_group _keep_wrap\"> <a aria-pressed=\"false\" class=\"btn_save _keep_trigger\" data-url=\"https://www.yna.co.kr/view/AKR20230909025200002?input=1195m\" href=\"#\" onclick=\"tCR('a=nws*h.kep&amp;r=1&amp;i=880000D8_000000000000000014183758&amp;u=javascript'); return false;\" role=\"button\"><i class=\"spnew ico_save\">문서 저장하기</i></a> <div class=\"api_ly_save _keep_save_layer\"> <a class=\"spnew_af item item_save _keep_save\" data-cr-off=\"a=nws*h.kepoff&amp;r=1&amp;i=880000D8_000000000000000014183758&amp;u=javascript\" data-cr-on=\"a=nws*h.kepon&amp;r=1&amp;i=880000D8_000000000000000014183758&amp;u=javascript\" href=\"#\" role=\"button\">Keep에 저장</a> <a class=\"spnew_af item item_quick\" href=\"https://keep.naver.com/\" onclick=\"return goOtherCR(this,'a=nws*h.kephome&amp;r=1&amp;i=880000D8_000000000000000014183758&amp;u='+urlencode(this.href));\" target=\"_blank\">Keep 바로가기</a> </div></div><div class=\"info_group\"> <a class=\"info press\" href=\"https://www.yna.co.kr/\" onclick=\"return goOtherCR(this, 'a=nws*h.prof&amp;r=1&amp;i=880000D8_000000000000000014183758&amp;g=001.0014183758&amp;u='+urlencode(this.href));\" target=\"_blank\"><span class=\"thumb_box\"><img alt=\"\" class=\"thumb\" data-lazysrc=\"https://search.pstatic.net/common/?src=https%3A%2F%2Fmimgnews.pstatic.net%2Fimage%2Fupload%2Foffice_logo%2F001%2F2017%2F06%2F29%2Flogo_001_18_20170629160329.png&amp;type=f54_54&amp;expire=24&amp;refresh=true\" height=\"20\" onerror=\"this.src='data:image/gif;base64,R0lGODlhAQABAIAAAAAAAP///yH5BAEAAAAALAAAAAABAAEAAAIBRAA7';this.className='thumb bg_default_press'\" src=\"data:image/gif;base64,R0lGODlhAQABAIAAAAAAAP///yH5BAEAAAAALAAAAAABAAEAAAIBRAA7\" width=\"20\"/></span>연합뉴스<i class=\"spnew ico_pick\">언론사 선정</i></a><span class=\"info\">16시간 전</span><a class=\"info\" href=\"https://n.news.naver.com/mnews/article/001/0014183758?sid=101\" onclick=\"return goOtherCR(this, 'a=nws*h.nav&amp;r=1&amp;i=880000D8_000000000000000014183758&amp;u='+urlencode(this.href));\" target=\"_blank\">네이버뉴스</a> </div></div><a class=\"news_tit\" href=\"https://www.yna.co.kr/view/AKR20230909025200002?input=1195m\" onclick=\"return goOtherCR(this, 'a=nws*h.tit&amp;r=1&amp;i=880000D8_000000000000000014183758&amp;g=001.0014183758&amp;u='+urlencode(this.href));\" target=\"_blank\" title=\"'주담대 블랙홀' 된 인터넷은행…카카오뱅크 2개월간 2조원 불어\">'주담대 블랙홀' 된 인터넷은행…카카오뱅크 2개월간 2조원 불어</a> <div class=\"news_dsc\"> <div class=\"dsc_wrap\"> <a class=\"api_txt_lines dsc_txt_wrap\" href=\"https://www.yna.co.kr/view/AKR20230909025200002?input=1195m\" onclick=\"return goOtherCR(this, 'a=nws*h.body&amp;r=1&amp;i=880000D8_000000000000000014183758&amp;g=001.0014183758&amp;u='+urlencode(this.href));\" target=\"_blank\">7∼8월 주택담보대출 증가액, 5대 은행 3.6조·인터넷銀 2.3조 <mark>토스</mark>뱅크도 9월부터 전월세대출 출시... 인터넷은행 중 후발주자인 <mark>토스</mark>뱅크도 지난 5일 전월세보증금 대출을 출시하며 시장에 뛰어들었다. 금융권에서는...</a> </div></div></div><a class=\"dsc_thumb\" href=\"https://www.yna.co.kr/view/AKR20230909025200002?input=1195m\" onclick=\"return goOtherCR(this, 'a=nws*h.img&amp;r=1&amp;i=880000D8_000000000000000014183758&amp;g=001.0014183758&amp;u='+urlencode(this.href));\" target=\"_blank\"><img alt=\"‘주담대 블랙홀‘ 된 인\" class=\"thumb api_get\" data-lazysrc=\"https://search.pstatic.net/common/?src=https%3A%2F%2Fimgnews.pstatic.net%2Fimage%2Forigin%2F001%2F2023%2F09%2F11%2F14183758.jpg&amp;type=ff264_180&amp;expire=2&amp;refresh=true\" height=\"90\" onerror=\"this.parentNode.style.display='none';\" src=\"data:image/gif;base64,R0lGODlhAQABAIAAAAAAAP///yH5BAEAAAAALAAAAAABAAEAAAIBRAA7\" width=\"132\"/></a> </div><div class=\"news_cluster\"> <ul class=\"list_cluster\"> <li class=\"sub_bx\"> <span class=\"sub_wrap\"> <span class=\"sub_area\"> <cite class=\"sub_txt press\" title=\"매일경제\">매일경제<i class=\"spnew ico_pick\">언론사 선정</i></cite><span class=\"sub_txt\">13시간 전</span><a class=\"sub_txt\" href=\"https://n.news.naver.com/mnews/article/009/0005184691?sid=101\" onclick=\"return goOtherCR(this, 'a=nws*i.nav&amp;r=2&amp;i=880000BC_000000000000000005184691&amp;u='+urlencode(this.href));\" target=\"_blank\">네이버뉴스</a> </span><a class=\"elss sub_tit\" href=\"https://www.mk.co.kr/article/10826526\" onclick=\"return goOtherCR(this, 'a=nws*i.tit&amp;r=2&amp;i=880000BC_000000000000000005184691&amp;g=009.0005184691&amp;u='+urlencode(this.href));\" target=\"_blank\" title=\"카카오뱅크 두 달간 2조원 급증…주담대 ‘블랙홀’ 된 인뱅 이유가?\">카카오뱅크 두 달간 2조원 급증…주담대 ‘블랙홀’ 된 인뱅 이유가?</a> </span></li> <li class=\"sub_bx\"> <span class=\"sub_wrap\"> <span class=\"sub_area\"> <cite class=\"sub_txt press\" title=\"데일리안\">데일리안<i class=\"spnew ico_pick\">언론사 선정</i></cite><span class=\"sub_txt\">13시간 전</span><a class=\"sub_txt\" href=\"https://n.news.naver.com/mnews/article/119/0002747736?sid=101\" onclick=\"return goOtherCR(this, 'a=nws*i.nav&amp;r=3&amp;i=8812A0A8_000000000000000002747736&amp;u='+urlencode(this.href));\" target=\"_blank\">네이버뉴스</a> </span><a class=\"elss sub_tit\" href=\"https://www.dailian.co.kr/news/view/1271755/?sc=Naver\" onclick=\"return goOtherCR(this, 'a=nws*i.tit&amp;r=3&amp;i=8812A0A8_000000000000000002747736&amp;g=119.0002747736&amp;u='+urlencode(this.href));\" target=\"_blank\" title=\"인뱅 주담대 두달 새 2조원 이상↑…5대銀보다 증가세 가팔랐다\">인뱅 주담대 두달 새 2조원 이상↑…5대銀보다 증가세 가팔랐다</a> </span></li> <li class=\"sub_bx\"> <span class=\"sub_wrap\"> <span class=\"sub_area\"> <cite class=\"sub_txt press\" title=\"SBS\">SBS</cite><span class=\"sub_txt\">13시간 전</span><a class=\"sub_txt\" href=\"https://n.news.naver.com/mnews/article/055/0001088715?sid=101\" onclick=\"return goOtherCR(this, 'a=nws*c.nav&amp;r=4&amp;i=8800011C_000000000000000001088715&amp;u='+urlencode(this.href));\" target=\"_blank\">네이버뉴스</a> </span><a class=\"elss sub_tit\" href=\"https://news.sbs.co.kr/news/endPage.do?news_id=N1007341828&amp;plink=ORI&amp;cooper=NAVER\" onclick=\"return goOtherCR(this, 'a=nws*c.tit&amp;r=4&amp;i=8800011C_000000000000000001088715&amp;g=055.0001088715&amp;u='+urlencode(this.href));\" target=\"_blank\" title=\"'주담대 블랙홀' 된 인터넷은행…카카오뱅크 2개월간 2조 원 불어\">'주담대 블랙홀' 된 인터넷은행…카카오뱅크 2개월간 2조 원 불어</a> </span></li> <li class=\"sub_bx\"> <span class=\"sub_wrap\"> <span class=\"sub_area\"> <cite class=\"sub_txt press\" title=\"한국경제TV\">한국경제TV</cite><span class=\"sub_txt\">16시간 전</span><a class=\"sub_txt\" href=\"https://n.news.naver.com/mnews/article/215/0001124250?sid=101\" onclick=\"return goOtherCR(this, 'a=nws*c.nav&amp;r=5&amp;i=88000149_000000000000000001124250&amp;u='+urlencode(this.href));\" target=\"_blank\">네이버뉴스</a> </span><a class=\"elss sub_tit\" href=\"http://www.wowtv.co.kr/NewsCenter/News/Read?articleId=A202309110012&amp;t=NN\" onclick=\"return goOtherCR(this, 'a=nws*c.tit&amp;r=5&amp;i=88000149_000000000000000001124250&amp;g=215.0001124250&amp;u='+urlencode(this.href));\" target=\"_blank\" title=\"카카오뱅크 2개월간 2조원 불어…'주담대 블랙홀' 된 인터넷은행\">카카오뱅크 2개월간 2조원 불어…'주담대 블랙홀' 된 인터넷은행</a> </span></li> </ul></div><a class=\"news_more\" href=\"?where=news&amp;sm=tab_tnw&amp;query=%ED%86%A0%EC%8A%A4&amp;sort=0&amp;photo=0&amp;field=0&amp;pd=0&amp;ds=&amp;de=&amp;mynews=0&amp;office_type=0&amp;office_section_code=0&amp;news_office_checked=&amp;related=1&amp;docid=0010014183758&amp;office_category=0&amp;service_area=0&amp;nso=so:r,p:all,a:all\" onclick=\"return goOtherCR(this, 'a=nws*r.more&amp;u='+urlencode(urlexpand(this.href)));\">관련뉴스 9건 전체보기<i class=\"spnew ico_arrow\"></i></a> </li> <li class=\"bx\" id=\"sp_nws6\"> <div class=\"news_wrap api_ani_send\"> <div class=\"news_area\"> <div class=\"news_info\"> <div class=\"api_save_group _keep_wrap\"> <a aria-pressed=\"false\" class=\"btn_save _keep_trigger\" data-url=\"https://www.bntnews.co.kr/article/view/bnt202309110001\" href=\"#\" onclick=\"tCR('a=nws*b.kep&amp;r=6&amp;i=88123FBF_000000000000000000375346&amp;u=javascript'); return false;\" role=\"button\"><i class=\"spnew ico_save\">문서 저장하기</i></a> <div class=\"api_ly_save _keep_save_layer\"> <a class=\"spnew_af item item_save _keep_save\" data-cr-off=\"a=nws*b.kepoff&amp;r=6&amp;i=88123FBF_000000000000000000375346&amp;u=javascript\" data-cr-on=\"a=nws*b.kepon&amp;r=6&amp;i=88123FBF_000000000000000000375346&amp;u=javascript\" href=\"#\" role=\"button\">Keep에 저장</a> <a class=\"spnew_af item item_quick\" href=\"https://keep.naver.com/\" onclick=\"return goOtherCR(this,'a=nws*b.kephome&amp;r=6&amp;i=88123FBF_000000000000000000375346&amp;u='+urlencode(this.href));\" target=\"_blank\">Keep 바로가기</a> </div></div><div class=\"info_group\"> <a class=\"info press\" href=\"http://www.bntnews.co.kr\" onclick=\"return goOtherCR(this, 'a=nws*b.prof&amp;r=6&amp;i=88123FBF_000000000000000000375346&amp;g=5191.0000375346&amp;u='+urlencode(this.href));\" target=\"_blank\"><span class=\"thumb_box\"><img alt=\"\" class=\"thumb\" data-lazysrc=\"https://search.pstatic.net/common/?src=https%3A%2F%2Fimg.bntnews.co.kr%2Fandroid-icon-192x192.png&amp;type=f54_54&amp;expire=24&amp;refresh=true\" height=\"20\" onerror=\"this.src='data:image/gif;base64,R0lGODlhAQABAIAAAAAAAP///yH5BAEAAAAALAAAAAABAAEAAAIBRAA7';this.className='thumb bg_default_press'\" src=\"data:image/gif;base64,R0lGODlhAQABAIAAAAAAAP///yH5BAEAAAAALAAAAAABAAEAAAIBRAA7\" width=\"20\"/></span>bnt뉴스</a><span class=\"info\">10시간 전</span> </div></div><a class=\"news_tit\" href=\"https://www.bntnews.co.kr/article/view/bnt202309110001\" onclick=\"return goOtherCR(this, 'a=nws*b.tit&amp;r=6&amp;i=88123FBF_000000000000000000375346&amp;g=5191.0000375346&amp;u='+urlencode(this.href));\" target=\"_blank\" title=\"토스 행운퀴즈 정답 9월 11일\"><mark>토스</mark> 행운퀴즈 정답 9월 11일</a> <div class=\"news_dsc\"> <div class=\"dsc_wrap\"> <a class=\"api_txt_lines dsc_txt_wrap\" href=\"https://www.bntnews.co.kr/article/view/bnt202309110001\" onclick=\"return goOtherCR(this, 'a=nws*b.body&amp;r=6&amp;i=88123FBF_000000000000000000375346&amp;g=5191.0000375346&amp;u='+urlencode(this.href));\" target=\"_blank\"><mark>토스</mark> 행운퀴즈 정답을 정리한다. X2 옴니 런칭 이벤트 ▶ 정답 - 95 ■ <mark>토스</mark> 행운퀴즈는 앱 이용자마다 무작위로 문제가 나타난다. 문제를 읽고 해당되는 정답을 입력하면 된다. <mark>토스</mark>뱅크 행운퀴즈 참여는 '<mark>토스</mark>' 앱을 통해...</a> </div></div></div><a class=\"dsc_thumb\" href=\"https://www.bntnews.co.kr/article/view/bnt202309110001\" onclick=\"return goOtherCR(this, 'a=nws*b.img&amp;r=6&amp;i=88123FBF_000000000000000000375346&amp;g=5191.0000375346&amp;u='+urlencode(this.href));\" target=\"_blank\"><img alt=\"토스 행운퀴즈 정답 9\" class=\"thumb api_get\" data-lazysrc=\"https://search.pstatic.net/common/?src=https%3A%2F%2Fimgnews.pstatic.net%2Fimage%2Forigin%2F5191%2F2023%2F09%2F11%2F375346.jpg&amp;type=ff264_180&amp;expire=2&amp;refresh=true\" height=\"90\" onerror=\"this.parentNode.style.display='none';\" src=\"data:image/gif;base64,R0lGODlhAQABAIAAAAAAAP///yH5BAEAAAAALAAAAAABAAEAAAIBRAA7\" width=\"132\"/></a> </div><div class=\"news_cluster\"> <ul class=\"list_cluster\"> <li class=\"sub_bx\"> <span class=\"sub_wrap\"> <span class=\"sub_area\"> <cite class=\"sub_txt press\" title=\"딜라이트닷넷\">딜라이트닷넷</cite><span class=\"sub_txt\">9시간 전</span> </span><a class=\"elss sub_tit\" href=\"https://www.delighti.co.kr/news/articleView.html?idxno=66110\" onclick=\"return goOtherCR(this, 'a=nws*d.tit&amp;r=7&amp;i=8812C13C_000000000000000000026968&amp;g=5214.0000026968&amp;u='+urlencode(this.href));\" target=\"_blank\" title=\"9월 11일 토스 행운퀴즈 최신 정답 업데이트\">9월 11일 <mark>토스</mark> 행운퀴즈 최신 정답 업데이트</a> </span></li> <li class=\"sub_bx\"> <span class=\"sub_wrap\"> <span class=\"sub_area\"> <cite class=\"sub_txt press\" title=\"라온신문\">라온신문</cite><span class=\"sub_txt\">7시간 전</span> </span><a class=\"elss sub_tit\" href=\"https://www.raonnews.com/news/article.html?no=21198\" onclick=\"return goOtherCR(this, 'a=nws*d.tit&amp;r=8&amp;i=88223smf_000000000000000000013528&amp;g=5874.0000013528&amp;u='+urlencode(this.href));\" target=\"_blank\" title=\"11일 오후 2시 토스 행운퀴즈 정답 공개\">11일 오후 2시 <mark>토스</mark> 행운퀴즈 정답 공개</a> </span></li> </ul></div></li> <li class=\"bx\" id=\"sp_nws9\"> <div class=\"news_wrap api_ani_send\"> <div class=\"news_area\"> <div class=\"news_info\"> <div class=\"api_save_group _keep_wrap\"> <a aria-pressed=\"false\" class=\"btn_save _keep_trigger\" data-url=\"https://www.dt.co.kr/contents.html?article_no=2023091102109931820007&amp;ref=naver\" href=\"#\" onclick=\"tCR('a=nws*j.kep&amp;r=9&amp;i=880000AD_000000000000000002824460&amp;u=javascript'); return false;\" role=\"button\"><i class=\"spnew ico_save\">문서 저장하기</i></a> <div class=\"api_ly_save _keep_save_layer\"> <a class=\"spnew_af item item_save _keep_save\" data-cr-off=\"a=nws*j.kepoff&amp;r=9&amp;i=880000AD_000000000000000002824460&amp;u=javascript\" data-cr-on=\"a=nws*j.kepon&amp;r=9&amp;i=880000AD_000000000000000002824460&amp;u=javascript\" href=\"#\" role=\"button\">Keep에 저장</a> <a class=\"spnew_af item item_quick\" href=\"https://keep.naver.com/\" onclick=\"return goOtherCR(this,'a=nws*j.kephome&amp;r=9&amp;i=880000AD_000000000000000002824460&amp;u='+urlencode(this.href));\" target=\"_blank\">Keep 바로가기</a> </div></div><div class=\"info_group\"> <a class=\"info press\" href=\"http://www.dt.co.kr/\" onclick=\"return goOtherCR(this, 'a=nws*j.prof&amp;r=9&amp;i=880000AD_000000000000000002824460&amp;g=029.0002824460&amp;u='+urlencode(this.href));\" target=\"_blank\"><span class=\"thumb_box\"><img alt=\"\" class=\"thumb\" data-lazysrc=\"https://search.pstatic.net/common/?src=https%3A%2F%2Fmimgnews.pstatic.net%2Fimage%2Fupload%2Foffice_logo%2F029%2F2022%2F12%2F27%2Flogo_029_18_20221227125435.png&amp;type=f54_54&amp;expire=24&amp;refresh=true\" height=\"20\" onerror=\"this.src='data:image/gif;base64,R0lGODlhAQABAIAAAAAAAP///yH5BAEAAAAALAAAAAABAAEAAAIBRAA7';this.className='thumb bg_default_press'\" src=\"data:image/gif;base64,R0lGODlhAQABAIAAAAAAAP///yH5BAEAAAAALAAAAAABAAEAAAIBRAA7\" width=\"20\"/></span>디지털타임스<i class=\"spnew ico_pick\">언론사 선정</i></a><span class=\"info\"><i class=\"spnew ico_paper\"></i>13면 1단</span><span class=\"info\">11시간 전</span><a class=\"info\" href=\"https://n.news.naver.com/mnews/article/029/0002824460?sid=105\" onclick=\"return goOtherCR(this, 'a=nws*j.nav&amp;r=9&amp;i=880000AD_000000000000000002824460&amp;u='+urlencode(this.href));\" target=\"_blank\">네이버뉴스</a> </div></div><a class=\"news_tit\" href=\"https://www.dt.co.kr/contents.html?article_no=2023091102109931820007&amp;ref=naver\" onclick=\"return goOtherCR(this, 'a=nws*j.tit&amp;r=9&amp;i=880000AD_000000000000000002824460&amp;g=029.0002824460&amp;u='+urlencode(this.href));\" target=\"_blank\" title=\"경력직 개발자가 가장 선호하는 국내 IT 기업은?\">경력직 개발자가 가장 선호하는 국내 IT 기업은?</a> <div class=\"news_dsc\"> <div class=\"dsc_wrap\"> <a class=\"api_txt_lines dsc_txt_wrap\" href=\"https://www.dt.co.kr/contents.html?article_no=2023091102109931820007&amp;ref=naver\" onclick=\"return goOtherCR(this, 'a=nws*j.body&amp;r=9&amp;i=880000AD_000000000000000002824460&amp;g=029.0002824460&amp;u='+urlencode(this.href));\" target=\"_blank\">네이버 32% 차지…<mark>토스</mark>·카카오順 경력직 개발자가 선호하는 국내 IT(정보기술) 기업 1위는 네이버인 것으로... 그 다음은 <mark>토스</mark>(14%), 카카오(10%), 라인플러스(7%), 당근마켓(7%), 배달의민족(6%), 쿠팡(3%) 순이었다. 제조업...</a> </div></div></div><a class=\"dsc_thumb\" href=\"https://www.dt.co.kr/contents.html?article_no=2023091102109931820007&amp;ref=naver\" onclick=\"return goOtherCR(this, 'a=nws*j.img&amp;r=9&amp;i=880000AD_000000000000000002824460&amp;g=029.0002824460&amp;u='+urlencode(this.href));\" target=\"_blank\"><img alt=\"경력직 개발자가 가장\" class=\"thumb api_get\" data-lazysrc=\"https://search.pstatic.net/common/?src=https%3A%2F%2Fimgnews.pstatic.net%2Fimage%2Forigin%2F029%2F2023%2F09%2F11%2F2824460.jpg&amp;type=ff264_180&amp;expire=2&amp;refresh=true\" height=\"90\" onerror=\"this.parentNode.style.display='none';\" src=\"data:image/gif;base64,R0lGODlhAQABAIAAAAAAAP///yH5BAEAAAAALAAAAAABAAEAAAIBRAA7\" width=\"132\"/></a> </div></li> <li class=\"bx\" id=\"sp_nws10\"> <div class=\"news_wrap api_ani_send\"> <div class=\"news_area\"> <div class=\"news_info\"> <div class=\"api_save_group _keep_wrap\"> <a aria-pressed=\"false\" class=\"btn_save _keep_trigger\" data-url=\"https://www.etnews.com/20230911000188\" href=\"#\" onclick=\"tCR('a=nws*e.kep&amp;r=10&amp;i=880000EA_000000000000000003134823&amp;u=javascript'); return false;\" role=\"button\"><i class=\"spnew ico_save\">문서 저장하기</i></a> <div class=\"api_ly_save _keep_save_layer\"> <a class=\"spnew_af item item_save _keep_save\" data-cr-off=\"a=nws*e.kepoff&amp;r=10&amp;i=880000EA_000000000000000003134823&amp;u=javascript\" data-cr-on=\"a=nws*e.kepon&amp;r=10&amp;i=880000EA_000000000000000003134823&amp;u=javascript\" href=\"#\" role=\"button\">Keep에 저장</a> <a class=\"spnew_af item item_quick\" href=\"https://keep.naver.com/\" onclick=\"return goOtherCR(this,'a=nws*e.kephome&amp;r=10&amp;i=880000EA_000000000000000003134823&amp;u='+urlencode(this.href));\" target=\"_blank\">Keep 바로가기</a> </div></div><div class=\"info_group\"> <a class=\"info press\" href=\"http://www.etnews.com\" onclick=\"return goOtherCR(this, 'a=nws*e.prof&amp;r=10&amp;i=880000EA_000000000000000003134823&amp;g=030.0003134823&amp;u='+urlencode(this.href));\" target=\"_blank\"><span class=\"thumb_box\"><img alt=\"\" class=\"thumb\" data-lazysrc=\"https://search.pstatic.net/common/?src=https%3A%2F%2Fmimgnews.pstatic.net%2Fimage%2Fupload%2Foffice_logo%2F030%2F2017%2F01%2F05%2Flogo_030_18_20170105111205.png&amp;type=f54_54&amp;expire=24&amp;refresh=true\" height=\"20\" onerror=\"this.src='data:image/gif;base64,R0lGODlhAQABAIAAAAAAAP///yH5BAEAAAAALAAAAAABAAEAAAIBRAA7';this.className='thumb bg_default_press'\" src=\"data:image/gif;base64,R0lGODlhAQABAIAAAAAAAP///yH5BAEAAAAALAAAAAABAAEAAAIBRAA7\" width=\"20\"/></span>전자신문</a><span class=\"info\"><i class=\"spnew ico_paper\"></i>4면 3단</span><span class=\"info\">8시간 전</span><a class=\"info\" href=\"https://n.news.naver.com/mnews/article/030/0003134823?sid=101\" onclick=\"return goOtherCR(this, 'a=nws*e.nav&amp;r=10&amp;i=880000EA_000000000000000003134823&amp;u='+urlencode(this.href));\" target=\"_blank\">네이버뉴스</a> </div></div><a class=\"news_tit\" href=\"https://www.etnews.com/20230911000188\" onclick=\"return goOtherCR(this, 'a=nws*e.tit&amp;r=10&amp;i=880000EA_000000000000000003134823&amp;g=030.0003134823&amp;u='+urlencode(this.href));\" target=\"_blank\" title=\"토스, 포인트 정책 개편 예고...'짠테크족' 체감 혜택 달라지나\"><mark>토스</mark>, 포인트 정책 개편 예고...'짠테크족' 체감 혜택 달라지나</a> <div class=\"news_dsc\"> <div class=\"dsc_wrap\"> <a class=\"api_txt_lines dsc_txt_wrap\" href=\"https://www.etnews.com/20230911000188\" onclick=\"return goOtherCR(this, 'a=nws*e.body&amp;r=10&amp;i=880000EA_000000000000000003134823&amp;g=030.0003134823&amp;u='+urlencode(this.href));\" target=\"_blank\"><mark>토스</mark>가 포인트 리워드 정책 개편을 예고했다. '만보기' 서비스를 리뉴얼하고, '함께 <mark>토스</mark> 켜고 포인트 받기' 리워드 정책을 대폭 손질한다. <mark>토스</mark>는 이 달 14일부터 '만보기' 서비스를 일부 사용자를 대상으로 순차...</a> </div></div></div><a class=\"dsc_thumb\" href=\"https://www.etnews.com/20230911000188\" onclick=\"return goOtherCR(this, 'a=nws*e.img&amp;r=10&amp;i=880000EA_000000000000000003134823&amp;g=030.0003134823&amp;u='+urlencode(this.href));\" target=\"_blank\"><img alt=\"토스, 포인트 정책 개\" class=\"thumb api_get\" data-lazysrc=\"https://search.pstatic.net/common/?src=https%3A%2F%2Fimgnews.pstatic.net%2Fimage%2Forigin%2F030%2F2023%2F09%2F11%2F3134823.jpg&amp;type=ff264_180&amp;expire=2&amp;refresh=true\" height=\"90\" onerror=\"this.parentNode.style.display='none';\" src=\"data:image/gif;base64,R0lGODlhAQABAIAAAAAAAP///yH5BAEAAAAALAAAAAABAAEAAAIBRAA7\" width=\"132\"/></a> </div></li> <li class=\"bx\" id=\"sp_nws11\"> <div class=\"news_wrap api_ani_send\"> <div class=\"news_area\"> <div class=\"news_info\"> <div class=\"api_save_group _keep_wrap\"> <a aria-pressed=\"false\" class=\"btn_save _keep_trigger\" data-url=\"https://zdnet.co.kr/view/?no=20230911104033\" href=\"#\" onclick=\"tCR('a=nws*j.kep&amp;r=11&amp;i=8800011E_000000000000000002304684&amp;u=javascript'); return false;\" role=\"button\"><i class=\"spnew ico_save\">문서 저장하기</i></a> <div class=\"api_ly_save _keep_save_layer\"> <a class=\"spnew_af item item_save _keep_save\" data-cr-off=\"a=nws*j.kepoff&amp;r=11&amp;i=8800011E_000000000000000002304684&amp;u=javascript\" data-cr-on=\"a=nws*j.kepon&amp;r=11&amp;i=8800011E_000000000000000002304684&amp;u=javascript\" href=\"#\" role=\"button\">Keep에 저장</a> <a class=\"spnew_af item item_quick\" href=\"https://keep.naver.com/\" onclick=\"return goOtherCR(this,'a=nws*j.kephome&amp;r=11&amp;i=8800011E_000000000000000002304684&amp;u='+urlencode(this.href));\" target=\"_blank\">Keep 바로가기</a> </div></div><div class=\"info_group\"> <a class=\"info press\" href=\"https://zdnet.co.kr/\" onclick=\"return goOtherCR(this, 'a=nws*j.prof&amp;r=11&amp;i=8800011E_000000000000000002304684&amp;g=092.0002304684&amp;u='+urlencode(this.href));\" target=\"_blank\"><span class=\"thumb_box\"><img alt=\"\" class=\"thumb\" data-lazysrc=\"https://search.pstatic.net/common/?src=https%3A%2F%2Fmimgnews.pstatic.net%2Fimage%2Fupload%2Foffice_logo%2F092%2F2022%2F09%2F05%2Flogo_092_18_20220905090445.png&amp;type=f54_54&amp;expire=24&amp;refresh=true\" height=\"20\" onerror=\"this.src='data:image/gif;base64,R0lGODlhAQABAIAAAAAAAP///yH5BAEAAAAALAAAAAABAAEAAAIBRAA7';this.className='thumb bg_default_press'\" src=\"data:image/gif;base64,R0lGODlhAQABAIAAAAAAAP///yH5BAEAAAAALAAAAAABAAEAAAIBRAA7\" width=\"20\"/></span>지디넷코리아<i class=\"spnew ico_pick\">언론사 선정</i></a><span class=\"info\">8시간 전</span><a class=\"info\" href=\"https://n.news.naver.com/mnews/article/092/0002304684?sid=105\" onclick=\"return goOtherCR(this, 'a=nws*j.nav&amp;r=11&amp;i=8800011E_000000000000000002304684&amp;u='+urlencode(this.href));\" target=\"_blank\">네이버뉴스</a> </div></div><a class=\"news_tit\" href=\"https://zdnet.co.kr/view/?no=20230911104033\" onclick=\"return goOtherCR(this, 'a=nws*j.tit&amp;r=11&amp;i=8800011E_000000000000000002304684&amp;g=092.0002304684&amp;u='+urlencode(this.href));\" target=\"_blank\" title=\"인터넷전문은행 3사 차별화 서비스는 'OO'이다\">인터넷전문은행 3사 차별화 서비스는 'OO'이다</a> <div class=\"news_dsc\"> <div class=\"dsc_wrap\"> <a class=\"api_txt_lines dsc_txt_wrap\" href=\"https://zdnet.co.kr/view/?no=20230911104033\" onclick=\"return goOtherCR(this, 'a=nws*j.body&amp;r=11&amp;i=8800011E_000000000000000002304684&amp;g=092.0002304684&amp;u='+urlencode(this.href));\" target=\"_blank\">인터넷전문은행 3사(카카오뱅·<mark>토스</mark>뱅크·케이뱅크)가 차별화된 서비스로 고객몰이에 나서고 있다. 11일... (사진=이미지투데이) <mark>토스</mark>뱅크는 '지금 이자 받기'가 큰 흥행을 거뒀다. 지금 이자 받기 서비스는 이자...</a> </div></div></div><a class=\"dsc_thumb\" href=\"https://zdnet.co.kr/view/?no=20230911104033\" onclick=\"return goOtherCR(this, 'a=nws*j.img&amp;r=11&amp;i=8800011E_000000000000000002304684&amp;g=092.0002304684&amp;u='+urlencode(this.href));\" target=\"_blank\"><img alt=\"인터넷전문은행 3사 차\" class=\"thumb api_get\" data-lazysrc=\"https://search.pstatic.net/common/?src=https%3A%2F%2Fimgnews.pstatic.net%2Fimage%2Forigin%2F092%2F2023%2F09%2F11%2F2304684.jpg&amp;type=ff264_180&amp;expire=2&amp;refresh=true\" height=\"90\" onerror=\"this.parentNode.style.display='none';\" src=\"data:image/gif;base64,R0lGODlhAQABAIAAAAAAAP///yH5BAEAAAAALAAAAAABAAEAAAIBRAA7\" width=\"132\"/></a> </div></li> <li class=\"bx\" id=\"sp_nws12\"> <div class=\"news_wrap api_ani_send\"> <div class=\"news_area\"> <div class=\"news_info\"> <div class=\"api_save_group _keep_wrap\"> <a aria-pressed=\"false\" class=\"btn_save _keep_trigger\" data-url=\"http://www.newsis.com/view/?id=NISX20230908_0002443089&amp;cID=10403&amp;pID=15000\" href=\"#\" onclick=\"tCR('a=nws*j.kep&amp;r=12&amp;i=88000127_000000000000000012077871&amp;u=javascript'); return false;\" role=\"button\"><i class=\"spnew ico_save\">문서 저장하기</i></a> <div class=\"api_ly_save _keep_save_layer\"> <a class=\"spnew_af item item_save _keep_save\" data-cr-off=\"a=nws*j.kepoff&amp;r=12&amp;i=88000127_000000000000000012077871&amp;u=javascript\" data-cr-on=\"a=nws*j.kepon&amp;r=12&amp;i=88000127_000000000000000012077871&amp;u=javascript\" href=\"#\" role=\"button\">Keep에 저장</a> <a class=\"spnew_af item item_quick\" href=\"https://keep.naver.com/\" onclick=\"return goOtherCR(this,'a=nws*j.kephome&amp;r=12&amp;i=88000127_000000000000000012077871&amp;u='+urlencode(this.href));\" target=\"_blank\">Keep 바로가기</a> </div></div><div class=\"info_group\"> <a class=\"info press\" href=\"http://www.newsis.com\" onclick=\"return goOtherCR(this, 'a=nws*j.prof&amp;r=12&amp;i=88000127_000000000000000012077871&amp;g=003.0012077871&amp;u='+urlencode(this.href));\" target=\"_blank\"><span class=\"thumb_box\"><img alt=\"\" class=\"thumb\" data-lazysrc=\"https://search.pstatic.net/common/?src=https%3A%2F%2Fmimgnews.pstatic.net%2Fimage%2Fupload%2Foffice_logo%2F003%2F2019%2F02%2F19%2Flogo_003_18_20190219111719.jpg&amp;type=f54_54&amp;expire=24&amp;refresh=true\" height=\"20\" onerror=\"this.src='data:image/gif;base64,R0lGODlhAQABAIAAAAAAAP///yH5BAEAAAAALAAAAAABAAEAAAIBRAA7';this.className='thumb bg_default_press'\" src=\"data:image/gif;base64,R0lGODlhAQABAIAAAAAAAP///yH5BAEAAAAALAAAAAABAAEAAAIBRAA7\" width=\"20\"/></span>뉴시스<i class=\"spnew ico_pick\">언론사 선정</i></a><span class=\"info\">3일 전</span><a class=\"info\" href=\"https://n.news.naver.com/mnews/article/003/0012077871?sid=101\" onclick=\"return goOtherCR(this, 'a=nws*j.nav&amp;r=12&amp;i=88000127_000000000000000012077871&amp;u='+urlencode(this.href));\" target=\"_blank\">네이버뉴스</a> </div></div><a class=\"news_tit\" href=\"http://www.newsis.com/view/?id=NISX20230908_0002443089&amp;cID=10403&amp;pID=15000\" onclick=\"return goOtherCR(this, 'a=nws*j.tit&amp;r=12&amp;i=88000127_000000000000000012077871&amp;g=003.0012077871&amp;u='+urlencode(this.href));\" target=\"_blank\" title=\"&quot;MTS 먹통&quot;…토스증권, 올해 전산 장애 '최다'\">\"MTS 먹통\"…<mark>토스</mark>증권, 올해 전산 장애 '최다'</a> <div class=\"news_dsc\"> <div class=\"dsc_wrap\"> <a class=\"api_txt_lines dsc_txt_wrap\" href=\"http://www.newsis.com/view/?id=NISX20230908_0002443089&amp;cID=10403&amp;pID=15000\" onclick=\"return goOtherCR(this, 'a=nws*j.body&amp;r=12&amp;i=88000127_000000000000000012077871&amp;g=003.0012077871&amp;u='+urlencode(this.href));\" target=\"_blank\">매년 증권사 전산 오류 사고가 증가하고 있는 가운데 올해 가장 많은 장애가 발생한 곳은 <mark>토스</mark>증권인... 올해 들어 가장 많은 전산 오류가 발생한 증권사는 <mark>토스</mark>증권(9건)으로 지난해(14건)에 이어 장애 건수가 가장...</a> </div></div></div><a class=\"dsc_thumb\" href=\"http://www.newsis.com/view/?id=NISX20230908_0002443089&amp;cID=10403&amp;pID=15000\" onclick=\"return goOtherCR(this, 'a=nws*j.img&amp;r=12&amp;i=88000127_000000000000000012077871&amp;g=003.0012077871&amp;u='+urlencode(this.href));\" target=\"_blank\"><img alt='\"MTS 먹통\"…토스증권' class=\"thumb api_get\" data-lazysrc=\"https://search.pstatic.net/common/?src=https%3A%2F%2Fimgnews.pstatic.net%2Fimage%2Forigin%2F003%2F2023%2F09%2F08%2F12077871.jpg&amp;type=ff264_180&amp;expire=2&amp;refresh=true\" height=\"90\" onerror=\"this.parentNode.style.display='none';\" src=\"data:image/gif;base64,R0lGODlhAQABAIAAAAAAAP///yH5BAEAAAAALAAAAAABAAEAAAIBRAA7\" width=\"132\"/></a> </div></li> <li class=\"bx\" id=\"sp_nws13\"> <div class=\"news_wrap api_ani_send\"> <div class=\"news_area\"> <div class=\"news_info\"> <div class=\"api_save_group _keep_wrap\"> <a aria-pressed=\"false\" class=\"btn_save _keep_trigger\" data-url=\"https://daily.hankooki.com/news/articleView.html?idxno=996813\" href=\"#\" onclick=\"tCR('a=nws*f.kep&amp;r=13&amp;i=88155e6a_000000000000000000529424&amp;u=javascript'); return false;\" role=\"button\"><i class=\"spnew ico_save\">문서 저장하기</i></a> <div class=\"api_ly_save _keep_save_layer\"> <a class=\"spnew_af item item_save _keep_save\" data-cr-off=\"a=nws*f.kepoff&amp;r=13&amp;i=88155e6a_000000000000000000529424&amp;u=javascript\" data-cr-on=\"a=nws*f.kepon&amp;r=13&amp;i=88155e6a_000000000000000000529424&amp;u=javascript\" href=\"#\" role=\"button\">Keep에 저장</a> <a class=\"spnew_af item item_quick\" href=\"https://keep.naver.com/\" onclick=\"return goOtherCR(this,'a=nws*f.kephome&amp;r=13&amp;i=88155e6a_000000000000000000529424&amp;u='+urlencode(this.href));\" target=\"_blank\">Keep 바로가기</a> </div></div><div class=\"info_group\"> <a class=\"info press\" href=\"http://daily.hankooki.com\" onclick=\"return goOtherCR(this, 'a=nws*f.prof&amp;r=13&amp;i=88155e6a_000000000000000000529424&amp;g=5358.0000529424&amp;u='+urlencode(this.href));\" target=\"_blank\"><span class=\"thumb_box\"><img alt=\"\" class=\"thumb\" data-lazysrc=\"https://search.pstatic.net/common/?src=https%3A%2F%2Fcdn.daily.hankooki.com%2Fimage%2Flogo%2Ffavicon.ico&amp;type=f54_54&amp;expire=24&amp;refresh=true\" height=\"20\" onerror=\"this.src='data:image/gif;base64,R0lGODlhAQABAIAAAAAAAP///yH5BAEAAAAALAAAAAABAAEAAAIBRAA7';this.className='thumb bg_default_press'\" src=\"data:image/gif;base64,R0lGODlhAQABAIAAAAAAAP///yH5BAEAAAAALAAAAAABAAEAAAIBRAA7\" width=\"20\"/></span>데일리한국</a><span class=\"info\">14시간 전</span> </div></div><a class=\"news_tit\" href=\"https://daily.hankooki.com/news/articleView.html?idxno=996813\" onclick=\"return goOtherCR(this, 'a=nws*f.tit&amp;r=13&amp;i=88155e6a_000000000000000000529424&amp;g=5358.0000529424&amp;u='+urlencode(this.href));\" target=\"_blank\" title=\"[CEO리포트] 이색상품으로 MZ 돈 불려준다...'혁신 토스뱅크' 이끄는 홍민택 대표\">[CEO리포트] 이색상품으로 MZ 돈 불려준다...'혁신 <mark>토스</mark>뱅크' 이끄는 홍민택 ...</a> <div class=\"news_dsc\"> <div class=\"dsc_wrap\"> <a class=\"api_txt_lines dsc_txt_wrap\" href=\"https://daily.hankooki.com/news/articleView.html?idxno=996813\" onclick=\"return goOtherCR(this, 'a=nws*f.body&amp;r=13&amp;i=88155e6a_000000000000000000529424&amp;g=5358.0000529424&amp;u='+urlencode(this.href));\" target=\"_blank\">홍민택 <mark>토스</mark>뱅크 대표. 사진=<mark>토스</mark>뱅크 제공 인터넷은행 3사 중 가장 늦게 출범한 <mark>토스</mark>뱅크의 최근 행보가 주목을 받고 있다. 출범 3년 만에 가입자가 755만명을 넘어섰고 은행업의 기반인 여·수신의 성장도 계속되고...</a> </div></div></div><a class=\"dsc_thumb\" href=\"https://daily.hankooki.com/news/articleView.html?idxno=996813\" onclick=\"return goOtherCR(this, 'a=nws*f.img&amp;r=13&amp;i=88155e6a_000000000000000000529424&amp;g=5358.0000529424&amp;u='+urlencode(this.href));\" target=\"_blank\"><img alt=\"[CEO리포트] 이색상품\" class=\"thumb api_get\" data-lazysrc=\"https://search.pstatic.net/common/?src=https%3A%2F%2Fimgnews.pstatic.net%2Fimage%2Forigin%2F5358%2F2023%2F09%2F11%2F529424.jpg&amp;type=ofullfill264_180_gray&amp;expire=2&amp;refresh=true\" height=\"90\" onerror=\"this.parentNode.style.display='none';\" src=\"data:image/gif;base64,R0lGODlhAQABAIAAAAAAAP///yH5BAEAAAAALAAAAAABAAEAAAIBRAA7\" width=\"132\"/></a> </div></li> <li class=\"bx\" id=\"sp_nws14\"> <div class=\"news_wrap api_ani_send\"> <div class=\"news_area\"> <div class=\"news_info\"> <div class=\"api_save_group _keep_wrap\"> <a aria-pressed=\"false\" class=\"btn_save _keep_trigger\" data-url=\"https://economist.co.kr/article/view/ecn202309050009\" href=\"#\" onclick=\"tCR('a=nws*h.kep&amp;r=14&amp;i=880002EC_000000000000000000049778&amp;u=javascript'); return false;\" role=\"button\"><i class=\"spnew ico_save\">문서 저장하기</i></a> <div class=\"api_ly_save _keep_save_layer\"> <a class=\"spnew_af item item_save _keep_save\" data-cr-off=\"a=nws*h.kepoff&amp;r=14&amp;i=880002EC_000000000000000000049778&amp;u=javascript\" data-cr-on=\"a=nws*h.kepon&amp;r=14&amp;i=880002EC_000000000000000000049778&amp;u=javascript\" href=\"#\" role=\"button\">Keep에 저장</a> <a class=\"spnew_af item item_quick\" href=\"https://keep.naver.com/\" onclick=\"return goOtherCR(this,'a=nws*h.kephome&amp;r=14&amp;i=880002EC_000000000000000000049778&amp;u='+urlencode(this.href));\" target=\"_blank\">Keep 바로가기</a> </div></div><div class=\"info_group\"> <a class=\"info press\" href=\"https://jmagazine.joins.com/economist?cloc=joongang-home-jmnet\" onclick=\"return goOtherCR(this, 'a=nws*h.prof&amp;r=14&amp;i=880002EC_000000000000000000049778&amp;g=243.0000049778&amp;u='+urlencode(this.href));\" target=\"_blank\"><span class=\"thumb_box\"><img alt=\"\" class=\"thumb\" data-lazysrc=\"https://search.pstatic.net/common/?src=https%3A%2F%2Fmimgnews.pstatic.net%2Fimage%2Fupload%2Foffice_logo%2F243%2F2023%2F01%2F12%2Flogo_243_18_20230112142410.png&amp;type=f54_54&amp;expire=24&amp;refresh=true\" height=\"20\" onerror=\"this.src='data:image/gif;base64,R0lGODlhAQABAIAAAAAAAP///yH5BAEAAAAALAAAAAABAAEAAAIBRAA7';this.className='thumb bg_default_press'\" src=\"data:image/gif;base64,R0lGODlhAQABAIAAAAAAAP///yH5BAEAAAAALAAAAAABAAEAAAIBRAA7\" width=\"20\"/></span>이코노미스트<i class=\"spnew ico_pick\">언론사 선정</i></a><span class=\"info\">6일 전</span><a class=\"info\" href=\"https://n.news.naver.com/mnews/article/243/0000049778?sid=101\" onclick=\"return goOtherCR(this, 'a=nws*h.nav&amp;r=14&amp;i=880002EC_000000000000000000049778&amp;u='+urlencode(this.href));\" target=\"_blank\">네이버뉴스</a> </div></div><a class=\"news_tit\" href=\"https://economist.co.kr/article/view/ecn202309050009\" onclick=\"return goOtherCR(this, 'a=nws*h.tit&amp;r=14&amp;i=880002EC_000000000000000000049778&amp;g=243.0000049778&amp;u='+urlencode(this.href));\" target=\"_blank\" title=\"토스뱅크, 전월세대출 출시 “금리는 최저 연 3.32%”\"><mark>토스</mark>뱅크, 전월세대출 출시 “금리는 최저 연 3.32%”</a> <div class=\"news_dsc\"> <div class=\"dsc_wrap\"> <a class=\"api_txt_lines dsc_txt_wrap\" href=\"https://economist.co.kr/article/view/ecn202309050009\" onclick=\"return goOtherCR(this, 'a=nws*h.body&amp;r=14&amp;i=880002EC_000000000000000000049778&amp;g=243.0000049778&amp;u='+urlencode(this.href));\" target=\"_blank\"><mark>토스</mark>뱅크가 전월세보증금 대출을 선보인다. 비대면으로 전세보증금반환보증까지 원스톱으로 신청 가능한... 5일 <mark>토스</mark>뱅크가 선보이는 전월세보증금대출은 ‘전세지킴보증’, ‘등기변동알림’, ‘다자녀 특례 대출’ 등...</a> </div></div></div><a class=\"dsc_thumb\" href=\"https://economist.co.kr/article/view/ecn202309050009\" onclick=\"return goOtherCR(this, 'a=nws*h.img&amp;r=14&amp;i=880002EC_000000000000000000049778&amp;g=243.0000049778&amp;u='+urlencode(this.href));\" target=\"_blank\"><img alt=\"토스뱅크, 전월세대출\" class=\"thumb api_get\" data-lazysrc=\"https://search.pstatic.net/common/?src=https%3A%2F%2Fimgnews.pstatic.net%2Fimage%2Forigin%2F243%2F2023%2F09%2F05%2F49778.jpg&amp;type=ff264_180&amp;expire=2&amp;refresh=true\" height=\"90\" onerror=\"this.parentNode.style.display='none';\" src=\"data:image/gif;base64,R0lGODlhAQABAIAAAAAAAP///yH5BAEAAAAALAAAAAABAAEAAAIBRAA7\" width=\"132\"/></a> </div><div class=\"news_cluster\"> <ul class=\"list_cluster\"> <li class=\"sub_bx\"> <span class=\"sub_wrap\"> <span class=\"sub_area\"> <cite class=\"sub_txt press\" title=\"블로터\">블로터<i class=\"spnew ico_pick\">언론사 선정</i></cite><span class=\"sub_txt\">6일 전</span><a class=\"sub_txt\" href=\"https://n.news.naver.com/mnews/article/293/0000047404?sid=101\" onclick=\"return goOtherCR(this, 'a=nws*i.nav&amp;r=15&amp;i=880003A5_000000000000000000047404&amp;u='+urlencode(this.href));\" target=\"_blank\">네이버뉴스</a> </span><a class=\"elss sub_tit\" href=\"https://www.bloter.net/news/articleView.html?idxno=606075\" onclick=\"return goOtherCR(this, 'a=nws*i.tit&amp;r=15&amp;i=880003A5_000000000000000000047404&amp;g=293.0000047404&amp;u='+urlencode(this.href));\" target=\"_blank\" title=\"토스뱅크서 전월세 보증금 대출받고 보증보험까지 한번에\"><mark>토스</mark>뱅크서 전월세 보증금 대출받고 보증보험까지 한번에</a> </span> </li> <li class=\"sub_bx\"> <span class=\"sub_wrap\"> <span class=\"sub_area\"> <cite class=\"sub_txt press\" title=\"이데일리\">이데일리</cite><span class=\"sub_txt\">6일 전</span><a class=\"sub_txt\" href=\"https://n.news.naver.com/mnews/article/018/0005567495?sid=101\" onclick=\"return goOtherCR(this, 'a=nws*c.nav&amp;r=16&amp;i=880000E7_000000000000000005567495&amp;u='+urlencode(this.href));\" target=\"_blank\">네이버뉴스</a> </span><a class=\"elss sub_tit\" href=\"http://www.edaily.co.kr/news/newspath.asp?newsid=01849926635737168\" onclick=\"return goOtherCR(this, 'a=nws*c.tit&amp;r=16&amp;i=880000E7_000000000000000005567495&amp;g=018.0005567495&amp;u='+urlencode(this.href));\" target=\"_blank\" title=\"대출 라인업 확대 나선 토스뱅크, 전월세보증금 대출 출시\">대출 라인업 확대 나선 <mark>토스</mark>뱅크, 전월세보증금 대출 출시</a> </span></li> <li class=\"sub_bx\"> <span class=\"sub_wrap\"> <span class=\"sub_area\"> <cite class=\"sub_txt press\" title=\"데일리안\">데일리안<i class=\"spnew ico_pick\">언론사 선정</i></cite><span class=\"sub_txt\">6일 전</span><a class=\"sub_txt\" href=\"https://n.news.naver.com/mnews/article/119/0002746042?sid=101\" onclick=\"return goOtherCR(this, 'a=nws*i.nav&amp;r=17&amp;i=8812A0A8_000000000000000002746042&amp;u='+urlencode(this.href));\" target=\"_blank\">네이버뉴스</a> </span><a class=\"elss sub_tit\" href=\"https://www.dailian.co.kr/news/view/1269927/?sc=Naver\" onclick=\"return goOtherCR(this, 'a=nws*i.tit&amp;r=17&amp;i=8812A0A8_000000000000000002746042&amp;g=119.0002746042&amp;u='+urlencode(this.href));\" target=\"_blank\" title=\"토스뱅크, 전세사기 막는 보증금대출 출시…최저 금리 3.32%\"><mark>토스</mark>뱅크, 전세사기 막는 보증금대출 출시…최저 금리 3.32%</a> </span></li> <li class=\"sub_bx\"> <span class=\"sub_wrap\"> <span class=\"sub_area\"> <cite class=\"sub_txt press\" title=\"머니S\">머니S<i class=\"spnew ico_pick\">언론사 선정</i></cite><span class=\"sub_txt\">6일 전</span><a class=\"sub_txt\" href=\"https://n.news.naver.com/mnews/article/417/0000946627?sid=101\" onclick=\"return goOtherCR(this, 'a=nws*i.nav&amp;r=18&amp;i=8812805E_000000000000000000946627&amp;u='+urlencode(this.href));\" target=\"_blank\">네이버뉴스</a> </span><a class=\"elss sub_tit\" href=\"http://moneys.mt.co.kr/news/mwView.php?no=2023090509052672267\" onclick=\"return goOtherCR(this, 'a=nws*i.tit&amp;r=18&amp;i=8812805E_000000000000000000946627&amp;g=417.0000946627&amp;u='+urlencode(this.href));\" target=\"_blank\" title='\"보증금 걱정 끝\" 토스뱅크, 비대면 보증 전월세대출 내놨다'>\"보증금 걱정 끝\" <mark>토스</mark>뱅크, 비대면 보증 전월세대출 내놨다</a> </span></li> </ul></div></li> <li class=\"bx\" id=\"sp_nws19\"> <div class=\"news_wrap api_ani_send\"> <div class=\"news_area\"> <div class=\"news_info\"> <div class=\"api_save_group _keep_wrap\"> <a aria-pressed=\"false\" class=\"btn_save _keep_trigger\" data-url=\"http://www.inews24.com/view/1629685\" href=\"#\" onclick=\"tCR('a=nws*h.kep&amp;r=19&amp;i=880000D6_000000000000000000770589&amp;u=javascript'); return false;\" role=\"button\"><i class=\"spnew ico_save\">문서 저장하기</i></a> <div class=\"api_ly_save _keep_save_layer\"> <a class=\"spnew_af item item_save _keep_save\" data-cr-off=\"a=nws*h.kepoff&amp;r=19&amp;i=880000D6_000000000000000000770589&amp;u=javascript\" data-cr-on=\"a=nws*h.kepon&amp;r=19&amp;i=880000D6_000000000000000000770589&amp;u=javascript\" href=\"#\" role=\"button\">Keep에 저장</a> <a class=\"spnew_af item item_quick\" href=\"https://keep.naver.com/\" onclick=\"return goOtherCR(this,'a=nws*h.kephome&amp;r=19&amp;i=880000D6_000000000000000000770589&amp;u='+urlencode(this.href));\" target=\"_blank\">Keep 바로가기</a> </div></div><div class=\"info_group\"> <a class=\"info press\" href=\"http://www.inews24.com/\" onclick=\"return goOtherCR(this, 'a=nws*h.prof&amp;r=19&amp;i=880000D6_000000000000000000770589&amp;g=031.0000770589&amp;u='+urlencode(this.href));\" target=\"_blank\"><span class=\"thumb_box\"><img alt=\"\" class=\"thumb\" data-lazysrc=\"https://search.pstatic.net/common/?src=https%3A%2F%2Fmimgnews.pstatic.net%2Fimage%2Fupload%2Foffice_logo%2F031%2F2020%2F11%2F27%2Flogo_031_18_20201127143830.jpg&amp;type=f54_54&amp;expire=24&amp;refresh=true\" height=\"20\" onerror=\"this.src='data:image/gif;base64,R0lGODlhAQABAIAAAAAAAP///yH5BAEAAAAALAAAAAABAAEAAAIBRAA7';this.className='thumb bg_default_press'\" src=\"data:image/gif;base64,R0lGODlhAQABAIAAAAAAAP///yH5BAEAAAAALAAAAAABAAEAAAIBRAA7\" width=\"20\"/></span>아이뉴스24<i class=\"spnew ico_pick\">언론사 선정</i></a><span class=\"info\">6일 전</span><a class=\"info\" href=\"https://n.news.naver.com/mnews/article/031/0000770589?sid=101\" onclick=\"return goOtherCR(this, 'a=nws*h.nav&amp;r=19&amp;i=880000D6_000000000000000000770589&amp;u='+urlencode(this.href));\" target=\"_blank\">네이버뉴스</a> </div></div><a class=\"news_tit\" href=\"http://www.inews24.com/view/1629685\" onclick=\"return goOtherCR(this, 'a=nws*h.tit&amp;r=19&amp;i=880000D6_000000000000000000770589&amp;g=031.0000770589&amp;u='+urlencode(this.href));\" target=\"_blank\" title=\"토스뱅크, 연 3%대로 전월세대출…보증금 88% 보증\"><mark>토스</mark>뱅크, 연 3%대로 전월세대출…보증금 88% 보증</a> <div class=\"news_dsc\"> <div class=\"dsc_wrap\"> <a class=\"api_txt_lines dsc_txt_wrap\" href=\"http://www.inews24.com/view/1629685\" onclick=\"return goOtherCR(this, 'a=nws*h.body&amp;r=19&amp;i=880000D6_000000000000000000770589&amp;g=031.0000770589&amp;u='+urlencode(this.href));\" target=\"_blank\"><mark>토스</mark>뱅크가 연 최저 3%대의 전월세 대출을 내놨다. 은행권 최초로 보증금을 80% 이상 보증하고, 보증료율도 다른 은행의 6분의 1 수준까지 낮췄다. <mark>토스</mark>뱅크는 5일 \"일반과 다자녀 고객은 최대 2억원까지 이날 기준 3.42~4....</a> </div></div></div><a class=\"dsc_thumb\" href=\"http://www.inews24.com/view/1629685\" onclick=\"return goOtherCR(this, 'a=nws*h.img&amp;r=19&amp;i=880000D6_000000000000000000770589&amp;g=031.0000770589&amp;u='+urlencode(this.href));\" target=\"_blank\"><img alt=\"토스뱅크, 연 3%대로 \" class=\"thumb api_get\" data-lazysrc=\"https://search.pstatic.net/common/?src=https%3A%2F%2Fimgnews.pstatic.net%2Fimage%2Forigin%2F031%2F2023%2F09%2F05%2F770589.jpg&amp;type=ff264_180&amp;expire=2&amp;refresh=true\" height=\"90\" onerror=\"this.parentNode.style.display='none';\" src=\"data:image/gif;base64,R0lGODlhAQABAIAAAAAAAP///yH5BAEAAAAALAAAAAABAAEAAAIBRAA7\" width=\"132\"/></a> </div><div class=\"news_cluster\"> <ul class=\"list_cluster\"> <li class=\"sub_bx\"> <span class=\"sub_wrap\"> <span class=\"sub_area\"> <cite class=\"sub_txt press\" title=\"지디넷코리아\">지디넷코리아<i class=\"spnew ico_pick\">언론사 선정</i></cite><span class=\"sub_txt\">6일 전</span><a class=\"sub_txt\" href=\"https://n.news.naver.com/mnews/article/092/0002304047?sid=105\" onclick=\"return goOtherCR(this, 'a=nws*i.nav&amp;r=20&amp;i=8800011E_000000000000000002304047&amp;u='+urlencode(this.href));\" target=\"_blank\">네이버뉴스</a> </span><a class=\"elss sub_tit\" href=\"https://zdnet.co.kr/view/?no=20230905102044\" onclick=\"return goOtherCR(this, 'a=nws*i.tit&amp;r=20&amp;i=8800011E_000000000000000002304047&amp;g=092.0002304047&amp;u='+urlencode(this.href));\" target=\"_blank\" title=\"토스뱅크 '전세패키지' 내놨다\"><mark>토스</mark>뱅크 '전세패키지' 내놨다</a> </span></li> <li class=\"sub_bx\"> <span class=\"sub_wrap\"> <span class=\"sub_area\"> <cite class=\"sub_txt press\" title=\"아시아경제\">아시아경제<i class=\"spnew ico_pick\">언론사 선정</i></cite><span class=\"sub_txt\">6일 전</span><a class=\"sub_txt\" href=\"https://n.news.naver.com/mnews/article/277/0005309736?sid=101\" onclick=\"return goOtherCR(this, 'a=nws*i.nav&amp;r=21&amp;i=88000385_000000000000000005309736&amp;u='+urlencode(this.href));\" target=\"_blank\">네이버뉴스</a> </span><a class=\"elss sub_tit\" href=\"https://view.asiae.co.kr/article/2023090514001786032\" onclick=\"return goOtherCR(this, 'a=nws*i.tit&amp;r=21&amp;i=88000385_000000000000000005309736&amp;g=277.0005309736&amp;u='+urlencode(this.href));\" target=\"_blank\" title=\"영역 확장 나선 토스뱅크, 전월세대출 출시…최저 연 3.32%(종합)\">영역 확장 나선 <mark>토스</mark>뱅크, 전월세대출 출시…최저 연 3.32%(종합)</a> </span></li> <li class=\"sub_bx\"> <span class=\"sub_wrap\"> <span class=\"sub_area\"> <cite class=\"sub_txt press\" title=\"아이뉴스24\">아이뉴스24<i class=\"spnew ico_pick\">언론사 선정</i></cite><span class=\"sub_txt\">6일 전</span><a class=\"sub_txt\" href=\"https://n.news.naver.com/mnews/article/031/0000770591?sid=101\" onclick=\"return goOtherCR(this, 'a=nws*i.nav&amp;r=22&amp;i=880000D6_000000000000000000770591&amp;u='+urlencode(this.href));\" target=\"_blank\">네이버뉴스</a> </span><a class=\"elss sub_tit\" href=\"http://www.inews24.com/view/1629689\" onclick=\"return goOtherCR(this, 'a=nws*i.tit&amp;r=22&amp;i=880000D6_000000000000000000770591&amp;g=031.0000770591&amp;u='+urlencode(this.href));\" target=\"_blank\" title='홍민택 토스뱅크 대표 \"2030 청년 거주 문제 해결\"'>홍민택 <mark>토스</mark>뱅크 대표 \"2030 청년 거주 문제 해결\"</a> </span></li> <li class=\"sub_bx\"> <span class=\"sub_wrap\"> <span class=\"sub_area\"> <cite class=\"sub_txt press\" title=\"뉴시스\">뉴시스</cite><span class=\"sub_txt\">6일 전</span><a class=\"sub_txt\" href=\"https://n.news.naver.com/mnews/article/003/0012069700?sid=101\" onclick=\"return goOtherCR(this, 'a=nws*c.nav&amp;r=23&amp;i=88000127_000000000000000012069700&amp;u='+urlencode(this.href));\" target=\"_blank\">네이버뉴스</a> </span><a class=\"elss sub_tit\" href=\"http://www.newsis.com/view/?id=NISX20230905_0002438139&amp;cID=15003&amp;pID=15000\" onclick=\"return goOtherCR(this, 'a=nws*c.tit&amp;r=23&amp;i=88000127_000000000000000012069700&amp;g=003.0012069700&amp;u='+urlencode(this.href));\" target=\"_blank\" title=\"토스뱅크, 전월세보증금대출 출시…반환보증까지 원스톱\"><mark>토스</mark>뱅크, 전월세보증금대출 출시…반환보증까지 원스톱</a> </span></li> </ul></div><a class=\"news_more\" href=\"?where=news&amp;sm=tab_tnw&amp;query=%ED%86%A0%EC%8A%A4&amp;sort=0&amp;photo=0&amp;field=0&amp;pd=0&amp;ds=&amp;de=&amp;mynews=0&amp;office_type=0&amp;office_section_code=0&amp;news_office_checked=&amp;related=1&amp;docid=0310000770589&amp;office_category=0&amp;service_area=0&amp;nso=so:r,p:all,a:all\" onclick=\"return goOtherCR(this, 'a=nws*r.more&amp;u='+urlencode(urlexpand(this.href)));\">관련뉴스 11건 전체보기<i class=\"spnew ico_arrow\"></i></a> </li> <li class=\"bx\" id=\"sp_nws24\"> <div class=\"news_wrap api_ani_send\"> <div class=\"news_area\"> <div class=\"news_info\"> <div class=\"api_save_group _keep_wrap\"> <a aria-pressed=\"false\" class=\"btn_save _keep_trigger\" data-url=\"https://www.hankyung.com/article/202309070379i\" href=\"#\" onclick=\"tCR('a=nws*a.kep&amp;r=24&amp;i=88000107_000000000000000004888840&amp;u=javascript'); return false;\" role=\"button\"><i class=\"spnew ico_save\">문서 저장하기</i></a> <div class=\"api_ly_save _keep_save_layer\"> <a class=\"spnew_af item item_save _keep_save\" data-cr-off=\"a=nws*a.kepoff&amp;r=24&amp;i=88000107_000000000000000004888840&amp;u=javascript\" data-cr-on=\"a=nws*a.kepon&amp;r=24&amp;i=88000107_000000000000000004888840&amp;u=javascript\" href=\"#\" role=\"button\">Keep에 저장</a> <a class=\"spnew_af item item_quick\" href=\"https://keep.naver.com/\" onclick=\"return goOtherCR(this,'a=nws*a.kephome&amp;r=24&amp;i=88000107_000000000000000004888840&amp;u='+urlencode(this.href));\" target=\"_blank\">Keep 바로가기</a> </div></div><div class=\"info_group\"> <a class=\"info press\" href=\"http://www.hankyung.com/\" onclick=\"return goOtherCR(this, 'a=nws*a.prof&amp;r=24&amp;i=88000107_000000000000000004888840&amp;g=015.0004888840&amp;u='+urlencode(this.href));\" target=\"_blank\"><span class=\"thumb_box\"><img alt=\"\" class=\"thumb\" data-lazysrc=\"https://search.pstatic.net/common/?src=https%3A%2F%2Fmimgnews.pstatic.net%2Fimage%2Fupload%2Foffice_logo%2F015%2F2018%2F08%2F01%2Flogo_015_18_20180801163901.png&amp;type=f54_54&amp;expire=24&amp;refresh=true\" height=\"20\" onerror=\"this.src='data:image/gif;base64,R0lGODlhAQABAIAAAAAAAP///yH5BAEAAAAALAAAAAABAAEAAAIBRAA7';this.className='thumb bg_default_press'\" src=\"data:image/gif;base64,R0lGODlhAQABAIAAAAAAAP///yH5BAEAAAAALAAAAAABAAEAAAIBRAA7\" width=\"20\"/></span>한국경제</a><span class=\"info\">4일 전</span><a class=\"info\" href=\"https://n.news.naver.com/mnews/article/015/0004888840?sid=101\" onclick=\"return goOtherCR(this, 'a=nws*a.nav&amp;r=24&amp;i=88000107_000000000000000004888840&amp;u='+urlencode(this.href));\" target=\"_blank\">네이버뉴스</a> </div></div><a class=\"news_tit\" href=\"https://www.hankyung.com/article/202309070379i\" onclick=\"return goOtherCR(this, 'a=nws*a.tit&amp;r=24&amp;i=88000107_000000000000000004888840&amp;g=015.0004888840&amp;u='+urlencode(this.href));\" target=\"_blank\" title=\"토스뱅크, '목돈 굴리기'에서 삼성증권 판매 채권 소개 개시\"><mark>토스</mark>뱅크, '목돈 굴리기'에서 삼성증권 판매 채권 소개 개시</a> <div class=\"news_dsc\"> <div class=\"dsc_wrap\"> <a class=\"api_txt_lines dsc_txt_wrap\" href=\"https://www.hankyung.com/article/202309070379i\" onclick=\"return goOtherCR(this, 'a=nws*a.body&amp;r=24&amp;i=88000107_000000000000000004888840&amp;g=015.0004888840&amp;u='+urlencode(this.href));\" target=\"_blank\"><mark>토스</mark>뱅크는 ‘목돈 굴리기’ 서비스에서 삼성증권 계좌 개설 서비스를 시작하는 동시에 삼성증권에서 판매... ‘목돈 굴리기’ 서비스는 <mark>토스</mark>뱅크가 시장 내 경쟁력 있는 상품을 자체 선별해 소개하는 서비스로, 국내...</a> </div></div></div><a class=\"dsc_thumb\" href=\"https://www.hankyung.com/article/202309070379i\" onclick=\"return goOtherCR(this, 'a=nws*a.img&amp;r=24&amp;i=88000107_000000000000000004888840&amp;g=015.0004888840&amp;u='+urlencode(this.href));\" target=\"_blank\"><img alt=\"토스뱅크, ‘목돈 굴리\" class=\"thumb api_get\" data-lazysrc=\"https://search.pstatic.net/common/?src=https%3A%2F%2Fimgnews.pstatic.net%2Fimage%2Forigin%2F015%2F2023%2F09%2F07%2F4888840.jpg&amp;type=ff264_180&amp;expire=2&amp;refresh=true\" height=\"90\" onerror=\"this.parentNode.style.display='none';\" src=\"data:image/gif;base64,R0lGODlhAQABAIAAAAAAAP///yH5BAEAAAAALAAAAAABAAEAAAIBRAA7\" width=\"132\"/></a> </div><div class=\"news_cluster\"> <ul class=\"list_cluster\"> <li class=\"sub_bx\"> <span class=\"sub_wrap\"> <span class=\"sub_area\"> <cite class=\"sub_txt press\" title=\"뉴시스\">뉴시스</cite><span class=\"sub_txt\">4일 전</span><a class=\"sub_txt\" href=\"https://n.news.naver.com/mnews/article/003/0012075171?sid=101\" onclick=\"return goOtherCR(this, 'a=nws*c.nav&amp;r=25&amp;i=88000127_000000000000000012075171&amp;u='+urlencode(this.href));\" target=\"_blank\">네이버뉴스</a> </span><a class=\"elss sub_tit\" href=\"http://www.newsis.com/view/?id=NISX20230907_0002441455&amp;cID=15003&amp;pID=15000\" onclick=\"return goOtherCR(this, 'a=nws*c.tit&amp;r=25&amp;i=88000127_000000000000000012075171&amp;g=003.0012075171&amp;u='+urlencode(this.href));\" target=\"_blank\" title=\"토스뱅크, '목돈 굴리기'에서 삼성증권 채권상품 소개\"><mark>토스</mark>뱅크, '목돈 굴리기'에서 삼성증권 채권상품 소개</a> </span></li> <li class=\"sub_bx\"> <span class=\"sub_wrap\"> <span class=\"sub_area\"> <cite class=\"sub_txt press\" title=\"조선비즈\">조선비즈</cite><span class=\"sub_txt\">4일 전</span><a class=\"sub_txt\" href=\"https://n.news.naver.com/mnews/article/366/0000930130?sid=101\" onclick=\"return goOtherCR(this, 'a=nws*c.nav&amp;r=26&amp;i=88127058_000000000000000000930130&amp;u='+urlencode(this.href));\" target=\"_blank\">네이버뉴스</a> </span><a class=\"elss sub_tit\" href=\"https://biz.chosun.com/stock/finance/2023/09/07/I53LXI3ROFAWHNTXL7QLR7MSQY/?utm_source=naver&amp;utm_medium=original&amp;utm_campaign=biz\" onclick=\"return goOtherCR(this, 'a=nws*c.tit&amp;r=26&amp;i=88127058_000000000000000000930130&amp;g=366.0000930130&amp;u='+urlencode(this.href));\" target=\"_blank\" title=\"토스뱅크, 목돈 굴리기에서 삼성증권 채권상품 소개 개시\"><mark>토스</mark>뱅크, 목돈 굴리기에서 삼성증권 채권상품 소개 개시</a> </span></li> <li class=\"sub_bx\"> <span class=\"sub_wrap\"> <span class=\"sub_area\"> <cite class=\"sub_txt press\" title=\"부산일보\">부산일보</cite><span class=\"sub_txt\">4일 전</span><a class=\"sub_txt\" href=\"https://n.news.naver.com/mnews/article/082/0001231106?sid=101\" onclick=\"return goOtherCR(this, 'a=nws*c.nav&amp;r=27&amp;i=880000CE_000000000000000001231106&amp;u='+urlencode(this.href));\" target=\"_blank\">네이버뉴스</a> </span><a class=\"elss sub_tit\" href=\"https://www.busan.com/view/busan/view.php?code=2023090714353547578\" onclick=\"return goOtherCR(this, 'a=nws*c.tit&amp;r=27&amp;i=880000CE_000000000000000001231106&amp;g=082.0001231106&amp;u='+urlencode(this.href));\" target=\"_blank\" title=\"토스뱅크, ‘목돈 굴리기’에 삼성증권 추가\"><mark>토스</mark>뱅크, ‘목돈 굴리기’에 삼성증권 추가</a> </span></li> <li class=\"sub_bx\"> <span class=\"sub_wrap\"> <span class=\"sub_area\"> <cite class=\"sub_txt press\" title=\"아시아경제\">아시아경제</cite><span class=\"sub_txt\">4일 전</span><a class=\"sub_txt\" href=\"https://n.news.naver.com/mnews/article/277/0005310799?sid=101\" onclick=\"return goOtherCR(this, 'a=nws*c.nav&amp;r=28&amp;i=88000385_000000000000000005310799&amp;u='+urlencode(this.href));\" target=\"_blank\">네이버뉴스</a> </span><a class=\"elss sub_tit\" href=\"https://view.asiae.co.kr/article/2023090710352349107\" onclick=\"return goOtherCR(this, 'a=nws*c.tit&amp;r=28&amp;i=88000385_000000000000000005310799&amp;g=277.0005310799&amp;u='+urlencode(this.href));\" target=\"_blank\" title=\"토스뱅크 ‘목돈 굴리기’ 제휴사에 삼성증권 추가\"><mark>토스</mark>뱅크 ‘목돈 굴리기’ 제휴사에 삼성증권 추가</a> </span></li> </ul></div><a class=\"news_more\" href=\"?where=news&amp;sm=tab_tnw&amp;query=%ED%86%A0%EC%8A%A4&amp;sort=0&amp;photo=0&amp;field=0&amp;pd=0&amp;ds=&amp;de=&amp;mynews=0&amp;office_type=0&amp;office_section_code=0&amp;news_office_checked=&amp;related=1&amp;docid=0150004888840&amp;office_category=0&amp;service_area=0&amp;nso=so:r,p:all,a:all\" onclick=\"return goOtherCR(this, 'a=nws*r.more&amp;u='+urlencode(urlexpand(this.href)));\">관련뉴스 11건 전체보기<i class=\"spnew ico_arrow\"></i></a> </li> </ul> </div>]\n"
     ]
    }
   ],
   "source": [
    "b = soup.find_all('div','group_news')\n",
    "print(b)"
   ]
  },
  {
   "cell_type": "code",
   "execution_count": 6,
   "id": "6bd4b862-dc48-40e1-b50e-b9198e499453",
   "metadata": {},
   "outputs": [
    {
     "data": {
      "text/plain": [
       "[\"'주담대 블랙홀' 된 인터넷은행…카카오뱅크 2개월간 2조원 불어\",\n",
       " '토스 행운퀴즈 정답 9월 11일',\n",
       " '경력직 개발자가 가장 선호하는 국내 IT 기업은?',\n",
       " \"토스, 포인트 정책 개편 예고...'짠테크족' 체감 혜택 달라지나\",\n",
       " \"인터넷전문은행 3사 차별화 서비스는 'OO'이다\",\n",
       " '\"MTS 먹통\"…토스증권, 올해 전산 장애 \\'최다\\'',\n",
       " \"[CEO리포트] 이색상품으로 MZ 돈 불려준다...'혁신 토스뱅크' 이끄는 홍민택 ...\",\n",
       " '토스뱅크, 전월세대출 출시 “금리는 최저 연 3.32%”',\n",
       " '토스뱅크, 연 3%대로 전월세대출…보증금 88% 보증',\n",
       " \"토스뱅크, '목돈 굴리기'에서 삼성증권 판매 채권 소개 개시\",\n",
       " \"'주담대 블랙홀' 된 인터넷은행…카카오뱅크 2개월간 2조원 불어\",\n",
       " '토스 행운퀴즈 정답 9월 11일',\n",
       " '경력직 개발자가 가장 선호하는 국내 IT 기업은?',\n",
       " \"토스, 포인트 정책 개편 예고...'짠테크족' 체감 혜택 달라지나\",\n",
       " \"인터넷전문은행 3사 차별화 서비스는 'OO'이다\",\n",
       " '\"MTS 먹통\"…토스증권, 올해 전산 장애 \\'최다\\'',\n",
       " \"[CEO리포트] 이색상품으로 MZ 돈 불려준다...'혁신 토스뱅크' 이끄는 홍민택 ...\",\n",
       " '토스뱅크, 전월세대출 출시 “금리는 최저 연 3.32%”',\n",
       " '토스뱅크, 연 3%대로 전월세대출…보증금 88% 보증',\n",
       " \"토스뱅크, '목돈 굴리기'에서 삼성증권 판매 채권 소개 개시\",\n",
       " \"'주담대 블랙홀' 된 인터넷은행…카카오뱅크 2개월간 2조원 불어\",\n",
       " '토스 행운퀴즈 정답 9월 11일',\n",
       " '경력직 개발자가 가장 선호하는 국내 IT 기업은?',\n",
       " \"토스, 포인트 정책 개편 예고...'짠테크족' 체감 혜택 달라지나\",\n",
       " \"인터넷전문은행 3사 차별화 서비스는 'OO'이다\",\n",
       " '\"MTS 먹통\"…토스증권, 올해 전산 장애 \\'최다\\'',\n",
       " \"[CEO리포트] 이색상품으로 MZ 돈 불려준다...'혁신 토스뱅크' 이끄는 홍민택 ...\",\n",
       " '토스뱅크, 전월세대출 출시 “금리는 최저 연 3.32%”',\n",
       " '토스뱅크, 연 3%대로 전월세대출…보증금 88% 보증',\n",
       " \"토스뱅크, '목돈 굴리기'에서 삼성증권 판매 채권 소개 개시\"]"
      ]
     },
     "execution_count": 6,
     "metadata": {},
     "output_type": "execute_result"
    }
   ],
   "source": [
    "title = []\n",
    "\n",
    "for i in soup.find('div','group_news'):\n",
    "    result = soup.find_all('a','news_tit')\n",
    "    for r in result:\n",
    "        title.append(r.get_text())\n",
    "title"
   ]
  },
  {
   "cell_type": "markdown",
   "id": "2523370a-920b-4c17-873a-67edaafe8ca0",
   "metadata": {},
   "source": [
    "# selenium\n",
    "- selenium 이용해서 다음페이지 클릭하면서 뉴스 타이틀 가져오기"
   ]
  },
  {
   "cell_type": "code",
   "execution_count": 7,
   "id": "ed524487-bab6-4497-b0e5-f71cf912092f",
   "metadata": {},
   "outputs": [],
   "source": [
    "from selenium import webdriver\n",
    "from selenium.webdriver.chrome.service import Service\n",
    "from webdriver_manager.chrome import ChromeDriverManager\n",
    "from selenium.webdriver.common.by import By\n",
    "from time import time\n",
    "from time import sleep"
   ]
  },
  {
   "cell_type": "code",
   "execution_count": 8,
   "id": "8e2e5bc2-c9a7-4e0f-8909-877306b45d18",
   "metadata": {},
   "outputs": [],
   "source": [
    "# 완전히 로드되는건 안기다리고 빨리 다음화면으로 넘어가기\n",
    "from selenium.webdriver.common.desired_capabilities import DesiredCapabilities\n",
    "\n",
    "caps = DesiredCapabilities().CHROME\n",
    "caps[\"pageLoadStrategy\"] = \"none\" # 원래 default는 caps[\"pageLoadStrategy\"] = \"normal\""
   ]
  },
  {
   "cell_type": "code",
   "execution_count": 9,
   "id": "253064c6-244c-4b62-bb9a-352c53b2c5ab",
   "metadata": {},
   "outputs": [],
   "source": [
    "chrome_options = webdriver.ChromeOptions()\n",
    "driver = webdriver.Chrome(service=Service(ChromeDriverManager().install()),options=chrome_options)"
   ]
  },
  {
   "cell_type": "raw",
   "id": "77a4f303-a773-4a2d-a071-d447bf358c7c",
   "metadata": {},
   "source": [
    "# 이런식으로 검색어 입력한 창을 바로 URL로 넣어서도 가능\n",
    "url = 'https://search.naver.com/search.naver?where=news&query=%ED%86%A0%EC%8A%A4&sm=tab_tmr&nso=so:r,p:all,a:all&sort=0'\n",
    "driver = webdriver.Chrome()\n",
    "driver.get(url)"
   ]
  },
  {
   "cell_type": "markdown",
   "id": "124f8056-cd52-41e7-b839-8c0eec8d2d8e",
   "metadata": {},
   "source": [
    "## 검색어 입력하는것부터 시작"
   ]
  },
  {
   "cell_type": "code",
   "execution_count": 71,
   "id": "55c7326a-f2ab-493d-9b2a-a7cda1d88154",
   "metadata": {},
   "outputs": [],
   "source": [
    "# 정상작동 확인\n",
    "driver = webdriver.Chrome()\n",
    "driver.get('https://www.naver.com')"
   ]
  },
  {
   "cell_type": "code",
   "execution_count": 72,
   "id": "8b2e8c67-50ee-45c4-abc1-e1c2458e2e11",
   "metadata": {},
   "outputs": [],
   "source": [
    "element = driver.find_element(By.ID, 'query') # 검색창 찾기\n",
    "element.send_keys('토스') # 검색어 입력\n",
    "element.send_keys('\\n') # 엔터누르기"
   ]
  },
  {
   "cell_type": "code",
   "execution_count": 73,
   "id": "f5a0a901-f502-4187-a2a4-e6f0196a8119",
   "metadata": {},
   "outputs": [],
   "source": [
    "# 뉴스탭 클릭\n",
    "driver.find_element(By.XPATH, '//*[@id=\"lnb\"]/div[1]/div/div[1]/div/div[1]/div[1]/a').click()"
   ]
  },
  {
   "cell_type": "code",
   "execution_count": 87,
   "id": "5d0fe0b8-4ebd-4a8b-a03b-ef12602e3e86",
   "metadata": {},
   "outputs": [],
   "source": [
    "driver.close() #링크 이동 후 탭 닫기\n",
    "driver.switch_to.window(driver.window_handles[-1])  #다시 이전 창(탭)으로 이동"
   ]
  },
  {
   "cell_type": "code",
   "execution_count": 90,
   "id": "d7695698-6259-4da4-bbfb-d4b7b7bf4527",
   "metadata": {
    "tags": []
   },
   "outputs": [
    {
     "data": {
      "text/plain": [
       "[\"'주담대 블랙홀' 된 인터넷은행…카카오뱅크 2개월간 2조원 불어\",\n",
       " '토스 행운퀴즈 정답 9월 11일',\n",
       " '경력직 개발자가 가장 선호하는 국내 IT 기업은?',\n",
       " \"토스, 포인트 정책 개편 예고...'짠테크족' 체감 혜택 달라지나\",\n",
       " \"인터넷전문은행 3사 차별화 서비스는 'OO'이다\",\n",
       " '\"MTS 먹통\"…토스증권, 올해 전산 장애 \\'최다\\'',\n",
       " \"[CEO리포트] 이색상품으로 MZ 돈 불려준다...'혁신 토스뱅크' 이끄는 홍민택 ...\",\n",
       " '토스뱅크, 전월세대출 출시 “금리는 최저 연 3.32%”',\n",
       " '토스뱅크, 연 3%대로 전월세대출…보증금 88% 보증',\n",
       " \"토스뱅크, '목돈 굴리기'에서 삼성증권 판매 채권 소개 개시\"]"
      ]
     },
     "execution_count": 90,
     "metadata": {},
     "output_type": "execute_result"
    }
   ],
   "source": [
    "title = []\n",
    "news = []\n",
    "\n",
    "news_title = driver.find_elements(By.CSS_SELECTOR,'.news_tit')\n",
    "for n in news_title:\n",
    "    title.append(n.text)\n",
    "\n",
    "title"
   ]
  },
  {
   "cell_type": "code",
   "execution_count": 93,
   "id": "8562614b-8181-4ad7-8715-a81f98882071",
   "metadata": {},
   "outputs": [
    {
     "data": {
      "text/plain": [
       "['https://search.naver.com/p/crd/rd?m=1&px=454&py=293&sx=454&sy=293&p=in8TZlprvxssstfT5O8ssssss3h-406108&q=%ED%86%A0%EC%8A%A4&ie=utf8&rev=1&ssc=tab.news.all&f=news&w=news&s=ANgUJQjxlpJzm1o8xVnS1Q%3D%3D&time=1694439308373&a=nws*h.tit&r=1&i=880000D8_000000000000000014183758&g=001.0014183758&u=https%3A%2F%2Fwww.yna.co.kr%2Fview%2FAKR20230909025200002%3Finput%3D1195m',\n",
       " 'https://www.bntnews.co.kr/article/view/bnt202309110001',\n",
       " 'https://www.dt.co.kr/contents.html?article_no=2023091102109931820007&ref=naver',\n",
       " 'https://www.etnews.com/20230911000188',\n",
       " 'https://zdnet.co.kr/view/?no=20230911104033',\n",
       " 'http://www.newsis.com/view/?id=NISX20230908_0002443089&cID=10403&pID=15000',\n",
       " 'https://daily.hankooki.com/news/articleView.html?idxno=996813',\n",
       " 'https://economist.co.kr/article/view/ecn202309050009',\n",
       " 'http://www.inews24.com/view/1629685',\n",
       " 'https://www.hankyung.com/article/202309070379i']"
      ]
     },
     "execution_count": 93,
     "metadata": {},
     "output_type": "execute_result"
    }
   ],
   "source": [
    "news_link =[]\n",
    "\n",
    "urls = driver.find_elements(By.CSS_SELECTOR,'.news_tit')\n",
    "for i in urls:\n",
    "    news_link.append(i.get_attribute(\"href\"))\n",
    "news_link"
   ]
  },
  {
   "cell_type": "code",
   "execution_count": 94,
   "id": "572231ab-c6da-4e3b-bfd7-565fe0f4c256",
   "metadata": {},
   "outputs": [],
   "source": [
    "driver.find_element(By.CSS_SELECTOR,'.news_tit').click() # 뉴스 클릭\n",
    "driver.switch_to.window(driver.window_handles[-1]) # 새탭으로 이동\n",
    "sleep(1)"
   ]
  },
  {
   "cell_type": "code",
   "execution_count": 80,
   "id": "b00283d7-ab01-4cc1-93e9-76254e1375d4",
   "metadata": {},
   "outputs": [],
   "source": [
    "html = driver.page_source\n",
    "soup = bs(html,\"html.parser\")"
   ]
  },
  {
   "cell_type": "code",
   "execution_count": 100,
   "id": "017db418-3553-49d6-9091-def0d11595f8",
   "metadata": {},
   "outputs": [
    {
     "name": "stdout",
     "output_type": "stream",
     "text": [
      "<h1 class=\"tit\">'주담대 블랙홀' 된 인터넷은행…카카오뱅크 2개월간 2조원 불어</h1>\n"
     ]
    }
   ],
   "source": [
    "cont = soup.select_one(\"h1.tit\")\n",
    "print(cont)"
   ]
  },
  {
   "cell_type": "code",
   "execution_count": 102,
   "id": "56b77c22-63b7-420a-8107-bf96e6634369",
   "metadata": {},
   "outputs": [
    {
     "name": "stdout",
     "output_type": "stream",
     "text": [
      "<div class=\"tit-sub\">\n",
      "<h2 class=\"tit\">7∼8월 주택담보대출 증가액, 5대 은행 3.6조·인터넷銀 2.3조</h2><h2 class=\"tit\">토스뱅크도 9월부터 전월세대출 출시…금융당국, 현장 점검 진행</h2>\n",
      "</div>\n"
     ]
    }
   ],
   "source": [
    "sub = soup.select_one(\".tit-sub\")\n",
    "print(sub)"
   ]
  },
  {
   "cell_type": "code",
   "execution_count": 115,
   "id": "c319f476-8f65-420e-bbb9-2240066d8951",
   "metadata": {
    "tags": []
   },
   "outputs": [
    {
     "data": {
      "text/plain": [
       "['[연합뉴스TV 제공]',\n",
       " '',\n",
       " ' (서울=연합뉴스) 신호경 민선희 기자 = 카카오뱅크와 케이뱅크에서 지난 두 달 새 주택담보대출이 2조3천억원 넘게 불어나는 등, 인터넷전문은행이 주담대 수요를 빨아들이고 있다.',\n",
       " ' 특히 카카오뱅크 한 곳에서만 잔액이 2조원 가까이 폭증했는데, 규모가 훨씬 큰 5대 시중은행(KB국민·신한·하나·우리·NH농협)과 비교해도 증가세가 가팔랐다.',\n",
       " \" 금융당국은 인터넷은행이 '중저신용 대출'이라는 인가 취지에 맞지 않게 주담대 영업에 몰두하는 데 문제가 없는지 들여다보겠다며 현장점검을 진행 중이다.\",\n",
       " ' ◇ 7∼8월 카카오뱅크 주담대 잔액 2조원↑…케뱅도 3천억원 늘어',\n",
       " ' 11일 인터넷은행들이 국회 기획재정위원회 소속 양경숙 의원(더불어민주당)에게 제출한 자료에 따르면 카카오뱅크의 8월 말 주담대(전월세대출 포함) 잔액은 약 19조3천173억원으로 집계됐다.',\n",
       " ' 지난 6월 말(17조3천223억원)과 비교하면 1조9천950억원(11.5%) 늘었다.',\n",
       " ' 케이뱅크의 주담대 잔액도 6월 말 3조6천934억원에서 8월 말 4조655억원으로 3천721억원(10.1%) 증가했다.',\n",
       " ' 5대 은행의 주담대 잔액이 같은 기간 511조4천7억원에서 514조9천997억원으로 3조5천990억원(0.7%) 늘었다는 것과 비교하면, 인터넷은행 두 곳의 주담대 성장세가 더욱 두드러진다.',\n",
       " ' 특히 카카오뱅크의 주담대 잔액 증가액(1조9천950억원)은 5대 은행 중 증가 폭이 가장 컸던 우리은행(1조5천442억원)보다도 많았다.',\n",
       " ' 전체 주담대 시장에서 인터넷은행의 비중은 잔액 기준으로 약 2%에 불과하지만, 최근 인터넷은행이 가계부채 증가세를 주도했다는 지적이 나오는 것도 이 때문이다.',\n",
       " '',\n",
       " '',\n",
       " \" ◇ 인터넷은행 금리 낮추자 주담대 몰려…시중은행 '갈아타기'도 활발\",\n",
       " ' 인터넷은행으로 주담대 수요가 쏠린 것은 금리 경쟁력 때문이다. 카카오뱅크와 케이뱅크는 올해 다른 은행보다 낮은 금리를 내세워 공격적인 주담대 영업을 이어갔다.',\n",
       " ' 은행연합회 공시에 따르면 카카오뱅크와 케이뱅크가 지난 7월 중 신규 취급한 분할상환방식 주택담보대출 평균 금리는 각각 연 4.16%, 4.17%로 집계됐다.',\n",
       " ' 카카오뱅크와 케이뱅크 모두 지난 6월(4.02%, 4.14%)보다 평균 금리가 올랐지만 5대 은행(4.28∼4.70%)보다는 낮은 수준을 유지했다.',\n",
       " ' 카카오뱅크와 케이뱅크가 주담대 금리를 내리고 특판을 진행하면서, 지난 4∼5월 중에는 평균 금리가 3%대로 내리기도 했다.',\n",
       " ' 인터넷은행이 금리를 낮추자 시중은행 대출을 이용하다가 갈아탄 대환 수요도 몰린 것으로 보인다. 카카오뱅크와 케이뱅크는 최근 신규취급액 중 50∼60%가 대환 고객이라고 밝혔다. ',\n",
       " ' 인터넷은행 중 후발주자인 토스뱅크도 지난 5일 전월세보증금 대출을 출시하며 시장에 뛰어들었다. 금융권에서는 토스뱅크도 내년에는 주담대 상품을 출시할 것으로 보고 있다.',\n",
       " ' 홍민택 토스뱅크 대표는 5일 기자간담회에서 주담대 상품 출시 계획에 대해 \"주담대 시장에 진출해야 한다고 생각은 하고 있다\"면서도 구체적인 시기는 밝히지 않았다.',\n",
       " ' ◇ 금융당국, 현장점검 진행…대출 문턱 높이는 인터넷은행',\n",
       " ' 금융당국도 인터넷은행의 주담대 증가세에 주목하며 가계대출 현장 점검에 나섰다. ',\n",
       " ' 금감원은 인터넷은행이 폭발적으로 주담대를 늘리는 과정에서 비대면 여신 심사가 소홀히 이뤄졌을 가능성이 있다고 보고, 관련 절차를 살펴보고 있다.',\n",
       " ' 정부와 금융권에서는 주담대를 빠르게 늘리는 인터넷은행의 영업 행태에 문제가 있다는 지적도 나온다.',\n",
       " ' 이복현 금융감독원장은 지난달 \"인터넷은행은 신파일러(금융거래 이력 부족자)에게 자금 공급한다는 정책적 목적이 있는데, 지금과 같은 주담대 쏠림이 제도와 합치되는지에 대해 비판적 시각이 있다\"면서 \"이런 것도 점검 대상이 될 것\"이라고 말하기도 했다.',\n",
       " ' 금융당국이 본격적으로 점검에 나서자 인터넷은행도 부랴부랴 주담대 문턱을 높였다. ',\n",
       " ' 카카오뱅크와 케이뱅크의 8일 기준 주담대 변동금리(신규 취급액 코픽스 연동)는 연 4.063∼7.016%로 집계됐다. 5대 은행의 주담대 변동금리 연 4.05∼6.989%보다 더 높다.',\n",
       " ' 주담대 혼합형(고정) 금리 역시 카카오뱅크와 케이뱅크는 연 4.20∼6.721%, 5대 은행은 연 3.79∼6.203%로, 인터넷은행이 더 높았다.',\n",
       " ' 카카오뱅크는 지난달 25일 50년 주담대 상품에 연령 조건을 신설한 데 이어, 지난달 30일부터 주택구입자금 주택담보대출 대상을 무주택자로 제한하기도 했다.',\n",
       " ' 카카오뱅크 관계자는 \"무주택자 등에 한정해 실수요자 중심의 대출 공급이 이뤄지도록 노력할 것\"이라고 밝혔다. ',\n",
       " ' shk999@yna.co.kr, ssun@yna.co.kr']"
      ]
     },
     "execution_count": 115,
     "metadata": {},
     "output_type": "execute_result"
    }
   ],
   "source": [
    "# 본문 내용\n",
    "news = []\n",
    "\n",
    "content = soup.find(\"article\", {\"class\": \"story-news article\"})\n",
    "items = content.find_all('p')\n",
    "#print(items)\n",
    "\n",
    "for i in items[:-1]:\n",
    "    news.append(i.get_text())\n",
    "news"
   ]
  },
  {
   "cell_type": "code",
   "execution_count": 215,
   "id": "50e8e2d0-c9c0-440a-95f3-6fb76624c142",
   "metadata": {
    "collapsed": true,
    "jupyter": {
     "outputs_hidden": true
    },
    "tags": []
   },
   "outputs": [
    {
     "name": "stderr",
     "output_type": "stream",
     "text": [
      "Exception ignored in: <function Service.__del__ at 0x000001DE35751550>\n",
      "Traceback (most recent call last):\n",
      "  File \"C:\\Users\\totqu\\anaconda3\\envs\\py38\\lib\\site-packages\\selenium\\webdriver\\common\\service.py\", line 193, in __del__\n",
      "    self.stop()\n",
      "  File \"C:\\Users\\totqu\\anaconda3\\envs\\py38\\lib\\site-packages\\selenium\\webdriver\\common\\service.py\", line 154, in stop\n",
      "    self.send_remote_shutdown_command()\n",
      "  File \"C:\\Users\\totqu\\anaconda3\\envs\\py38\\lib\\site-packages\\selenium\\webdriver\\common\\service.py\", line 138, in send_remote_shutdown_command\n",
      "    if not self.is_connectable():\n",
      "  File \"C:\\Users\\totqu\\anaconda3\\envs\\py38\\lib\\site-packages\\selenium\\webdriver\\common\\service.py\", line 127, in is_connectable\n",
      "    return utils.is_connectable(self.port)\n",
      "  File \"C:\\Users\\totqu\\anaconda3\\envs\\py38\\lib\\site-packages\\selenium\\webdriver\\common\\utils.py\", line 101, in is_connectable\n",
      "    socket_ = socket.create_connection((host, port), 1)\n",
      "  File \"C:\\Users\\totqu\\anaconda3\\envs\\py38\\lib\\socket.py\", line 796, in create_connection\n",
      "    sock.connect(sa)\n",
      "KeyboardInterrupt: \n"
     ]
    },
    {
     "ename": "NoSuchWindowException",
     "evalue": "Message: no such window: target window already closed\nfrom unknown error: web view not found\n  (Session info: chrome=116.0.5845.180)\nStacktrace:\n\tGetHandleVerifier [0x00007FF7C3C352A2+57122]\n\t(No symbol) [0x00007FF7C3BAEA92]\n\t(No symbol) [0x00007FF7C3A7E3AB]\n\t(No symbol) [0x00007FF7C3A5E1B9]\n\t(No symbol) [0x00007FF7C3ADB417]\n\t(No symbol) [0x00007FF7C3AEE24F]\n\t(No symbol) [0x00007FF7C3AD6DB3]\n\t(No symbol) [0x00007FF7C3AAD2B1]\n\t(No symbol) [0x00007FF7C3AAE494]\n\tGetHandleVerifier [0x00007FF7C3EDEF82+2849794]\n\tGetHandleVerifier [0x00007FF7C3F31D24+3189156]\n\tGetHandleVerifier [0x00007FF7C3F2ACAF+3160367]\n\tGetHandleVerifier [0x00007FF7C3CC6D06+653702]\n\t(No symbol) [0x00007FF7C3BBA208]\n\t(No symbol) [0x00007FF7C3BB62C4]\n\t(No symbol) [0x00007FF7C3BB63F6]\n\t(No symbol) [0x00007FF7C3BA67A3]\n\tBaseThreadInitThunk [0x00007FFB519126AD+29]\n\tRtlUserThreadStart [0x00007FFB536CAA68+40]\n",
     "output_type": "error",
     "traceback": [
      "\u001b[1;31m---------------------------------------------------------------------------\u001b[0m",
      "\u001b[1;31mNoSuchWindowException\u001b[0m                     Traceback (most recent call last)",
      "Input \u001b[1;32mIn [215]\u001b[0m, in \u001b[0;36m<cell line: 2>\u001b[1;34m()\u001b[0m\n\u001b[0;32m      4\u001b[0m \u001b[38;5;66;03m#driver.switch_to.window(driver.window_handles[-1]) # 새탭으로 이동\u001b[39;00m\n\u001b[0;32m      5\u001b[0m sleep(\u001b[38;5;241m1\u001b[39m)\n\u001b[1;32m----> 6\u001b[0m content \u001b[38;5;241m=\u001b[39m \u001b[43mdriver\u001b[49m\u001b[38;5;241;43m.\u001b[39;49m\u001b[43mfind_elements\u001b[49m\u001b[43m(\u001b[49m\u001b[43mBy\u001b[49m\u001b[38;5;241;43m.\u001b[39;49m\u001b[43mCSS_SELECTOR\u001b[49m\u001b[43m,\u001b[49m\u001b[38;5;124;43m'\u001b[39;49m\u001b[38;5;124;43m.viewer article\u001b[39;49m\u001b[38;5;124;43m'\u001b[39;49m\u001b[43m)\u001b[49m\n\u001b[0;32m      7\u001b[0m \u001b[38;5;28;01mfor\u001b[39;00m n \u001b[38;5;129;01min\u001b[39;00m content:\n\u001b[0;32m      8\u001b[0m     news\u001b[38;5;241m.\u001b[39mappend(n\u001b[38;5;241m.\u001b[39mtext\u001b[38;5;241m.\u001b[39mreplace(\u001b[38;5;124m'\u001b[39m\u001b[38;5;130;01m\\n\u001b[39;00m\u001b[38;5;124m'\u001b[39m,\u001b[38;5;124m'\u001b[39m\u001b[38;5;124m'\u001b[39m))\n",
      "File \u001b[1;32m~\\anaconda3\\envs\\py38\\lib\\site-packages\\selenium\\webdriver\\remote\\webdriver.py:768\u001b[0m, in \u001b[0;36mWebDriver.find_elements\u001b[1;34m(self, by, value)\u001b[0m\n\u001b[0;32m    764\u001b[0m     value \u001b[38;5;241m=\u001b[39m \u001b[38;5;124mf\u001b[39m\u001b[38;5;124m'\u001b[39m\u001b[38;5;124m[name=\u001b[39m\u001b[38;5;124m\"\u001b[39m\u001b[38;5;132;01m{\u001b[39;00mvalue\u001b[38;5;132;01m}\u001b[39;00m\u001b[38;5;124m\"\u001b[39m\u001b[38;5;124m]\u001b[39m\u001b[38;5;124m'\u001b[39m\n\u001b[0;32m    766\u001b[0m \u001b[38;5;66;03m# Return empty list if driver returns null\u001b[39;00m\n\u001b[0;32m    767\u001b[0m \u001b[38;5;66;03m# See https://github.com/SeleniumHQ/selenium/issues/4555\u001b[39;00m\n\u001b[1;32m--> 768\u001b[0m \u001b[38;5;28;01mreturn\u001b[39;00m \u001b[38;5;28;43mself\u001b[39;49m\u001b[38;5;241;43m.\u001b[39;49m\u001b[43mexecute\u001b[49m\u001b[43m(\u001b[49m\u001b[43mCommand\u001b[49m\u001b[38;5;241;43m.\u001b[39;49m\u001b[43mFIND_ELEMENTS\u001b[49m\u001b[43m,\u001b[49m\u001b[43m \u001b[49m\u001b[43m{\u001b[49m\u001b[38;5;124;43m\"\u001b[39;49m\u001b[38;5;124;43musing\u001b[39;49m\u001b[38;5;124;43m\"\u001b[39;49m\u001b[43m:\u001b[49m\u001b[43m \u001b[49m\u001b[43mby\u001b[49m\u001b[43m,\u001b[49m\u001b[43m \u001b[49m\u001b[38;5;124;43m\"\u001b[39;49m\u001b[38;5;124;43mvalue\u001b[39;49m\u001b[38;5;124;43m\"\u001b[39;49m\u001b[43m:\u001b[49m\u001b[43m \u001b[49m\u001b[43mvalue\u001b[49m\u001b[43m}\u001b[49m\u001b[43m)\u001b[49m[\u001b[38;5;124m\"\u001b[39m\u001b[38;5;124mvalue\u001b[39m\u001b[38;5;124m\"\u001b[39m] \u001b[38;5;129;01mor\u001b[39;00m []\n",
      "File \u001b[1;32m~\\anaconda3\\envs\\py38\\lib\\site-packages\\selenium\\webdriver\\remote\\webdriver.py:344\u001b[0m, in \u001b[0;36mWebDriver.execute\u001b[1;34m(self, driver_command, params)\u001b[0m\n\u001b[0;32m    342\u001b[0m response \u001b[38;5;241m=\u001b[39m \u001b[38;5;28mself\u001b[39m\u001b[38;5;241m.\u001b[39mcommand_executor\u001b[38;5;241m.\u001b[39mexecute(driver_command, params)\n\u001b[0;32m    343\u001b[0m \u001b[38;5;28;01mif\u001b[39;00m response:\n\u001b[1;32m--> 344\u001b[0m     \u001b[38;5;28;43mself\u001b[39;49m\u001b[38;5;241;43m.\u001b[39;49m\u001b[43merror_handler\u001b[49m\u001b[38;5;241;43m.\u001b[39;49m\u001b[43mcheck_response\u001b[49m\u001b[43m(\u001b[49m\u001b[43mresponse\u001b[49m\u001b[43m)\u001b[49m\n\u001b[0;32m    345\u001b[0m     response[\u001b[38;5;124m\"\u001b[39m\u001b[38;5;124mvalue\u001b[39m\u001b[38;5;124m\"\u001b[39m] \u001b[38;5;241m=\u001b[39m \u001b[38;5;28mself\u001b[39m\u001b[38;5;241m.\u001b[39m_unwrap_value(response\u001b[38;5;241m.\u001b[39mget(\u001b[38;5;124m\"\u001b[39m\u001b[38;5;124mvalue\u001b[39m\u001b[38;5;124m\"\u001b[39m, \u001b[38;5;28;01mNone\u001b[39;00m))\n\u001b[0;32m    346\u001b[0m     \u001b[38;5;28;01mreturn\u001b[39;00m response\n",
      "File \u001b[1;32m~\\anaconda3\\envs\\py38\\lib\\site-packages\\selenium\\webdriver\\remote\\errorhandler.py:229\u001b[0m, in \u001b[0;36mErrorHandler.check_response\u001b[1;34m(self, response)\u001b[0m\n\u001b[0;32m    227\u001b[0m         alert_text \u001b[38;5;241m=\u001b[39m value[\u001b[38;5;124m\"\u001b[39m\u001b[38;5;124malert\u001b[39m\u001b[38;5;124m\"\u001b[39m]\u001b[38;5;241m.\u001b[39mget(\u001b[38;5;124m\"\u001b[39m\u001b[38;5;124mtext\u001b[39m\u001b[38;5;124m\"\u001b[39m)\n\u001b[0;32m    228\u001b[0m     \u001b[38;5;28;01mraise\u001b[39;00m exception_class(message, screen, stacktrace, alert_text)  \u001b[38;5;66;03m# type: ignore[call-arg]  # mypy is not smart enough here\u001b[39;00m\n\u001b[1;32m--> 229\u001b[0m \u001b[38;5;28;01mraise\u001b[39;00m exception_class(message, screen, stacktrace)\n",
      "\u001b[1;31mNoSuchWindowException\u001b[0m: Message: no such window: target window already closed\nfrom unknown error: web view not found\n  (Session info: chrome=116.0.5845.180)\nStacktrace:\n\tGetHandleVerifier [0x00007FF7C3C352A2+57122]\n\t(No symbol) [0x00007FF7C3BAEA92]\n\t(No symbol) [0x00007FF7C3A7E3AB]\n\t(No symbol) [0x00007FF7C3A5E1B9]\n\t(No symbol) [0x00007FF7C3ADB417]\n\t(No symbol) [0x00007FF7C3AEE24F]\n\t(No symbol) [0x00007FF7C3AD6DB3]\n\t(No symbol) [0x00007FF7C3AAD2B1]\n\t(No symbol) [0x00007FF7C3AAE494]\n\tGetHandleVerifier [0x00007FF7C3EDEF82+2849794]\n\tGetHandleVerifier [0x00007FF7C3F31D24+3189156]\n\tGetHandleVerifier [0x00007FF7C3F2ACAF+3160367]\n\tGetHandleVerifier [0x00007FF7C3CC6D06+653702]\n\t(No symbol) [0x00007FF7C3BBA208]\n\t(No symbol) [0x00007FF7C3BB62C4]\n\t(No symbol) [0x00007FF7C3BB63F6]\n\t(No symbol) [0x00007FF7C3BA67A3]\n\tBaseThreadInitThunk [0x00007FFB519126AD+29]\n\tRtlUserThreadStart [0x00007FFB536CAA68+40]\n"
     ]
    }
   ],
   "source": [
    "# 오래걸려서 중단\n",
    "news = []\n",
    "for urls in news_link:\n",
    "    driver.get(urls) # 뉴스 클릭\n",
    "    #driver.switch_to.window(driver.window_handles[-1]) # 새탭으로 이동\n",
    "    sleep(1)\n",
    "    content = driver.find_elements(By.CSS_SELECTOR,'.viewer article')\n",
    "    for n in content:\n",
    "        news.append(n.text.replace('\\n',''))\n",
    "\n",
    "    #driver.close() #링크 이동 후 탭 닫기\n",
    "    driver.switch_to.window(driver.window_handles[-1])  #다시 이전 창(탭)으로 이동"
   ]
  },
  {
   "cell_type": "code",
   "execution_count": 241,
   "id": "409cc74c-db69-4cc3-b286-0cc1cbdc0c8a",
   "metadata": {
    "collapsed": true,
    "jupyter": {
     "outputs_hidden": true
    },
    "tags": []
   },
   "outputs": [
    {
     "ename": "ConnectionError",
     "evalue": "('Connection aborted.', ConnectionResetError(10054, '현재 연결은 원격 호스트에 의해 강제로 끊겼습니다', None, 10054, None))",
     "output_type": "error",
     "traceback": [
      "\u001b[1;31m---------------------------------------------------------------------------\u001b[0m",
      "\u001b[1;31mConnectionResetError\u001b[0m                      Traceback (most recent call last)",
      "File \u001b[1;32m~\\anaconda3\\envs\\py38\\lib\\site-packages\\urllib3\\connectionpool.py:703\u001b[0m, in \u001b[0;36mHTTPConnectionPool.urlopen\u001b[1;34m(self, method, url, body, headers, retries, redirect, assert_same_host, timeout, pool_timeout, release_conn, chunked, body_pos, **response_kw)\u001b[0m\n\u001b[0;32m    702\u001b[0m \u001b[38;5;66;03m# Make the request on the httplib connection object.\u001b[39;00m\n\u001b[1;32m--> 703\u001b[0m httplib_response \u001b[38;5;241m=\u001b[39m \u001b[38;5;28;43mself\u001b[39;49m\u001b[38;5;241;43m.\u001b[39;49m\u001b[43m_make_request\u001b[49m\u001b[43m(\u001b[49m\n\u001b[0;32m    704\u001b[0m \u001b[43m    \u001b[49m\u001b[43mconn\u001b[49m\u001b[43m,\u001b[49m\n\u001b[0;32m    705\u001b[0m \u001b[43m    \u001b[49m\u001b[43mmethod\u001b[49m\u001b[43m,\u001b[49m\n\u001b[0;32m    706\u001b[0m \u001b[43m    \u001b[49m\u001b[43murl\u001b[49m\u001b[43m,\u001b[49m\n\u001b[0;32m    707\u001b[0m \u001b[43m    \u001b[49m\u001b[43mtimeout\u001b[49m\u001b[38;5;241;43m=\u001b[39;49m\u001b[43mtimeout_obj\u001b[49m\u001b[43m,\u001b[49m\n\u001b[0;32m    708\u001b[0m \u001b[43m    \u001b[49m\u001b[43mbody\u001b[49m\u001b[38;5;241;43m=\u001b[39;49m\u001b[43mbody\u001b[49m\u001b[43m,\u001b[49m\n\u001b[0;32m    709\u001b[0m \u001b[43m    \u001b[49m\u001b[43mheaders\u001b[49m\u001b[38;5;241;43m=\u001b[39;49m\u001b[43mheaders\u001b[49m\u001b[43m,\u001b[49m\n\u001b[0;32m    710\u001b[0m \u001b[43m    \u001b[49m\u001b[43mchunked\u001b[49m\u001b[38;5;241;43m=\u001b[39;49m\u001b[43mchunked\u001b[49m\u001b[43m,\u001b[49m\n\u001b[0;32m    711\u001b[0m \u001b[43m\u001b[49m\u001b[43m)\u001b[49m\n\u001b[0;32m    713\u001b[0m \u001b[38;5;66;03m# If we're going to release the connection in ``finally:``, then\u001b[39;00m\n\u001b[0;32m    714\u001b[0m \u001b[38;5;66;03m# the response doesn't need to know about the connection. Otherwise\u001b[39;00m\n\u001b[0;32m    715\u001b[0m \u001b[38;5;66;03m# it will also try to release it and we'll have a double-release\u001b[39;00m\n\u001b[0;32m    716\u001b[0m \u001b[38;5;66;03m# mess.\u001b[39;00m\n",
      "File \u001b[1;32m~\\anaconda3\\envs\\py38\\lib\\site-packages\\urllib3\\connectionpool.py:449\u001b[0m, in \u001b[0;36mHTTPConnectionPool._make_request\u001b[1;34m(self, conn, method, url, timeout, chunked, **httplib_request_kw)\u001b[0m\n\u001b[0;32m    445\u001b[0m         \u001b[38;5;28;01mexcept\u001b[39;00m \u001b[38;5;167;01mBaseException\u001b[39;00m \u001b[38;5;28;01mas\u001b[39;00m e:\n\u001b[0;32m    446\u001b[0m             \u001b[38;5;66;03m# Remove the TypeError from the exception chain in\u001b[39;00m\n\u001b[0;32m    447\u001b[0m             \u001b[38;5;66;03m# Python 3 (including for exceptions like SystemExit).\u001b[39;00m\n\u001b[0;32m    448\u001b[0m             \u001b[38;5;66;03m# Otherwise it looks like a bug in the code.\u001b[39;00m\n\u001b[1;32m--> 449\u001b[0m             \u001b[43msix\u001b[49m\u001b[38;5;241;43m.\u001b[39;49m\u001b[43mraise_from\u001b[49m\u001b[43m(\u001b[49m\u001b[43me\u001b[49m\u001b[43m,\u001b[49m\u001b[43m \u001b[49m\u001b[38;5;28;43;01mNone\u001b[39;49;00m\u001b[43m)\u001b[49m\n\u001b[0;32m    450\u001b[0m \u001b[38;5;28;01mexcept\u001b[39;00m (SocketTimeout, BaseSSLError, SocketError) \u001b[38;5;28;01mas\u001b[39;00m e:\n",
      "File \u001b[1;32m<string>:3\u001b[0m, in \u001b[0;36mraise_from\u001b[1;34m(value, from_value)\u001b[0m\n",
      "File \u001b[1;32m~\\anaconda3\\envs\\py38\\lib\\site-packages\\urllib3\\connectionpool.py:444\u001b[0m, in \u001b[0;36mHTTPConnectionPool._make_request\u001b[1;34m(self, conn, method, url, timeout, chunked, **httplib_request_kw)\u001b[0m\n\u001b[0;32m    443\u001b[0m \u001b[38;5;28;01mtry\u001b[39;00m:\n\u001b[1;32m--> 444\u001b[0m     httplib_response \u001b[38;5;241m=\u001b[39m \u001b[43mconn\u001b[49m\u001b[38;5;241;43m.\u001b[39;49m\u001b[43mgetresponse\u001b[49m\u001b[43m(\u001b[49m\u001b[43m)\u001b[49m\n\u001b[0;32m    445\u001b[0m \u001b[38;5;28;01mexcept\u001b[39;00m \u001b[38;5;167;01mBaseException\u001b[39;00m \u001b[38;5;28;01mas\u001b[39;00m e:\n\u001b[0;32m    446\u001b[0m     \u001b[38;5;66;03m# Remove the TypeError from the exception chain in\u001b[39;00m\n\u001b[0;32m    447\u001b[0m     \u001b[38;5;66;03m# Python 3 (including for exceptions like SystemExit).\u001b[39;00m\n\u001b[0;32m    448\u001b[0m     \u001b[38;5;66;03m# Otherwise it looks like a bug in the code.\u001b[39;00m\n",
      "File \u001b[1;32m~\\anaconda3\\envs\\py38\\lib\\http\\client.py:1348\u001b[0m, in \u001b[0;36mHTTPConnection.getresponse\u001b[1;34m(self)\u001b[0m\n\u001b[0;32m   1347\u001b[0m \u001b[38;5;28;01mtry\u001b[39;00m:\n\u001b[1;32m-> 1348\u001b[0m     \u001b[43mresponse\u001b[49m\u001b[38;5;241;43m.\u001b[39;49m\u001b[43mbegin\u001b[49m\u001b[43m(\u001b[49m\u001b[43m)\u001b[49m\n\u001b[0;32m   1349\u001b[0m \u001b[38;5;28;01mexcept\u001b[39;00m \u001b[38;5;167;01mConnectionError\u001b[39;00m:\n",
      "File \u001b[1;32m~\\anaconda3\\envs\\py38\\lib\\http\\client.py:316\u001b[0m, in \u001b[0;36mHTTPResponse.begin\u001b[1;34m(self)\u001b[0m\n\u001b[0;32m    315\u001b[0m \u001b[38;5;28;01mwhile\u001b[39;00m \u001b[38;5;28;01mTrue\u001b[39;00m:\n\u001b[1;32m--> 316\u001b[0m     version, status, reason \u001b[38;5;241m=\u001b[39m \u001b[38;5;28;43mself\u001b[39;49m\u001b[38;5;241;43m.\u001b[39;49m\u001b[43m_read_status\u001b[49m\u001b[43m(\u001b[49m\u001b[43m)\u001b[49m\n\u001b[0;32m    317\u001b[0m     \u001b[38;5;28;01mif\u001b[39;00m status \u001b[38;5;241m!=\u001b[39m CONTINUE:\n",
      "File \u001b[1;32m~\\anaconda3\\envs\\py38\\lib\\http\\client.py:277\u001b[0m, in \u001b[0;36mHTTPResponse._read_status\u001b[1;34m(self)\u001b[0m\n\u001b[0;32m    276\u001b[0m \u001b[38;5;28;01mdef\u001b[39;00m \u001b[38;5;21m_read_status\u001b[39m(\u001b[38;5;28mself\u001b[39m):\n\u001b[1;32m--> 277\u001b[0m     line \u001b[38;5;241m=\u001b[39m \u001b[38;5;28mstr\u001b[39m(\u001b[38;5;28;43mself\u001b[39;49m\u001b[38;5;241;43m.\u001b[39;49m\u001b[43mfp\u001b[49m\u001b[38;5;241;43m.\u001b[39;49m\u001b[43mreadline\u001b[49m\u001b[43m(\u001b[49m\u001b[43m_MAXLINE\u001b[49m\u001b[43m \u001b[49m\u001b[38;5;241;43m+\u001b[39;49m\u001b[43m \u001b[49m\u001b[38;5;241;43m1\u001b[39;49m\u001b[43m)\u001b[49m, \u001b[38;5;124m\"\u001b[39m\u001b[38;5;124miso-8859-1\u001b[39m\u001b[38;5;124m\"\u001b[39m)\n\u001b[0;32m    278\u001b[0m     \u001b[38;5;28;01mif\u001b[39;00m \u001b[38;5;28mlen\u001b[39m(line) \u001b[38;5;241m>\u001b[39m _MAXLINE:\n",
      "File \u001b[1;32m~\\anaconda3\\envs\\py38\\lib\\socket.py:669\u001b[0m, in \u001b[0;36mSocketIO.readinto\u001b[1;34m(self, b)\u001b[0m\n\u001b[0;32m    668\u001b[0m \u001b[38;5;28;01mtry\u001b[39;00m:\n\u001b[1;32m--> 669\u001b[0m     \u001b[38;5;28;01mreturn\u001b[39;00m \u001b[38;5;28;43mself\u001b[39;49m\u001b[38;5;241;43m.\u001b[39;49m\u001b[43m_sock\u001b[49m\u001b[38;5;241;43m.\u001b[39;49m\u001b[43mrecv_into\u001b[49m\u001b[43m(\u001b[49m\u001b[43mb\u001b[49m\u001b[43m)\u001b[49m\n\u001b[0;32m    670\u001b[0m \u001b[38;5;28;01mexcept\u001b[39;00m timeout:\n",
      "File \u001b[1;32m~\\anaconda3\\envs\\py38\\lib\\ssl.py:1241\u001b[0m, in \u001b[0;36mSSLSocket.recv_into\u001b[1;34m(self, buffer, nbytes, flags)\u001b[0m\n\u001b[0;32m   1238\u001b[0m         \u001b[38;5;28;01mraise\u001b[39;00m \u001b[38;5;167;01mValueError\u001b[39;00m(\n\u001b[0;32m   1239\u001b[0m           \u001b[38;5;124m\"\u001b[39m\u001b[38;5;124mnon-zero flags not allowed in calls to recv_into() on \u001b[39m\u001b[38;5;132;01m%s\u001b[39;00m\u001b[38;5;124m\"\u001b[39m \u001b[38;5;241m%\u001b[39m\n\u001b[0;32m   1240\u001b[0m           \u001b[38;5;28mself\u001b[39m\u001b[38;5;241m.\u001b[39m\u001b[38;5;18m__class__\u001b[39m)\n\u001b[1;32m-> 1241\u001b[0m     \u001b[38;5;28;01mreturn\u001b[39;00m \u001b[38;5;28;43mself\u001b[39;49m\u001b[38;5;241;43m.\u001b[39;49m\u001b[43mread\u001b[49m\u001b[43m(\u001b[49m\u001b[43mnbytes\u001b[49m\u001b[43m,\u001b[49m\u001b[43m \u001b[49m\u001b[43mbuffer\u001b[49m\u001b[43m)\u001b[49m\n\u001b[0;32m   1242\u001b[0m \u001b[38;5;28;01melse\u001b[39;00m:\n",
      "File \u001b[1;32m~\\anaconda3\\envs\\py38\\lib\\ssl.py:1099\u001b[0m, in \u001b[0;36mSSLSocket.read\u001b[1;34m(self, len, buffer)\u001b[0m\n\u001b[0;32m   1098\u001b[0m \u001b[38;5;28;01mif\u001b[39;00m buffer \u001b[38;5;129;01mis\u001b[39;00m \u001b[38;5;129;01mnot\u001b[39;00m \u001b[38;5;28;01mNone\u001b[39;00m:\n\u001b[1;32m-> 1099\u001b[0m     \u001b[38;5;28;01mreturn\u001b[39;00m \u001b[38;5;28;43mself\u001b[39;49m\u001b[38;5;241;43m.\u001b[39;49m\u001b[43m_sslobj\u001b[49m\u001b[38;5;241;43m.\u001b[39;49m\u001b[43mread\u001b[49m\u001b[43m(\u001b[49m\u001b[38;5;28;43mlen\u001b[39;49m\u001b[43m,\u001b[49m\u001b[43m \u001b[49m\u001b[43mbuffer\u001b[49m\u001b[43m)\u001b[49m\n\u001b[0;32m   1100\u001b[0m \u001b[38;5;28;01melse\u001b[39;00m:\n",
      "\u001b[1;31mConnectionResetError\u001b[0m: [WinError 10054] 현재 연결은 원격 호스트에 의해 강제로 끊겼습니다",
      "\nDuring handling of the above exception, another exception occurred:\n",
      "\u001b[1;31mProtocolError\u001b[0m                             Traceback (most recent call last)",
      "File \u001b[1;32m~\\anaconda3\\envs\\py38\\lib\\site-packages\\requests\\adapters.py:486\u001b[0m, in \u001b[0;36mHTTPAdapter.send\u001b[1;34m(self, request, stream, timeout, verify, cert, proxies)\u001b[0m\n\u001b[0;32m    485\u001b[0m \u001b[38;5;28;01mtry\u001b[39;00m:\n\u001b[1;32m--> 486\u001b[0m     resp \u001b[38;5;241m=\u001b[39m \u001b[43mconn\u001b[49m\u001b[38;5;241;43m.\u001b[39;49m\u001b[43murlopen\u001b[49m\u001b[43m(\u001b[49m\n\u001b[0;32m    487\u001b[0m \u001b[43m        \u001b[49m\u001b[43mmethod\u001b[49m\u001b[38;5;241;43m=\u001b[39;49m\u001b[43mrequest\u001b[49m\u001b[38;5;241;43m.\u001b[39;49m\u001b[43mmethod\u001b[49m\u001b[43m,\u001b[49m\n\u001b[0;32m    488\u001b[0m \u001b[43m        \u001b[49m\u001b[43murl\u001b[49m\u001b[38;5;241;43m=\u001b[39;49m\u001b[43murl\u001b[49m\u001b[43m,\u001b[49m\n\u001b[0;32m    489\u001b[0m \u001b[43m        \u001b[49m\u001b[43mbody\u001b[49m\u001b[38;5;241;43m=\u001b[39;49m\u001b[43mrequest\u001b[49m\u001b[38;5;241;43m.\u001b[39;49m\u001b[43mbody\u001b[49m\u001b[43m,\u001b[49m\n\u001b[0;32m    490\u001b[0m \u001b[43m        \u001b[49m\u001b[43mheaders\u001b[49m\u001b[38;5;241;43m=\u001b[39;49m\u001b[43mrequest\u001b[49m\u001b[38;5;241;43m.\u001b[39;49m\u001b[43mheaders\u001b[49m\u001b[43m,\u001b[49m\n\u001b[0;32m    491\u001b[0m \u001b[43m        \u001b[49m\u001b[43mredirect\u001b[49m\u001b[38;5;241;43m=\u001b[39;49m\u001b[38;5;28;43;01mFalse\u001b[39;49;00m\u001b[43m,\u001b[49m\n\u001b[0;32m    492\u001b[0m \u001b[43m        \u001b[49m\u001b[43massert_same_host\u001b[49m\u001b[38;5;241;43m=\u001b[39;49m\u001b[38;5;28;43;01mFalse\u001b[39;49;00m\u001b[43m,\u001b[49m\n\u001b[0;32m    493\u001b[0m \u001b[43m        \u001b[49m\u001b[43mpreload_content\u001b[49m\u001b[38;5;241;43m=\u001b[39;49m\u001b[38;5;28;43;01mFalse\u001b[39;49;00m\u001b[43m,\u001b[49m\n\u001b[0;32m    494\u001b[0m \u001b[43m        \u001b[49m\u001b[43mdecode_content\u001b[49m\u001b[38;5;241;43m=\u001b[39;49m\u001b[38;5;28;43;01mFalse\u001b[39;49;00m\u001b[43m,\u001b[49m\n\u001b[0;32m    495\u001b[0m \u001b[43m        \u001b[49m\u001b[43mretries\u001b[49m\u001b[38;5;241;43m=\u001b[39;49m\u001b[38;5;28;43mself\u001b[39;49m\u001b[38;5;241;43m.\u001b[39;49m\u001b[43mmax_retries\u001b[49m\u001b[43m,\u001b[49m\n\u001b[0;32m    496\u001b[0m \u001b[43m        \u001b[49m\u001b[43mtimeout\u001b[49m\u001b[38;5;241;43m=\u001b[39;49m\u001b[43mtimeout\u001b[49m\u001b[43m,\u001b[49m\n\u001b[0;32m    497\u001b[0m \u001b[43m        \u001b[49m\u001b[43mchunked\u001b[49m\u001b[38;5;241;43m=\u001b[39;49m\u001b[43mchunked\u001b[49m\u001b[43m,\u001b[49m\n\u001b[0;32m    498\u001b[0m \u001b[43m    \u001b[49m\u001b[43m)\u001b[49m\n\u001b[0;32m    500\u001b[0m \u001b[38;5;28;01mexcept\u001b[39;00m (ProtocolError, \u001b[38;5;167;01mOSError\u001b[39;00m) \u001b[38;5;28;01mas\u001b[39;00m err:\n",
      "File \u001b[1;32m~\\anaconda3\\envs\\py38\\lib\\site-packages\\urllib3\\connectionpool.py:785\u001b[0m, in \u001b[0;36mHTTPConnectionPool.urlopen\u001b[1;34m(self, method, url, body, headers, retries, redirect, assert_same_host, timeout, pool_timeout, release_conn, chunked, body_pos, **response_kw)\u001b[0m\n\u001b[0;32m    783\u001b[0m     e \u001b[38;5;241m=\u001b[39m ProtocolError(\u001b[38;5;124m\"\u001b[39m\u001b[38;5;124mConnection aborted.\u001b[39m\u001b[38;5;124m\"\u001b[39m, e)\n\u001b[1;32m--> 785\u001b[0m retries \u001b[38;5;241m=\u001b[39m \u001b[43mretries\u001b[49m\u001b[38;5;241;43m.\u001b[39;49m\u001b[43mincrement\u001b[49m\u001b[43m(\u001b[49m\n\u001b[0;32m    786\u001b[0m \u001b[43m    \u001b[49m\u001b[43mmethod\u001b[49m\u001b[43m,\u001b[49m\u001b[43m \u001b[49m\u001b[43murl\u001b[49m\u001b[43m,\u001b[49m\u001b[43m \u001b[49m\u001b[43merror\u001b[49m\u001b[38;5;241;43m=\u001b[39;49m\u001b[43me\u001b[49m\u001b[43m,\u001b[49m\u001b[43m \u001b[49m\u001b[43m_pool\u001b[49m\u001b[38;5;241;43m=\u001b[39;49m\u001b[38;5;28;43mself\u001b[39;49m\u001b[43m,\u001b[49m\u001b[43m \u001b[49m\u001b[43m_stacktrace\u001b[49m\u001b[38;5;241;43m=\u001b[39;49m\u001b[43msys\u001b[49m\u001b[38;5;241;43m.\u001b[39;49m\u001b[43mexc_info\u001b[49m\u001b[43m(\u001b[49m\u001b[43m)\u001b[49m\u001b[43m[\u001b[49m\u001b[38;5;241;43m2\u001b[39;49m\u001b[43m]\u001b[49m\n\u001b[0;32m    787\u001b[0m \u001b[43m\u001b[49m\u001b[43m)\u001b[49m\n\u001b[0;32m    788\u001b[0m retries\u001b[38;5;241m.\u001b[39msleep()\n",
      "File \u001b[1;32m~\\anaconda3\\envs\\py38\\lib\\site-packages\\urllib3\\util\\retry.py:550\u001b[0m, in \u001b[0;36mRetry.increment\u001b[1;34m(self, method, url, response, error, _pool, _stacktrace)\u001b[0m\n\u001b[0;32m    549\u001b[0m \u001b[38;5;28;01mif\u001b[39;00m read \u001b[38;5;129;01mis\u001b[39;00m \u001b[38;5;28;01mFalse\u001b[39;00m \u001b[38;5;129;01mor\u001b[39;00m \u001b[38;5;129;01mnot\u001b[39;00m \u001b[38;5;28mself\u001b[39m\u001b[38;5;241m.\u001b[39m_is_method_retryable(method):\n\u001b[1;32m--> 550\u001b[0m     \u001b[38;5;28;01mraise\u001b[39;00m \u001b[43msix\u001b[49m\u001b[38;5;241;43m.\u001b[39;49m\u001b[43mreraise\u001b[49m\u001b[43m(\u001b[49m\u001b[38;5;28;43mtype\u001b[39;49m\u001b[43m(\u001b[49m\u001b[43merror\u001b[49m\u001b[43m)\u001b[49m\u001b[43m,\u001b[49m\u001b[43m \u001b[49m\u001b[43merror\u001b[49m\u001b[43m,\u001b[49m\u001b[43m \u001b[49m\u001b[43m_stacktrace\u001b[49m\u001b[43m)\u001b[49m\n\u001b[0;32m    551\u001b[0m \u001b[38;5;28;01melif\u001b[39;00m read \u001b[38;5;129;01mis\u001b[39;00m \u001b[38;5;129;01mnot\u001b[39;00m \u001b[38;5;28;01mNone\u001b[39;00m:\n",
      "File \u001b[1;32m~\\anaconda3\\envs\\py38\\lib\\site-packages\\urllib3\\packages\\six.py:769\u001b[0m, in \u001b[0;36mreraise\u001b[1;34m(tp, value, tb)\u001b[0m\n\u001b[0;32m    768\u001b[0m \u001b[38;5;28;01mif\u001b[39;00m value\u001b[38;5;241m.\u001b[39m__traceback__ \u001b[38;5;129;01mis\u001b[39;00m \u001b[38;5;129;01mnot\u001b[39;00m tb:\n\u001b[1;32m--> 769\u001b[0m     \u001b[38;5;28;01mraise\u001b[39;00m value\u001b[38;5;241m.\u001b[39mwith_traceback(tb)\n\u001b[0;32m    770\u001b[0m \u001b[38;5;28;01mraise\u001b[39;00m value\n",
      "File \u001b[1;32m~\\anaconda3\\envs\\py38\\lib\\site-packages\\urllib3\\connectionpool.py:703\u001b[0m, in \u001b[0;36mHTTPConnectionPool.urlopen\u001b[1;34m(self, method, url, body, headers, retries, redirect, assert_same_host, timeout, pool_timeout, release_conn, chunked, body_pos, **response_kw)\u001b[0m\n\u001b[0;32m    702\u001b[0m \u001b[38;5;66;03m# Make the request on the httplib connection object.\u001b[39;00m\n\u001b[1;32m--> 703\u001b[0m httplib_response \u001b[38;5;241m=\u001b[39m \u001b[38;5;28;43mself\u001b[39;49m\u001b[38;5;241;43m.\u001b[39;49m\u001b[43m_make_request\u001b[49m\u001b[43m(\u001b[49m\n\u001b[0;32m    704\u001b[0m \u001b[43m    \u001b[49m\u001b[43mconn\u001b[49m\u001b[43m,\u001b[49m\n\u001b[0;32m    705\u001b[0m \u001b[43m    \u001b[49m\u001b[43mmethod\u001b[49m\u001b[43m,\u001b[49m\n\u001b[0;32m    706\u001b[0m \u001b[43m    \u001b[49m\u001b[43murl\u001b[49m\u001b[43m,\u001b[49m\n\u001b[0;32m    707\u001b[0m \u001b[43m    \u001b[49m\u001b[43mtimeout\u001b[49m\u001b[38;5;241;43m=\u001b[39;49m\u001b[43mtimeout_obj\u001b[49m\u001b[43m,\u001b[49m\n\u001b[0;32m    708\u001b[0m \u001b[43m    \u001b[49m\u001b[43mbody\u001b[49m\u001b[38;5;241;43m=\u001b[39;49m\u001b[43mbody\u001b[49m\u001b[43m,\u001b[49m\n\u001b[0;32m    709\u001b[0m \u001b[43m    \u001b[49m\u001b[43mheaders\u001b[49m\u001b[38;5;241;43m=\u001b[39;49m\u001b[43mheaders\u001b[49m\u001b[43m,\u001b[49m\n\u001b[0;32m    710\u001b[0m \u001b[43m    \u001b[49m\u001b[43mchunked\u001b[49m\u001b[38;5;241;43m=\u001b[39;49m\u001b[43mchunked\u001b[49m\u001b[43m,\u001b[49m\n\u001b[0;32m    711\u001b[0m \u001b[43m\u001b[49m\u001b[43m)\u001b[49m\n\u001b[0;32m    713\u001b[0m \u001b[38;5;66;03m# If we're going to release the connection in ``finally:``, then\u001b[39;00m\n\u001b[0;32m    714\u001b[0m \u001b[38;5;66;03m# the response doesn't need to know about the connection. Otherwise\u001b[39;00m\n\u001b[0;32m    715\u001b[0m \u001b[38;5;66;03m# it will also try to release it and we'll have a double-release\u001b[39;00m\n\u001b[0;32m    716\u001b[0m \u001b[38;5;66;03m# mess.\u001b[39;00m\n",
      "File \u001b[1;32m~\\anaconda3\\envs\\py38\\lib\\site-packages\\urllib3\\connectionpool.py:449\u001b[0m, in \u001b[0;36mHTTPConnectionPool._make_request\u001b[1;34m(self, conn, method, url, timeout, chunked, **httplib_request_kw)\u001b[0m\n\u001b[0;32m    445\u001b[0m         \u001b[38;5;28;01mexcept\u001b[39;00m \u001b[38;5;167;01mBaseException\u001b[39;00m \u001b[38;5;28;01mas\u001b[39;00m e:\n\u001b[0;32m    446\u001b[0m             \u001b[38;5;66;03m# Remove the TypeError from the exception chain in\u001b[39;00m\n\u001b[0;32m    447\u001b[0m             \u001b[38;5;66;03m# Python 3 (including for exceptions like SystemExit).\u001b[39;00m\n\u001b[0;32m    448\u001b[0m             \u001b[38;5;66;03m# Otherwise it looks like a bug in the code.\u001b[39;00m\n\u001b[1;32m--> 449\u001b[0m             \u001b[43msix\u001b[49m\u001b[38;5;241;43m.\u001b[39;49m\u001b[43mraise_from\u001b[49m\u001b[43m(\u001b[49m\u001b[43me\u001b[49m\u001b[43m,\u001b[49m\u001b[43m \u001b[49m\u001b[38;5;28;43;01mNone\u001b[39;49;00m\u001b[43m)\u001b[49m\n\u001b[0;32m    450\u001b[0m \u001b[38;5;28;01mexcept\u001b[39;00m (SocketTimeout, BaseSSLError, SocketError) \u001b[38;5;28;01mas\u001b[39;00m e:\n",
      "File \u001b[1;32m<string>:3\u001b[0m, in \u001b[0;36mraise_from\u001b[1;34m(value, from_value)\u001b[0m\n",
      "File \u001b[1;32m~\\anaconda3\\envs\\py38\\lib\\site-packages\\urllib3\\connectionpool.py:444\u001b[0m, in \u001b[0;36mHTTPConnectionPool._make_request\u001b[1;34m(self, conn, method, url, timeout, chunked, **httplib_request_kw)\u001b[0m\n\u001b[0;32m    443\u001b[0m \u001b[38;5;28;01mtry\u001b[39;00m:\n\u001b[1;32m--> 444\u001b[0m     httplib_response \u001b[38;5;241m=\u001b[39m \u001b[43mconn\u001b[49m\u001b[38;5;241;43m.\u001b[39;49m\u001b[43mgetresponse\u001b[49m\u001b[43m(\u001b[49m\u001b[43m)\u001b[49m\n\u001b[0;32m    445\u001b[0m \u001b[38;5;28;01mexcept\u001b[39;00m \u001b[38;5;167;01mBaseException\u001b[39;00m \u001b[38;5;28;01mas\u001b[39;00m e:\n\u001b[0;32m    446\u001b[0m     \u001b[38;5;66;03m# Remove the TypeError from the exception chain in\u001b[39;00m\n\u001b[0;32m    447\u001b[0m     \u001b[38;5;66;03m# Python 3 (including for exceptions like SystemExit).\u001b[39;00m\n\u001b[0;32m    448\u001b[0m     \u001b[38;5;66;03m# Otherwise it looks like a bug in the code.\u001b[39;00m\n",
      "File \u001b[1;32m~\\anaconda3\\envs\\py38\\lib\\http\\client.py:1348\u001b[0m, in \u001b[0;36mHTTPConnection.getresponse\u001b[1;34m(self)\u001b[0m\n\u001b[0;32m   1347\u001b[0m \u001b[38;5;28;01mtry\u001b[39;00m:\n\u001b[1;32m-> 1348\u001b[0m     \u001b[43mresponse\u001b[49m\u001b[38;5;241;43m.\u001b[39;49m\u001b[43mbegin\u001b[49m\u001b[43m(\u001b[49m\u001b[43m)\u001b[49m\n\u001b[0;32m   1349\u001b[0m \u001b[38;5;28;01mexcept\u001b[39;00m \u001b[38;5;167;01mConnectionError\u001b[39;00m:\n",
      "File \u001b[1;32m~\\anaconda3\\envs\\py38\\lib\\http\\client.py:316\u001b[0m, in \u001b[0;36mHTTPResponse.begin\u001b[1;34m(self)\u001b[0m\n\u001b[0;32m    315\u001b[0m \u001b[38;5;28;01mwhile\u001b[39;00m \u001b[38;5;28;01mTrue\u001b[39;00m:\n\u001b[1;32m--> 316\u001b[0m     version, status, reason \u001b[38;5;241m=\u001b[39m \u001b[38;5;28;43mself\u001b[39;49m\u001b[38;5;241;43m.\u001b[39;49m\u001b[43m_read_status\u001b[49m\u001b[43m(\u001b[49m\u001b[43m)\u001b[49m\n\u001b[0;32m    317\u001b[0m     \u001b[38;5;28;01mif\u001b[39;00m status \u001b[38;5;241m!=\u001b[39m CONTINUE:\n",
      "File \u001b[1;32m~\\anaconda3\\envs\\py38\\lib\\http\\client.py:277\u001b[0m, in \u001b[0;36mHTTPResponse._read_status\u001b[1;34m(self)\u001b[0m\n\u001b[0;32m    276\u001b[0m \u001b[38;5;28;01mdef\u001b[39;00m \u001b[38;5;21m_read_status\u001b[39m(\u001b[38;5;28mself\u001b[39m):\n\u001b[1;32m--> 277\u001b[0m     line \u001b[38;5;241m=\u001b[39m \u001b[38;5;28mstr\u001b[39m(\u001b[38;5;28;43mself\u001b[39;49m\u001b[38;5;241;43m.\u001b[39;49m\u001b[43mfp\u001b[49m\u001b[38;5;241;43m.\u001b[39;49m\u001b[43mreadline\u001b[49m\u001b[43m(\u001b[49m\u001b[43m_MAXLINE\u001b[49m\u001b[43m \u001b[49m\u001b[38;5;241;43m+\u001b[39;49m\u001b[43m \u001b[49m\u001b[38;5;241;43m1\u001b[39;49m\u001b[43m)\u001b[49m, \u001b[38;5;124m\"\u001b[39m\u001b[38;5;124miso-8859-1\u001b[39m\u001b[38;5;124m\"\u001b[39m)\n\u001b[0;32m    278\u001b[0m     \u001b[38;5;28;01mif\u001b[39;00m \u001b[38;5;28mlen\u001b[39m(line) \u001b[38;5;241m>\u001b[39m _MAXLINE:\n",
      "File \u001b[1;32m~\\anaconda3\\envs\\py38\\lib\\socket.py:669\u001b[0m, in \u001b[0;36mSocketIO.readinto\u001b[1;34m(self, b)\u001b[0m\n\u001b[0;32m    668\u001b[0m \u001b[38;5;28;01mtry\u001b[39;00m:\n\u001b[1;32m--> 669\u001b[0m     \u001b[38;5;28;01mreturn\u001b[39;00m \u001b[38;5;28;43mself\u001b[39;49m\u001b[38;5;241;43m.\u001b[39;49m\u001b[43m_sock\u001b[49m\u001b[38;5;241;43m.\u001b[39;49m\u001b[43mrecv_into\u001b[49m\u001b[43m(\u001b[49m\u001b[43mb\u001b[49m\u001b[43m)\u001b[49m\n\u001b[0;32m    670\u001b[0m \u001b[38;5;28;01mexcept\u001b[39;00m timeout:\n",
      "File \u001b[1;32m~\\anaconda3\\envs\\py38\\lib\\ssl.py:1241\u001b[0m, in \u001b[0;36mSSLSocket.recv_into\u001b[1;34m(self, buffer, nbytes, flags)\u001b[0m\n\u001b[0;32m   1238\u001b[0m         \u001b[38;5;28;01mraise\u001b[39;00m \u001b[38;5;167;01mValueError\u001b[39;00m(\n\u001b[0;32m   1239\u001b[0m           \u001b[38;5;124m\"\u001b[39m\u001b[38;5;124mnon-zero flags not allowed in calls to recv_into() on \u001b[39m\u001b[38;5;132;01m%s\u001b[39;00m\u001b[38;5;124m\"\u001b[39m \u001b[38;5;241m%\u001b[39m\n\u001b[0;32m   1240\u001b[0m           \u001b[38;5;28mself\u001b[39m\u001b[38;5;241m.\u001b[39m\u001b[38;5;18m__class__\u001b[39m)\n\u001b[1;32m-> 1241\u001b[0m     \u001b[38;5;28;01mreturn\u001b[39;00m \u001b[38;5;28;43mself\u001b[39;49m\u001b[38;5;241;43m.\u001b[39;49m\u001b[43mread\u001b[49m\u001b[43m(\u001b[49m\u001b[43mnbytes\u001b[49m\u001b[43m,\u001b[49m\u001b[43m \u001b[49m\u001b[43mbuffer\u001b[49m\u001b[43m)\u001b[49m\n\u001b[0;32m   1242\u001b[0m \u001b[38;5;28;01melse\u001b[39;00m:\n",
      "File \u001b[1;32m~\\anaconda3\\envs\\py38\\lib\\ssl.py:1099\u001b[0m, in \u001b[0;36mSSLSocket.read\u001b[1;34m(self, len, buffer)\u001b[0m\n\u001b[0;32m   1098\u001b[0m \u001b[38;5;28;01mif\u001b[39;00m buffer \u001b[38;5;129;01mis\u001b[39;00m \u001b[38;5;129;01mnot\u001b[39;00m \u001b[38;5;28;01mNone\u001b[39;00m:\n\u001b[1;32m-> 1099\u001b[0m     \u001b[38;5;28;01mreturn\u001b[39;00m \u001b[38;5;28;43mself\u001b[39;49m\u001b[38;5;241;43m.\u001b[39;49m\u001b[43m_sslobj\u001b[49m\u001b[38;5;241;43m.\u001b[39;49m\u001b[43mread\u001b[49m\u001b[43m(\u001b[49m\u001b[38;5;28;43mlen\u001b[39;49m\u001b[43m,\u001b[49m\u001b[43m \u001b[49m\u001b[43mbuffer\u001b[49m\u001b[43m)\u001b[49m\n\u001b[0;32m   1100\u001b[0m \u001b[38;5;28;01melse\u001b[39;00m:\n",
      "\u001b[1;31mProtocolError\u001b[0m: ('Connection aborted.', ConnectionResetError(10054, '현재 연결은 원격 호스트에 의해 강제로 끊겼습니다', None, 10054, None))",
      "\nDuring handling of the above exception, another exception occurred:\n",
      "\u001b[1;31mConnectionError\u001b[0m                           Traceback (most recent call last)",
      "Input \u001b[1;32mIn [241]\u001b[0m, in \u001b[0;36m<cell line: 3>\u001b[1;34m()\u001b[0m\n\u001b[0;32m      1\u001b[0m news_content \u001b[38;5;241m=\u001b[39m []\n\u001b[0;32m      3\u001b[0m \u001b[38;5;28;01mfor\u001b[39;00m urls \u001b[38;5;129;01min\u001b[39;00m news_link:\n\u001b[1;32m----> 4\u001b[0m     response \u001b[38;5;241m=\u001b[39m \u001b[43mrequests\u001b[49m\u001b[38;5;241;43m.\u001b[39;49m\u001b[43mget\u001b[49m\u001b[43m(\u001b[49m\u001b[43murls\u001b[49m\u001b[43m)\u001b[49m\n\u001b[0;32m      5\u001b[0m     html \u001b[38;5;241m=\u001b[39m response\u001b[38;5;241m.\u001b[39mtext\n\u001b[0;32m      6\u001b[0m     soup \u001b[38;5;241m=\u001b[39m bs(html,\u001b[38;5;124m'\u001b[39m\u001b[38;5;124mhtml.parser\u001b[39m\u001b[38;5;124m'\u001b[39m)\n",
      "File \u001b[1;32m~\\anaconda3\\envs\\py38\\lib\\site-packages\\requests\\api.py:73\u001b[0m, in \u001b[0;36mget\u001b[1;34m(url, params, **kwargs)\u001b[0m\n\u001b[0;32m     62\u001b[0m \u001b[38;5;28;01mdef\u001b[39;00m \u001b[38;5;21mget\u001b[39m(url, params\u001b[38;5;241m=\u001b[39m\u001b[38;5;28;01mNone\u001b[39;00m, \u001b[38;5;241m*\u001b[39m\u001b[38;5;241m*\u001b[39mkwargs):\n\u001b[0;32m     63\u001b[0m     \u001b[38;5;124mr\u001b[39m\u001b[38;5;124;03m\"\"\"Sends a GET request.\u001b[39;00m\n\u001b[0;32m     64\u001b[0m \n\u001b[0;32m     65\u001b[0m \u001b[38;5;124;03m    :param url: URL for the new :class:`Request` object.\u001b[39;00m\n\u001b[1;32m   (...)\u001b[0m\n\u001b[0;32m     70\u001b[0m \u001b[38;5;124;03m    :rtype: requests.Response\u001b[39;00m\n\u001b[0;32m     71\u001b[0m \u001b[38;5;124;03m    \"\"\"\u001b[39;00m\n\u001b[1;32m---> 73\u001b[0m     \u001b[38;5;28;01mreturn\u001b[39;00m \u001b[43mrequest\u001b[49m\u001b[43m(\u001b[49m\u001b[38;5;124;43m\"\u001b[39;49m\u001b[38;5;124;43mget\u001b[39;49m\u001b[38;5;124;43m\"\u001b[39;49m\u001b[43m,\u001b[49m\u001b[43m \u001b[49m\u001b[43murl\u001b[49m\u001b[43m,\u001b[49m\u001b[43m \u001b[49m\u001b[43mparams\u001b[49m\u001b[38;5;241;43m=\u001b[39;49m\u001b[43mparams\u001b[49m\u001b[43m,\u001b[49m\u001b[43m \u001b[49m\u001b[38;5;241;43m*\u001b[39;49m\u001b[38;5;241;43m*\u001b[39;49m\u001b[43mkwargs\u001b[49m\u001b[43m)\u001b[49m\n",
      "File \u001b[1;32m~\\anaconda3\\envs\\py38\\lib\\site-packages\\requests\\api.py:59\u001b[0m, in \u001b[0;36mrequest\u001b[1;34m(method, url, **kwargs)\u001b[0m\n\u001b[0;32m     55\u001b[0m \u001b[38;5;66;03m# By using the 'with' statement we are sure the session is closed, thus we\u001b[39;00m\n\u001b[0;32m     56\u001b[0m \u001b[38;5;66;03m# avoid leaving sockets open which can trigger a ResourceWarning in some\u001b[39;00m\n\u001b[0;32m     57\u001b[0m \u001b[38;5;66;03m# cases, and look like a memory leak in others.\u001b[39;00m\n\u001b[0;32m     58\u001b[0m \u001b[38;5;28;01mwith\u001b[39;00m sessions\u001b[38;5;241m.\u001b[39mSession() \u001b[38;5;28;01mas\u001b[39;00m session:\n\u001b[1;32m---> 59\u001b[0m     \u001b[38;5;28;01mreturn\u001b[39;00m \u001b[43msession\u001b[49m\u001b[38;5;241;43m.\u001b[39;49m\u001b[43mrequest\u001b[49m\u001b[43m(\u001b[49m\u001b[43mmethod\u001b[49m\u001b[38;5;241;43m=\u001b[39;49m\u001b[43mmethod\u001b[49m\u001b[43m,\u001b[49m\u001b[43m \u001b[49m\u001b[43murl\u001b[49m\u001b[38;5;241;43m=\u001b[39;49m\u001b[43murl\u001b[49m\u001b[43m,\u001b[49m\u001b[43m \u001b[49m\u001b[38;5;241;43m*\u001b[39;49m\u001b[38;5;241;43m*\u001b[39;49m\u001b[43mkwargs\u001b[49m\u001b[43m)\u001b[49m\n",
      "File \u001b[1;32m~\\anaconda3\\envs\\py38\\lib\\site-packages\\requests\\sessions.py:589\u001b[0m, in \u001b[0;36mSession.request\u001b[1;34m(self, method, url, params, data, headers, cookies, files, auth, timeout, allow_redirects, proxies, hooks, stream, verify, cert, json)\u001b[0m\n\u001b[0;32m    584\u001b[0m send_kwargs \u001b[38;5;241m=\u001b[39m {\n\u001b[0;32m    585\u001b[0m     \u001b[38;5;124m\"\u001b[39m\u001b[38;5;124mtimeout\u001b[39m\u001b[38;5;124m\"\u001b[39m: timeout,\n\u001b[0;32m    586\u001b[0m     \u001b[38;5;124m\"\u001b[39m\u001b[38;5;124mallow_redirects\u001b[39m\u001b[38;5;124m\"\u001b[39m: allow_redirects,\n\u001b[0;32m    587\u001b[0m }\n\u001b[0;32m    588\u001b[0m send_kwargs\u001b[38;5;241m.\u001b[39mupdate(settings)\n\u001b[1;32m--> 589\u001b[0m resp \u001b[38;5;241m=\u001b[39m \u001b[38;5;28;43mself\u001b[39;49m\u001b[38;5;241;43m.\u001b[39;49m\u001b[43msend\u001b[49m\u001b[43m(\u001b[49m\u001b[43mprep\u001b[49m\u001b[43m,\u001b[49m\u001b[43m \u001b[49m\u001b[38;5;241;43m*\u001b[39;49m\u001b[38;5;241;43m*\u001b[39;49m\u001b[43msend_kwargs\u001b[49m\u001b[43m)\u001b[49m\n\u001b[0;32m    591\u001b[0m \u001b[38;5;28;01mreturn\u001b[39;00m resp\n",
      "File \u001b[1;32m~\\anaconda3\\envs\\py38\\lib\\site-packages\\requests\\sessions.py:703\u001b[0m, in \u001b[0;36mSession.send\u001b[1;34m(self, request, **kwargs)\u001b[0m\n\u001b[0;32m    700\u001b[0m start \u001b[38;5;241m=\u001b[39m preferred_clock()\n\u001b[0;32m    702\u001b[0m \u001b[38;5;66;03m# Send the request\u001b[39;00m\n\u001b[1;32m--> 703\u001b[0m r \u001b[38;5;241m=\u001b[39m \u001b[43madapter\u001b[49m\u001b[38;5;241;43m.\u001b[39;49m\u001b[43msend\u001b[49m\u001b[43m(\u001b[49m\u001b[43mrequest\u001b[49m\u001b[43m,\u001b[49m\u001b[43m \u001b[49m\u001b[38;5;241;43m*\u001b[39;49m\u001b[38;5;241;43m*\u001b[39;49m\u001b[43mkwargs\u001b[49m\u001b[43m)\u001b[49m\n\u001b[0;32m    705\u001b[0m \u001b[38;5;66;03m# Total elapsed time of the request (approximately)\u001b[39;00m\n\u001b[0;32m    706\u001b[0m elapsed \u001b[38;5;241m=\u001b[39m preferred_clock() \u001b[38;5;241m-\u001b[39m start\n",
      "File \u001b[1;32m~\\anaconda3\\envs\\py38\\lib\\site-packages\\requests\\adapters.py:501\u001b[0m, in \u001b[0;36mHTTPAdapter.send\u001b[1;34m(self, request, stream, timeout, verify, cert, proxies)\u001b[0m\n\u001b[0;32m    486\u001b[0m     resp \u001b[38;5;241m=\u001b[39m conn\u001b[38;5;241m.\u001b[39murlopen(\n\u001b[0;32m    487\u001b[0m         method\u001b[38;5;241m=\u001b[39mrequest\u001b[38;5;241m.\u001b[39mmethod,\n\u001b[0;32m    488\u001b[0m         url\u001b[38;5;241m=\u001b[39murl,\n\u001b[1;32m   (...)\u001b[0m\n\u001b[0;32m    497\u001b[0m         chunked\u001b[38;5;241m=\u001b[39mchunked,\n\u001b[0;32m    498\u001b[0m     )\n\u001b[0;32m    500\u001b[0m \u001b[38;5;28;01mexcept\u001b[39;00m (ProtocolError, \u001b[38;5;167;01mOSError\u001b[39;00m) \u001b[38;5;28;01mas\u001b[39;00m err:\n\u001b[1;32m--> 501\u001b[0m     \u001b[38;5;28;01mraise\u001b[39;00m \u001b[38;5;167;01mConnectionError\u001b[39;00m(err, request\u001b[38;5;241m=\u001b[39mrequest)\n\u001b[0;32m    503\u001b[0m \u001b[38;5;28;01mexcept\u001b[39;00m MaxRetryError \u001b[38;5;28;01mas\u001b[39;00m e:\n\u001b[0;32m    504\u001b[0m     \u001b[38;5;28;01mif\u001b[39;00m \u001b[38;5;28misinstance\u001b[39m(e\u001b[38;5;241m.\u001b[39mreason, ConnectTimeoutError):\n\u001b[0;32m    505\u001b[0m         \u001b[38;5;66;03m# TODO: Remove this in 3.0.0: see #2811\u001b[39;00m\n",
      "\u001b[1;31mConnectionError\u001b[0m: ('Connection aborted.', ConnectionResetError(10054, '현재 연결은 원격 호스트에 의해 강제로 끊겼습니다', None, 10054, None))"
     ]
    }
   ],
   "source": [
    "news_content = []\n",
    "\n",
    "for urls in news_link:\n",
    "    response = requests.get(urls)\n",
    "    html = response.text\n",
    "    soup = bs(html,'html.parser')\n",
    "    content = soup.select('#content > div.articleView > div.view > div.viewer')\n",
    "    news_content.append(content)\n",
    "print(news_content)"
   ]
  },
  {
   "cell_type": "code",
   "execution_count": 84,
   "id": "288d9208-88ad-468a-97a7-83ff5bfd4c5d",
   "metadata": {},
   "outputs": [],
   "source": [
    "title = []\n",
    "news = []\n",
    "\n",
    "try:\n",
    "    for i in range(2):\n",
    "        news_title = driver.find_elements(By.CSS_SELECTOR,'.list_news li.bx a.news_tit') # 제목 크롤링\n",
    "        for t in news_title:\n",
    "            title.append(t.text)\n",
    "            \n",
    "        for z in range(10):\n",
    "            driver.find_element(By.CSS_SELECTOR,'.list_news li.bx a.news_tit').click() # 뉴스 클릭\n",
    "            driver.switch_to.window(driver.window_handles[-1]) # 새탭으로 이동\n",
    "            sleep(1)\n",
    "\n",
    "            content = driver.find_elements(By.CSS_SELECTOR,'.viewer article')\n",
    "            for n in content:\n",
    "                news.append(n.text.replace('\\n',''))\n",
    "\n",
    "            driver.close()  #링크 이동 후 탭 닫기\n",
    "            driver.switch_to.window(driver.window_handles[-1])  #다시 이전 창(탭)으로 이동\n",
    "        driver.find_element(By.XPATH,'//*[@id=\"main_pack\"]/div[2]/div/a[2]').click() # 다음 페이지 클릭\n",
    "except:\n",
    "    driver.quit()"
   ]
  },
  {
   "cell_type": "code",
   "execution_count": 85,
   "id": "a525c4c5-8686-4f0f-9b6b-2142b4b5709c",
   "metadata": {},
   "outputs": [
    {
     "data": {
      "text/plain": [
       "['\"MTS 먹통\"…토스증권, 올해 전산 장애 \\'최다\\'',\n",
       " \"네이버부터 카카오·토스까지 바다 건너서도 '페이전쟁'\",\n",
       " '토스뱅크, 전월세대출 출시 “금리는 최저 연 3.32%”',\n",
       " \"토스뱅크 '전세패키지' 내놨다\",\n",
       " '토스뱅크, 최저 연 3.32% 전월세대출 출시',\n",
       " '막내 토스 반란, 인터넷은행·증권 판도 흔든다',\n",
       " '만기앞둔 예금 100조… 은행권, 고객재유치 금리경쟁 가열',\n",
       " \"토스뱅크, '목돈 굴리기'에서 삼성증권 판매 채권 소개 개시\",\n",
       " '발언하는 홍민택 토스뱅크 대표',\n",
       " \"[단독] 토스證, 올해도 '전산오류 1위' 불명예\"]"
      ]
     },
     "execution_count": 85,
     "metadata": {},
     "output_type": "execute_result"
    }
   ],
   "source": [
    "title"
   ]
  },
  {
   "cell_type": "code",
   "execution_count": 157,
   "id": "7c05c627-58f9-4f8b-8d30-344be68e0f9f",
   "metadata": {},
   "outputs": [],
   "source": [
    "title = []\n",
    "news = []\n",
    "\n",
    "try:\n",
    "    for i in range(50):\n",
    "        news_title = driver.find_elements(By.CSS_SELECTOR,'.list_news li.bx a.news_tit')\n",
    "        for t in news_title:\n",
    "            title.append(t.text)\n",
    "        driver.find_elements(By.CSS_SELECTOR,'.list_news li.bx a.news_tit').click()\n",
    "        driver.find_element(By.XPATH,'//*[@id=\"main_pack\"]/div[2]/div/a[2]').click()\n",
    "except:\n",
    "    driver.quit()"
   ]
  },
  {
   "cell_type": "code",
   "execution_count": 161,
   "id": "2ec71f3d-cd0c-410b-8c36-55ca4fbcb9b2",
   "metadata": {},
   "outputs": [
    {
     "data": {
      "text/plain": [
       "[\"[단독] 토스證, 올해도 '전산오류 1위' 불명예\",\n",
       " \"토스뱅크, '목돈 굴리기'에서 삼성증권 채권상품 소개\",\n",
       " \"토스뱅크 '전세패키지' 내놨다\",\n",
       " '토스뱅크, 전월세대출 출시 “금리는 최저 연 3.32%”',\n",
       " '토스뱅크, 최저 연 3.32% 전월세대출 출시',\n",
       " '\"주담대, 하긴 해야 하는데…\" 토스뱅크의 딜레마',\n",
       " 'KIA 산체스 이달 말 복귀할 듯…“토스 시작했는데 통증 없다더라”',\n",
       " '토스 행운퀴즈 정답 9월 7일',\n",
       " '막 오른 인뱅 전월세대출 경쟁…어디가 유리하나',\n",
       " '발언하는 홍민택 토스뱅크 대표',\n",
       " '토스 행운퀴즈 정답 9월 7일',\n",
       " \"[포토] 토스뱅크, '한경 핀테크대상' 서비스 분야 대상 수상\",\n",
       " '토스뱅크, 전·월세 보증금 대출 출시',\n",
       " '전월세보증금 대출 출시한 토스뱅크…주담대는 미정',\n",
       " '홍민택 토스뱅크 대표 \"주담대 출시 시기 미정…시장환경 맞아야\"']"
      ]
     },
     "execution_count": 161,
     "metadata": {},
     "output_type": "execute_result"
    }
   ],
   "source": [
    "title[:15]"
   ]
  },
  {
   "cell_type": "code",
   "execution_count": null,
   "id": "8daeb9ac-647e-409f-8ac4-02fa34e37ac4",
   "metadata": {},
   "outputs": [],
   "source": []
  }
 ],
 "metadata": {
  "kernelspec": {
   "display_name": "Python 3 (ipykernel)",
   "language": "python",
   "name": "python3"
  },
  "language_info": {
   "codemirror_mode": {
    "name": "ipython",
    "version": 3
   },
   "file_extension": ".py",
   "mimetype": "text/x-python",
   "name": "python",
   "nbconvert_exporter": "python",
   "pygments_lexer": "ipython3",
   "version": "3.8.13"
  }
 },
 "nbformat": 4,
 "nbformat_minor": 5
}
