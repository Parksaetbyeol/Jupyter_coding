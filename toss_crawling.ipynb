{
 "cells": [
  {
   "cell_type": "markdown",
   "id": "498063cb-aa28-41bc-904a-e87fd9c093db",
   "metadata": {},
   "source": [
    "# requests, beautifulsoup\n",
    "- 토스 뉴스타이틀 가져오기"
   ]
  },
  {
   "cell_type": "code",
   "execution_count": 1,
   "id": "1690de62-2047-445e-aeb8-ab7dc6e18250",
   "metadata": {},
   "outputs": [],
   "source": [
    "import numpy as np\n",
    "import pandas as pd\n",
    "import requests\n",
    "from bs4 import BeautifulSoup as bs"
   ]
  },
  {
   "cell_type": "code",
   "execution_count": 3,
   "id": "6d4de5dd-2a9a-44f7-9865-ce4ea4f6e07e",
   "metadata": {},
   "outputs": [
    {
     "data": {
      "text/plain": [
       "200"
      ]
     },
     "execution_count": 3,
     "metadata": {},
     "output_type": "execute_result"
    }
   ],
   "source": [
    "url = 'https://search.naver.com/search.naver?where=news&query=%ED%86%A0%EC%8A%A4&sm=tab_tmr&nso=so:r,p:all,a:all&sort=0'\n",
    "response  = requests.get(url)\n",
    "response.status_code"
   ]
  },
  {
   "cell_type": "code",
   "execution_count": 4,
   "id": "131d9057-9ada-4a66-a5db-dacc2f5ba9a7",
   "metadata": {
    "tags": []
   },
   "outputs": [],
   "source": [
    "html = response.text\n",
    "soup = bs(html, \"html.parser\")"
   ]
  },
  {
   "cell_type": "code",
   "execution_count": 116,
   "id": "172e214c-fbca-4983-9e45-c0f353d19e15",
   "metadata": {
    "tags": []
   },
   "outputs": [],
   "source": [
    "b = soup.find_all('div','group_news')\n",
    "#print(b)"
   ]
  },
  {
   "cell_type": "code",
   "execution_count": 6,
   "id": "6bd4b862-dc48-40e1-b50e-b9198e499453",
   "metadata": {},
   "outputs": [
    {
     "data": {
      "text/plain": [
       "[\"'주담대 블랙홀' 된 인터넷은행…카카오뱅크 2개월간 2조원 불어\",\n",
       " '토스 행운퀴즈 정답 9월 11일',\n",
       " '경력직 개발자가 가장 선호하는 국내 IT 기업은?',\n",
       " \"토스, 포인트 정책 개편 예고...'짠테크족' 체감 혜택 달라지나\",\n",
       " \"인터넷전문은행 3사 차별화 서비스는 'OO'이다\",\n",
       " '\"MTS 먹통\"…토스증권, 올해 전산 장애 \\'최다\\'',\n",
       " \"[CEO리포트] 이색상품으로 MZ 돈 불려준다...'혁신 토스뱅크' 이끄는 홍민택 ...\",\n",
       " '토스뱅크, 전월세대출 출시 “금리는 최저 연 3.32%”',\n",
       " '토스뱅크, 연 3%대로 전월세대출…보증금 88% 보증',\n",
       " \"토스뱅크, '목돈 굴리기'에서 삼성증권 판매 채권 소개 개시\",\n",
       " \"'주담대 블랙홀' 된 인터넷은행…카카오뱅크 2개월간 2조원 불어\",\n",
       " '토스 행운퀴즈 정답 9월 11일',\n",
       " '경력직 개발자가 가장 선호하는 국내 IT 기업은?',\n",
       " \"토스, 포인트 정책 개편 예고...'짠테크족' 체감 혜택 달라지나\",\n",
       " \"인터넷전문은행 3사 차별화 서비스는 'OO'이다\",\n",
       " '\"MTS 먹통\"…토스증권, 올해 전산 장애 \\'최다\\'',\n",
       " \"[CEO리포트] 이색상품으로 MZ 돈 불려준다...'혁신 토스뱅크' 이끄는 홍민택 ...\",\n",
       " '토스뱅크, 전월세대출 출시 “금리는 최저 연 3.32%”',\n",
       " '토스뱅크, 연 3%대로 전월세대출…보증금 88% 보증',\n",
       " \"토스뱅크, '목돈 굴리기'에서 삼성증권 판매 채권 소개 개시\",\n",
       " \"'주담대 블랙홀' 된 인터넷은행…카카오뱅크 2개월간 2조원 불어\",\n",
       " '토스 행운퀴즈 정답 9월 11일',\n",
       " '경력직 개발자가 가장 선호하는 국내 IT 기업은?',\n",
       " \"토스, 포인트 정책 개편 예고...'짠테크족' 체감 혜택 달라지나\",\n",
       " \"인터넷전문은행 3사 차별화 서비스는 'OO'이다\",\n",
       " '\"MTS 먹통\"…토스증권, 올해 전산 장애 \\'최다\\'',\n",
       " \"[CEO리포트] 이색상품으로 MZ 돈 불려준다...'혁신 토스뱅크' 이끄는 홍민택 ...\",\n",
       " '토스뱅크, 전월세대출 출시 “금리는 최저 연 3.32%”',\n",
       " '토스뱅크, 연 3%대로 전월세대출…보증금 88% 보증',\n",
       " \"토스뱅크, '목돈 굴리기'에서 삼성증권 판매 채권 소개 개시\"]"
      ]
     },
     "execution_count": 6,
     "metadata": {},
     "output_type": "execute_result"
    }
   ],
   "source": [
    "title = []\n",
    "\n",
    "for i in soup.find('div','group_news'):\n",
    "    result = soup.find_all('a','news_tit')\n",
    "    for r in result:\n",
    "        title.append(r.get_text())\n",
    "title"
   ]
  },
  {
   "cell_type": "markdown",
   "id": "2523370a-920b-4c17-873a-67edaafe8ca0",
   "metadata": {},
   "source": [
    "# selenium\n",
    "- selenium 이용해서 다음페이지 클릭하면서 뉴스 타이틀 가져오기"
   ]
  },
  {
   "cell_type": "code",
   "execution_count": 7,
   "id": "ed524487-bab6-4497-b0e5-f71cf912092f",
   "metadata": {},
   "outputs": [],
   "source": [
    "from selenium import webdriver\n",
    "from selenium.webdriver.chrome.service import Service\n",
    "from webdriver_manager.chrome import ChromeDriverManager\n",
    "from selenium.webdriver.common.by import By\n",
    "from time import time\n",
    "from time import sleep"
   ]
  },
  {
   "cell_type": "code",
   "execution_count": 8,
   "id": "8e2e5bc2-c9a7-4e0f-8909-877306b45d18",
   "metadata": {},
   "outputs": [],
   "source": [
    "# 완전히 로드되는건 안기다리고 빨리 다음화면으로 넘어가기\n",
    "from selenium.webdriver.common.desired_capabilities import DesiredCapabilities\n",
    "\n",
    "caps = DesiredCapabilities().CHROME\n",
    "caps[\"pageLoadStrategy\"] = \"none\" # 원래 default는 caps[\"pageLoadStrategy\"] = \"normal\""
   ]
  },
  {
   "cell_type": "code",
   "execution_count": 9,
   "id": "253064c6-244c-4b62-bb9a-352c53b2c5ab",
   "metadata": {},
   "outputs": [],
   "source": [
    "chrome_options = webdriver.ChromeOptions()\n",
    "driver = webdriver.Chrome(service=Service(ChromeDriverManager().install()),options=chrome_options)"
   ]
  },
  {
   "cell_type": "raw",
   "id": "77a4f303-a773-4a2d-a071-d447bf358c7c",
   "metadata": {},
   "source": [
    "# 이런식으로 검색어 입력한 창을 바로 URL로 넣어서도 가능\n",
    "url = 'https://search.naver.com/search.naver?where=news&query=%ED%86%A0%EC%8A%A4&sm=tab_tmr&nso=so:r,p:all,a:all&sort=0'\n",
    "driver = webdriver.Chrome()\n",
    "driver.get(url)"
   ]
  },
  {
   "cell_type": "markdown",
   "id": "124f8056-cd52-41e7-b839-8c0eec8d2d8e",
   "metadata": {},
   "source": [
    "## 검색어 입력하는것부터 시작"
   ]
  },
  {
   "cell_type": "code",
   "execution_count": 71,
   "id": "55c7326a-f2ab-493d-9b2a-a7cda1d88154",
   "metadata": {},
   "outputs": [],
   "source": [
    "# 정상작동 확인\n",
    "driver = webdriver.Chrome()\n",
    "driver.get('https://www.naver.com')"
   ]
  },
  {
   "cell_type": "code",
   "execution_count": 72,
   "id": "8b2e8c67-50ee-45c4-abc1-e1c2458e2e11",
   "metadata": {},
   "outputs": [],
   "source": [
    "element = driver.find_element(By.ID, 'query') # 검색창 찾기\n",
    "element.send_keys('토스') # 검색어 입력\n",
    "element.send_keys('\\n') # 엔터누르기"
   ]
  },
  {
   "cell_type": "code",
   "execution_count": 73,
   "id": "f5a0a901-f502-4187-a2a4-e6f0196a8119",
   "metadata": {},
   "outputs": [],
   "source": [
    "# 뉴스탭 클릭\n",
    "driver.find_element(By.XPATH, '//*[@id=\"lnb\"]/div[1]/div/div[1]/div/div[1]/div[1]/a').click()"
   ]
  },
  {
   "cell_type": "code",
   "execution_count": 90,
   "id": "d7695698-6259-4da4-bbfb-d4b7b7bf4527",
   "metadata": {
    "tags": []
   },
   "outputs": [
    {
     "data": {
      "text/plain": [
       "[\"'주담대 블랙홀' 된 인터넷은행…카카오뱅크 2개월간 2조원 불어\",\n",
       " '토스 행운퀴즈 정답 9월 11일',\n",
       " '경력직 개발자가 가장 선호하는 국내 IT 기업은?',\n",
       " \"토스, 포인트 정책 개편 예고...'짠테크족' 체감 혜택 달라지나\",\n",
       " \"인터넷전문은행 3사 차별화 서비스는 'OO'이다\",\n",
       " '\"MTS 먹통\"…토스증권, 올해 전산 장애 \\'최다\\'',\n",
       " \"[CEO리포트] 이색상품으로 MZ 돈 불려준다...'혁신 토스뱅크' 이끄는 홍민택 ...\",\n",
       " '토스뱅크, 전월세대출 출시 “금리는 최저 연 3.32%”',\n",
       " '토스뱅크, 연 3%대로 전월세대출…보증금 88% 보증',\n",
       " \"토스뱅크, '목돈 굴리기'에서 삼성증권 판매 채권 소개 개시\"]"
      ]
     },
     "execution_count": 90,
     "metadata": {},
     "output_type": "execute_result"
    }
   ],
   "source": [
    "title = []\n",
    "news = []\n",
    "\n",
    "news_title = driver.find_elements(By.CSS_SELECTOR,'.news_tit')\n",
    "for n in news_title:\n",
    "    title.append(n.text)\n",
    "\n",
    "title"
   ]
  },
  {
   "cell_type": "code",
   "execution_count": 120,
   "id": "8562614b-8181-4ad7-8715-a81f98882071",
   "metadata": {},
   "outputs": [
    {
     "data": {
      "text/plain": [
       "['https://search.naver.com/p/crd/rd?m=1&px=454&py=293&sx=454&sy=293&p=in8TZlprvxssstfT5O8ssssss3h-406108&q=%ED%86%A0%EC%8A%A4&ie=utf8&rev=1&ssc=tab.news.all&f=news&w=news&s=ANgUJQjxlpJzm1o8xVnS1Q%3D%3D&time=1694439340384&a=nws*h.tit&r=1&i=880000D8_000000000000000014183758&g=001.0014183758&u=https%3A%2F%2Fwww.yna.co.kr%2Fview%2FAKR20230909025200002%3Finput%3D1195m',\n",
       " 'https://www.bntnews.co.kr/article/view/bnt202309110001',\n",
       " 'https://www.dt.co.kr/contents.html?article_no=2023091102109931820007&ref=naver',\n",
       " 'https://www.etnews.com/20230911000188',\n",
       " 'https://zdnet.co.kr/view/?no=20230911104033',\n",
       " 'http://www.newsis.com/view/?id=NISX20230908_0002443089&cID=10403&pID=15000',\n",
       " 'https://daily.hankooki.com/news/articleView.html?idxno=996813',\n",
       " 'https://economist.co.kr/article/view/ecn202309050009',\n",
       " 'http://www.inews24.com/view/1629685',\n",
       " 'https://www.hankyung.com/article/202309070379i']"
      ]
     },
     "execution_count": 120,
     "metadata": {},
     "output_type": "execute_result"
    }
   ],
   "source": [
    "news_link =[]\n",
    "\n",
    "urls = driver.find_elements(By.CSS_SELECTOR,'.news_tit')\n",
    "for i in urls:\n",
    "    news_link.append(i.get_attribute(\"href\"))\n",
    "news_link"
   ]
  },
  {
   "cell_type": "code",
   "execution_count": 122,
   "id": "572231ab-c6da-4e3b-bfd7-565fe0f4c256",
   "metadata": {},
   "outputs": [],
   "source": [
    "driver.find_element(By.CSS_SELECTOR,'.news_tit').click() # 뉴스 클릭\n",
    "driver.switch_to.window(driver.window_handles[-1]) # 새탭으로 이동\n",
    "sleep(1)"
   ]
  },
  {
   "cell_type": "code",
   "execution_count": 123,
   "id": "b00283d7-ab01-4cc1-93e9-76254e1375d4",
   "metadata": {},
   "outputs": [],
   "source": [
    "html = driver.page_source\n",
    "soup = bs(html,\"html.parser\")"
   ]
  },
  {
   "cell_type": "code",
   "execution_count": 124,
   "id": "017db418-3553-49d6-9091-def0d11595f8",
   "metadata": {},
   "outputs": [
    {
     "name": "stdout",
     "output_type": "stream",
     "text": [
      "<h1 class=\"tit\">'주담대 블랙홀' 된 인터넷은행…카카오뱅크 2개월간 2조원 불어</h1>\n"
     ]
    }
   ],
   "source": [
    "cont = soup.select_one(\"h1.tit\")\n",
    "print(cont)"
   ]
  },
  {
   "cell_type": "code",
   "execution_count": 125,
   "id": "56b77c22-63b7-420a-8107-bf96e6634369",
   "metadata": {},
   "outputs": [
    {
     "name": "stdout",
     "output_type": "stream",
     "text": [
      "<div class=\"tit-sub\">\n",
      "<h2 class=\"tit\">7∼8월 주택담보대출 증가액, 5대 은행 3.6조·인터넷銀 2.3조</h2><h2 class=\"tit\">토스뱅크도 9월부터 전월세대출 출시…금융당국, 현장 점검 진행</h2>\n",
      "</div>\n"
     ]
    }
   ],
   "source": [
    "sub = soup.select_one(\".tit-sub\")\n",
    "print(sub)"
   ]
  },
  {
   "cell_type": "code",
   "execution_count": 126,
   "id": "c319f476-8f65-420e-bbb9-2240066d8951",
   "metadata": {
    "tags": []
   },
   "outputs": [
    {
     "data": {
      "text/plain": [
       "['[연합뉴스TV 제공]',\n",
       " '',\n",
       " ' (서울=연합뉴스) 신호경 민선희 기자 = 카카오뱅크와 케이뱅크에서 지난 두 달 새 주택담보대출이 2조3천억원 넘게 불어나는 등, 인터넷전문은행이 주담대 수요를 빨아들이고 있다.',\n",
       " ' 특히 카카오뱅크 한 곳에서만 잔액이 2조원 가까이 폭증했는데, 규모가 훨씬 큰 5대 시중은행(KB국민·신한·하나·우리·NH농협)과 비교해도 증가세가 가팔랐다.',\n",
       " \" 금융당국은 인터넷은행이 '중저신용 대출'이라는 인가 취지에 맞지 않게 주담대 영업에 몰두하는 데 문제가 없는지 들여다보겠다며 현장점검을 진행 중이다.\",\n",
       " ' ◇ 7∼8월 카카오뱅크 주담대 잔액 2조원↑…케뱅도 3천억원 늘어',\n",
       " ' 11일 인터넷은행들이 국회 기획재정위원회 소속 양경숙 의원(더불어민주당)에게 제출한 자료에 따르면 카카오뱅크의 8월 말 주담대(전월세대출 포함) 잔액은 약 19조3천173억원으로 집계됐다.',\n",
       " ' 지난 6월 말(17조3천223억원)과 비교하면 1조9천950억원(11.5%) 늘었다.',\n",
       " ' 케이뱅크의 주담대 잔액도 6월 말 3조6천934억원에서 8월 말 4조655억원으로 3천721억원(10.1%) 증가했다.',\n",
       " ' 5대 은행의 주담대 잔액이 같은 기간 511조4천7억원에서 514조9천997억원으로 3조5천990억원(0.7%) 늘었다는 것과 비교하면, 인터넷은행 두 곳의 주담대 성장세가 더욱 두드러진다.',\n",
       " ' 특히 카카오뱅크의 주담대 잔액 증가액(1조9천950억원)은 5대 은행 중 증가 폭이 가장 컸던 우리은행(1조5천442억원)보다도 많았다.',\n",
       " ' 전체 주담대 시장에서 인터넷은행의 비중은 잔액 기준으로 약 2%에 불과하지만, 최근 인터넷은행이 가계부채 증가세를 주도했다는 지적이 나오는 것도 이 때문이다.',\n",
       " '',\n",
       " '',\n",
       " \" ◇ 인터넷은행 금리 낮추자 주담대 몰려…시중은행 '갈아타기'도 활발\",\n",
       " ' 인터넷은행으로 주담대 수요가 쏠린 것은 금리 경쟁력 때문이다. 카카오뱅크와 케이뱅크는 올해 다른 은행보다 낮은 금리를 내세워 공격적인 주담대 영업을 이어갔다.',\n",
       " ' 은행연합회 공시에 따르면 카카오뱅크와 케이뱅크가 지난 7월 중 신규 취급한 분할상환방식 주택담보대출 평균 금리는 각각 연 4.16%, 4.17%로 집계됐다.',\n",
       " ' 카카오뱅크와 케이뱅크 모두 지난 6월(4.02%, 4.14%)보다 평균 금리가 올랐지만 5대 은행(4.28∼4.70%)보다는 낮은 수준을 유지했다.',\n",
       " ' 카카오뱅크와 케이뱅크가 주담대 금리를 내리고 특판을 진행하면서, 지난 4∼5월 중에는 평균 금리가 3%대로 내리기도 했다.',\n",
       " ' 인터넷은행이 금리를 낮추자 시중은행 대출을 이용하다가 갈아탄 대환 수요도 몰린 것으로 보인다. 카카오뱅크와 케이뱅크는 최근 신규취급액 중 50∼60%가 대환 고객이라고 밝혔다. ',\n",
       " ' 인터넷은행 중 후발주자인 토스뱅크도 지난 5일 전월세보증금 대출을 출시하며 시장에 뛰어들었다. 금융권에서는 토스뱅크도 내년에는 주담대 상품을 출시할 것으로 보고 있다.',\n",
       " ' 홍민택 토스뱅크 대표는 5일 기자간담회에서 주담대 상품 출시 계획에 대해 \"주담대 시장에 진출해야 한다고 생각은 하고 있다\"면서도 구체적인 시기는 밝히지 않았다.',\n",
       " ' ◇ 금융당국, 현장점검 진행…대출 문턱 높이는 인터넷은행',\n",
       " ' 금융당국도 인터넷은행의 주담대 증가세에 주목하며 가계대출 현장 점검에 나섰다. ',\n",
       " ' 금감원은 인터넷은행이 폭발적으로 주담대를 늘리는 과정에서 비대면 여신 심사가 소홀히 이뤄졌을 가능성이 있다고 보고, 관련 절차를 살펴보고 있다.',\n",
       " ' 정부와 금융권에서는 주담대를 빠르게 늘리는 인터넷은행의 영업 행태에 문제가 있다는 지적도 나온다.',\n",
       " ' 이복현 금융감독원장은 지난달 \"인터넷은행은 신파일러(금융거래 이력 부족자)에게 자금 공급한다는 정책적 목적이 있는데, 지금과 같은 주담대 쏠림이 제도와 합치되는지에 대해 비판적 시각이 있다\"면서 \"이런 것도 점검 대상이 될 것\"이라고 말하기도 했다.',\n",
       " ' 금융당국이 본격적으로 점검에 나서자 인터넷은행도 부랴부랴 주담대 문턱을 높였다. ',\n",
       " ' 카카오뱅크와 케이뱅크의 8일 기준 주담대 변동금리(신규 취급액 코픽스 연동)는 연 4.063∼7.016%로 집계됐다. 5대 은행의 주담대 변동금리 연 4.05∼6.989%보다 더 높다.',\n",
       " ' 주담대 혼합형(고정) 금리 역시 카카오뱅크와 케이뱅크는 연 4.20∼6.721%, 5대 은행은 연 3.79∼6.203%로, 인터넷은행이 더 높았다.',\n",
       " ' 카카오뱅크는 지난달 25일 50년 주담대 상품에 연령 조건을 신설한 데 이어, 지난달 30일부터 주택구입자금 주택담보대출 대상을 무주택자로 제한하기도 했다.',\n",
       " ' 카카오뱅크 관계자는 \"무주택자 등에 한정해 실수요자 중심의 대출 공급이 이뤄지도록 노력할 것\"이라고 밝혔다. ',\n",
       " ' shk999@yna.co.kr, ssun@yna.co.kr']"
      ]
     },
     "execution_count": 126,
     "metadata": {},
     "output_type": "execute_result"
    }
   ],
   "source": [
    "# 본문 내용\n",
    "news = []\n",
    "\n",
    "content = soup.find(\"article\", {\"class\": \"story-news article\"})\n",
    "items = content.find_all('p')\n",
    "#print(items)\n",
    "\n",
    "for i in items[:-1]:\n",
    "    news.append(i.get_text())\n",
    "news"
   ]
  },
  {
   "cell_type": "raw",
   "id": "f10da193-5ece-4266-87f9-26c7ada8573c",
   "metadata": {
    "jupyter": {
     "outputs_hidden": true
    },
    "tags": []
   },
   "source": [
    "# 오래걸려서 중단\n",
    "news = []\n",
    "for urls in news_link:\n",
    "    driver.get(urls) # 뉴스 클릭\n",
    "    #driver.switch_to.window(driver.window_handles[-1]) # 새탭으로 이동\n",
    "    sleep(1)\n",
    "    content = driver.find_elements(By.CSS_SELECTOR,'.viewer article')\n",
    "    for n in content:\n",
    "        news.append(n.text.replace('\\n',''))\n",
    "\n",
    "    #driver.close() #링크 이동 후 탭 닫기\n",
    "    driver.switch_to.window(driver.window_handles[-1])  #다시 이전 창(탭)으로 이동"
   ]
  },
  {
   "cell_type": "code",
   "execution_count": 84,
   "id": "288d9208-88ad-468a-97a7-83ff5bfd4c5d",
   "metadata": {},
   "outputs": [],
   "source": [
    "title = []\n",
    "news = []\n",
    "\n",
    "try:\n",
    "    for i in range(2):\n",
    "        news_title = driver.find_elements(By.CSS_SELECTOR,'.list_news li.bx a.news_tit') # 제목 크롤링\n",
    "        for t in news_title:\n",
    "            title.append(t.text)\n",
    "            \n",
    "        for z in range(10):\n",
    "            driver.find_element(By.CSS_SELECTOR,'.list_news li.bx a.news_tit').click() # 뉴스 클릭\n",
    "            driver.switch_to.window(driver.window_handles[-1]) # 새탭으로 이동\n",
    "            sleep(1)\n",
    "\n",
    "            content = driver.find_elements(By.CSS_SELECTOR,'.viewer article')\n",
    "            for n in content:\n",
    "                news.append(n.text.replace('\\n',''))\n",
    "\n",
    "            driver.close()  #링크 이동 후 탭 닫기\n",
    "            driver.switch_to.window(driver.window_handles[-1])  #다시 이전 창(탭)으로 이동\n",
    "        driver.find_element(By.XPATH,'//*[@id=\"main_pack\"]/div[2]/div/a[2]').click() # 다음 페이지 클릭\n",
    "except:\n",
    "    driver.quit()"
   ]
  },
  {
   "cell_type": "code",
   "execution_count": 157,
   "id": "7c05c627-58f9-4f8b-8d30-344be68e0f9f",
   "metadata": {},
   "outputs": [],
   "source": [
    "title = []\n",
    "news = []\n",
    "\n",
    "try:\n",
    "    for i in range(50):\n",
    "        news_title = driver.find_elements(By.CSS_SELECTOR,'.list_news li.bx a.news_tit')\n",
    "        for t in news_title:\n",
    "            title.append(t.text)\n",
    "        driver.find_elements(By.CSS_SELECTOR,'.list_news li.bx a.news_tit').click()\n",
    "        driver.find_element(By.XPATH,'//*[@id=\"main_pack\"]/div[2]/div/a[2]').click()\n",
    "except:\n",
    "    driver.quit()"
   ]
  },
  {
   "cell_type": "code",
   "execution_count": 161,
   "id": "2ec71f3d-cd0c-410b-8c36-55ca4fbcb9b2",
   "metadata": {},
   "outputs": [
    {
     "data": {
      "text/plain": [
       "[\"[단독] 토스證, 올해도 '전산오류 1위' 불명예\",\n",
       " \"토스뱅크, '목돈 굴리기'에서 삼성증권 채권상품 소개\",\n",
       " \"토스뱅크 '전세패키지' 내놨다\",\n",
       " '토스뱅크, 전월세대출 출시 “금리는 최저 연 3.32%”',\n",
       " '토스뱅크, 최저 연 3.32% 전월세대출 출시',\n",
       " '\"주담대, 하긴 해야 하는데…\" 토스뱅크의 딜레마',\n",
       " 'KIA 산체스 이달 말 복귀할 듯…“토스 시작했는데 통증 없다더라”',\n",
       " '토스 행운퀴즈 정답 9월 7일',\n",
       " '막 오른 인뱅 전월세대출 경쟁…어디가 유리하나',\n",
       " '발언하는 홍민택 토스뱅크 대표',\n",
       " '토스 행운퀴즈 정답 9월 7일',\n",
       " \"[포토] 토스뱅크, '한경 핀테크대상' 서비스 분야 대상 수상\",\n",
       " '토스뱅크, 전·월세 보증금 대출 출시',\n",
       " '전월세보증금 대출 출시한 토스뱅크…주담대는 미정',\n",
       " '홍민택 토스뱅크 대표 \"주담대 출시 시기 미정…시장환경 맞아야\"']"
      ]
     },
     "execution_count": 161,
     "metadata": {},
     "output_type": "execute_result"
    }
   ],
   "source": [
    "title[:15]"
   ]
  },
  {
   "cell_type": "code",
   "execution_count": null,
   "id": "8daeb9ac-647e-409f-8ac4-02fa34e37ac4",
   "metadata": {},
   "outputs": [],
   "source": []
  }
 ],
 "metadata": {
  "kernelspec": {
   "display_name": "Python 3 (ipykernel)",
   "language": "python",
   "name": "python3"
  },
  "language_info": {
   "codemirror_mode": {
    "name": "ipython",
    "version": 3
   },
   "file_extension": ".py",
   "mimetype": "text/x-python",
   "name": "python",
   "nbconvert_exporter": "python",
   "pygments_lexer": "ipython3",
   "version": "3.8.13"
  }
 },
 "nbformat": 4,
 "nbformat_minor": 5
}
