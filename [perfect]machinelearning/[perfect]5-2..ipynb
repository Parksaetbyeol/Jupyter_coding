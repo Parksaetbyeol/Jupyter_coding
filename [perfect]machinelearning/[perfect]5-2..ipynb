{
 "cells": [
  {
   "cell_type": "markdown",
   "id": "4bcf7739-ffad-4de3-8c6a-cb3fb0f4deb0",
   "metadata": {},
   "source": [
    "# 규제 선형 모델 - 릿지, 라쏘, 엘라스틱넷"
   ]
  },
  {
   "cell_type": "markdown",
   "id": "6d7f749d-6e09-4e2c-9e8d-664f3199ee86",
   "metadata": {},
   "source": [
    "- 비용함수는 학습 데이터의 잔차 오류값을 최소로 하는 RSS 최소화 방법과 과적합을 방지하기 위해 회귀 계수 값이 커지지 않도록 하는 방법이 서로 균현을 이뤄야 한다.\n",
    "- 비용 함수 목표 = Min(RSS(W) + alpha * ||W||22)\n",
    "    - alpha값을 크게하면 비용함수는 회귀 계수 W의 값을 작게 해 과적합을 개선할 수 있고,\n",
    "    - alpha값을 작게하면 회귀 계수 W의 값이 커져도 어느 정도 상쇄가 가능하므로 학습 데이터 적합을 더 개선할 수 있다.\n",
    "    - 즉, alpha를 0에서부터 지속적으로 값을 증가시키면 회귀 계수 값의 크기를 감소시킬 수 있다.\n",
    "    - 이처럼 비용함수에 alpha값으로 페널티를 부여해 회귀 계수 값의 크기를 감소시켜 과적합을 개선하는 방식을 규제(Regularization)라고 부른다.\n",
    "    - 규제는 크게 L2방식과 L1방식으로 구분된다.\n",
    "- L2규제는 W의 제곱에 대해 페널티를 부여하는 방식이다.\n",
    "    - L2규제를 적용한 회귀를 릿지(Ridge)회귀라고 한다.\n",
    "- L1규제 W의 절대값에 대해 페널티를 부여하는 방식이다.\n",
    "    - L1규제를 적용한 회귀를 라쏘(Lasso)회귀라고 한다."
   ]
  },
  {
   "cell_type": "markdown",
   "id": "76598292-e25a-4fc9-bf09-5c17c1bb7860",
   "metadata": {},
   "source": [
    "## 릿지 회귀"
   ]
  },
  {
   "cell_type": "code",
   "execution_count": 1,
   "id": "d75bcffe-aa68-4733-88be-1421b344980a",
   "metadata": {},
   "outputs": [
    {
     "ename": "NameError",
     "evalue": "name 'X_data' is not defined",
     "output_type": "error",
     "traceback": [
      "\u001b[1;31m---------------------------------------------------------------------------\u001b[0m",
      "\u001b[1;31mNameError\u001b[0m                                 Traceback (most recent call last)",
      "Input \u001b[1;32mIn [1]\u001b[0m, in \u001b[0;36m<cell line: 6>\u001b[1;34m()\u001b[0m\n\u001b[0;32m      4\u001b[0m \u001b[38;5;66;03m# alpha=10으로 설정해 릿지 회귀 수행\u001b[39;00m\n\u001b[0;32m      5\u001b[0m ridge \u001b[38;5;241m=\u001b[39m Ridge(alpha\u001b[38;5;241m=\u001b[39m\u001b[38;5;241m10\u001b[39m)\n\u001b[1;32m----> 6\u001b[0m neg_mese_scores \u001b[38;5;241m=\u001b[39m cross_val_score(ridge, \u001b[43mX_data\u001b[49m, y_target, scoring\u001b[38;5;241m=\u001b[39m\u001b[38;5;124m\"\u001b[39m\u001b[38;5;124mneg_mean_squared_error\u001b[39m\u001b[38;5;124m\"\u001b[39m, cv\u001b[38;5;241m=\u001b[39m\u001b[38;5;241m5\u001b[39m)\n\u001b[0;32m      7\u001b[0m rmse_scores \u001b[38;5;241m=\u001b[39m np\u001b[38;5;241m.\u001b[39msqrt(\u001b[38;5;241m-\u001b[39m\u001b[38;5;241m1\u001b[39m \u001b[38;5;241m*\u001b[39m neg_mse_scores)\n\u001b[0;32m      8\u001b[0m avg_rmse \u001b[38;5;241m=\u001b[39m np\u001b[38;5;241m.\u001b[39mmean(rmse_scores)\n",
      "\u001b[1;31mNameError\u001b[0m: name 'X_data' is not defined"
     ]
    }
   ],
   "source": [
    "from sklearn.linear_model import Ridge\n",
    "from sklearn.model_selection import cross_val_score\n",
    "\n",
    "# alpha=10으로 설정해 릿지 회귀 수행\n",
    "ridge = Ridge(alpha=10)\n",
    "neg_mese_scores = cross_val_score(ridge, X_data, y_target, scoring=\"neg_mean_squared_error\", cv=5)\n",
    "rmse_scores = np.sqrt(-1 * neg_mse_scores)\n",
    "avg_rmse = np.mean(rmse_scores)\n",
    "\n",
    "print('5flods 의 개별 Negative MSE scores:', np.round(neg_mse_scores,3))\n",
    "print('5flods 의 개별 RMSE scores:', np.round(rmse_scores,3))\n",
    "print('5flods 의 평균 RMSE: {0:.3f}'.format(avg_rmse))"
   ]
  },
  {
   "cell_type": "code",
   "execution_count": null,
   "id": "0e37a081-96c3-47aa-9d0b-23fb1a7f57ad",
   "metadata": {},
   "outputs": [],
   "source": []
  }
 ],
 "metadata": {
  "kernelspec": {
   "display_name": "Python 3 (ipykernel)",
   "language": "python",
   "name": "python3"
  },
  "language_info": {
   "codemirror_mode": {
    "name": "ipython",
    "version": 3
   },
   "file_extension": ".py",
   "mimetype": "text/x-python",
   "name": "python",
   "nbconvert_exporter": "python",
   "pygments_lexer": "ipython3",
   "version": "3.8.13"
  }
 },
 "nbformat": 4,
 "nbformat_minor": 5
}
