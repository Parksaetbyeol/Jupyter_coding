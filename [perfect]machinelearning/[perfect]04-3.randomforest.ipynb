{
 "cells": [
  {
   "cell_type": "markdown",
   "id": "ed21ab6b-ac73-4575-a9d8-f02bcaa78cbb",
   "metadata": {},
   "source": [
    "# 랜덤 포레스트(Random Forest)\n",
    "- 랜덤 포레스트는 앙상블 알고리즘 중 비교적 빠른 수행 속도를 가지고 있으며, 다양한 영역에서 높은 예측 성능을 보이고 있다.\n",
    "- 기반 알고리즘은 결정 트리이다.\n",
    "- 여러개의 결정 트리 분류기가 전체 데이터에서 배깅 방식으로 각자의 데이터를 샘플링해 개별적으로 학습을 수행한 뒤 최종적으로 모든 분류기가 보팅을 통해 예측 결정을 하게 된다.\n",
    "- 개별적인 분류기의 기반 알고리즘은 결정 트리이지만 개별 트리가 학습하는 데이터 세트는 전체 데이터에서 일부가 중첩되게 샘플링된 데이터 세트이다. 이렇게 여러개의 데이터 세트를 중첩되게 분리하는 것을 부트스트래핑(bootstrapping)분할 방식이라고 한다. (그래서 bagging이 bootstrap aggregating의 줄임말이다)\n",
    "- 이렇게 데이터가 중첩된 개별 데이터 세트에 결정 트리 분류기를 각각 적용하는 것이 랜덤 포레스트이다."
   ]
  },
  {
   "cell_type": "markdown",
   "id": "50a019c0-9783-443e-8f73-6cfdc34755c1",
   "metadata": {},
   "source": [
    "## 사용자 행동 인식 데이터 셋을 RandomForestClassifier로 예측"
   ]
  },
  {
   "cell_type": "markdown",
   "id": "a707115e-c073-415f-a95f-d04756fe9d9a",
   "metadata": {},
   "source": [
    "- 재수행 할때마다 동일한 예측 결과를 출력하기 위해 RandomForestClassifier의 random_state를 0으로 설정"
   ]
  },
  {
   "cell_type": "code",
   "execution_count": 1,
   "id": "809df269-dd4b-4bc8-88db-e05e81ccba85",
   "metadata": {},
   "outputs": [],
   "source": [
    "from sklearn.ensemble import RandomForestClassifier\n",
    "from sklearn.metrics import accuracy_score\n",
    "import pandas as pd\n",
    "import warnings\n",
    "warnings.filterwarnings('ignore')"
   ]
  },
  {
   "cell_type": "code",
   "execution_count": 2,
   "id": "1199cde3-aa0c-497b-b98c-67dc061ff9df",
   "metadata": {},
   "outputs": [],
   "source": [
    "# 중복된 피처 이름 바꾸기\n",
    "def get_new_feature_name_df(old_feature_name_df):\n",
    "    feature_dup_df = pd.DataFrame(data=old_feature_name_df.groupby('column_name').cumcount(),\n",
    "                                 columns=['dup_cnt'])\n",
    "    feature_dup_df = feature_dup_df.reset_index()\n",
    "    \n",
    "    new_feature_name_df = pd.merge(old_feature_name_df.reset_index(), feature_dup_df, how=\"outer\")\n",
    "    new_feature_name_df['column_name'] = new_feature_name_df[['column_name',\n",
    "                                                              'dup_cnt']].apply(lambda x : x[0] + '_' + str(x[1]) \n",
    "                                                                                if x[1] > 0 else x[0], axis=1)\n",
    "    new_feature_name_df = new_feature_name_df.drop(['index'], axis=1)\n",
    "    return new_feature_name_df"
   ]
  },
  {
   "cell_type": "code",
   "execution_count": 4,
   "id": "4621cf33-eff1-47e9-a602-078fc149b9a7",
   "metadata": {},
   "outputs": [],
   "source": [
    "# 데이터셋을 구성하는 함수 설정\n",
    "def get_human_dataset():\n",
    "    \n",
    "    # 각 데이터 파일들은 공백으로 분리되어 있으므로 read_csv에서 공백문자를 sep으로 할당\n",
    "    feature_name_df = pd.read_csv('./human_activity/features.txt', sep='\\s+', \n",
    "                                  header=None, names=['column_index', 'column_name'])\n",
    "    # 데이터프레임에 피처명을 컬럼으로 뷰여하기 위해 리스트 객체로 다시 반환\n",
    "    new_feature_name_df = get_new_feature_name_df(feature_name_df)\n",
    "    \n",
    "    # 데이터프레임에 피처명을 칼럼으로 부여하기 위해 리스트로 다시 변환\n",
    "    feature_name = new_feature_name_df.iloc[:,1].values.tolist()\n",
    "    \n",
    "    # 학습 피처 데이터셋과 테스트 피처 데이터를 DataFrame으로 로딩. 칼럼명은 feature_name\n",
    "    X_train = pd.read_csv('./human_activity/train/X_train.txt', sep='\\s+', \n",
    "                          header=None, names=['feature_name'])\n",
    "    X_test = pd.read_csv('./human_activity/test/X_test.txt', sep='\\s+', \n",
    "                          header=None, names=['feature_name'])\n",
    "    \n",
    "    y_train = pd.read_csv('./human_activity/train/y_train.txt', sep='\\s+', \n",
    "                          header=None, names=['action'])\n",
    "    y_test = pd.read_csv('./human_activity/test/y_test.txt', sep='\\s+', \n",
    "                          header=None, names=['action'])\n",
    "    #로드된 학습/테스트용 데이터 DataFrame 반환\n",
    "    return X_train, X_test, y_train, y_test"
   ]
  },
  {
   "cell_type": "code",
   "execution_count": 5,
   "id": "3d851e9d-8304-4685-a136-692672eda46e",
   "metadata": {},
   "outputs": [
    {
     "name": "stdout",
     "output_type": "stream",
     "text": [
      "랜덤 포레스트 정확도: 0.3804\n"
     ]
    }
   ],
   "source": [
    "# get_human_dataset()을 이용해 학습/테스트용 DataFrame 반환\n",
    "X_train, X_test, y_train, y_test = get_human_dataset()\n",
    "\n",
    "rf_clf = RandomForestClassifier(random_state=0, max_depth=8)\n",
    "rf_clf.fit(X_train, y_train)\n",
    "pred = rf_clf.predict(X_test)\n",
    "accuracy = accuracy_score(y_test, pred)\n",
    "print('랜덤 포레스트 정확도: {0:.4f}'.format(accuracy))"
   ]
  },
  {
   "cell_type": "markdown",
   "id": "c1af6193-8575-46fa-9448-594b016afa34",
   "metadata": {},
   "source": [
    "## GridSearchCV 실습 예제"
   ]
  },
  {
   "cell_type": "code",
   "execution_count": 3,
   "id": "a2a3d47f-1e95-4c37-8425-3c7962147313",
   "metadata": {},
   "outputs": [
    {
     "name": "stdout",
     "output_type": "stream",
     "text": [
      "best parameters :  {'max_depth': 2, 'min_samples_split': 2}\n",
      "best score :  0.9416666666666668\n"
     ]
    },
    {
     "data": {
      "text/plain": [
       "0.9333333333333333"
      ]
     },
     "execution_count": 3,
     "metadata": {},
     "output_type": "execute_result"
    }
   ],
   "source": [
    "import pandas as pd\n",
    "import numpy as np\n",
    "from sklearn.datasets import load_iris\n",
    "from sklearn.tree import DecisionTreeClassifier\n",
    "from sklearn.model_selection import GridSearchCV, train_test_split\n",
    "from sklearn.metrics import accuracy_score\n",
    "\n",
    "iris_data = load_iris()\n",
    "label = iris_data.target\n",
    "data = iris_data.data\n",
    "\n",
    "X_train, X_val, y_train, y_val = train_test_split(data, label, test_size=0.2)\n",
    "\n",
    "\n",
    "# GridSearchCV의 param_grid 설정\n",
    "params = {\n",
    "    'max_depth': [2, 3],\n",
    "    'min_samples_split': [2, 3]\n",
    "}\n",
    "\n",
    "dtc = DecisionTreeClassifier()\n",
    "\n",
    "grid_tree = GridSearchCV(dtc, param_grid=params, cv=3, refit=True)\n",
    "grid_tree.fit(X_train, y_train)\n",
    "\n",
    "print('best parameters : ', grid_tree.best_params_)\n",
    "print('best score : ', grid_tree.best_score_)\n",
    "em = grid_tree.best_estimator_\n",
    "pred = em.predict(X_val)\n",
    "accuracy_score(y_val, pred)"
   ]
  },
  {
   "cell_type": "code",
   "execution_count": null,
   "id": "f3a373f0-58f1-443f-ab1a-39b692dad422",
   "metadata": {},
   "outputs": [],
   "source": []
  }
 ],
 "metadata": {
  "kernelspec": {
   "display_name": "Python 3 (ipykernel)",
   "language": "python",
   "name": "python3"
  },
  "language_info": {
   "codemirror_mode": {
    "name": "ipython",
    "version": 3
   },
   "file_extension": ".py",
   "mimetype": "text/x-python",
   "name": "python",
   "nbconvert_exporter": "python",
   "pygments_lexer": "ipython3",
   "version": "3.8.13"
  }
 },
 "nbformat": 4,
 "nbformat_minor": 5
}
