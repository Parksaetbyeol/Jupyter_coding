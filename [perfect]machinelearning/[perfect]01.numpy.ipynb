{
 "cells": [
  {
   "cell_type": "code",
   "execution_count": 1,
   "id": "516c92d8-e6e2-4eaa-88f9-55cf9a19204d",
   "metadata": {},
   "outputs": [],
   "source": [
    "import numpy as np"
   ]
  },
  {
   "cell_type": "markdown",
   "id": "97cf9a39-105c-45c1-9cd4-0e03dae4091f",
   "metadata": {
    "tags": []
   },
   "source": [
    "# 1. ndarray 개요"
   ]
  },
  {
   "cell_type": "code",
   "execution_count": 5,
   "id": "2c6ac3c3-d8b0-4555-922b-6f52ed5bc6f5",
   "metadata": {},
   "outputs": [
    {
     "name": "stdout",
     "output_type": "stream",
     "text": [
      "array1 type: <class 'numpy.ndarray'>\n",
      "array1 형태: (3,)\n"
     ]
    }
   ],
   "source": [
    "array1 = np.array([1,2,3])\n",
    "print('array1 type:', type(array1))\n",
    "print('array1 형태:', array1.shape) # 1차원 array로 3개의 데이터를 갖고있음"
   ]
  },
  {
   "cell_type": "code",
   "execution_count": 7,
   "id": "c264d956-280b-47a9-8e0c-a9a74f1f83e9",
   "metadata": {},
   "outputs": [
    {
     "name": "stdout",
     "output_type": "stream",
     "text": [
      "[[1 2 3]\n",
      " [4 5 6]]\n",
      "array2 type: <class 'numpy.ndarray'>\n",
      "array2 형태: (2, 3)\n"
     ]
    }
   ],
   "source": [
    "array2 = np.array([[1,2,3],[4,5,6]])\n",
    "print(array2)\n",
    "print('array2 type:', type(array2))\n",
    "print('array2 형태:', array2.shape) # 2차원 array로, 2개의 row와 3개의 칼럼으로 구성되어있다. 데이터 6개"
   ]
  },
  {
   "cell_type": "code",
   "execution_count": 8,
   "id": "6883a908-20f1-4376-a4fd-911c4f81182d",
   "metadata": {},
   "outputs": [
    {
     "name": "stdout",
     "output_type": "stream",
     "text": [
      "[[1 2 3]]\n",
      "array3 type: <class 'numpy.ndarray'>\n",
      "array3 형태: (1, 3)\n"
     ]
    }
   ],
   "source": [
    "array3 = np.array([[1,2,3]])\n",
    "print(array3)\n",
    "print('array3 type:', type(array3))\n",
    "print('array3 형태:', array3.shape) # 2차원으로 array로 1개의 row와 3개의 컬럼으로 구성되어있다. 데이터 3개"
   ]
  },
  {
   "cell_type": "code",
   "execution_count": 2,
   "id": "7201f5d5-41c9-46f1-bb5a-4df84c139667",
   "metadata": {},
   "outputs": [
    {
     "data": {
      "text/plain": [
       "array([1, 2, 3])"
      ]
     },
     "execution_count": 2,
     "metadata": {},
     "output_type": "execute_result"
    }
   ],
   "source": [
    "array1 = np.arange(start=1, stop=10)\n",
    "array3 = array1[0:3]\n",
    "array3"
   ]
  },
  {
   "cell_type": "markdown",
   "id": "529746a9-74c7-4dc4-ab93-e37bf3dcb1e1",
   "metadata": {},
   "source": [
    "# 2. ndarray 데이터타입"
   ]
  },
  {
   "cell_type": "code",
   "execution_count": 9,
   "id": "02bb41f0-391f-4745-9683-e2a5ff77d700",
   "metadata": {},
   "outputs": [
    {
     "name": "stdout",
     "output_type": "stream",
     "text": [
      "<class 'list'>\n",
      "<class 'numpy.ndarray'>\n",
      "[1 2 3] int32\n"
     ]
    }
   ],
   "source": [
    "list1 = [1,2,3]\n",
    "print(type(list1))\n",
    "\n",
    "# 리스트 ndarray로 변경\n",
    "array1=np.array(list1)\n",
    "print(type(array1))\n",
    "print(array1, array1.dtype)"
   ]
  },
  {
   "cell_type": "code",
   "execution_count": 11,
   "id": "c1568654-7196-40b9-a86e-ca4a9061d148",
   "metadata": {},
   "outputs": [
    {
     "name": "stdout",
     "output_type": "stream",
     "text": [
      "['1' '2' 'test'] <U11\n",
      "[1. 2. 3.] float64\n"
     ]
    }
   ],
   "source": [
    "list2 = [1,2,'test']\n",
    "array2 = np.array(list2)\n",
    "print(array2, array2.dtype) # ndarray는 데이터값이 모두 같은 데이터타입이어야 하므로 서로 다른 데이터 타입이 섞여있을 경우 더 큰 데이터 타입으로 변환\n",
    "\n",
    "list3 = [1,2,3.0]\n",
    "array3 = np.array(list3)\n",
    "print(array3, array3.dtype)"
   ]
  },
  {
   "cell_type": "markdown",
   "id": "c6b9c300-155f-4135-8a43-5958f479cd53",
   "metadata": {},
   "source": [
    "# 3. ndarray의 차원과 크기 변경하는 reshape()"
   ]
  },
  {
   "cell_type": "code",
   "execution_count": 16,
   "id": "7581e7e6-2f44-4c08-9595-fe70b7575237",
   "metadata": {},
   "outputs": [
    {
     "name": "stdout",
     "output_type": "stream",
     "text": [
      "array1: [0 1 2 3 4 5 6 7 8 9]\n",
      "array1 type: (10,)\n",
      "array2:\n",
      " [[0 1 2 3 4]\n",
      " [5 6 7 8 9]]\n",
      "array3:\n",
      " [[0 1]\n",
      " [2 3]\n",
      " [4 5]\n",
      " [6 7]\n",
      " [8 9]]\n"
     ]
    }
   ],
   "source": [
    "array1 = np.arange(10)\n",
    "print('array1:', array1)\n",
    "print('array1 type:', array1.shape)\n",
    "\n",
    "array2 = array1.reshape(2,5)\n",
    "print('array2:\\n', array2)\n",
    "\n",
    "array3 = array1.reshape(5,2)\n",
    "print('array3:\\n', array3)"
   ]
  },
  {
   "cell_type": "code",
   "execution_count": null,
   "id": "7574913a-7d0d-45b5-b022-9afbf26ecef9",
   "metadata": {},
   "outputs": [],
   "source": []
  },
  {
   "cell_type": "markdown",
   "id": "808aa931-e913-4acd-9e84-b6d16f7512af",
   "metadata": {},
   "source": [
    "## 팬시 인덱싱"
   ]
  },
  {
   "cell_type": "code",
   "execution_count": 3,
   "id": "da0cc31b-6f56-490c-9bdb-c6a6b1849822",
   "metadata": {},
   "outputs": [
    {
     "data": {
      "text/plain": [
       "array([[1, 2, 3],\n",
       "       [4, 5, 6],\n",
       "       [7, 8, 9]])"
      ]
     },
     "execution_count": 3,
     "metadata": {},
     "output_type": "execute_result"
    }
   ],
   "source": [
    "array1 = np.arange(1,10) # 1~9\n",
    "array2 = array1.reshape(3,3)\n",
    "array2"
   ]
  },
  {
   "cell_type": "code",
   "execution_count": 5,
   "id": "e7957f8a-9386-4465-b0ac-703b42b58806",
   "metadata": {},
   "outputs": [
    {
     "data": {
      "text/plain": [
       "array([3, 6, 9])"
      ]
     },
     "execution_count": 5,
     "metadata": {},
     "output_type": "execute_result"
    }
   ],
   "source": [
    "array3 = array2[[0,1,2],2] # 0,1,2번째 row의 2번째 index\n",
    "array3"
   ]
  },
  {
   "cell_type": "code",
   "execution_count": 8,
   "id": "3e38b9e6-4956-4ed7-b31f-2cfb8d63826e",
   "metadata": {},
   "outputs": [
    {
     "data": {
      "text/plain": [
       "array([[1, 2],\n",
       "       [4, 5],\n",
       "       [7, 8]])"
      ]
     },
     "execution_count": 8,
     "metadata": {},
     "output_type": "execute_result"
    }
   ],
   "source": [
    "array4 = array2[[0,1,2],0:2] # 0,1,2번째 row의 0~1번째 index\n",
    "array4"
   ]
  },
  {
   "cell_type": "code",
   "execution_count": 9,
   "id": "32d47423-3945-439c-96e1-8981a7eec28b",
   "metadata": {},
   "outputs": [
    {
     "data": {
      "text/plain": [
       "array([[1, 2, 3],\n",
       "       [4, 5, 6]])"
      ]
     },
     "execution_count": 9,
     "metadata": {},
     "output_type": "execute_result"
    }
   ],
   "source": [
    "array5 = array2[[0,1]] # 0,1번째 row\n",
    "array5"
   ]
  },
  {
   "cell_type": "markdown",
   "id": "a40a6f3d-08b5-4890-9f96-0506128dcc7e",
   "metadata": {},
   "source": [
    "## 불린 인덱싱"
   ]
  },
  {
   "cell_type": "code",
   "execution_count": 10,
   "id": "32789432-e378-4fcd-84ee-c09ffcfd3ec7",
   "metadata": {},
   "outputs": [
    {
     "name": "stdout",
     "output_type": "stream",
     "text": [
      "array1>5 불린 인덱싱 값: [6 7 8 9]\n"
     ]
    }
   ],
   "source": [
    "array1 = np.arange(1,10)\n",
    "# []안에 array1>5 Boolean indexing 적용\n",
    "array2 = array1[array1 > 5]\n",
    "print('array1>5 불린 인덱싱 값:', array2)"
   ]
  },
  {
   "cell_type": "markdown",
   "id": "19c69265-2965-498e-87c7-d9522105cb94",
   "metadata": {},
   "source": [
    "## 행렬 정렬"
   ]
  },
  {
   "cell_type": "code",
   "execution_count": 24,
   "id": "3e4802e9-4de3-4a5e-88de-84905b46897a",
   "metadata": {},
   "outputs": [
    {
     "name": "stdout",
     "output_type": "stream",
     "text": [
      "원본 행렬: [3 1 9 5]\n"
     ]
    }
   ],
   "source": [
    "org_array = np.array([3,1,9,5])\n",
    "print('원본 행렬:', org_array)"
   ]
  },
  {
   "cell_type": "code",
   "execution_count": 25,
   "id": "676684c7-97c7-4075-aa52-e122ece297e7",
   "metadata": {},
   "outputs": [
    {
     "name": "stdout",
     "output_type": "stream",
     "text": [
      "np.sort()호출 후 반환된 정렬행렬: [1 3 5 9]\n",
      "np.sort()호출 후 반환된 원본행렬: [3 1 9 5]\n"
     ]
    }
   ],
   "source": [
    "# sort로 정렬\n",
    "sort_array1 = np.sort(org_array)\n",
    "print('np.sort()호출 후 반환된 정렬행렬:',sort_array1)\n",
    "print('np.sort()호출 후 반환된 원본행렬:', org_array)"
   ]
  },
  {
   "cell_type": "code",
   "execution_count": 26,
   "id": "78098df1-76f0-4552-b49c-a22ff6d5e172",
   "metadata": {},
   "outputs": [
    {
     "name": "stdout",
     "output_type": "stream",
     "text": [
      "org_array.sort()호출 후 반환된 행렬: None\n",
      "org_array.sort()호출 후 원본 행렬: [1 3 5 9]\n"
     ]
    }
   ],
   "source": [
    "sort_array2 = org_array.sort()\n",
    "print('org_array.sort()호출 후 반환된 행렬:', sort_array2)\n",
    "print('org_array.sort()호출 후 원본 행렬:', org_array)"
   ]
  },
  {
   "cell_type": "code",
   "execution_count": 27,
   "id": "6a7eed10-1e7a-499e-bfed-3504326aac47",
   "metadata": {},
   "outputs": [
    {
     "name": "stdout",
     "output_type": "stream",
     "text": [
      "내림차순으로 정렬: [9 5 3 1]\n"
     ]
    }
   ],
   "source": [
    "sort_array1_desc = np.sort(org_array)[::-1]\n",
    "print('내림차순으로 정렬:', sort_array1_desc)"
   ]
  },
  {
   "cell_type": "code",
   "execution_count": 29,
   "id": "7c92638d-951c-4444-a342-64d429c0a5b3",
   "metadata": {},
   "outputs": [
    {
     "name": "stdout",
     "output_type": "stream",
     "text": [
      "로우방향으로 정렬:\n",
      " [[ 7  1]\n",
      " [ 8 12]]\n",
      "컬럼방향으로 정렬:\n",
      " [[ 8 12]\n",
      " [ 1  7]]\n"
     ]
    }
   ],
   "source": [
    "array2 = np.array([[8,12],\n",
    "                  [7,1]])\n",
    "\n",
    "sort_array2_axis0 = np.sort(array2, axis=0)\n",
    "print('로우방향으로 정렬:\\n', sort_array2_axis0)\n",
    "\n",
    "sort_array2_axis1 = np.sort(array2, axis=1)\n",
    "print('컬럼방향으로 정렬:\\n', sort_array2_axis1)"
   ]
  },
  {
   "cell_type": "code",
   "execution_count": 30,
   "id": "ae7d83fc-9ba0-4674-b152-cbf73e848995",
   "metadata": {},
   "outputs": [
    {
     "name": "stdout",
     "output_type": "stream",
     "text": [
      "<class 'numpy.ndarray'>\n",
      "[1 0 3 2]\n"
     ]
    }
   ],
   "source": [
    "org = np.array([3,1,9,5])\n",
    "sort_indices = np.argsort(org)\n",
    "print(type(sort_indices))\n",
    "print(sort_indices)"
   ]
  },
  {
   "cell_type": "code",
   "execution_count": 32,
   "id": "93d28b85-3d1b-4b47-9ce2-5eda3c3e8255",
   "metadata": {},
   "outputs": [
    {
     "data": {
      "text/plain": [
       "array([2, 3, 0, 1], dtype=int64)"
      ]
     },
     "execution_count": 32,
     "metadata": {},
     "output_type": "execute_result"
    }
   ],
   "source": [
    "org = np.array([3,1,9,5])\n",
    "sort_indices_desc = np.argsort(org)[::-1]\n",
    "sort_indices_desc"
   ]
  },
  {
   "cell_type": "code",
   "execution_count": 33,
   "id": "41b8433b-35ee-4c59-9f2f-84e066499d2f",
   "metadata": {},
   "outputs": [
    {
     "name": "stdout",
     "output_type": "stream",
     "text": [
      "성적 오름차순 정렬시 score 인덱스: [0 2 4 1 3]\n",
      "['John' 'Sarah' 'Samuel' 'Mike' 'Kate']\n"
     ]
    }
   ],
   "source": [
    "name = np.array(['John', 'Mike', 'Sarah', 'Kate', 'Samuel'])\n",
    "score = np.array([78, 95, 84, 98, 88])\n",
    "\n",
    "sort_indices_asc = np.argsort(score)\n",
    "print('성적 오름차순 정렬시 score 인덱스:', sort_indices_asc)\n",
    "print(name[sort_indices_asc])"
   ]
  },
  {
   "cell_type": "code",
   "execution_count": null,
   "id": "f2f79794-ba9c-484f-91df-ede24d6a6523",
   "metadata": {},
   "outputs": [],
   "source": []
  }
 ],
 "metadata": {
  "kernelspec": {
   "display_name": "Python 3 (ipykernel)",
   "language": "python",
   "name": "python3"
  },
  "language_info": {
   "codemirror_mode": {
    "name": "ipython",
    "version": 3
   },
   "file_extension": ".py",
   "mimetype": "text/x-python",
   "name": "python",
   "nbconvert_exporter": "python",
   "pygments_lexer": "ipython3",
   "version": "3.8.13"
  }
 },
 "nbformat": 4,
 "nbformat_minor": 5
}
