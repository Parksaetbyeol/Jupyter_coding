{
 "cells": [
  {
   "cell_type": "code",
   "execution_count": 2,
   "id": "7201f5d5-41c9-46f1-bb5a-4df84c139667",
   "metadata": {},
   "outputs": [
    {
     "data": {
      "text/plain": [
       "array([1, 2, 3])"
      ]
     },
     "execution_count": 2,
     "metadata": {},
     "output_type": "execute_result"
    }
   ],
   "source": [
    "import numpy as np\n",
    "array1 = np.arange(start=1, stop=10)\n",
    "array3 = array1[0:3]\n",
    "array3"
   ]
  },
  {
   "cell_type": "markdown",
   "id": "808aa931-e913-4acd-9e84-b6d16f7512af",
   "metadata": {},
   "source": [
    "## 팬시 인덱싱"
   ]
  },
  {
   "cell_type": "code",
   "execution_count": 3,
   "id": "da0cc31b-6f56-490c-9bdb-c6a6b1849822",
   "metadata": {},
   "outputs": [
    {
     "data": {
      "text/plain": [
       "array([[1, 2, 3],\n",
       "       [4, 5, 6],\n",
       "       [7, 8, 9]])"
      ]
     },
     "execution_count": 3,
     "metadata": {},
     "output_type": "execute_result"
    }
   ],
   "source": [
    "array1 = np.arange(1,10)\n",
    "array2 = array1.reshape(3,3)\n",
    "array2"
   ]
  },
  {
   "cell_type": "code",
   "execution_count": 5,
   "id": "e7957f8a-9386-4465-b0ac-703b42b58806",
   "metadata": {},
   "outputs": [
    {
     "data": {
      "text/plain": [
       "array([3, 6, 9])"
      ]
     },
     "execution_count": 5,
     "metadata": {},
     "output_type": "execute_result"
    }
   ],
   "source": [
    "array3 = array2[[0,1,2],2]\n",
    "array3"
   ]
  },
  {
   "cell_type": "code",
   "execution_count": 8,
   "id": "3e38b9e6-4956-4ed7-b31f-2cfb8d63826e",
   "metadata": {},
   "outputs": [
    {
     "data": {
      "text/plain": [
       "array([[1, 2],\n",
       "       [4, 5],\n",
       "       [7, 8]])"
      ]
     },
     "execution_count": 8,
     "metadata": {},
     "output_type": "execute_result"
    }
   ],
   "source": [
    "array4 = array2[[0,1,2],0:2]\n",
    "array4"
   ]
  },
  {
   "cell_type": "code",
   "execution_count": 9,
   "id": "32d47423-3945-439c-96e1-8981a7eec28b",
   "metadata": {},
   "outputs": [
    {
     "data": {
      "text/plain": [
       "array([[1, 2, 3],\n",
       "       [4, 5, 6]])"
      ]
     },
     "execution_count": 9,
     "metadata": {},
     "output_type": "execute_result"
    }
   ],
   "source": [
    "array5 = array2[[0,1]]\n",
    "array5"
   ]
  },
  {
   "cell_type": "markdown",
   "id": "a40a6f3d-08b5-4890-9f96-0506128dcc7e",
   "metadata": {},
   "source": [
    "## 불린 인덱싱"
   ]
  },
  {
   "cell_type": "code",
   "execution_count": 10,
   "id": "32789432-e378-4fcd-84ee-c09ffcfd3ec7",
   "metadata": {},
   "outputs": [
    {
     "name": "stdout",
     "output_type": "stream",
     "text": [
      "array1>5 불린 인덱싱 값: [6 7 8 9]\n"
     ]
    }
   ],
   "source": [
    "array1 = np.arange(1,10)\n",
    "# []안에 array1>5 Boolean indexing 적용\n",
    "array2 = array1[array1 > 5]\n",
    "print('array1>5 불린 인덱싱 값:', array2)"
   ]
  },
  {
   "cell_type": "markdown",
   "id": "19c69265-2965-498e-87c7-d9522105cb94",
   "metadata": {},
   "source": [
    "## 행렬 정렬"
   ]
  },
  {
   "cell_type": "code",
   "execution_count": 24,
   "id": "3e4802e9-4de3-4a5e-88de-84905b46897a",
   "metadata": {},
   "outputs": [
    {
     "name": "stdout",
     "output_type": "stream",
     "text": [
      "원본 행렬: [3 1 9 5]\n"
     ]
    }
   ],
   "source": [
    "org_array = np.array([3,1,9,5])\n",
    "print('원본 행렬:', org_array)"
   ]
  },
  {
   "cell_type": "code",
   "execution_count": 25,
   "id": "676684c7-97c7-4075-aa52-e122ece297e7",
   "metadata": {},
   "outputs": [
    {
     "name": "stdout",
     "output_type": "stream",
     "text": [
      "np.sort()호출 후 반환된 정렬행렬: [1 3 5 9]\n",
      "np.sort()호출 후 반환된 원본행렬: [3 1 9 5]\n"
     ]
    }
   ],
   "source": [
    "# sort로 정렬\n",
    "sort_array1 = np.sort(org_array)\n",
    "print('np.sort()호출 후 반환된 정렬행렬:',sort_array1)\n",
    "print('np.sort()호출 후 반환된 원본행렬:', org_array)"
   ]
  },
  {
   "cell_type": "code",
   "execution_count": 26,
   "id": "78098df1-76f0-4552-b49c-a22ff6d5e172",
   "metadata": {},
   "outputs": [
    {
     "name": "stdout",
     "output_type": "stream",
     "text": [
      "org_array.sort()호출 후 반환된 행렬: None\n",
      "org_array.sort()호출 후 원본 행렬: [1 3 5 9]\n"
     ]
    }
   ],
   "source": [
    "sort_array2 = org_array.sort()\n",
    "print('org_array.sort()호출 후 반환된 행렬:', sort_array2)\n",
    "print('org_array.sort()호출 후 원본 행렬:', org_array)"
   ]
  },
  {
   "cell_type": "code",
   "execution_count": 27,
   "id": "6a7eed10-1e7a-499e-bfed-3504326aac47",
   "metadata": {},
   "outputs": [
    {
     "name": "stdout",
     "output_type": "stream",
     "text": [
      "내림차순으로 정렬: [9 5 3 1]\n"
     ]
    }
   ],
   "source": [
    "sort_array1_desc = np.sort(org_array)[::-1]\n",
    "print('내림차순으로 정렬:', sort_array1_desc)"
   ]
  },
  {
   "cell_type": "code",
   "execution_count": 29,
   "id": "7c92638d-951c-4444-a342-64d429c0a5b3",
   "metadata": {},
   "outputs": [
    {
     "name": "stdout",
     "output_type": "stream",
     "text": [
      "로우방향으로 정렬:\n",
      " [[ 7  1]\n",
      " [ 8 12]]\n",
      "컬럼방향으로 정렬:\n",
      " [[ 8 12]\n",
      " [ 1  7]]\n"
     ]
    }
   ],
   "source": [
    "array2 = np.array([[8,12],\n",
    "                  [7,1]])\n",
    "\n",
    "sort_array2_axis0 = np.sort(array2, axis=0)\n",
    "print('로우방향으로 정렬:\\n', sort_array2_axis0)\n",
    "\n",
    "sort_array2_axis1 = np.sort(array2, axis=1)\n",
    "print('컬럼방향으로 정렬:\\n', sort_array2_axis1)"
   ]
  },
  {
   "cell_type": "code",
   "execution_count": 30,
   "id": "ae7d83fc-9ba0-4674-b152-cbf73e848995",
   "metadata": {},
   "outputs": [
    {
     "name": "stdout",
     "output_type": "stream",
     "text": [
      "<class 'numpy.ndarray'>\n",
      "[1 0 3 2]\n"
     ]
    }
   ],
   "source": [
    "org = np.array([3,1,9,5])\n",
    "sort_indices = np.argsort(org)\n",
    "print(type(sort_indices))\n",
    "print(sort_indices)"
   ]
  },
  {
   "cell_type": "code",
   "execution_count": 32,
   "id": "93d28b85-3d1b-4b47-9ce2-5eda3c3e8255",
   "metadata": {},
   "outputs": [
    {
     "data": {
      "text/plain": [
       "array([2, 3, 0, 1], dtype=int64)"
      ]
     },
     "execution_count": 32,
     "metadata": {},
     "output_type": "execute_result"
    }
   ],
   "source": [
    "org = np.array([3,1,9,5])\n",
    "sort_indices_desc = np.argsort(org)[::-1]\n",
    "sort_indices_desc"
   ]
  },
  {
   "cell_type": "code",
   "execution_count": 33,
   "id": "41b8433b-35ee-4c59-9f2f-84e066499d2f",
   "metadata": {},
   "outputs": [
    {
     "name": "stdout",
     "output_type": "stream",
     "text": [
      "성적 오름차순 정렬시 score 인덱스: [0 2 4 1 3]\n",
      "['John' 'Sarah' 'Samuel' 'Mike' 'Kate']\n"
     ]
    }
   ],
   "source": [
    "name = np.array(['John', 'Mike', 'Sarah', 'Kate', 'Samuel'])\n",
    "score = np.array([78, 95, 84, 98, 88])\n",
    "\n",
    "sort_indices_asc = np.argsort(score)\n",
    "print('성적 오름차순 정렬시 score 인덱스:', sort_indices_asc)\n",
    "print(name[sort_indices_asc])"
   ]
  },
  {
   "cell_type": "code",
   "execution_count": null,
   "id": "f2f79794-ba9c-484f-91df-ede24d6a6523",
   "metadata": {},
   "outputs": [],
   "source": []
  }
 ],
 "metadata": {
  "kernelspec": {
   "display_name": "Python 3 (ipykernel)",
   "language": "python",
   "name": "python3"
  },
  "language_info": {
   "codemirror_mode": {
    "name": "ipython",
    "version": 3
   },
   "file_extension": ".py",
   "mimetype": "text/x-python",
   "name": "python",
   "nbconvert_exporter": "python",
   "pygments_lexer": "ipython3",
   "version": "3.8.13"
  }
 },
 "nbformat": 4,
 "nbformat_minor": 5
}
