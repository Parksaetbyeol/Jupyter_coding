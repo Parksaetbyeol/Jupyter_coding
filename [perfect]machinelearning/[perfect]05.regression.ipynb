{
 "cells": [
  {
   "cell_type": "markdown",
   "id": "8e17ff93-9ac7-4a6e-a5b3-67bc24218b84",
   "metadata": {},
   "source": [
    "# 회귀"
   ]
  },
  {
   "cell_type": "markdown",
   "id": "7503b229-131a-4a56-b59d-3c0018f2b011",
   "metadata": {
    "tags": []
   },
   "source": [
    "## 1. 경사하강법 파이썬으로 구현\n",
    "- p.314"
   ]
  },
  {
   "cell_type": "markdown",
   "id": "b91c4a3f-10a1-4625-8a7a-6eb0e3dc0305",
   "metadata": {
    "tags": []
   },
   "source": [
    "## 1-1. 단순선형회귀에서 경사하강법 적용"
   ]
  },
  {
   "cell_type": "markdown",
   "id": "e8a319eb-eb1d-4b2e-997d-c24721c0bf08",
   "metadata": {},
   "source": [
    "- step1 : w1,w0를 임의의 값으로 설정하고 첫 비용 함수의 값을 계산\n",
    "- step2 : w1,w0 각 편미분 결과값을 이전 w에서 마이너스해서 새로운 w값 구한다.\n",
    "- step3 : 비용함수가 감소하는 방향성으로 주어진 횟수만큼 step2반복하면서 w1,w0업데이트"
   ]
  },
  {
   "cell_type": "code",
   "execution_count": 1,
   "id": "30796004-cc9a-4603-b16b-de953f33520f",
   "metadata": {},
   "outputs": [
    {
     "data": {
      "text/plain": [
       "<matplotlib.collections.PathCollection at 0x23b12030fd0>"
      ]
     },
     "execution_count": 1,
     "metadata": {},
     "output_type": "execute_result"
    },
    {
     "data": {
      "image/png": "[encoded data removed]",
      "text/plain": [
       "<Figure size 432x288 with 1 Axes>"
      ]
     },
     "metadata": {
      "needs_background": "light"
     },
     "output_type": "display_data"
    }
   ],
   "source": [
    "import numpy as np\n",
    "import matplotlib.pyplot as plt\n",
    "%matplotlib inline\n",
    "\n",
    "# 회귀식인 y=4X+6을 근사하기위해 100개의 데이터셋을 만들고, 경사하강법으로 회귀계수 w0(편향),w1(기울기,가중치)을 도출\n",
    "np.random.seed(0)\n",
    "# y=4X+6을 근사(w1=4, w0=6). 임의의 값은 노이즈를 위해 만듦.\n",
    "X = 2*np.random.rand(100,1) # 0~1 사이의 random 소수 \n",
    "y = 6+4 * X+np.random.randn(100,1)\n",
    "\n",
    "#X,y 데이터 셋 산점도로 시각화\n",
    "plt.scatter(X,y)"
   ]
  },
  {
   "cell_type": "code",
   "execution_count": 2,
   "id": "70474fdb-80ae-40ae-8ae2-2554db92d00d",
   "metadata": {},
   "outputs": [],
   "source": [
    "# 비용함수로 정의. 실제값y, 예측값y_pred로 받아서 수식에 넣기\n",
    "def get_cost(y, y_pred):\n",
    "    N = len(y)\n",
    "    cost = np.sum(np.square(y - y_pred))/N\n",
    "    return cost"
   ]
  },
  {
   "cell_type": "code",
   "execution_count": 3,
   "id": "ac30b91c-abba-47cc-9d8b-2420ae53451c",
   "metadata": {},
   "outputs": [],
   "source": [
    "# w1, w0을 업데이트할 w1_update, w0_update를 반환\n",
    "# 입력배열X에 대한 예측배열y_pred는 np.dot(X,w1.T)+w0으로 구한다.\n",
    "# 100개의 X(1,2,..,100)이 있다면 예측값은 w0+X(1)*w1+X(2)*w1+..+X(100)*w1이며, X와 w1배열의 내적과 동일하다.\n",
    "def get_weight_updates(w1,w0,X,y,learning_rate=0.01):\n",
    "    N=len(y)\n",
    "    # 먼저 w1_update, w0_update를 각각 w1,w0의 shape와 동일한 크기를 가진 0값으로 초기화\n",
    "    w1_update = np.zeros_like(w1)\n",
    "    w0_update = np.zeros_like(w0)\n",
    "    # 예측배열 계산하고 예측과 실제값의 차이 계산\n",
    "    y_pred = np.dot(X,w1.T)+w0\n",
    "    diff = y-y_pred\n",
    "    \n",
    "    # w0_update를 dot행렬연산으로 구하기 위해 모두 1값을 가진 행렬 생성\n",
    "    w0_factors = np.ones((N,1))\n",
    "    # w1,w0을 업데이트할 w1_update,w0_update계산\n",
    "    w1_update = -(2/N)*learning_rate*(np.dot(X.T,diff))\n",
    "    w0_update = --(2/N)*learning_rate*(np.dot(w0_factors.T,diff))\n",
    "    \n",
    "    return w1_update,w0_update"
   ]
  },
  {
   "cell_type": "code",
   "execution_count": 5,
   "id": "e2c1dfa6-d50f-4463-a1f1-9b9699f7ffc5",
   "metadata": {},
   "outputs": [],
   "source": [
    "# 경사하강법 함수 생성 : w1,w0모두 0으로 초기화해서 iters 갯수만큼 반복해서 업데이트\n",
    "# 업데이트는 새로운 w1=이전w1+편미분한 수식을 반복하는것.(w0도 동일)\n",
    "def gradient_descent_stpes(X, y, iters=10000):\n",
    "    # 초기값 0으로 설정\n",
    "    w0 = np.zeros((1,1))\n",
    "    w1 = np.zeros((1,1))\n",
    "\n",
    "    # 인자로 주어진 iters만큼 반복적으로 get_weight_updates() 호출해 w1, w0 업데이트\n",
    "    for ind in range(iters):\n",
    "        w1_update, w0_update = get_weight_updates(w1, w0, X, y, learning_rate=0.01)\n",
    "        w1 = w1 - w1_update\n",
    "        w0 = w0 - w0_update\n",
    "\n",
    "    return w1, w0"
   ]
  },
  {
   "cell_type": "code",
   "execution_count": 6,
   "id": "712bf07f-48e0-4a3a-819c-1049cbbfb78b",
   "metadata": {},
   "outputs": [
    {
     "name": "stdout",
     "output_type": "stream",
     "text": [
      "w1 : 4.022, w0 : 6.162\n",
      "GD Total Cost 0.9935\n"
     ]
    }
   ],
   "source": [
    "# gradient_descent_steps 호출해서 w1,w0구하기\n",
    "# 최종적으로 예측값과 실제값의 RSS차이구하는 get_cost함수 생성\n",
    "def get_cost(y, y_pred):\n",
    "    N = len(y)\n",
    "    cost = np.sum(np.square(y - y_pred))/N\n",
    "    return cost\n",
    "\n",
    "w1, w0 = gradient_descent_stpes(X,y, iters=1000)\n",
    "print(f\"w1 : {w1[0,0]:.3f}, w0 : {w0[0,0]:.3f}\")\n",
    "y_pred = w1[0, 0]*X + w0\n",
    "print(\"GD Total Cost\", round(get_cost(y, y_pred),4))"
   ]
  },
  {
   "cell_type": "code",
   "execution_count": 7,
   "id": "78d2d1c4-e529-41d1-b673-7e24723ff382",
   "metadata": {},
   "outputs": [
    {
     "data": {
      "text/plain": [
       "[<matplotlib.lines.Line2D at 0x23b127f48e0>]"
      ]
     },
     "execution_count": 7,
     "metadata": {},
     "output_type": "execute_result"
    },
    {
     "data": {
      "image/png": "[encoded data removed]",
      "text/plain": [
       "<Figure size 432x288 with 1 Axes>"
      ]
     },
     "metadata": {
      "needs_background": "light"
     },
     "output_type": "display_data"
    }
   ],
   "source": [
    "plt.scatter(X,y)\n",
    "plt.plot(X,y_pred,'r')"
   ]
  },
  {
   "cell_type": "markdown",
   "id": "1f52b243-27bf-48cf-99f2-a2d05288015a",
   "metadata": {},
   "source": [
    "### stochastic"
   ]
  },
  {
   "cell_type": "markdown",
   "id": "41d20084-2246-4081-bf8e-e37fb780bc43",
   "metadata": {},
   "source": [
    "- 확률적 경사하강법(SGD;Stochastic Gradient Descent)은 추출된 데이터 한개에 대해서 그래디언트를 계산하고, 경사 하강 알고리즘을 적용하는 방법이다.\n",
    "- 매 step에서 한개의 샘플을 무작위로 선택하고 그 샘플에 대한 gradient를 계산하기때문에 한 step당 계산하는 속도가 매우 빠르다.\n",
    "- 반면 확률적으로 샘플링하기때문에, 이 알고리즘은 불안정하다. cost function이 최솟값에 다다를 때까지 smooth하게 감소하지 않고 요동치며 감소한다. 시간이 지나면 최솟값에 매우 근접하겠지만 fluctuation이 지속되면서 minimum에 안착하지 못할 수 있다."
   ]
  },
  {
   "cell_type": "code",
   "execution_count": 8,
   "id": "c1b724d0-4ecc-4a54-a59c-5d1c11142ce7",
   "metadata": {},
   "outputs": [],
   "source": [
    "def stochastic_gradient_descent_steps(X,y,batch_size=10, iters=1000):\n",
    "    w0 = np.zeros((1,1))\n",
    "    w1 = np.zeros((1,1))\n",
    "    prev_cost = 100000\n",
    "    iter_index = 0\n",
    "    \n",
    "    for ind in range(iters):\n",
    "        np.random.seed(ind)\n",
    "        # 전체 X,y데이터에서 랜덤하게 batch_size만큼 데이터를 추출해 sample_X,sample_y로 저장\n",
    "        stochastic_random_index = np.random.permutation(X.shape[0])\n",
    "        sample_X = X[stochastic_random_index[0:batch_size]]\n",
    "        sample_y = y[stochastic_random_index[0:batch_size]]\n",
    "        # 랜덤하게 batch_size만큼 추출된 데이터 기반으로 w1_update,w0_update계산 후 업데이트\n",
    "        w1_update, w0_update = get_weight_updates(w1,w0,sample_X,sample_y,learning_rate=0.01)\n",
    "        w1 = w1-w1_update\n",
    "        w0 = w0-w0_update\n",
    "        \n",
    "    return w1,w0"
   ]
  },
  {
   "cell_type": "code",
   "execution_count": 9,
   "id": "ab0fdae4-d61d-4399-8b1d-f0c236924133",
   "metadata": {},
   "outputs": [
    {
     "name": "stdout",
     "output_type": "stream",
     "text": [
      "w1: 4.028 w0: 6.156\n",
      "SGD Total Cost:0.9937\n"
     ]
    }
   ],
   "source": [
    "w1,w0 = stochastic_gradient_descent_steps(X,y,iters=1000)\n",
    "print('w1:', round(w1[0,0],3), 'w0:', round(w0[0,0],3))\n",
    "\n",
    "y_pred = w1[0,0]*X +w0\n",
    "print('SGD Total Cost:{0:.4f}'.format(get_cost(y,y_pred)))"
   ]
  },
  {
   "cell_type": "markdown",
   "id": "035f30f3-094a-472c-8377-20a8247df70f",
   "metadata": {},
   "source": [
    "- 확률적 경사하강법을 사용해본 결과 w1, w0은 경사하강법의 결과와 큰 차이가 없으며, \n",
    "- 예측오류비용 또한 0.9937로 경사하강법으로 구한 예측오류비용보다 아주 조금 높을뿐으로 큰 예측성능상의 차이가 없음을 알 수 있다.\n",
    "- 따라서 큰 데이터를 처리할 경우에는 경사하강법은 매우 시간이 오래 걸리므로 일반적으로 확률적 경사하강법을 이용한다."
   ]
  },
  {
   "cell_type": "markdown",
   "id": "93bc811c-be2d-4c06-8e2c-7c3f9f1eedd6",
   "metadata": {},
   "source": [
    "## 2. 사이킷런 LinearRegression을 이용한 보스턴 주택가격 예측"
   ]
  },
  {
   "cell_type": "markdown",
   "id": "1eab9701-42f6-40d2-82ea-275581fd68a3",
   "metadata": {},
   "source": [
    "- 사이킷런의 linear_models 모듈은 매우 다양한 종류의 선형기반 회귀를 클래스로 구현해 제공한다.\n",
    "- http://scikit-learn.org/stable/modules/classes.html#module-sklearn.linear_model 에서 다양한 선형모듈 확인가능"
   ]
  },
  {
   "cell_type": "markdown",
   "id": "bb3ee06c-7850-4d38-a663-b92ac5c853ec",
   "metadata": {},
   "source": [
    "- LinearRegression클래스는 예측값과 실제값의 RSS(Residual Sum of Squares)를 최소화해 OLS(Ordinary Least Squares)추정 방식으로 구현한 클래스이다.\n",
    "    - RSS(잔차제곱합) : 데이터와 추정 모델 사이의 불일치를 평가하는 척도\n",
    "        - RSS가 작으면 모델이 데이터를 잘 설명하는 것이다.\n",
    "        - 제곱합 = 설명되는 제곱합 + 잔차 제곱합\n",
    "- LinearRegression클래스는 fit()메서드로 X,y배열을 입력받으면 회귀계수인 W를 coef_속성에 저장한다."
   ]
  },
  {
   "cell_type": "raw",
   "id": "b9b89396-7e88-4f4b-b71e-2190957447b1",
   "metadata": {},
   "source": [
    "class sklearn.LinearRegression(fit_intercept=True, normalize=False, copy_X=True, n_jobs=1)"
   ]
  },
  {
   "cell_type": "markdown",
   "id": "2deba7c6-8f79-4896-b912-b824dbdd76b5",
   "metadata": {},
   "source": [
    "- LinearRegression은 계수 w = (w1,…, wp)를 사용하여 선형 모델을 피팅하여 데이터 세트에서 관찰 된 목표와 선형 근사에 의해 예측 된 목표 사이의 잔차 제곱합을 최소화한다.\n",
    "    - fit_intercept : 모형에 intercept상수항(절편;그래프와 겹쳐있는 점)이 있는가 없는가를 결정하는 인수 (default : True). False로 설정하면 계산에 인터셉트가 사용되지 않고 0으로 지정된다 \n",
    "        - ex) 데이터가 중앙에 배치 될 것으로 예상 됨\n",
    "    - normalize : 매개변수 무시 여부. fit_intercept가 False로 설정된 경우 이 매개 변수는 무시된다 . True인 경우 회귀 변수 X는 평균을 빼고 l2- 노름으로 나누어 회귀 전에 정규화된다. 표준화하려면 normalize=False를 사용 하여 추정기에 fit 을 호출하기 전에 StandardScaler 를 사용 .\n",
    "    - copy_X : X의 복사 여부. 그렇지 않으면 덮어 쓸 수 있다.\n",
    "    - n_jobs : 계산에 사용할 작업 수. 이것은 n_targets> 1과 충분한 큰 문제에 대해서만 속도 향상을 제공\n",
    "    - positivebool : True 로 설정 하면 계수가 양수가됩니다. 이 옵션은 고밀도 어레이에만 지원\n",
    "    - coef_ : fit()메서드를 수행했을때 회귀 계수가 배열 형태로 저장하는 속성. shape는 (target값 갯수, feature 갯수)"
   ]
  },
  {
   "cell_type": "code",
   "execution_count": 10,
   "id": "2f6851c2-ea1d-40cf-b807-87d5a9480b94",
   "metadata": {},
   "outputs": [],
   "source": [
    "from sklearn.linear_model import LinearRegression"
   ]
  },
  {
   "cell_type": "markdown",
   "id": "13a9106e-320a-43d8-9312-785f17bb7f73",
   "metadata": {},
   "source": [
    "### LinearRegression을 이용해 보스턴 주택 가격 회귀 구현"
   ]
  },
  {
   "cell_type": "markdown",
   "id": "391c1b55-dc59-49c5-bdda-f062b2141d0b",
   "metadata": {},
   "source": [
    "- CRIM: 지역별 범죄 발생률\n",
    "- ZN: 25,000평방피트를 초과하는 거주 지역의 비율\n",
    "- NDUS: 비상업 지역 넓이 비율\n",
    "- CHAS: 찰스강에 대한 더미 변수(강의 경계에 위치한 경우는 1, 아니면 0)\n",
    "- NOX: 일산화질소 농도\n",
    "- RM: 거주할 수 있는 방 개수\n",
    "- AGE: 1940년 이전에 건축된 소유 주택의 비율\n",
    "- DIS: 5개 주요 고용센터까지의 가중 거리\n",
    "- RAD: 고속도로 접근 용이도\n",
    "- TAX: 10,000달러당 재산세율\n",
    "- PTRATIO: 지역의 교사와 학생 수 비율\n",
    "- B: 지역의 흑인 거주 비율\n",
    "- LSTAT: 하위 계층의 비율\n",
    "- PRICE: 본인 소유의 주택 가격(중앙값) - 종속변수 (위의 건 독립변수)"
   ]
  },
  {
   "cell_type": "code",
   "execution_count": 20,
   "id": "7a8ec23c-e700-4127-8867-4679719451fb",
   "metadata": {},
   "outputs": [],
   "source": [
    "import numpy as np\n",
    "import matplotlib.pyplot as plt\n",
    "import pandas as pd\n",
    "import seaborn as sns\n",
    "from scipy import stats\n",
    "from sklearn.datasets import load_boston\n",
    "import warnings\n",
    "warnings.filterwarnings('ignore')\n",
    "\n",
    "%matplotlib inline"
   ]
  },
  {
   "cell_type": "code",
   "execution_count": 17,
   "id": "78a646e0-1a50-43d6-8ab9-f0956abd5171",
   "metadata": {},
   "outputs": [],
   "source": [
    "boston = load_boston()\n",
    "bostonDF = pd.DataFrame(boston.data, columns=boston.feature_names)"
   ]
  },
  {
   "cell_type": "code",
   "execution_count": 18,
   "id": "5c7ef53e-3a2f-4a4a-bfc9-e26fdb33bb30",
   "metadata": {},
   "outputs": [
    {
     "name": "stdout",
     "output_type": "stream",
     "text": [
      "(506, 14)\n"
     ]
    },
    {
     "data": {
      "text/html": [
       "<div>\n",
       "<style scoped>\n",
       "    .dataframe tbody tr th:only-of-type {\n",
       "        vertical-align: middle;\n",
       "    }\n",
       "\n",
       "    .dataframe tbody tr th {\n",
       "        vertical-align: top;\n",
       "    }\n",
       "\n",
       "    .dataframe thead th {\n",
       "        text-align: right;\n",
       "    }\n",
       "</style>\n",
       "<table border=\"1\" class=\"dataframe\">\n",
       "  <thead>\n",
       "    <tr style=\"text-align: right;\">\n",
       "      <th></th>\n",
       "      <th>CRIM</th>\n",
       "      <th>ZN</th>\n",
       "      <th>INDUS</th>\n",
       "      <th>CHAS</th>\n",
       "      <th>NOX</th>\n",
       "      <th>RM</th>\n",
       "      <th>AGE</th>\n",
       "      <th>DIS</th>\n",
       "      <th>RAD</th>\n",
       "      <th>TAX</th>\n",
       "      <th>PTRATIO</th>\n",
       "      <th>B</th>\n",
       "      <th>LSTAT</th>\n",
       "      <th>PRICE</th>\n",
       "    </tr>\n",
       "  </thead>\n",
       "  <tbody>\n",
       "    <tr>\n",
       "      <th>0</th>\n",
       "      <td>0.00632</td>\n",
       "      <td>18.0</td>\n",
       "      <td>2.31</td>\n",
       "      <td>0.0</td>\n",
       "      <td>0.538</td>\n",
       "      <td>6.575</td>\n",
       "      <td>65.2</td>\n",
       "      <td>4.0900</td>\n",
       "      <td>1.0</td>\n",
       "      <td>296.0</td>\n",
       "      <td>15.3</td>\n",
       "      <td>396.90</td>\n",
       "      <td>4.98</td>\n",
       "      <td>24.0</td>\n",
       "    </tr>\n",
       "    <tr>\n",
       "      <th>1</th>\n",
       "      <td>0.02731</td>\n",
       "      <td>0.0</td>\n",
       "      <td>7.07</td>\n",
       "      <td>0.0</td>\n",
       "      <td>0.469</td>\n",
       "      <td>6.421</td>\n",
       "      <td>78.9</td>\n",
       "      <td>4.9671</td>\n",
       "      <td>2.0</td>\n",
       "      <td>242.0</td>\n",
       "      <td>17.8</td>\n",
       "      <td>396.90</td>\n",
       "      <td>9.14</td>\n",
       "      <td>21.6</td>\n",
       "    </tr>\n",
       "    <tr>\n",
       "      <th>2</th>\n",
       "      <td>0.02729</td>\n",
       "      <td>0.0</td>\n",
       "      <td>7.07</td>\n",
       "      <td>0.0</td>\n",
       "      <td>0.469</td>\n",
       "      <td>7.185</td>\n",
       "      <td>61.1</td>\n",
       "      <td>4.9671</td>\n",
       "      <td>2.0</td>\n",
       "      <td>242.0</td>\n",
       "      <td>17.8</td>\n",
       "      <td>392.83</td>\n",
       "      <td>4.03</td>\n",
       "      <td>34.7</td>\n",
       "    </tr>\n",
       "    <tr>\n",
       "      <th>3</th>\n",
       "      <td>0.03237</td>\n",
       "      <td>0.0</td>\n",
       "      <td>2.18</td>\n",
       "      <td>0.0</td>\n",
       "      <td>0.458</td>\n",
       "      <td>6.998</td>\n",
       "      <td>45.8</td>\n",
       "      <td>6.0622</td>\n",
       "      <td>3.0</td>\n",
       "      <td>222.0</td>\n",
       "      <td>18.7</td>\n",
       "      <td>394.63</td>\n",
       "      <td>2.94</td>\n",
       "      <td>33.4</td>\n",
       "    </tr>\n",
       "    <tr>\n",
       "      <th>4</th>\n",
       "      <td>0.06905</td>\n",
       "      <td>0.0</td>\n",
       "      <td>2.18</td>\n",
       "      <td>0.0</td>\n",
       "      <td>0.458</td>\n",
       "      <td>7.147</td>\n",
       "      <td>54.2</td>\n",
       "      <td>6.0622</td>\n",
       "      <td>3.0</td>\n",
       "      <td>222.0</td>\n",
       "      <td>18.7</td>\n",
       "      <td>396.90</td>\n",
       "      <td>5.33</td>\n",
       "      <td>36.2</td>\n",
       "    </tr>\n",
       "  </tbody>\n",
       "</table>\n",
       "</div>"
      ],
      "text/plain": [
       "      CRIM    ZN  INDUS  CHAS    NOX     RM   AGE     DIS  RAD    TAX  \\\n",
       "0  0.00632  18.0   2.31   0.0  0.538  6.575  65.2  4.0900  1.0  296.0   \n",
       "1  0.02731   0.0   7.07   0.0  0.469  6.421  78.9  4.9671  2.0  242.0   \n",
       "2  0.02729   0.0   7.07   0.0  0.469  7.185  61.1  4.9671  2.0  242.0   \n",
       "3  0.03237   0.0   2.18   0.0  0.458  6.998  45.8  6.0622  3.0  222.0   \n",
       "4  0.06905   0.0   2.18   0.0  0.458  7.147  54.2  6.0622  3.0  222.0   \n",
       "\n",
       "   PTRATIO       B  LSTAT  PRICE  \n",
       "0     15.3  396.90   4.98   24.0  \n",
       "1     17.8  396.90   9.14   21.6  \n",
       "2     17.8  392.83   4.03   34.7  \n",
       "3     18.7  394.63   2.94   33.4  \n",
       "4     18.7  396.90   5.33   36.2  "
      ]
     },
     "execution_count": 18,
     "metadata": {},
     "output_type": "execute_result"
    }
   ],
   "source": [
    "bostonDF['PRICE'] = boston.target # boston데이터셋의 target 배열은 주택가격\n",
    "print(bostonDF.shape)\n",
    "bostonDF.head()"
   ]
  },
  {
   "cell_type": "code",
   "execution_count": 19,
   "id": "22822753-37a6-4331-8d46-c1ab5462a858",
   "metadata": {},
   "outputs": [
    {
     "name": "stdout",
     "output_type": "stream",
     "text": [
      "<class 'pandas.core.frame.DataFrame'>\n",
      "RangeIndex: 506 entries, 0 to 505\n",
      "Data columns (total 14 columns):\n",
      " #   Column   Non-Null Count  Dtype  \n",
      "---  ------   --------------  -----  \n",
      " 0   CRIM     506 non-null    float64\n",
      " 1   ZN       506 non-null    float64\n",
      " 2   INDUS    506 non-null    float64\n",
      " 3   CHAS     506 non-null    float64\n",
      " 4   NOX      506 non-null    float64\n",
      " 5   RM       506 non-null    float64\n",
      " 6   AGE      506 non-null    float64\n",
      " 7   DIS      506 non-null    float64\n",
      " 8   RAD      506 non-null    float64\n",
      " 9   TAX      506 non-null    float64\n",
      " 10  PTRATIO  506 non-null    float64\n",
      " 11  B        506 non-null    float64\n",
      " 12  LSTAT    506 non-null    float64\n",
      " 13  PRICE    506 non-null    float64\n",
      "dtypes: float64(14)\n",
      "memory usage: 55.5 KB\n"
     ]
    }
   ],
   "source": [
    "bostonDF.info()"
   ]
  },
  {
   "cell_type": "code",
   "execution_count": 22,
   "id": "5d0dc4c5-55de-4404-b21c-61e281b47f9c",
   "metadata": {},
   "outputs": [
    {
     "data": {
      "image/png": "[encoded data removed]",
      "text/plain": [
       "<Figure size 1152x576 with 8 Axes>"
      ]
     },
     "metadata": {
      "needs_background": "light"
     },
     "output_type": "display_data"
    }
   ],
   "source": [
    "# 4개의 열, 2개의 행\n",
    "fig, axs = plt.subplots(figsize=(16,8), ncols=4, nrows=2)\n",
    "\n",
    "lm_features = ['RM','ZN','INDUS','NOX','AGE','PTRATIO','LSTAT','RAD']\n",
    "\n",
    "# i에는 인덱스가 feature에는 RM ~ RAD까지 순차적으로 들어감\n",
    "for i, feature in enumerate(lm_features):\n",
    "    row = int(i/4) # 2행\n",
    "    col = i%4\n",
    "\n",
    "    # sns.regplot : 산점도와 선형 회귀 직선을 함께 표현\n",
    "    sns.regplot(x=feature, y='PRICE', data=bostonDF, ax=axs[row][col])"
   ]
  },
  {
   "cell_type": "markdown",
   "id": "01f0bf3b-ede1-4bd3-bb16-9b08787f0f0c",
   "metadata": {},
   "source": [
    "- 집 값 상승 : RM(방 갯수)는 양 방향의 선형성(Positive)이 가장 크다. 즉, 방 크기가 클수록 집값 상승\n",
    "- 집 값 하락 : LSTAT(하위계층비율)은 음 방향의 선형성(Negative)이 가장 크다. "
   ]
  },
  {
   "cell_type": "markdown",
   "id": "a3d11a33-6fdd-4f78-85a2-f4d56038440b",
   "metadata": {},
   "source": [
    "### train/test 분리해서 학습과 예측을 수행"
   ]
  },
  {
   "cell_type": "markdown",
   "id": "83ebbfa4-bda7-4367-9d7e-300b80b727cb",
   "metadata": {},
   "source": [
    "- 506개 데이터 -> 7:3 train/test 데이터 분리\n",
    "- train : 학습 -> linear regression 학습/모델링 수행 -> 모델(W) 생성\n",
    "- test : 평가(validation)-> 평가지표 (MSE, RMSE, ... )"
   ]
  },
  {
   "cell_type": "code",
   "execution_count": 24,
   "id": "34ed2790-233e-49aa-996c-a036fe5983e6",
   "metadata": {},
   "outputs": [],
   "source": [
    "df = bostonDF"
   ]
  },
  {
   "cell_type": "code",
   "execution_count": 25,
   "id": "6221299f-5326-472d-9b54-6849fd3221d3",
   "metadata": {},
   "outputs": [
    {
     "data": {
      "text/plain": [
       "LinearRegression()"
      ]
     },
     "execution_count": 25,
     "metadata": {},
     "output_type": "execute_result"
    }
   ],
   "source": [
    "from sklearn.model_selection import train_test_split\n",
    "from sklearn.linear_model import LinearRegression\n",
    "from sklearn.metrics import mean_squared_error, r2_score\n",
    "        # m_s_e, r2(선형회귀모델 적합도 : 분산값, 1에 가까울수록 적합도 높음)\n",
    "\n",
    "# feature, target 데이터 분리\n",
    "y_target = df['PRICE'] # 레이블(종속변수)\n",
    "X_data = df.drop(['PRICE'], axis=1, inplace=False) # 피처(독립변수)\n",
    "\n",
    "# train, test 데이터 분리\n",
    "X_train , X_test , y_train , y_test = train_test_split(X_data , y_target , test_size=0.3, random_state=156)\n",
    "\n",
    "# 선형 회귀 OLS로 학습하기\n",
    "lr = LinearRegression()\n",
    "\n",
    "# fit 메소드 학습 : 주어진 데이터로 estimator(사이킷런이 제공) 알고리즘 학습\n",
    "lr.fit(X_train, y_train)"
   ]
  },
  {
   "cell_type": "code",
   "execution_count": 26,
   "id": "652a7495-92c8-4942-a99a-c51042d91ecd",
   "metadata": {},
   "outputs": [
    {
     "name": "stdout",
     "output_type": "stream",
     "text": [
      "(354, 13) (152, 13)\n"
     ]
    }
   ],
   "source": [
    "print(X_train.shape, X_test.shape)"
   ]
  },
  {
   "cell_type": "code",
   "execution_count": 27,
   "id": "46e0ebd1-52c6-455f-a7e2-fa7bc37fa66e",
   "metadata": {},
   "outputs": [
    {
     "data": {
      "text/plain": [
       "array([23.15424087, 19.65590246, 36.42005168, 19.96705124, 32.40150641])"
      ]
     },
     "execution_count": 27,
     "metadata": {},
     "output_type": "execute_result"
    }
   ],
   "source": [
    "# predict 메소드 : 학습된 모델로 예측을 수행\n",
    "y_preds = lr.predict(X_test)\n",
    "y_preds[0:5]"
   ]
  },
  {
   "cell_type": "code",
   "execution_count": 28,
   "id": "cb7b7de3-ee78-424e-a138-c5e23b5a9afa",
   "metadata": {},
   "outputs": [
    {
     "name": "stdout",
     "output_type": "stream",
     "text": [
      "MSE : 17.297, RMSE: 4.159\n",
      "Variance score : 0.757\n"
     ]
    }
   ],
   "source": [
    "# rmse를 활용한 평가\n",
    "mse = mean_squared_error(y_test, y_preds)\n",
    "rmse = np.sqrt(mse)\n",
    "\n",
    "print(f'MSE : {mse:.3f}, RMSE: {rmse:.3f}')\n",
    "print(f'Variance score : {r2_score(y_test, y_preds):.3f}')"
   ]
  },
  {
   "cell_type": "markdown",
   "id": "b8d7b58b-0615-444c-bb36-5a68727f1120",
   "metadata": {},
   "source": [
    "- 주택 가격 모델의 intercept(절편)과 coefficients(회귀 계수;기울기)값 확인"
   ]
  },
  {
   "cell_type": "code",
   "execution_count": 29,
   "id": "ce597a6e-2588-4132-947b-8b00e6239708",
   "metadata": {},
   "outputs": [
    {
     "name": "stdout",
     "output_type": "stream",
     "text": [
      "절편 값: 40.995595172164336\n",
      "회귀계수: [ -0.1   0.1   0.    3.  -19.8   3.4   0.   -1.7   0.4  -0.   -0.9   0.\n",
      "  -0.6]\n"
     ]
    }
   ],
   "source": [
    "print(\"절편 값:\", lr.intercept_) # y축 절편값\n",
    "\n",
    "# 회귀 계수(coefficient) : 독립변수의 변화에 따라 종속변수에 미치는 영향력이 크기\n",
    "print(\"회귀계수:\", np.round(lr.coef_,1))"
   ]
  },
  {
   "cell_type": "code",
   "execution_count": 30,
   "id": "91b2761d-2449-4eda-b929-96aa9660eda8",
   "metadata": {},
   "outputs": [
    {
     "data": {
      "text/plain": [
       "RM          3.4\n",
       "CHAS        3.0\n",
       "RAD         0.4\n",
       "ZN          0.1\n",
       "INDUS       0.0\n",
       "AGE         0.0\n",
       "TAX        -0.0\n",
       "B           0.0\n",
       "CRIM       -0.1\n",
       "LSTAT      -0.6\n",
       "PTRATIO    -0.9\n",
       "DIS        -1.7\n",
       "NOX       -19.8\n",
       "dtype: float64"
      ]
     },
     "execution_count": 30,
     "metadata": {},
     "output_type": "execute_result"
    }
   ],
   "source": [
    "# 회귀계수 정렬 (내림차순, 큰 값부터)\n",
    "coeff = pd.Series(data=np.round(lr.coef_, 1), index=X_data.columns)\n",
    "coeff.sort_values(ascending=False)"
   ]
  },
  {
   "cell_type": "markdown",
   "id": "a6d5fbca-695b-4e0a-8e64-cc5811f5ba1a",
   "metadata": {},
   "source": [
    "### cross_val_score를 이용해 교차검증"
   ]
  },
  {
   "cell_type": "markdown",
   "id": "cfd71c82-98db-47d9-b8f7-301d1a1fe3ed",
   "metadata": {},
   "source": [
    "- RM의 양의 절대값이 제일 크다.\n",
    "- NOX가 음의 절대값이 너무 크다."
   ]
  },
  {
   "cell_type": "markdown",
   "id": "b0183539-8ee7-4b93-8fa2-5210d4e0e813",
   "metadata": {},
   "source": [
    "- 사이킷런의 지표 평가 기준은 높은 지표값일수록 좋은 모델이지만,\n",
    "- 일반적으로 회귀는 MSE값이 낮을수록 좋은 회귀 모델이다."
   ]
  },
  {
   "cell_type": "code",
   "execution_count": 31,
   "id": "ecd72e2e-99cc-4cf5-9be2-94ab62c5963e",
   "metadata": {},
   "outputs": [],
   "source": [
    "from sklearn.model_selection import cross_val_score\n",
    "\n",
    "# features, target 데이터 정의\n",
    "y_target = df['PRICE']\n",
    "X_data = df.drop(['PRICE'], axis=1)\n",
    "\n",
    "# 선형회귀 객체 생성\n",
    "lr = LinearRegression()\n",
    "\n",
    "# 5 folds의 개별 Negative MSE scores (음수로 만들어 작은 오류 값이 더 큰 숫자로 인식됨)\n",
    "neg_mse_scores = cross_val_score(lr, X_data, y_target, scoring=\"neg_mean_squared_error\", cv = 5)\n",
    "\n",
    "# RMSE를 구하기 위해선 MSE 값에 -1을 곱한 후 평균을 내면 된다\n",
    "# 왜? scoring함수 호출하면 MSE값에 -1을 곱해서 반환하기때문에 \n",
    "rmse_scores =  np.sqrt(-1*neg_mse_scores) # 그래서 다시!! -1을 곱해야 양수인 원래 모델에서 계산된 MSE값이 된다.\n",
    "\n",
    "# 5 fold 의 평균 RMSE\n",
    "avg_rmse = np.mean(rmse_scores)"
   ]
  },
  {
   "cell_type": "code",
   "execution_count": 32,
   "id": "063a1dc8-3776-4060-b0c8-069c826c6e23",
   "metadata": {},
   "outputs": [
    {
     "name": "stdout",
     "output_type": "stream",
     "text": [
      " 5 folds 의 개별 Negative MSE scores:  [-12.46 -26.05 -33.07 -80.76 -33.31]\n",
      " 5 folds 의 개별 RMSE scores :  [3.53 5.1  5.75 8.99 5.77]\n",
      " 5 folds 의 평균 RMSE : 5.829\n"
     ]
    }
   ],
   "source": [
    "# cross_val_score(scoring=\"neg_mean_squared_error\")로 반환된 값은 모두 음수\n",
    "print(' 5 folds 의 개별 Negative MSE scores: ', np.round(neg_mse_scores, 2))\n",
    "print(' 5 folds 의 개별 RMSE scores : ', np.round(rmse_scores, 2))\n",
    "print(f' 5 folds 의 평균 RMSE : {avg_rmse:.3f}')"
   ]
  },
  {
   "cell_type": "markdown",
   "id": "52ef92b7-d7a2-4519-8475-a80e211073eb",
   "metadata": {},
   "source": [
    "- 보스턴 주택가격 예측 RMSE값은 5.829가 나왔다."
   ]
  },
  {
   "cell_type": "markdown",
   "id": "b6294a8b-9c09-4f07-b7d2-eed6c96096b3",
   "metadata": {},
   "source": [
    "### KNN 모델과 비교"
   ]
  },
  {
   "cell_type": "code",
   "execution_count": 36,
   "id": "3428d7cb-b6b7-4385-b9d6-49aa2ebf3c03",
   "metadata": {},
   "outputs": [],
   "source": [
    "from sklearn.neighbors import KNeighborsRegressor\n",
    "from sklearn.linear_model import LinearRegression"
   ]
  },
  {
   "cell_type": "code",
   "execution_count": 39,
   "id": "e6c16957-b76a-4ef6-a962-b9664ad00bb7",
   "metadata": {},
   "outputs": [],
   "source": [
    "knn_model = KNeighborsRegressor(n_neighbors=4).fit(X_train, y_train)\n",
    "lr_model = LinearRegression().fit(X_train, y_train)"
   ]
  },
  {
   "cell_type": "code",
   "execution_count": 40,
   "id": "2befc64e-7809-4b4e-b484-345d4b51ad2b",
   "metadata": {},
   "outputs": [
    {
     "name": "stdout",
     "output_type": "stream",
     "text": [
      "KNN 학습평가: 0.7494788081365981\n",
      "LR 학습평가: 0.7273505005599823\n"
     ]
    }
   ],
   "source": [
    "print('KNN 학습평가:', knn_model.score(X_train,y_train))\n",
    "print('LR 학습평가:', lr_model.score(X_train,y_train))"
   ]
  },
  {
   "cell_type": "code",
   "execution_count": 41,
   "id": "8e47d821-68c8-4c05-aa56-b24210af2c88",
   "metadata": {},
   "outputs": [
    {
     "name": "stdout",
     "output_type": "stream",
     "text": [
      "KNN 테스트평가: 0.499306667207422\n",
      "LR 테스트평가: 0.7572263323138921\n"
     ]
    }
   ],
   "source": [
    "print('KNN 테스트평가:', knn_model.score(X_test,y_test))\n",
    "print('LR 테스트평가:', lr_model.score(X_test,y_test))"
   ]
  },
  {
   "cell_type": "markdown",
   "id": "ee4cb7ff-6a40-4517-aab6-b4dad49862ec",
   "metadata": {},
   "source": [
    "- Linear Regression모델이 더욱 잘 나왔다."
   ]
  },
  {
   "cell_type": "code",
   "execution_count": null,
   "id": "4fe409e8-b5cf-45d6-abbb-04b4af7424a3",
   "metadata": {},
   "outputs": [],
   "source": []
  }
 ],
 "metadata": {
  "kernelspec": {
   "display_name": "Python 3 (ipykernel)",
   "language": "python",
   "name": "python3"
  },
  "language_info": {
   "codemirror_mode": {
    "name": "ipython",
    "version": 3
   },
   "file_extension": ".py",
   "mimetype": "text/x-python",
   "name": "python",
   "nbconvert_exporter": "python",
   "pygments_lexer": "ipython3",
   "version": "3.8.13"
  }
 },
 "nbformat": 4,
 "nbformat_minor": 5
}
