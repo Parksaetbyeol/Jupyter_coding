{
 "cells": [
  {
   "cell_type": "markdown",
   "id": "50266563-8cbc-4ceb-84c5-e0f21c55a4a7",
   "metadata": {},
   "source": [
    "# 다항회귀와 과대적합/과소적합의 이해"
   ]
  },
  {
   "cell_type": "markdown",
   "id": "539fa0ae-a8b3-4d34-ab27-3e4e39728c32",
   "metadata": {},
   "source": [
    "- 독립변수(feature)와 종속변수(target)가 하나일순 없다.\n",
    "- 회귀가 독립변수의 단항식이 아닌 2,3차 방정식과 같은 다항식으로 표현된 것을 다항(polynomial)회귀라고 한다.\n",
    "- 다항회귀는 비선형 회귀가 아니라 선형회귀임을 주의\n",
    "- 사이킷런은 다항 회귀를 위한 클래스를 제공하지 않아서 비선형 함수를 선형 모델에 적용시키는 방법으로 구현한다.\n",
    "    - 사이킷런의 PolynomialFeatures클래스를 통해 feature를 Polynomial(다항식) feature로 변환한다."
   ]
  },
  {
   "cell_type": "code",
   "execution_count": 1,
   "id": "36603fe6-bbe4-483e-8517-d335d23891fb",
   "metadata": {},
   "outputs": [],
   "source": [
    "from sklearn.preprocessing import PolynomialFeatures\n",
    "import numpy as np"
   ]
  },
  {
   "cell_type": "code",
   "execution_count": 2,
   "id": "840aa909-6923-45b0-8983-37f072b24ddf",
   "metadata": {},
   "outputs": [
    {
     "name": "stdout",
     "output_type": "stream",
     "text": [
      "[[0 1]\n",
      " [2 3]]\n"
     ]
    }
   ],
   "source": [
    "# 다항식으로 변환한 단항식 생성\n",
    "X = np.arange(4).reshape(2,2)\n",
    "print(X)"
   ]
  },
  {
   "cell_type": "code",
   "execution_count": 4,
   "id": "34d41ffb-20a9-44d2-9899-1ee074145912",
   "metadata": {},
   "outputs": [
    {
     "name": "stdout",
     "output_type": "stream",
     "text": [
      "변한된 2차 다항식 계수 피처:\n",
      " [[1. 0. 1. 0. 0. 1.]\n",
      " [1. 2. 3. 4. 6. 9.]]\n"
     ]
    }
   ],
   "source": [
    "# PolynomialFeatures로 degree=2 인 2차 다항식으로 변환\n",
    "# degree는 몇차로 바꿀건지 설정\n",
    "poly = PolynomialFeatures(degree=2)\n",
    "poly.fit(X)\n",
    "poly_ftr = poly.transform(X)\n",
    "print('변한된 2차 다항식 계수 피처:\\n', poly_ftr)"
   ]
  },
  {
   "cell_type": "markdown",
   "id": "fabaa5ad-c87f-42b5-98dd-1853f5382aeb",
   "metadata": {},
   "source": [
    "## 3차 다항회귀 결정 함수를 임의로 설정하고 회귀 계수로 예측하기"
   ]
  },
  {
   "cell_type": "code",
   "execution_count": 7,
   "id": "aa7f27fb-d0a5-4900-b8a7-48de1671f723",
   "metadata": {},
   "outputs": [
    {
     "name": "stdout",
     "output_type": "stream",
     "text": [
      "일차 단항식 계수 feature:\n",
      " [[0 1]\n",
      " [2 3]]\n",
      "삼차 다항식 결정값:\n",
      " [  5 125]\n"
     ]
    }
   ],
   "source": [
    "def polynomial_func(X):\n",
    "    y = 1 + 2*X[:,0] + 3*X[:,0]**2 + 4*X[:,1]**3\n",
    "    return y\n",
    "\n",
    "X = np.arange(4).reshape(2,2)\n",
    "print('일차 단항식 계수 feature:\\n', X)\n",
    "\n",
    "y = polynomial_func(X)\n",
    "print('삼차 다항식 결정값:\\n', y)"
   ]
  },
  {
   "cell_type": "code",
   "execution_count": null,
   "id": "a3dba4e1-288c-4237-8b69-22204b0fee90",
   "metadata": {},
   "outputs": [],
   "source": []
  }
 ],
 "metadata": {
  "kernelspec": {
   "display_name": "Python 3 (ipykernel)",
   "language": "python",
   "name": "python3"
  },
  "language_info": {
   "codemirror_mode": {
    "name": "ipython",
    "version": 3
   },
   "file_extension": ".py",
   "mimetype": "text/x-python",
   "name": "python",
   "nbconvert_exporter": "python",
   "pygments_lexer": "ipython3",
   "version": "3.8.13"
  }
 },
 "nbformat": 4,
 "nbformat_minor": 5
}
