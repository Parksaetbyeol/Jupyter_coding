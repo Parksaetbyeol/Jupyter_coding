{
 "cells": [
  {
   "cell_type": "markdown",
   "id": "50266563-8cbc-4ceb-84c5-e0f21c55a4a7",
   "metadata": {},
   "source": [
    "# 다항회귀와 과대적합/과소적합의 이해"
   ]
  },
  {
   "cell_type": "markdown",
   "id": "539fa0ae-a8b3-4d34-ab27-3e4e39728c32",
   "metadata": {},
   "source": [
    "- 독립변수(feature)와 종속변수(target)가 하나일순 없다.\n",
    "- 회귀가 독립변수의 단항식이 아닌 2,3차 방정식과 같은 다항식으로 표현된 것을 다항(polynomial)회귀라고 한다.\n",
    "- 다항회귀는 비선형 회귀가 아니라 선형회귀임을 주의\n",
    "- 사이킷런은 다항 회귀를 위한 클래스를 제공하지 않아서 비선형 함수를 선형 모델에 적용시키는 방법으로 구현한다.\n",
    "    - 사이킷런의 PolynomialFeatures클래스를 통해 feature를 Polynomial(다항식) feature로 변환한다."
   ]
  },
  {
   "cell_type": "code",
   "execution_count": 1,
   "id": "36603fe6-bbe4-483e-8517-d335d23891fb",
   "metadata": {},
   "outputs": [],
   "source": [
    "from sklearn.preprocessing import PolynomialFeatures\n",
    "import numpy as np"
   ]
  },
  {
   "cell_type": "code",
   "execution_count": 2,
   "id": "840aa909-6923-45b0-8983-37f072b24ddf",
   "metadata": {},
   "outputs": [
    {
     "name": "stdout",
     "output_type": "stream",
     "text": [
      "[[0 1]\n",
      " [2 3]]\n"
     ]
    }
   ],
   "source": [
    "# 다항식으로 변환한 단항식 생성\n",
    "X = np.arange(4).reshape(2,2)\n",
    "print(X)"
   ]
  },
  {
   "cell_type": "code",
   "execution_count": 3,
   "id": "34d41ffb-20a9-44d2-9899-1ee074145912",
   "metadata": {},
   "outputs": [
    {
     "name": "stdout",
     "output_type": "stream",
     "text": [
      "변한된 2차 다항식 계수 피처:\n",
      " [[1. 0. 1. 0. 0. 1.]\n",
      " [1. 2. 3. 4. 6. 9.]]\n"
     ]
    }
   ],
   "source": [
    "# PolynomialFeatures로 degree=2 인 2차 다항식으로 변환\n",
    "# degree는 몇차로 바꿀건지 설정\n",
    "poly = PolynomialFeatures(degree=2)\n",
    "poly.fit(X)\n",
    "poly_ftr = poly.transform(X)\n",
    "print('변한된 2차 다항식 계수 피처:\\n', poly_ftr)"
   ]
  },
  {
   "cell_type": "markdown",
   "id": "fabaa5ad-c87f-42b5-98dd-1853f5382aeb",
   "metadata": {},
   "source": [
    "## 3차 다항회귀 결정 함수를 임의로 설정하고 회귀 계수로 예측하기"
   ]
  },
  {
   "cell_type": "code",
   "execution_count": 4,
   "id": "aa7f27fb-d0a5-4900-b8a7-48de1671f723",
   "metadata": {},
   "outputs": [
    {
     "name": "stdout",
     "output_type": "stream",
     "text": [
      "일차 단항식 계수 feature:\n",
      " [[0 1]\n",
      " [2 3]]\n",
      "삼차 다항식 결정값:\n",
      " [  5 125]\n"
     ]
    }
   ],
   "source": [
    "def polynomial_func(X):\n",
    "    y = 1 + 2*X[:,0] + 3*X[:,0]**2 + 4*X[:,1]**3\n",
    "    return y\n",
    "\n",
    "X = np.arange(4).reshape(2,2)\n",
    "print('일차 단항식 계수 feature:\\n', X)\n",
    "\n",
    "y = polynomial_func(X)\n",
    "print('삼차 다항식 결정값:\\n', y)"
   ]
  },
  {
   "cell_type": "markdown",
   "id": "2949ec56-a2ec-487e-ad78-2fb16294364f",
   "metadata": {},
   "source": [
    "- 3차 다항식 변환은 단항계수feature [x1, x2]를 3차 다항 계수 [1, x1, x2,x1², x1*x2, x2², x1³, x1²*x2, x1*x2², x2³]과 같이 10개의 다항 계수로 변환한다."
   ]
  },
  {
   "cell_type": "code",
   "execution_count": 5,
   "id": "a3dba4e1-288c-4237-8b69-22204b0fee90",
   "metadata": {},
   "outputs": [
    {
     "name": "stdout",
     "output_type": "stream",
     "text": [
      "3차 다항식 계수 feature:\n",
      " [[ 1.  0.  1.  0.  0.  1.  0.  0.  0.  1.]\n",
      " [ 1.  2.  3.  4.  6.  9.  8. 12. 18. 27.]]\n"
     ]
    }
   ],
   "source": [
    "# 3차 다항식 변환\n",
    "poly_ftr = PolynomialFeatures(degree=3).fit_transform(X)\n",
    "print('3차 다항식 계수 feature:\\n', poly_ftr)"
   ]
  },
  {
   "cell_type": "code",
   "execution_count": 6,
   "id": "af6a134c-0326-4bc4-ba4a-e00abda78377",
   "metadata": {},
   "outputs": [
    {
     "name": "stdout",
     "output_type": "stream",
     "text": [
      "Polynomial 회귀 계수 :\n",
      " [0.   0.18 0.18 0.36 0.54 0.72 0.72 1.08 1.62 2.34]\n",
      "Polynomial 회귀 shape :\n",
      " (10,)\n"
     ]
    }
   ],
   "source": [
    "# Linear Regression에 3차 다항식 계수 feature와 3차 다항식 결정값으로 학습 후 회귀 계수 확인\n",
    "from sklearn.linear_model import LinearRegression\n",
    "\n",
    "model = LinearRegression()\n",
    "model.fit(poly_ftr,y)\n",
    "print('Polynomial 회귀 계수 :\\n', np.round(model.coef_,2))\n",
    "print('Polynomial 회귀 shape :\\n', model.coef_.shape)"
   ]
  },
  {
   "cell_type": "markdown",
   "id": "87220768-c61e-4543-93d6-2b90c87757df",
   "metadata": {},
   "source": [
    "## 사이킷런의 Pipeline 객체로 한번에 다항회귀 구현"
   ]
  },
  {
   "cell_type": "code",
   "execution_count": 7,
   "id": "67185c1c-bf47-4d5f-a324-84d3e5b5e203",
   "metadata": {},
   "outputs": [],
   "source": [
    "from sklearn.preprocessing import PolynomialFeatures\n",
    "from sklearn.linear_model import LinearRegression\n",
    "from sklearn.pipeline import Pipeline\n",
    "import numpy as np"
   ]
  },
  {
   "cell_type": "code",
   "execution_count": 8,
   "id": "c6b7d950-459f-4826-a9f7-1f83380266b4",
   "metadata": {},
   "outputs": [
    {
     "name": "stdout",
     "output_type": "stream",
     "text": [
      "Polynomial 회귀 계수 \n",
      " [0.   0.18 0.18 0.36 0.54 0.72 0.72 1.08 1.62 2.34]\n"
     ]
    }
   ],
   "source": [
    "def polynomial_func(X):\n",
    "    y = 1 + 2*X[:,0] + 3*X[:,0]**2 + 4*X[:,1]**3\n",
    "    return y\n",
    "\n",
    "# pipeline 객체로 Streamline하게 Polinomial Feature 변환과 LinearRegression 연결\n",
    "model = Pipeline([('poly', PolynomialFeatures(degree=3)),\n",
    "                 ('linear', LinearRegression())])\n",
    "\n",
    "X = np.arange(4).reshape(2,2)\n",
    "y = polynomial_func(X)\n",
    "\n",
    "model = model.fit(X,y)\n",
    "\n",
    "print('Polynomial 회귀 계수 \\n', np.round(model.named_steps['linear'].coef_,2))"
   ]
  },
  {
   "cell_type": "markdown",
   "id": "1abe657c-10b8-42f9-8ad3-4b136f83f9bc",
   "metadata": {},
   "source": [
    "## 다항 회귀를 이용한 과소적합 및 과적합 이해"
   ]
  },
  {
   "cell_type": "markdown",
   "id": "4c53f004-ee76-49a5-9ec3-5c3aac398e71",
   "metadata": {},
   "source": [
    "- 차수(degree)가 높을수록 학습 데이터에만 너무 맞춘 학습이 이뤄져서 오히려 예측 정확도가 떨어진다. 즉, 과적합 문제 발생. \n",
    "- 원래 데이터 세트는 피처X와 target y가 잡음이 포함된 다항식의 코사인 그래프 관계를 가지도록 만들어준다.\n",
    "- 그리고 이에 기반해 다항 회귀의 차수를 변화시키면서 그에 따른 회귀 예측 곡선과 예측정확도를 비교하는 예제이다"
   ]
  },
  {
   "cell_type": "markdown",
   "id": "f9c1a700-02c2-4a9e-bc38-3f76aa904d11",
   "metadata": {},
   "source": [
    "- 학습데이터는 30개의 임의의 데이터인 X, X의 코사인 값에서 약간의 잡음 변동값을 더한 target인 y로 구성"
   ]
  },
  {
   "cell_type": "code",
   "execution_count": 9,
   "id": "34de2941-7870-4fb6-a7d6-5df7fc9efd66",
   "metadata": {},
   "outputs": [],
   "source": [
    "import numpy as np\n",
    "import matplotlib.pyplot as plt\n",
    "from sklearn.pipeline import Pipeline\n",
    "from sklearn.preprocessing import PolynomialFeatures\n",
    "from sklearn.linear_model import LinearRegression\n",
    "from sklearn.model_selection import cross_val_score\n",
    "%matplotlib inline"
   ]
  },
  {
   "cell_type": "code",
   "execution_count": 10,
   "id": "d2d01a23-eb64-43f2-a22d-b529a258a943",
   "metadata": {},
   "outputs": [],
   "source": [
    "# 임의의 값으로 구성된 X값에 대해 코사인 변환 값을 반환\n",
    "def true_func(X):\n",
    "    return np.cos(1.5 * np.pi * X)\n",
    "\n",
    "# X는 0부터 1까지 30개의 임의의 값을 순서대로 샘플링한 데이터\n",
    "np.random.seed(0)\n",
    "n_samples=30\n",
    "X = np.sort(np.random.rand(n_samples))\n",
    "\n",
    "y = true_func(X) + np.random.randn(n_samples)*0.1"
   ]
  },
  {
   "cell_type": "code",
   "execution_count": 17,
   "id": "04397b24-3c8d-47d3-af2a-5f4caeb7a92d",
   "metadata": {},
   "outputs": [
    {
     "name": "stdout",
     "output_type": "stream",
     "text": [
      "\n",
      "Degree 1 회귀 계수는 [-1.61]입니다\n",
      "Degree 1 MSE는 0.40772896250986834입니다\n",
      "\n",
      "Degree 4 회귀 계수는 [  0.47 -17.79  23.59  -7.26]입니다\n",
      "Degree 4 MSE는 0.04320874987231747입니다\n",
      "\n",
      "Degree 15 회귀 계수는 [-2.98295000e+03  1.03899930e+05 -1.87417069e+06  2.03717225e+07\n",
      " -1.44873988e+08  7.09318780e+08 -2.47066977e+09  6.24564048e+09\n",
      " -1.15677067e+10  1.56895696e+10 -1.54006776e+10  1.06457788e+10\n",
      " -4.91379977e+09  1.35920330e+09 -1.70381654e+08]입니다\n",
      "Degree 15 MSE는 182815433.47648773입니다\n"
     ]
    },
    {
     "data": {
      "image/png": "[encoded data removed]",
      "text/plain": [
       "<Figure size 1008x360 with 3 Axes>"
      ]
     },
     "metadata": {},
     "output_type": "display_data"
    }
   ],
   "source": [
    "plt.figure(figsize=(14,5))\n",
    "degrees = [1,4,15]\n",
    "\n",
    "# 다항 회귀의 차수를 1,4,15로 각각 변환시키면서 비교\n",
    "for i in range(len(degrees)):\n",
    "    ax = plt.subplot(1, len(degrees), i+1)\n",
    "    plt.setp(ax,xticks=(), yticks=())\n",
    "    \n",
    "    # 개별 degree별로 polynomial변환\n",
    "    polynomial_features = PolynomialFeatures(degree=degrees[i], include_bias=False)\n",
    "    linear_regression = LinearRegression()\n",
    "    pipeline = Pipeline([(\"polynomial_features\", polynomial_features),\n",
    "                        (\"linear_regression\", linear_regression)])\n",
    "    pipeline.fit(X.reshape(-1,1),y)\n",
    "    \n",
    "    # 교차검증으로 다항회귀 평가하기\n",
    "    scores = cross_val_score(pipeline, X.reshape(-1,1), y, scoring=\"neg_mean_squared_error\", cv=10)\n",
    "    \n",
    "    # pipeline을 구성하는 세부 객체를 접근하는 named_steps['객체명']을 이용해 회귀계수 추출\n",
    "    coefficients = pipeline.named_steps['linear_regression'].coef_\n",
    "    print('\\nDegree {0} 회귀 계수는 {1}입니다' .format(degrees[i], np.round(coefficients,2)))\n",
    "    print('Degree {0} MSE는 {1}입니다'.format(degress[i], -1*np.mean(scores)))\n",
    "    \n",
    "    # 0부터 1까지 테스트 데이터셋을 100개로 나눠 예측 수행\n",
    "    X_test = np.linspace(0,1,100)\n",
    "    \n",
    "    # 예측값 곡선\n",
    "    plt.plot(X_test, pipeline.predict(X_test[:,np.newaxis]), label=\"Model\")\n",
    "    # 실제값 곡선\n",
    "    plt.plot(X_test, true_func(X_test), '--', label=\"True function\")\n",
    "    plt.scatter(X, y, edgecolor='b', s=20, label=\"Samples\")\n",
    "    \n",
    "    plt.xlabel('x'); plt.ylabel('y'); plt.xlim((0,1)); plt.ylim((-2,2)); plt.legend(loc=\"best\")\n",
    "    plt.title(\"Degree {}\\nMSE = {:.2e}(+/- {:.2e})\" .format(degrees[i], -scores.mean(), scores.std()))\n",
    "    \n",
    "plt.show()"
   ]
  },
  {
   "cell_type": "markdown",
   "id": "47bfa620-a162-423d-b84d-ddfbb2e2bd3c",
   "metadata": {},
   "source": [
    "- degree1 그래프\n",
    "    - degree1 예측 곡선은 단순한 직선으로서 단순 선형 회귀와 똑같다. 실제 데이터 세트인 코사인 데이터 세트를 직선으로 예측하기에는 너무 단순하다. \n",
    "    - 예측 곡선이 학습 데이터의 패턴을 제대로 반영하지 못하고 있는 과소적합 모델이다. \n",
    "    - MSE값은 약 0.41\n",
    "- degree4 그래프\n",
    "    - degree4 예측 곡선은 실제 데이터 세트와 유사한 모습이다. 변동하는 잡음까지 예측하지는 못했지만, 학습 데이터 세트를 비교적 잘 반영해 코사인 곡선 기반으로 테스트 데이터를 잘 예측한 곡선을 가진 모델이 되었다.\n",
    "    - MSE 값은 약 0.04로 가장 뛰어난 예측 성능을 나타내고 있다.\n",
    "- degree 15 그래프\n",
    "    - degree15 예측 곡선은 MSE 값이 182581084.83이 될 정도로 어처구니없는 오류값이 발생했다. 과(대)적합 모델이다.\n",
    "    - 데이터 세트의 변동 잡음값까지 지나치게 반영한 결과, 예측 곡선이 학습 데이터 세트만 정확히 예측하고, 테스트 값의 실제 곡선과는 완전히 다른 형태의 예측 곡선이 만들어졌다. \n",
    "    - 결과적으로 학습 데이터에 너무 충실하게 맞춘 과적합이 심한 모델이 되었다."
   ]
  },
  {
   "cell_type": "code",
   "execution_count": null,
   "id": "7d381488-166a-48cb-a32f-6bd00b9047e4",
   "metadata": {},
   "outputs": [],
   "source": []
  }
 ],
 "metadata": {
  "kernelspec": {
   "display_name": "Python 3 (ipykernel)",
   "language": "python",
   "name": "python3"
  },
  "language_info": {
   "codemirror_mode": {
    "name": "ipython",
    "version": 3
   },
   "file_extension": ".py",
   "mimetype": "text/x-python",
   "name": "python",
   "nbconvert_exporter": "python",
   "pygments_lexer": "ipython3",
   "version": "3.8.13"
  }
 },
 "nbformat": 4,
 "nbformat_minor": 5
}
