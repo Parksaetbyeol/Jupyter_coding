{
 "cells": [
  {
   "cell_type": "markdown",
   "id": "29fcdc7f",
   "metadata": {},
   "source": [
    "### 퀀트투자\n",
    "    - 수학적, 통계적 기법을 활용해 투자 종목을 발굴하는 투자 방법\n",
    "    - 이동평균선\n",
    "        - 주식시장 파생상품시장에서 기술적 분석을 할 때 쓰이는 기본 도구\n",
    "        - 거래액, 매매 대금, 생산량 등 다양한 예측에 사용\n",
    "        - 현재와 미래의 예측을 연결하는 합리적 연결방법\n",
    "        - 종류\n",
    "            - 단순이평 (SMA)\n",
    "            - 지수이평선 (EMA) \n",
    "            - 가중평균\n",
    "* 지수이동평균\n",
    "    1. SMA = $46.60, 금일 종가는 $46.75\n",
    "    2. 승수 = 2 / (1 + n) = 2 / ( 1 + 14) = 0.133\n",
    "    3. EMA 계산 = (금일 종가 x 승수) + (전일 EMA x (1 – 승수)\n",
    "                EMA = (46.75 x 0.133) + (46.60 x 0.867)\n",
    "                EMA = $46.63\n",
    "\n",
    "* https://julialang.kr/?p=2599\n",
    "* pandas ewm:\n",
    "    - com : 질량중심 값으로 평활계수를 계산합니다. [ a = 1(1+com) ]\n",
    "    - span : 계산 기간으로 평활계수를 계산합니다. [ a = 2/(span+1) ]\n",
    "    - halflife : 반감기를 이용하여 평활계수를 계산합니다. [ a= e^(-ln(2) / halflife) ]\n",
    "    - alpha : 평활계수를 직접 입력합니다. [ 0 < a ≤ 1 ]\n",
    "    - min_periods : 계산을위한 최소 기간입니다.\n",
    "    - adjust : 상대적 가중치의 불균형을 해소하기위해 조정계수로 나눌지의 여부입니다. 대체로 값이 많을수록 adjust를 하는것이 유리합니다.\n",
    "    - ignore_na : 가중치를 계산할때 누락값을 무시할지 여부 입니다."
   ]
  },
  {
   "cell_type": "code",
   "execution_count": 95,
   "id": "816ae7cd",
   "metadata": {},
   "outputs": [],
   "source": [
    "import sqlite3\n",
    "import numpy as np\n",
    "import pandas as pd\n",
    "import matplotlib as mpl\n",
    "import matplotlib.pyplot as plt"
   ]
  },
  {
   "cell_type": "raw",
   "id": "f0446b6d",
   "metadata": {},
   "source": [
    "CREATE TABLE \"stockdb\" (\n",
    "\t\"id\"\tINTEGER,\n",
    "\t\"comname\"\tTEXT,\n",
    "\t\"comcode\"\tTEXT,\n",
    "\t\"sday\"\tTEXT,\n",
    "\t\"sopen\"\tINTEGER,\n",
    "\t\"shigh\"\tINTEGER,\n",
    "\t\"slow\"\tINTEGER,\n",
    "\t\"sclose\"\tINTEGER,\n",
    "\t\"svol\"\tINTEGER,\n",
    "\t\"comkey\"\tINTEGER UNIQUE,\n",
    "\tPRIMARY KEY(\"id\")\n",
    ")"
   ]
  },
  {
   "cell_type": "code",
   "execution_count": 96,
   "id": "4e22325c",
   "metadata": {
    "tags": []
   },
   "outputs": [
    {
     "name": "stdout",
     "output_type": "stream",
     "text": [
      "select sday,sclose from stockdb where sday>\"2022-04-01\" order by sday asc\n"
     ]
    },
    {
     "data": {
      "text/plain": [
       "[('2022-04-04', 117000),\n",
       " ('2022-04-05', 116500),\n",
       " ('2022-04-06', 113000),\n",
       " ('2022-04-07', 113500),\n",
       " ('2022-04-08', 112000)]"
      ]
     },
     "execution_count": 96,
     "metadata": {},
     "output_type": "execute_result"
    }
   ],
   "source": [
    "def seldata(cols=['sday','sclose'],where='where sday>\"2022-04-01\" order by sday asc'):\n",
    "    fname='_db/nstock.db'\n",
    "    with sqlite3.connect(fname) as conn:\n",
    "        cur=conn.cursor()\n",
    "        coltxt=','.join(cols)\n",
    "        sql='select '+coltxt+' from stockdb '+where\n",
    "        print(sql)\n",
    "        res=cur.execute(sql).fetchall()\n",
    "    return res\n",
    "\n",
    "res=seldata()    \n",
    "res[:5]"
   ]
  },
  {
   "cell_type": "code",
   "execution_count": 97,
   "id": "7c572d02",
   "metadata": {
    "tags": []
   },
   "outputs": [
    {
     "data": {
      "text/html": [
       "<div>\n",
       "<style scoped>\n",
       "    .dataframe tbody tr th:only-of-type {\n",
       "        vertical-align: middle;\n",
       "    }\n",
       "\n",
       "    .dataframe tbody tr th {\n",
       "        vertical-align: top;\n",
       "    }\n",
       "\n",
       "    .dataframe thead th {\n",
       "        text-align: right;\n",
       "    }\n",
       "</style>\n",
       "<table border=\"1\" class=\"dataframe\">\n",
       "  <thead>\n",
       "    <tr style=\"text-align: right;\">\n",
       "      <th></th>\n",
       "      <th>sday</th>\n",
       "      <th>sclose</th>\n",
       "    </tr>\n",
       "  </thead>\n",
       "  <tbody>\n",
       "    <tr>\n",
       "      <th>23</th>\n",
       "      <td>2022-05-06</td>\n",
       "      <td>107500</td>\n",
       "    </tr>\n",
       "    <tr>\n",
       "      <th>24</th>\n",
       "      <td>2022-05-09</td>\n",
       "      <td>107500</td>\n",
       "    </tr>\n",
       "    <tr>\n",
       "      <th>25</th>\n",
       "      <td>2022-05-10</td>\n",
       "      <td>110000</td>\n",
       "    </tr>\n",
       "    <tr>\n",
       "      <th>26</th>\n",
       "      <td>2022-05-11</td>\n",
       "      <td>110500</td>\n",
       "    </tr>\n",
       "    <tr>\n",
       "      <th>27</th>\n",
       "      <td>2022-05-12</td>\n",
       "      <td>110500</td>\n",
       "    </tr>\n",
       "  </tbody>\n",
       "</table>\n",
       "</div>"
      ],
      "text/plain": [
       "          sday  sclose\n",
       "23  2022-05-06  107500\n",
       "24  2022-05-09  107500\n",
       "25  2022-05-10  110000\n",
       "26  2022-05-11  110500\n",
       "27  2022-05-12  110500"
      ]
     },
     "execution_count": 97,
     "metadata": {},
     "output_type": "execute_result"
    }
   ],
   "source": [
    "cols=['sday','sclose']\n",
    "df = pd.DataFrame(res,columns=cols)\n",
    "df.tail()"
   ]
  },
  {
   "cell_type": "code",
   "execution_count": 98,
   "id": "81b82062",
   "metadata": {
    "tags": []
   },
   "outputs": [
    {
     "data": {
      "text/html": [
       "<div>\n",
       "<style scoped>\n",
       "    .dataframe tbody tr th:only-of-type {\n",
       "        vertical-align: middle;\n",
       "    }\n",
       "\n",
       "    .dataframe tbody tr th {\n",
       "        vertical-align: top;\n",
       "    }\n",
       "\n",
       "    .dataframe thead th {\n",
       "        text-align: right;\n",
       "    }\n",
       "</style>\n",
       "<table border=\"1\" class=\"dataframe\">\n",
       "  <thead>\n",
       "    <tr style=\"text-align: right;\">\n",
       "      <th></th>\n",
       "      <th>sclose</th>\n",
       "    </tr>\n",
       "    <tr>\n",
       "      <th>sday</th>\n",
       "      <th></th>\n",
       "    </tr>\n",
       "  </thead>\n",
       "  <tbody>\n",
       "    <tr>\n",
       "      <th>2022-05-06</th>\n",
       "      <td>107500</td>\n",
       "    </tr>\n",
       "    <tr>\n",
       "      <th>2022-05-09</th>\n",
       "      <td>107500</td>\n",
       "    </tr>\n",
       "    <tr>\n",
       "      <th>2022-05-10</th>\n",
       "      <td>110000</td>\n",
       "    </tr>\n",
       "    <tr>\n",
       "      <th>2022-05-11</th>\n",
       "      <td>110500</td>\n",
       "    </tr>\n",
       "    <tr>\n",
       "      <th>2022-05-12</th>\n",
       "      <td>110500</td>\n",
       "    </tr>\n",
       "  </tbody>\n",
       "</table>\n",
       "</div>"
      ],
      "text/plain": [
       "            sclose\n",
       "sday              \n",
       "2022-05-06  107500\n",
       "2022-05-09  107500\n",
       "2022-05-10  110000\n",
       "2022-05-11  110500\n",
       "2022-05-12  110500"
      ]
     },
     "execution_count": 98,
     "metadata": {},
     "output_type": "execute_result"
    }
   ],
   "source": [
    "mdf=df.set_index('sday')\n",
    "mdf.tail()"
   ]
  },
  {
   "cell_type": "code",
   "execution_count": 99,
   "id": "2894b9f4",
   "metadata": {
    "tags": []
   },
   "outputs": [
    {
     "data": {
      "text/plain": [
       "<AxesSubplot:xlabel='sday'>"
      ]
     },
     "execution_count": 99,
     "metadata": {},
     "output_type": "execute_result"
    },
    {
     "data": {
      "image/png": "[encoded data removed]",
      "text/plain": [
       "<Figure size 432x288 with 1 Axes>"
      ]
     },
     "metadata": {
      "needs_background": "light"
     },
     "output_type": "display_data"
    }
   ],
   "source": [
    "mdf.plot()"
   ]
  },
  {
   "cell_type": "code",
   "execution_count": 104,
   "id": "cdf3f127",
   "metadata": {},
   "outputs": [
    {
     "data": {
      "text/plain": [
       "<AxesSubplot:xlabel='sday'>"
      ]
     },
     "execution_count": 104,
     "metadata": {},
     "output_type": "execute_result"
    },
    {
     "data": {
      "image/png": "[encoded data removed]",
      "text/plain": [
       "<Figure size 432x288 with 1 Axes>"
      ]
     },
     "metadata": {
      "needs_background": "light"
     },
     "output_type": "display_data"
    }
   ],
   "source": [
    "# alpha (평활계수) 를 직접제어 하여 투자 전략 구성\n",
    "\n",
    "#mdf['ashortmv']=mdf['sclose'].ewm(alpha=0.3).mean()\n",
    "mdf['longmv']=mdf['sclose'].ewm(alpha=0.3).mean()\n",
    "mdf['shortmv']=mdf['sclose'].ewm(alpha=0.7).mean()\n",
    "#mdf['elongmv']=mdf['sclose'].ewm(span=10).mean()\n",
    "#mdf['shortstd']=mdf['sclose'].ewm().std()\n",
    "#mdf['shortstd'].plot()\n",
    "mdf[['sclose','longmv','shortmv']].plot()"
   ]
  },
  {
   "cell_type": "markdown",
   "id": "17bdf1c2",
   "metadata": {},
   "source": [
    "### 이평선 투자 전략\n",
    "- 골든크로스: 매수 타이밍\n",
    "    * 단이평선이 장이평선을 뚫고 올라올때\n",
    "    * 단기평균은 결국 장기평균의 상승을 리드한다.\n",
    "- 데드크로스: 매도 타이밍\n",
    "    * 단이평선이 장이평선을 뚫고 내려갈때\n",
    "    * 단기평균이 장기평균의 하락을 리드한다."
   ]
  },
  {
   "cell_type": "code",
   "execution_count": 111,
   "id": "94aa42ec",
   "metadata": {},
   "outputs": [],
   "source": [
    "def simStock(mdf):\n",
    "    findex=mdf.iloc[:1,:].index[0]\n",
    "    lindex=mdf.iloc[-1:,:].index[0]\n",
    "    lindex\n",
    "    invest=200000\n",
    "    beforePos=-1\n",
    "    beforeHold=0\n",
    "\n",
    "    for i,row in mdf.iloc[10:,:].iterrows():\n",
    "        if(row['shortmv']>=row['longmv']):\n",
    "            nowpos=1 # short 상위\n",
    "        else:\n",
    "            nowpos=-1 # short 하위\n",
    "        if beforePos==-1 and nowpos==1 and beforeHold==0:\n",
    "            timing=1# 매수타이밍\n",
    "            hold=1\n",
    "            mdf.loc[i,'cash']=-row['sclose']\n",
    "            mdf.loc[i,'hold']=1\n",
    "        elif beforePos==1 and nowpos==-1 and beforeHold==1:\n",
    "            timing=-1# 매수타이밍\n",
    "            hold=0\n",
    "            mdf.loc[i,'cash']=row['sclose']\n",
    "            mdf.loc[i,'hold']=0\n",
    "        else:\n",
    "            mdf.loc[i,'cash']=0\n",
    "            timing=0 # 홀드\n",
    "            hold=beforeHold\n",
    "            mdf.loc[i,'hold']=beforeHold\n",
    "        beforeHold=hold\n",
    "        beforePos=nowpos\n",
    "        mdf.loc[findex,'cash']=invest\n",
    "        mdf['cumcash']=mdf['cash'].cumsum()\n",
    "        mdf['balance']=mdf['sclose']*mdf['hold']+mdf['cumcash']\n",
    "    mdf.tail()\n",
    "    ecash=mdf.loc[lindex,'balance']-invest\n",
    "    erate=ecash/invest\n",
    "    return(invest,ecash,erate)"
   ]
  },
  {
   "cell_type": "code",
   "execution_count": 112,
   "id": "e5629a6e",
   "metadata": {},
   "outputs": [
    {
     "data": {
      "text/plain": [
       "(200000, -4000.0, -0.02)"
      ]
     },
     "execution_count": 112,
     "metadata": {},
     "output_type": "execute_result"
    }
   ],
   "source": [
    "simStock(mdf)"
   ]
  },
  {
   "cell_type": "code",
   "execution_count": 113,
   "id": "ed456f1f",
   "metadata": {},
   "outputs": [
    {
     "data": {
      "text/html": [
       "<div>\n",
       "<style scoped>\n",
       "    .dataframe tbody tr th:only-of-type {\n",
       "        vertical-align: middle;\n",
       "    }\n",
       "\n",
       "    .dataframe tbody tr th {\n",
       "        vertical-align: top;\n",
       "    }\n",
       "\n",
       "    .dataframe thead th {\n",
       "        text-align: right;\n",
       "    }\n",
       "</style>\n",
       "<table border=\"1\" class=\"dataframe\">\n",
       "  <thead>\n",
       "    <tr style=\"text-align: right;\">\n",
       "      <th></th>\n",
       "      <th>sclose</th>\n",
       "      <th>sshortmv</th>\n",
       "      <th>shortmv</th>\n",
       "      <th>ashortmv</th>\n",
       "      <th>longmv</th>\n",
       "      <th>cash</th>\n",
       "      <th>hold</th>\n",
       "      <th>cumcash</th>\n",
       "      <th>balalce</th>\n",
       "      <th>balance</th>\n",
       "    </tr>\n",
       "    <tr>\n",
       "      <th>sday</th>\n",
       "      <th></th>\n",
       "      <th></th>\n",
       "      <th></th>\n",
       "      <th></th>\n",
       "      <th></th>\n",
       "      <th></th>\n",
       "      <th></th>\n",
       "      <th></th>\n",
       "      <th></th>\n",
       "      <th></th>\n",
       "    </tr>\n",
       "  </thead>\n",
       "  <tbody>\n",
       "    <tr>\n",
       "      <th>2022-05-06</th>\n",
       "      <td>107500</td>\n",
       "      <td>110000.0</td>\n",
       "      <td>108167.093438</td>\n",
       "      <td>108167.093438</td>\n",
       "      <td>109345.858577</td>\n",
       "      <td>0.0</td>\n",
       "      <td>0.0</td>\n",
       "      <td>195500.0</td>\n",
       "      <td>195500.0</td>\n",
       "      <td>195500.0</td>\n",
       "    </tr>\n",
       "    <tr>\n",
       "      <th>2022-05-09</th>\n",
       "      <td>107500</td>\n",
       "      <td>109000.0</td>\n",
       "      <td>107700.128031</td>\n",
       "      <td>107700.128031</td>\n",
       "      <td>108792.026732</td>\n",
       "      <td>0.0</td>\n",
       "      <td>0.0</td>\n",
       "      <td>195500.0</td>\n",
       "      <td>195500.0</td>\n",
       "      <td>195500.0</td>\n",
       "    </tr>\n",
       "    <tr>\n",
       "      <th>2022-05-10</th>\n",
       "      <td>110000</td>\n",
       "      <td>108900.0</td>\n",
       "      <td>109310.038409</td>\n",
       "      <td>109310.038409</td>\n",
       "      <td>109154.452735</td>\n",
       "      <td>-110000.0</td>\n",
       "      <td>1.0</td>\n",
       "      <td>85500.0</td>\n",
       "      <td>195500.0</td>\n",
       "      <td>195500.0</td>\n",
       "    </tr>\n",
       "    <tr>\n",
       "      <th>2022-05-11</th>\n",
       "      <td>110500</td>\n",
       "      <td>109000.0</td>\n",
       "      <td>110143.011523</td>\n",
       "      <td>110143.011523</td>\n",
       "      <td>109558.143442</td>\n",
       "      <td>0.0</td>\n",
       "      <td>1.0</td>\n",
       "      <td>85500.0</td>\n",
       "      <td>196000.0</td>\n",
       "      <td>196000.0</td>\n",
       "    </tr>\n",
       "    <tr>\n",
       "      <th>2022-05-12</th>\n",
       "      <td>110500</td>\n",
       "      <td>109200.0</td>\n",
       "      <td>110392.903457</td>\n",
       "      <td>110392.903457</td>\n",
       "      <td>109840.713407</td>\n",
       "      <td>0.0</td>\n",
       "      <td>1.0</td>\n",
       "      <td>85500.0</td>\n",
       "      <td>196000.0</td>\n",
       "      <td>196000.0</td>\n",
       "    </tr>\n",
       "  </tbody>\n",
       "</table>\n",
       "</div>"
      ],
      "text/plain": [
       "            sclose  sshortmv        shortmv       ashortmv         longmv  \\\n",
       "sday                                                                        \n",
       "2022-05-06  107500  110000.0  108167.093438  108167.093438  109345.858577   \n",
       "2022-05-09  107500  109000.0  107700.128031  107700.128031  108792.026732   \n",
       "2022-05-10  110000  108900.0  109310.038409  109310.038409  109154.452735   \n",
       "2022-05-11  110500  109000.0  110143.011523  110143.011523  109558.143442   \n",
       "2022-05-12  110500  109200.0  110392.903457  110392.903457  109840.713407   \n",
       "\n",
       "                cash  hold   cumcash   balalce   balance  \n",
       "sday                                                      \n",
       "2022-05-06       0.0   0.0  195500.0  195500.0  195500.0  \n",
       "2022-05-09       0.0   0.0  195500.0  195500.0  195500.0  \n",
       "2022-05-10 -110000.0   1.0   85500.0  195500.0  195500.0  \n",
       "2022-05-11       0.0   1.0   85500.0  196000.0  196000.0  \n",
       "2022-05-12       0.0   1.0   85500.0  196000.0  196000.0  "
      ]
     },
     "execution_count": 113,
     "metadata": {},
     "output_type": "execute_result"
    }
   ],
   "source": [
    "mdf.tail()"
   ]
  },
  {
   "cell_type": "code",
   "execution_count": 114,
   "id": "78da9c5a",
   "metadata": {},
   "outputs": [
    {
     "data": {
      "text/plain": [
       "<AxesSubplot:xlabel='sday'>"
      ]
     },
     "execution_count": 114,
     "metadata": {},
     "output_type": "execute_result"
    },
    {
     "data": {
      "image/png": "[encoded data removed]",
      "text/plain": [
       "<Figure size 432x288 with 1 Axes>"
      ]
     },
     "metadata": {
      "needs_background": "light"
     },
     "output_type": "display_data"
    }
   ],
   "source": [
    "mdf['balance'].plot()"
   ]
  },
  {
   "cell_type": "code",
   "execution_count": null,
   "id": "85071c32",
   "metadata": {},
   "outputs": [],
   "source": []
  }
 ],
 "metadata": {
  "kernelspec": {
   "display_name": "Python 3 (ipykernel)",
   "language": "python",
   "name": "python3"
  },
  "language_info": {
   "codemirror_mode": {
    "name": "ipython",
    "version": 3
   },
   "file_extension": ".py",
   "mimetype": "text/x-python",
   "name": "python",
   "nbconvert_exporter": "python",
   "pygments_lexer": "ipython3",
   "version": "3.8.13"
  }
 },
 "nbformat": 4,
 "nbformat_minor": 5
}
