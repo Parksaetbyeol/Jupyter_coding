{
 "cells": [
  {
   "cell_type": "markdown",
   "id": "85c5ae7e",
   "metadata": {},
   "source": [
    "# 이동평균선(Moving Average)\n",
    "- 주식시장이나 파생상품시장에서 기술적 분석을 할 때 쓰이는 기본 도구 중 하나.\n",
    "- 거래액, 매매대금, 주가 등 다양한 분야에서 접목할 수 있다. \n",
    "- 목적 : 과거의 평균적 수치에서 현상을 파악(주로 추세)하여 현재의 매매와 미래의 예측에 접목할 수 돕는 것\n",
    "- 단순이평(SMA)이 자주 쓰이지만 지수평균(EMA), 가중평균(WMA) 등을 사용하는 경우도 있다."
   ]
  },
  {
   "cell_type": "markdown",
   "id": "d5f70e45",
   "metadata": {},
   "source": [
    "## 퀀트투자\n",
    "- 증권사나 기업에서 제공하는 모든 객관적인 수치 지표를 가지고 수학적, 통계적 기법을 활용해 투자 종목을 발굴하는 투자 방법\n",
    "- 이동평균선\n",
    "    - 주식시장 파생상품시장에서 기술적 분석을 할 때 쓰이는 기본 도구\n",
    "    - 거래액, 매매 대금, 생산량 등의 예측에 다양한 예측에 사용\n",
    "    - 주식시장은 주말을 제외한 5일간 매매가 이루어 지고 5일 이평선은 1주일간의 주가의 흐름 파악, 20일 이평선은 1달간의 주가의 흐름 파악, 240일 이평선은 약 1년간의 주가의 흐름을 파악하는 지표이다.\n",
    "    - 5일, 20일 이평선은 주로 '단기스윙'매매에 이용되며, 60일,120일 이평선은 중장기 매매에 이용된다.\n",
    "    - 이동평균선 매매기법\n",
    "        - 골든크로스 : 단기이동평균선이 장기이동평균선을 뚫고 상승하는 것\n",
    "            - ex)20일 이평선이 60일 이평선을 뚫고 상승하는 겨우\n",
    "        - 데드크로스 : 단기이동평균선이 장기이동평균선을 뚫고 하락하는 것\n",
    "            - ex)20일 이평선이 60일 이평선을 뚫고 하락하고있다면 앞으로 주가가 계속 하락할 가능성이 높다.\n",
    "    - 종류\n",
    "        - 단순 이평선(SMA): 일반적으로 생각하는 평균과 같다. 몇 개의 데이터를 이용해서 평균을 구하느냐가 변수인데, N개의 데이터를 이용하면 N이동평균이라고 한다. N개의 종가를 모두 더한 다음 N으로 나누는 방식이다.\n",
    "        - 지수 이평선(EMA)\n",
    "        - 가중 이평선(WMA)\n",
    "- 그외\n",
    "    - 머신러닝 투자\n",
    "    - 딥러닝 투자"
   ]
  },
  {
   "cell_type": "code",
   "execution_count": 1,
   "id": "c61559d7",
   "metadata": {},
   "outputs": [],
   "source": [
    "import sqlite3\n",
    "import pandas as pd\n",
    "import numpy as np\n",
    "import matplotlib as mpl\n",
    "import matplotlib.pyplot as plt"
   ]
  },
  {
   "cell_type": "raw",
   "id": "c369a2ec",
   "metadata": {},
   "source": [
    "CREATE TABLE \"stockdb\" (\n",
    "\t\"id\"\tINTEGER,\n",
    "\t\"comname\"\tTEXT,\n",
    "\t\"comcode\"\tTEXT,\n",
    "\t\"sday\"\tTEXT,\n",
    "\t\"sopen\"\tINTEGER,\n",
    "\t\"shigh\"\tINTEGER,\n",
    "\t\"slow\"\tINTEGER,\n",
    "\t\"sclose\"\tINTEGER,\n",
    "\t\"svol\"\tINTEGER,\n",
    "\t\"comkey\"\tINTEGER UNIQUE,\n",
    "\tPRIMARY KEY(\"id\")\n",
    ")"
   ]
  },
  {
   "cell_type": "code",
   "execution_count": 2,
   "id": "df06ea67",
   "metadata": {},
   "outputs": [
    {
     "name": "stdout",
     "output_type": "stream",
     "text": [
      "select sday,sclose from stockdb where sday>\"2022-04-01\" order by sday asc\n"
     ]
    },
    {
     "data": {
      "text/plain": [
       "[('2022-04-04', 117000),\n",
       " ('2022-04-05', 116500),\n",
       " ('2022-04-06', 113000),\n",
       " ('2022-04-07', 113500),\n",
       " ('2022-04-08', 112000)]"
      ]
     },
     "execution_count": 2,
     "metadata": {},
     "output_type": "execute_result"
    }
   ],
   "source": [
    "def seldata(cols=['sday','sclose'],where='where sday>\"2022-04-01\" order by sday asc'):\n",
    "    fname='_db/nstock.db'\n",
    "    with sqlite3.connect(fname) as conn:\n",
    "        cur=conn.cursor()\n",
    "        coltxt=','.join(cols)\n",
    "        sql='select '+coltxt+' from stockdb '+where\n",
    "        print(sql)\n",
    "        res=cur.execute(sql).fetchall()\n",
    "    return res\n",
    "\n",
    "res=seldata()    \n",
    "res[:5]"
   ]
  },
  {
   "cell_type": "code",
   "execution_count": 4,
   "id": "7d5f3766",
   "metadata": {},
   "outputs": [
    {
     "data": {
      "text/html": [
       "<div>\n",
       "<style scoped>\n",
       "    .dataframe tbody tr th:only-of-type {\n",
       "        vertical-align: middle;\n",
       "    }\n",
       "\n",
       "    .dataframe tbody tr th {\n",
       "        vertical-align: top;\n",
       "    }\n",
       "\n",
       "    .dataframe thead th {\n",
       "        text-align: right;\n",
       "    }\n",
       "</style>\n",
       "<table border=\"1\" class=\"dataframe\">\n",
       "  <thead>\n",
       "    <tr style=\"text-align: right;\">\n",
       "      <th></th>\n",
       "      <th>sday</th>\n",
       "      <th>sclose</th>\n",
       "    </tr>\n",
       "  </thead>\n",
       "  <tbody>\n",
       "    <tr>\n",
       "      <th>23</th>\n",
       "      <td>2022-05-06</td>\n",
       "      <td>107500</td>\n",
       "    </tr>\n",
       "    <tr>\n",
       "      <th>24</th>\n",
       "      <td>2022-05-09</td>\n",
       "      <td>107500</td>\n",
       "    </tr>\n",
       "    <tr>\n",
       "      <th>25</th>\n",
       "      <td>2022-05-10</td>\n",
       "      <td>110000</td>\n",
       "    </tr>\n",
       "    <tr>\n",
       "      <th>26</th>\n",
       "      <td>2022-05-11</td>\n",
       "      <td>110500</td>\n",
       "    </tr>\n",
       "    <tr>\n",
       "      <th>27</th>\n",
       "      <td>2022-05-12</td>\n",
       "      <td>110500</td>\n",
       "    </tr>\n",
       "  </tbody>\n",
       "</table>\n",
       "</div>"
      ],
      "text/plain": [
       "          sday  sclose\n",
       "23  2022-05-06  107500\n",
       "24  2022-05-09  107500\n",
       "25  2022-05-10  110000\n",
       "26  2022-05-11  110500\n",
       "27  2022-05-12  110500"
      ]
     },
     "execution_count": 4,
     "metadata": {},
     "output_type": "execute_result"
    }
   ],
   "source": [
    "cols=['sday','sclose']\n",
    "df = pd.DataFrame(res,columns=cols)\n",
    "df.tail()"
   ]
  },
  {
   "cell_type": "code",
   "execution_count": 5,
   "id": "66100217",
   "metadata": {},
   "outputs": [
    {
     "data": {
      "text/html": [
       "<div>\n",
       "<style scoped>\n",
       "    .dataframe tbody tr th:only-of-type {\n",
       "        vertical-align: middle;\n",
       "    }\n",
       "\n",
       "    .dataframe tbody tr th {\n",
       "        vertical-align: top;\n",
       "    }\n",
       "\n",
       "    .dataframe thead th {\n",
       "        text-align: right;\n",
       "    }\n",
       "</style>\n",
       "<table border=\"1\" class=\"dataframe\">\n",
       "  <thead>\n",
       "    <tr style=\"text-align: right;\">\n",
       "      <th></th>\n",
       "      <th>sclose</th>\n",
       "    </tr>\n",
       "    <tr>\n",
       "      <th>sday</th>\n",
       "      <th></th>\n",
       "    </tr>\n",
       "  </thead>\n",
       "  <tbody>\n",
       "    <tr>\n",
       "      <th>2022-05-06</th>\n",
       "      <td>107500</td>\n",
       "    </tr>\n",
       "    <tr>\n",
       "      <th>2022-05-09</th>\n",
       "      <td>107500</td>\n",
       "    </tr>\n",
       "    <tr>\n",
       "      <th>2022-05-10</th>\n",
       "      <td>110000</td>\n",
       "    </tr>\n",
       "    <tr>\n",
       "      <th>2022-05-11</th>\n",
       "      <td>110500</td>\n",
       "    </tr>\n",
       "    <tr>\n",
       "      <th>2022-05-12</th>\n",
       "      <td>110500</td>\n",
       "    </tr>\n",
       "  </tbody>\n",
       "</table>\n",
       "</div>"
      ],
      "text/plain": [
       "            sclose\n",
       "sday              \n",
       "2022-05-06  107500\n",
       "2022-05-09  107500\n",
       "2022-05-10  110000\n",
       "2022-05-11  110500\n",
       "2022-05-12  110500"
      ]
     },
     "execution_count": 5,
     "metadata": {},
     "output_type": "execute_result"
    }
   ],
   "source": [
    "mdf=df.set_index('sday')\n",
    "mdf.tail()"
   ]
  },
  {
   "cell_type": "code",
   "execution_count": 6,
   "id": "e0fa708d",
   "metadata": {},
   "outputs": [
    {
     "data": {
      "text/plain": [
       "<AxesSubplot:xlabel='sday'>"
      ]
     },
     "execution_count": 6,
     "metadata": {},
     "output_type": "execute_result"
    },
    {
     "data": {
      "image/png": "[encoded data removed]",
      "text/plain": [
       "<Figure size 432x288 with 1 Axes>"
      ]
     },
     "metadata": {
      "needs_background": "light"
     },
     "output_type": "display_data"
    }
   ],
   "source": [
    "mdf.plot()"
   ]
  },
  {
   "cell_type": "raw",
   "id": "e6376da7",
   "metadata": {},
   "source": [
    "https://ordo.tistory.com/67"
   ]
  },
  {
   "cell_type": "code",
   "execution_count": 7,
   "id": "70be45a6",
   "metadata": {},
   "outputs": [
    {
     "data": {
      "text/plain": [
       "<AxesSubplot:xlabel='sday'>"
      ]
     },
     "execution_count": 7,
     "metadata": {},
     "output_type": "execute_result"
    },
    {
     "data": {
      "image/png": "[encoded data removed]",
      "text/plain": [
       "<Figure size 432x288 with 1 Axes>"
      ]
     },
     "metadata": {
      "needs_background": "light"
     },
     "output_type": "display_data"
    }
   ],
   "source": [
    "#window:몇개씩 연산할지 입력, mean:평균내라\n",
    "mdf['shortmv']=mdf['sclose'].rolling(window=5).mean()\n",
    "mdf['longmv']=mdf['sclose'].rolling(window=10).mean()\n",
    "mdf.plot()"
   ]
  },
  {
   "cell_type": "markdown",
   "id": "1920d725",
   "metadata": {
    "tags": []
   },
   "source": [
    "#### 기간이동 계산(rolling함수)예제"
   ]
  },
  {
   "cell_type": "markdown",
   "id": "54c31e79",
   "metadata": {},
   "source": [
    "- rolling 메서드는 현재 열에 대하여 일정 크기의 창(window)를 이용하여 그 window안의 값을 추가 메서드를 통해 계산하는 메서드\n",
    "- df.rolling(window, min_periods=None, center=False, win_type=None, on=None, axis=0, closed=None, method='single')\n",
    "    - window : 계산할 창(window)의 크기 입니다. 열 기준으로 계산할 경우 행의 수입니다.\n",
    "    - min_periods : 계산할 최소 크기(기간). window 안의 값의 수가 min_periods의 값보다 작을경우 NaN을 출력합니다.\n",
    "    - center : {True / False} 레이블을 window의 중간에 둘지 여부입니다. 기본값은 False로 레이블이 창 우측에 위치합니다.\n",
    "    - win_type : {'triang' / 'gaussian' / ...} 가중치를 넣어 계산할 경우 계산 방식 입니다. 때에따라 연산 메서드에 추가 인수를 지정해야할수도 있습니다.\n",
    "    - on : 시계열 인덱스나, 시계열과 유사한 열이 있을 경우 이 열을 기준으로 rolling을 수행할 수 있습니다.\n",
    "    - closed : {'left' / 'right' / 'both' / 'neither'} window가 닫히는 방향.\n",
    "    - method :{'single' / 'table'} numba 를 이용하여 테이블 계산을 진행하여 속도를 높힐지 여부입니다."
   ]
  },
  {
   "cell_type": "code",
   "execution_count": 14,
   "id": "52722ed1",
   "metadata": {},
   "outputs": [
    {
     "name": "stdout",
     "output_type": "stream",
     "text": [
      "      col1              col2\n",
      "row1     1  2022-01-13 00:00\n",
      "row2     2  2022-01-13 00:30\n",
      "row3     3  2022-01-13 01:00\n",
      "row4     4  2022-01-13 01:30\n",
      "row5     5  2022-01-13 02:00\n",
      "row6     6  2022-01-13 02:30\n"
     ]
    }
   ],
   "source": [
    "period = pd.period_range(start='2022-01-13 00:00:00',end='2022-01-13 02:30:00',freq='30T')\n",
    "data = {'col1':[1,2,3,4,5,6],'col2':period}\n",
    "idx = ['row1','row2','row3','row4','row5','row6']\n",
    "idf = pd.DataFrame(data= data, index = idx)\n",
    "print(idf)"
   ]
  },
  {
   "cell_type": "code",
   "execution_count": 10,
   "id": "b9479347",
   "metadata": {},
   "outputs": [
    {
     "name": "stdout",
     "output_type": "stream",
     "text": [
      "      col1\n",
      "row1   NaN\n",
      "row2   NaN\n",
      "row3   6.0\n",
      "row4   9.0\n",
      "row5  12.0\n",
      "row6  15.0\n"
     ]
    }
   ],
   "source": [
    "print(idf.rolling(window=3).sum())\n",
    "# min_period의 크기는 지정하지 않을경우 window크기와 동일하므로 NaN출력\n",
    "# 6.0=# 1행, 2행, 3행의 sum값 출력"
   ]
  },
  {
   "cell_type": "code",
   "execution_count": 11,
   "id": "cced804c",
   "metadata": {},
   "outputs": [
    {
     "name": "stdout",
     "output_type": "stream",
     "text": [
      "      col1\n",
      "row1   1.0\n",
      "row2   3.0\n",
      "row3   6.0\n",
      "row4   9.0\n",
      "row5  12.0\n",
      "row6  15.0\n"
     ]
    }
   ],
   "source": [
    "# 데이터가 한개라도 존재하면 연산 실행\n",
    "print(idf.rolling(window=3, min_periods=1).sum())"
   ]
  },
  {
   "cell_type": "code",
   "execution_count": 12,
   "id": "88dd4338",
   "metadata": {},
   "outputs": [],
   "source": [
    "# closed는 계산을 닫는 위치 지정.\n",
    "# 만약 6행기준으로 window=3이면 \n",
    "# left : 3 ≤ x < 6\n",
    "# right : 3 < x ≤ 6\n",
    "# both : 3 ≤ x ≤ 6\n",
    "# neither : 3 < x < 6"
   ]
  },
  {
   "cell_type": "markdown",
   "id": "017a0188",
   "metadata": {},
   "source": [
    "### 이동평균석 투자 전략"
   ]
  },
  {
   "cell_type": "code",
   "execution_count": 20,
   "id": "e33fed48",
   "metadata": {
    "collapsed": true,
    "jupyter": {
     "outputs_hidden": true
    },
    "tags": []
   },
   "outputs": [
    {
     "data": {
      "text/html": [
       "<div>\n",
       "<style scoped>\n",
       "    .dataframe tbody tr th:only-of-type {\n",
       "        vertical-align: middle;\n",
       "    }\n",
       "\n",
       "    .dataframe tbody tr th {\n",
       "        vertical-align: top;\n",
       "    }\n",
       "\n",
       "    .dataframe thead th {\n",
       "        text-align: right;\n",
       "    }\n",
       "</style>\n",
       "<table border=\"1\" class=\"dataframe\">\n",
       "  <thead>\n",
       "    <tr style=\"text-align: right;\">\n",
       "      <th></th>\n",
       "      <th>sclose</th>\n",
       "      <th>shortmv</th>\n",
       "      <th>longmv</th>\n",
       "    </tr>\n",
       "    <tr>\n",
       "      <th>sday</th>\n",
       "      <th></th>\n",
       "      <th></th>\n",
       "      <th></th>\n",
       "    </tr>\n",
       "  </thead>\n",
       "  <tbody>\n",
       "    <tr>\n",
       "      <th>2022-04-04</th>\n",
       "      <td>117000</td>\n",
       "      <td>NaN</td>\n",
       "      <td>NaN</td>\n",
       "    </tr>\n",
       "    <tr>\n",
       "      <th>2022-04-05</th>\n",
       "      <td>116500</td>\n",
       "      <td>NaN</td>\n",
       "      <td>NaN</td>\n",
       "    </tr>\n",
       "    <tr>\n",
       "      <th>2022-04-06</th>\n",
       "      <td>113000</td>\n",
       "      <td>NaN</td>\n",
       "      <td>NaN</td>\n",
       "    </tr>\n",
       "    <tr>\n",
       "      <th>2022-04-07</th>\n",
       "      <td>113500</td>\n",
       "      <td>NaN</td>\n",
       "      <td>NaN</td>\n",
       "    </tr>\n",
       "    <tr>\n",
       "      <th>2022-04-08</th>\n",
       "      <td>112000</td>\n",
       "      <td>114400.0</td>\n",
       "      <td>NaN</td>\n",
       "    </tr>\n",
       "    <tr>\n",
       "      <th>2022-04-11</th>\n",
       "      <td>111500</td>\n",
       "      <td>113300.0</td>\n",
       "      <td>NaN</td>\n",
       "    </tr>\n",
       "    <tr>\n",
       "      <th>2022-04-12</th>\n",
       "      <td>111000</td>\n",
       "      <td>112200.0</td>\n",
       "      <td>NaN</td>\n",
       "    </tr>\n",
       "    <tr>\n",
       "      <th>2022-04-13</th>\n",
       "      <td>113000</td>\n",
       "      <td>112200.0</td>\n",
       "      <td>NaN</td>\n",
       "    </tr>\n",
       "    <tr>\n",
       "      <th>2022-04-14</th>\n",
       "      <td>110000</td>\n",
       "      <td>111500.0</td>\n",
       "      <td>NaN</td>\n",
       "    </tr>\n",
       "    <tr>\n",
       "      <th>2022-04-15</th>\n",
       "      <td>108000</td>\n",
       "      <td>110700.0</td>\n",
       "      <td>112550.0</td>\n",
       "    </tr>\n",
       "    <tr>\n",
       "      <th>2022-04-18</th>\n",
       "      <td>109000</td>\n",
       "      <td>110200.0</td>\n",
       "      <td>111750.0</td>\n",
       "    </tr>\n",
       "    <tr>\n",
       "      <th>2022-04-19</th>\n",
       "      <td>112500</td>\n",
       "      <td>110500.0</td>\n",
       "      <td>111350.0</td>\n",
       "    </tr>\n",
       "    <tr>\n",
       "      <th>2022-04-20</th>\n",
       "      <td>112500</td>\n",
       "      <td>110400.0</td>\n",
       "      <td>111300.0</td>\n",
       "    </tr>\n",
       "    <tr>\n",
       "      <th>2022-04-21</th>\n",
       "      <td>113000</td>\n",
       "      <td>111000.0</td>\n",
       "      <td>111250.0</td>\n",
       "    </tr>\n",
       "    <tr>\n",
       "      <th>2022-04-22</th>\n",
       "      <td>110500</td>\n",
       "      <td>111500.0</td>\n",
       "      <td>111100.0</td>\n",
       "    </tr>\n",
       "    <tr>\n",
       "      <th>2022-04-25</th>\n",
       "      <td>108000</td>\n",
       "      <td>111300.0</td>\n",
       "      <td>110750.0</td>\n",
       "    </tr>\n",
       "    <tr>\n",
       "      <th>2022-04-26</th>\n",
       "      <td>111000</td>\n",
       "      <td>111000.0</td>\n",
       "      <td>110750.0</td>\n",
       "    </tr>\n",
       "    <tr>\n",
       "      <th>2022-04-27</th>\n",
       "      <td>108500</td>\n",
       "      <td>110200.0</td>\n",
       "      <td>110300.0</td>\n",
       "    </tr>\n",
       "    <tr>\n",
       "      <th>2022-04-28</th>\n",
       "      <td>109500</td>\n",
       "      <td>109500.0</td>\n",
       "      <td>110250.0</td>\n",
       "    </tr>\n",
       "    <tr>\n",
       "      <th>2022-04-29</th>\n",
       "      <td>112500</td>\n",
       "      <td>109900.0</td>\n",
       "      <td>110700.0</td>\n",
       "    </tr>\n",
       "    <tr>\n",
       "      <th>2022-05-02</th>\n",
       "      <td>110500</td>\n",
       "      <td>110400.0</td>\n",
       "      <td>110850.0</td>\n",
       "    </tr>\n",
       "    <tr>\n",
       "      <th>2022-05-03</th>\n",
       "      <td>110000</td>\n",
       "      <td>110200.0</td>\n",
       "      <td>110600.0</td>\n",
       "    </tr>\n",
       "    <tr>\n",
       "      <th>2022-05-04</th>\n",
       "      <td>109500</td>\n",
       "      <td>110400.0</td>\n",
       "      <td>110300.0</td>\n",
       "    </tr>\n",
       "    <tr>\n",
       "      <th>2022-05-06</th>\n",
       "      <td>107500</td>\n",
       "      <td>110000.0</td>\n",
       "      <td>109750.0</td>\n",
       "    </tr>\n",
       "    <tr>\n",
       "      <th>2022-05-09</th>\n",
       "      <td>107500</td>\n",
       "      <td>109000.0</td>\n",
       "      <td>109450.0</td>\n",
       "    </tr>\n",
       "    <tr>\n",
       "      <th>2022-05-10</th>\n",
       "      <td>110000</td>\n",
       "      <td>108900.0</td>\n",
       "      <td>109650.0</td>\n",
       "    </tr>\n",
       "    <tr>\n",
       "      <th>2022-05-11</th>\n",
       "      <td>110500</td>\n",
       "      <td>109000.0</td>\n",
       "      <td>109600.0</td>\n",
       "    </tr>\n",
       "    <tr>\n",
       "      <th>2022-05-12</th>\n",
       "      <td>110500</td>\n",
       "      <td>109200.0</td>\n",
       "      <td>109800.0</td>\n",
       "    </tr>\n",
       "  </tbody>\n",
       "</table>\n",
       "</div>"
      ],
      "text/plain": [
       "            sclose   shortmv    longmv\n",
       "sday                                  \n",
       "2022-04-04  117000       NaN       NaN\n",
       "2022-04-05  116500       NaN       NaN\n",
       "2022-04-06  113000       NaN       NaN\n",
       "2022-04-07  113500       NaN       NaN\n",
       "2022-04-08  112000  114400.0       NaN\n",
       "2022-04-11  111500  113300.0       NaN\n",
       "2022-04-12  111000  112200.0       NaN\n",
       "2022-04-13  113000  112200.0       NaN\n",
       "2022-04-14  110000  111500.0       NaN\n",
       "2022-04-15  108000  110700.0  112550.0\n",
       "2022-04-18  109000  110200.0  111750.0\n",
       "2022-04-19  112500  110500.0  111350.0\n",
       "2022-04-20  112500  110400.0  111300.0\n",
       "2022-04-21  113000  111000.0  111250.0\n",
       "2022-04-22  110500  111500.0  111100.0\n",
       "2022-04-25  108000  111300.0  110750.0\n",
       "2022-04-26  111000  111000.0  110750.0\n",
       "2022-04-27  108500  110200.0  110300.0\n",
       "2022-04-28  109500  109500.0  110250.0\n",
       "2022-04-29  112500  109900.0  110700.0\n",
       "2022-05-02  110500  110400.0  110850.0\n",
       "2022-05-03  110000  110200.0  110600.0\n",
       "2022-05-04  109500  110400.0  110300.0\n",
       "2022-05-06  107500  110000.0  109750.0\n",
       "2022-05-09  107500  109000.0  109450.0\n",
       "2022-05-10  110000  108900.0  109650.0\n",
       "2022-05-11  110500  109000.0  109600.0\n",
       "2022-05-12  110500  109200.0  109800.0"
      ]
     },
     "execution_count": 20,
     "metadata": {},
     "output_type": "execute_result"
    }
   ],
   "source": [
    "mdf"
   ]
  },
  {
   "cell_type": "code",
   "execution_count": 22,
   "id": "182d78c2",
   "metadata": {},
   "outputs": [
    {
     "data": {
      "text/plain": [
       "'2022-04-04'"
      ]
     },
     "execution_count": 22,
     "metadata": {},
     "output_type": "execute_result"
    }
   ],
   "source": [
    "findex=mdf.iloc[:1,:].index[0]\n",
    "findex"
   ]
  },
  {
   "cell_type": "code",
   "execution_count": 19,
   "id": "5ce80fa4",
   "metadata": {},
   "outputs": [
    {
     "data": {
      "text/plain": [
       "'sclose'"
      ]
     },
     "execution_count": 19,
     "metadata": {},
     "output_type": "execute_result"
    }
   ],
   "source": [
    "lindex=mdf.iloc[-1,:].index[0]\n",
    "lindex"
   ]
  },
  {
   "cell_type": "code",
   "execution_count": 25,
   "id": "481c94aa",
   "metadata": {
    "collapsed": true,
    "jupyter": {
     "outputs_hidden": true
    },
    "tags": []
   },
   "outputs": [
    {
     "name": "stdout",
     "output_type": "stream",
     "text": [
      "sclose     109000.0\n",
      "shortmv    110200.0\n",
      "longmv     111750.0\n",
      "Name: 2022-04-18, dtype: float64\n",
      "sclose     112500.0\n",
      "shortmv    110500.0\n",
      "longmv     111350.0\n",
      "Name: 2022-04-19, dtype: float64\n",
      "sclose     112500.0\n",
      "shortmv    110400.0\n",
      "longmv     111300.0\n",
      "Name: 2022-04-20, dtype: float64\n",
      "sclose     113000.0\n",
      "shortmv    111000.0\n",
      "longmv     111250.0\n",
      "Name: 2022-04-21, dtype: float64\n",
      "sclose     110500.0\n",
      "shortmv    111500.0\n",
      "longmv     111100.0\n",
      "Name: 2022-04-22, dtype: float64\n",
      "sclose     108000.0\n",
      "shortmv    111300.0\n",
      "longmv     110750.0\n",
      "Name: 2022-04-25, dtype: float64\n",
      "sclose     111000.0\n",
      "shortmv    111000.0\n",
      "longmv     110750.0\n",
      "Name: 2022-04-26, dtype: float64\n",
      "sclose     108500.0\n",
      "shortmv    110200.0\n",
      "longmv     110300.0\n",
      "Name: 2022-04-27, dtype: float64\n",
      "sclose     109500.0\n",
      "shortmv    109500.0\n",
      "longmv     110250.0\n",
      "Name: 2022-04-28, dtype: float64\n",
      "sclose     112500.0\n",
      "shortmv    109900.0\n",
      "longmv     110700.0\n",
      "Name: 2022-04-29, dtype: float64\n",
      "sclose     110500.0\n",
      "shortmv    110400.0\n",
      "longmv     110850.0\n",
      "Name: 2022-05-02, dtype: float64\n",
      "sclose     110000.0\n",
      "shortmv    110200.0\n",
      "longmv     110600.0\n",
      "Name: 2022-05-03, dtype: float64\n",
      "sclose     109500.0\n",
      "shortmv    110400.0\n",
      "longmv     110300.0\n",
      "Name: 2022-05-04, dtype: float64\n",
      "sclose     107500.0\n",
      "shortmv    110000.0\n",
      "longmv     109750.0\n",
      "Name: 2022-05-06, dtype: float64\n",
      "sclose     107500.0\n",
      "shortmv    109000.0\n",
      "longmv     109450.0\n",
      "Name: 2022-05-09, dtype: float64\n",
      "sclose     110000.0\n",
      "shortmv    108900.0\n",
      "longmv     109650.0\n",
      "Name: 2022-05-10, dtype: float64\n",
      "sclose     110500.0\n",
      "shortmv    109000.0\n",
      "longmv     109600.0\n",
      "Name: 2022-05-11, dtype: float64\n",
      "sclose     110500.0\n",
      "shortmv    109200.0\n",
      "longmv     109800.0\n",
      "Name: 2022-05-12, dtype: float64\n"
     ]
    }
   ],
   "source": [
    "for i,row in mdf.iloc[10:,:].iterrows():\n",
    "    print(row)"
   ]
  },
  {
   "cell_type": "code",
   "execution_count": 26,
   "id": "feef4e97",
   "metadata": {},
   "outputs": [],
   "source": [
    "def simStock(mdf):\n",
    "    findex=mdf.iloc[:1,:].index[0]\n",
    "    lindex=mdf.iloc[-1:,:].index[0]\n",
    "    lindex\n",
    "    invest=200000\n",
    "    beforePos=-1\n",
    "    beforeHold=0\n",
    "\n",
    "    for i,row in mdf.iloc[10:,:].iterrows():\n",
    "        if(row['shortmv']>=row['longmv']):\n",
    "            nowpos=1 # short 상위\n",
    "        else:\n",
    "            nowpos=-1 # short 하위\n",
    "        if beforePos==-1 and nowpos==1 and beforeHold==0:\n",
    "            timing=1# 매수타이밍\n",
    "            hold=1\n",
    "            mdf.loc[i,'cash']=-row['sclose']\n",
    "            mdf.loc[i,'hold']=1\n",
    "        elif beforePos==1 and nowpos==-1 and beforeHold==1:\n",
    "            timing=-1# 매수타이밍\n",
    "            hold=0\n",
    "            mdf.loc[i,'cash']=row['sclose']\n",
    "            mdf.loc[i,'hold']=0\n",
    "        else:\n",
    "            mdf.loc[i,'cash']=0\n",
    "            timing=0 # 홀드\n",
    "            hold=beforeHold\n",
    "            mdf.loc[i,'hold']=beforeHold\n",
    "        beforeHold=hold\n",
    "        beforePos=nowpos\n",
    "        mdf.loc[findex,'cash']=invest\n",
    "        mdf['cumcash']=mdf['cash'].cumsum()\n",
    "        mdf['balalce']=mdf['sclose']*mdf['hold']+mdf['cumcash']\n",
    "    mdf.tail()\n",
    "    ecash=mdf.loc[lindex,'balalce']-invest\n",
    "    erate=ecash/invest\n",
    "    return(invest,ecash,erate)"
   ]
  },
  {
   "cell_type": "code",
   "execution_count": 27,
   "id": "033ad6a9",
   "metadata": {},
   "outputs": [
    {
     "data": {
      "text/plain": [
       "(200000, -4000.0, -0.02)"
      ]
     },
     "execution_count": 27,
     "metadata": {},
     "output_type": "execute_result"
    }
   ],
   "source": [
    "simStock(mdf)"
   ]
  }
 ],
 "metadata": {
  "kernelspec": {
   "display_name": "Python 3 (ipykernel)",
   "language": "python",
   "name": "python3"
  },
  "language_info": {
   "codemirror_mode": {
    "name": "ipython",
    "version": 3
   },
   "file_extension": ".py",
   "mimetype": "text/x-python",
   "name": "python",
   "nbconvert_exporter": "python",
   "pygments_lexer": "ipython3",
   "version": "3.8.13"
  }
 },
 "nbformat": 4,
 "nbformat_minor": 5
}
