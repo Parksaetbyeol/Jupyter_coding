{
 "cells": [
  {
   "cell_type": "markdown",
   "metadata": {},
   "source": [
    "### 캔들차트\n",
    "<img src=\"img/candle.jpg\"/>\n",
    "<img src=\"img/candle2.png\"/>"
   ]
  },
  {
   "cell_type": "markdown",
   "metadata": {},
   "source": [
    "- 봉 차트를 구성하는 기본 단위인 ‘일봉’은 거래일 동안의 시가(장시작 가격), 고가(장중 최고가), 저가(장중 최저가), 종가(장마감 가격)의 네 가지 값을 한 개의 봉으로 표현\n",
    "- 양봉 : 일봉 중 종가가 시가보다 높은 경우\n",
    "- 음봉 : 종가가 시가보다 낮은 경우\n",
    "    - ex) 종가와 고가 사이의 간격이 크다는 것은 하루 중에 주가가 크게 올랐다가 결국은 다시 떨어지는 것을 의미.\n",
    "    - ex) 비슷하게 종가와 저가 사이의 간격이 크다는 것은 장중에 주가가 크게 떨어졌다가 장 종료 시점에는 일정 부분 상승한 채로 장이 종료됐음을 의미\n",
    "- 많은 투자 관련 책에서 봉 차트를 바탕으로 주가가 약세시점에서 양봉 3개가 나타나는 것을 ‘적삼병’이라고 부르고 이를 주가 상승 장세의 시점으로 판단\n",
    "- 반대로 주가가 상승 시점에 있다가 음봉 3개가 연달아서 나타나면 이를 ‘흑삼병’이라고 부르고 주가가 하락세로 전환되거나 하락세가 지속될 시점으로 판단"
   ]
  },
  {
   "cell_type": "markdown",
   "metadata": {},
   "source": [
    "## 캔들 차트 그리기"
   ]
  },
  {
   "cell_type": "code",
   "execution_count": 2,
   "metadata": {},
   "outputs": [],
   "source": [
    "import sqlite3\n",
    "import numpy as np\n",
    "import pandas as pd\n",
    "import matplotlib as mpl\n",
    "import matplotlib.pyplot as plt"
   ]
  },
  {
   "cell_type": "code",
   "execution_count": 53,
   "metadata": {},
   "outputs": [
    {
     "name": "stdout",
     "output_type": "stream",
     "text": [
      "select sday,sopen,shigh,slow,sclose,svol from stockdb where sday>\"2022-04-01\" order by sday asc\n"
     ]
    },
    {
     "data": {
      "text/plain": [
       "[('2022-04-04', 115000, 117500, 114500, 117000, 2470792),\n",
       " ('2022-04-05', 117500, 118000, 116000, 116500, 2101474),\n",
       " ('2022-04-06', 114500, 115500, 113000, 113000, 4541938),\n",
       " ('2022-04-07', 111500, 114500, 110500, 113500, 5027865),\n",
       " ('2022-04-08', 113000, 114000, 110500, 112000, 4268316)]"
      ]
     },
     "execution_count": 53,
     "metadata": {},
     "output_type": "execute_result"
    }
   ],
   "source": [
    "def seldata(cols=['sday','sopen','shigh','slow','sclose','svol'],where='where sday>\"2022-04-01\" order by sday asc'):\n",
    "    fname='_db/nstock.db'\n",
    "    with sqlite3.connect(fname) as conn:\n",
    "        cur=conn.cursor()\n",
    "        coltxt=','.join(cols)\n",
    "        sql='select '+coltxt+' from stockdb '+where\n",
    "        print(sql)\n",
    "        res=cur.execute(sql).fetchall()\n",
    "    return res\n",
    "\n",
    "res=seldata()    \n",
    "res[:5]"
   ]
  },
  {
   "cell_type": "code",
   "execution_count": 55,
   "metadata": {},
   "outputs": [
    {
     "data": {
      "text/html": [
       "<div>\n",
       "<style scoped>\n",
       "    .dataframe tbody tr th:only-of-type {\n",
       "        vertical-align: middle;\n",
       "    }\n",
       "\n",
       "    .dataframe tbody tr th {\n",
       "        vertical-align: top;\n",
       "    }\n",
       "\n",
       "    .dataframe thead th {\n",
       "        text-align: right;\n",
       "    }\n",
       "</style>\n",
       "<table border=\"1\" class=\"dataframe\">\n",
       "  <thead>\n",
       "    <tr style=\"text-align: right;\">\n",
       "      <th></th>\n",
       "      <th>sday</th>\n",
       "      <th>sopen</th>\n",
       "      <th>shigh</th>\n",
       "      <th>slow</th>\n",
       "      <th>sclose</th>\n",
       "      <th>svol</th>\n",
       "    </tr>\n",
       "  </thead>\n",
       "  <tbody>\n",
       "    <tr>\n",
       "      <th>23</th>\n",
       "      <td>2022-05-06</td>\n",
       "      <td>108000</td>\n",
       "      <td>108500</td>\n",
       "      <td>106500</td>\n",
       "      <td>107500</td>\n",
       "      <td>2566813</td>\n",
       "    </tr>\n",
       "    <tr>\n",
       "      <th>24</th>\n",
       "      <td>2022-05-09</td>\n",
       "      <td>107000</td>\n",
       "      <td>109000</td>\n",
       "      <td>106500</td>\n",
       "      <td>107500</td>\n",
       "      <td>2203472</td>\n",
       "    </tr>\n",
       "    <tr>\n",
       "      <th>25</th>\n",
       "      <td>2022-05-10</td>\n",
       "      <td>107000</td>\n",
       "      <td>111000</td>\n",
       "      <td>107000</td>\n",
       "      <td>110000</td>\n",
       "      <td>4141923</td>\n",
       "    </tr>\n",
       "    <tr>\n",
       "      <th>26</th>\n",
       "      <td>2022-05-11</td>\n",
       "      <td>110500</td>\n",
       "      <td>112500</td>\n",
       "      <td>108000</td>\n",
       "      <td>110500</td>\n",
       "      <td>3658168</td>\n",
       "    </tr>\n",
       "    <tr>\n",
       "      <th>27</th>\n",
       "      <td>2022-05-12</td>\n",
       "      <td>109500</td>\n",
       "      <td>111500</td>\n",
       "      <td>108500</td>\n",
       "      <td>110500</td>\n",
       "      <td>1938788</td>\n",
       "    </tr>\n",
       "  </tbody>\n",
       "</table>\n",
       "</div>"
      ],
      "text/plain": [
       "          sday   sopen   shigh    slow  sclose     svol\n",
       "23  2022-05-06  108000  108500  106500  107500  2566813\n",
       "24  2022-05-09  107000  109000  106500  107500  2203472\n",
       "25  2022-05-10  107000  111000  107000  110000  4141923\n",
       "26  2022-05-11  110500  112500  108000  110500  3658168\n",
       "27  2022-05-12  109500  111500  108500  110500  1938788"
      ]
     },
     "execution_count": 55,
     "metadata": {},
     "output_type": "execute_result"
    }
   ],
   "source": [
    "cols=['sday','sopen','shigh','slow','sclose','svol']\n",
    "df = pd.DataFrame(res,columns=cols)\n",
    "df.tail()"
   ]
  },
  {
   "cell_type": "markdown",
   "metadata": {},
   "source": [
    "# mpl_finance 캔들 차트를 그리기 위한 라이브러리"
   ]
  },
  {
   "cell_type": "code",
   "execution_count": 12,
   "metadata": {
    "tags": []
   },
   "outputs": [
    {
     "name": "stdout",
     "output_type": "stream",
     "text": [
      "Collecting mpl_finance\n",
      "  Downloading mpl_finance-0.10.1-py3-none-any.whl (8.4 kB)\n",
      "Requirement already satisfied: matplotlib in c:\\users\\totqu\\anaconda3\\envs\\py38\\lib\\site-packages (from mpl_finance) (3.5.1)\n",
      "Requirement already satisfied: kiwisolver>=1.0.1 in c:\\users\\totqu\\anaconda3\\envs\\py38\\lib\\site-packages (from matplotlib->mpl_finance) (1.3.2)\n",
      "Requirement already satisfied: fonttools>=4.22.0 in c:\\users\\totqu\\anaconda3\\envs\\py38\\lib\\site-packages (from matplotlib->mpl_finance) (4.25.0)\n",
      "Requirement already satisfied: numpy>=1.17 in c:\\users\\totqu\\anaconda3\\envs\\py38\\lib\\site-packages (from matplotlib->mpl_finance) (1.21.5)\n",
      "Requirement already satisfied: pyparsing>=2.2.1 in c:\\users\\totqu\\anaconda3\\envs\\py38\\lib\\site-packages (from matplotlib->mpl_finance) (3.0.4)\n",
      "Requirement already satisfied: pillow>=6.2.0 in c:\\users\\totqu\\anaconda3\\envs\\py38\\lib\\site-packages (from matplotlib->mpl_finance) (9.0.1)\n",
      "Requirement already satisfied: cycler>=0.10 in c:\\users\\totqu\\anaconda3\\envs\\py38\\lib\\site-packages (from matplotlib->mpl_finance) (0.11.0)\n",
      "Requirement already satisfied: python-dateutil>=2.7 in c:\\users\\totqu\\anaconda3\\envs\\py38\\lib\\site-packages (from matplotlib->mpl_finance) (2.8.2)\n",
      "Requirement already satisfied: packaging>=20.0 in c:\\users\\totqu\\anaconda3\\envs\\py38\\lib\\site-packages (from matplotlib->mpl_finance) (21.3)\n",
      "Requirement already satisfied: six>=1.5 in c:\\users\\totqu\\anaconda3\\envs\\py38\\lib\\site-packages (from python-dateutil>=2.7->matplotlib->mpl_finance) (1.16.0)\n",
      "Installing collected packages: mpl-finance\n",
      "Successfully installed mpl-finance-0.10.1\n"
     ]
    }
   ],
   "source": [
    "!pip install mpl_finance"
   ]
  },
  {
   "cell_type": "code",
   "execution_count": 13,
   "metadata": {
    "collapsed": true,
    "jupyter": {
     "outputs_hidden": true
    },
    "tags": []
   },
   "outputs": [
    {
     "name": "stderr",
     "output_type": "stream",
     "text": [
      "C:\\Users\\totqu\\anaconda3\\envs\\py38\\lib\\site-packages\\mpl_finance.py:16: DeprecationWarning: \n",
      "\n",
      "  =================================================================\n",
      "\n",
      "   WARNING: `mpl_finance` is deprecated:\n",
      "\n",
      "    Please use `mplfinance` instead (no hyphen, no underscore).\n",
      "\n",
      "    To install: `pip install --upgrade mplfinance` \n",
      "\n",
      "   For more information, see: https://pypi.org/project/mplfinance/\n",
      "\n",
      "  =================================================================\n",
      "\n",
      "  __warnings.warn('\\n\\n  ================================================================='+\n"
     ]
    }
   ],
   "source": [
    "from mpl_finance import candlestick_ohlc"
   ]
  },
  {
   "cell_type": "code",
   "execution_count": 56,
   "metadata": {},
   "outputs": [
    {
     "data": {
      "text/html": [
       "<div>\n",
       "<style scoped>\n",
       "    .dataframe tbody tr th:only-of-type {\n",
       "        vertical-align: middle;\n",
       "    }\n",
       "\n",
       "    .dataframe tbody tr th {\n",
       "        vertical-align: top;\n",
       "    }\n",
       "\n",
       "    .dataframe thead th {\n",
       "        text-align: right;\n",
       "    }\n",
       "</style>\n",
       "<table border=\"1\" class=\"dataframe\">\n",
       "  <thead>\n",
       "    <tr style=\"text-align: right;\">\n",
       "      <th></th>\n",
       "      <th>sopen</th>\n",
       "      <th>shigh</th>\n",
       "      <th>slow</th>\n",
       "      <th>sclose</th>\n",
       "      <th>svol</th>\n",
       "    </tr>\n",
       "    <tr>\n",
       "      <th>sday</th>\n",
       "      <th></th>\n",
       "      <th></th>\n",
       "      <th></th>\n",
       "      <th></th>\n",
       "      <th></th>\n",
       "    </tr>\n",
       "  </thead>\n",
       "  <tbody>\n",
       "    <tr>\n",
       "      <th>2022-05-06</th>\n",
       "      <td>108000</td>\n",
       "      <td>108500</td>\n",
       "      <td>106500</td>\n",
       "      <td>107500</td>\n",
       "      <td>2566813</td>\n",
       "    </tr>\n",
       "    <tr>\n",
       "      <th>2022-05-09</th>\n",
       "      <td>107000</td>\n",
       "      <td>109000</td>\n",
       "      <td>106500</td>\n",
       "      <td>107500</td>\n",
       "      <td>2203472</td>\n",
       "    </tr>\n",
       "    <tr>\n",
       "      <th>2022-05-10</th>\n",
       "      <td>107000</td>\n",
       "      <td>111000</td>\n",
       "      <td>107000</td>\n",
       "      <td>110000</td>\n",
       "      <td>4141923</td>\n",
       "    </tr>\n",
       "    <tr>\n",
       "      <th>2022-05-11</th>\n",
       "      <td>110500</td>\n",
       "      <td>112500</td>\n",
       "      <td>108000</td>\n",
       "      <td>110500</td>\n",
       "      <td>3658168</td>\n",
       "    </tr>\n",
       "    <tr>\n",
       "      <th>2022-05-12</th>\n",
       "      <td>109500</td>\n",
       "      <td>111500</td>\n",
       "      <td>108500</td>\n",
       "      <td>110500</td>\n",
       "      <td>1938788</td>\n",
       "    </tr>\n",
       "  </tbody>\n",
       "</table>\n",
       "</div>"
      ],
      "text/plain": [
       "             sopen   shigh    slow  sclose     svol\n",
       "sday                                               \n",
       "2022-05-06  108000  108500  106500  107500  2566813\n",
       "2022-05-09  107000  109000  106500  107500  2203472\n",
       "2022-05-10  107000  111000  107000  110000  4141923\n",
       "2022-05-11  110500  112500  108000  110500  3658168\n",
       "2022-05-12  109500  111500  108500  110500  1938788"
      ]
     },
     "execution_count": 56,
     "metadata": {},
     "output_type": "execute_result"
    }
   ],
   "source": [
    "cdf=df.set_index('sday')\n",
    "cdf.tail()"
   ]
  },
  {
   "cell_type": "code",
   "execution_count": 57,
   "metadata": {},
   "outputs": [],
   "source": [
    "idx=np.arange(len(cdf))"
   ]
  },
  {
   "cell_type": "code",
   "execution_count": 58,
   "metadata": {},
   "outputs": [
    {
     "data": {
      "text/plain": [
       "(28, 1)"
      ]
     },
     "execution_count": 58,
     "metadata": {},
     "output_type": "execute_result"
    }
   ],
   "source": [
    "idxs=np.reshape(idx,(-1,1))\n",
    "idxs.shape"
   ]
  },
  {
   "cell_type": "code",
   "execution_count": 64,
   "metadata": {},
   "outputs": [
    {
     "data": {
      "text/plain": [
       "array([2470792, 2101474, 4541938, 5027865, 4268316, 2390786, 2738163,\n",
       "       2484490, 4715700, 3694012, 2670439, 3021192, 2905007, 3199858,\n",
       "       2360834, 2282343, 2969516, 3261290, 2804966, 3752415, 2175384,\n",
       "       2676115, 2491890, 2566813, 2203472, 4141923, 3658168, 1938788],\n",
       "      dtype=int64)"
      ]
     },
     "execution_count": 64,
     "metadata": {},
     "output_type": "execute_result"
    }
   ],
   "source": [
    "cdf['svol'].values"
   ]
  },
  {
   "cell_type": "code",
   "execution_count": 61,
   "metadata": {},
   "outputs": [
    {
     "data": {
      "text/plain": [
       "array([[     0, 115000, 117500, 114500, 117000],\n",
       "       [     1, 117500, 118000, 116000, 116500],\n",
       "       [     2, 114500, 115500, 113000, 113000],\n",
       "       [     3, 111500, 114500, 110500, 113500],\n",
       "       [     4, 113000, 114000, 110500, 112000]], dtype=int64)"
      ]
     },
     "execution_count": 61,
     "metadata": {},
     "output_type": "execute_result"
    }
   ],
   "source": [
    "# 캔들 스틱용 자료 만들기\n",
    "ohlc=cdf[['sopen','shigh','slow','sclose']].values\n",
    "candleohlc=np.hstack((idxs,ohlc))\n",
    "candleohlc[:5]"
   ]
  },
  {
   "cell_type": "code",
   "execution_count": 77,
   "metadata": {},
   "outputs": [
    {
     "data": {
      "image/png": "[encoded data removed]",
      "text/plain": [
       "<Figure size 576x360 with 2 Axes>"
      ]
     },
     "metadata": {
      "needs_background": "light"
     },
     "output_type": "display_data"
    }
   ],
   "source": [
    "from matplotlib.gridspec import GridSpec\n",
    "\n",
    "fig=plt.figure(figsize=(8,5))\n",
    "gs= GridSpec(nrows=2,\n",
    "             ncols=1,\n",
    "             height_ratios=[3,1])\n",
    "ax1=fig.add_subplot(gs[0,0])\n",
    "ax1.get_xaxis().set_visible(False)\n",
    "ax2=fig.add_subplot(gs[1,0],sharex=ax1)\n",
    "candlestick_ohlc(ax1,candleohlc,\n",
    "                 colordown='b',\n",
    "                 colorup='r',\n",
    "                 width=0.7\n",
    "                )\n",
    "ax2.bar(cdf.index,cdf['svol'].values)\n",
    "plt.xticks(rotation=60)\n",
    "ax1.set_title('SK candle chart')\n",
    "plt.show()"
   ]
  },
  {
   "cell_type": "markdown",
   "metadata": {},
   "source": [
    "# 잠성전자 주가로 캔들차트 그리기"
   ]
  },
  {
   "cell_type": "code",
   "execution_count": 4,
   "metadata": {},
   "outputs": [],
   "source": [
    "import tensorflow as tf\n",
    "from pykrx import stock"
   ]
  },
  {
   "cell_type": "code",
   "execution_count": 5,
   "metadata": {},
   "outputs": [
    {
     "data": {
      "text/plain": [
       "'삼성전자'"
      ]
     },
     "execution_count": 5,
     "metadata": {},
     "output_type": "execute_result"
    }
   ],
   "source": [
    "# 삼성전자\n",
    "stock_name = stock.get_market_ticker_name(\"005930\")\n",
    "stock_name"
   ]
  },
  {
   "cell_type": "code",
   "execution_count": 24,
   "metadata": {},
   "outputs": [
    {
     "data": {
      "text/html": [
       "<div>\n",
       "<style scoped>\n",
       "    .dataframe tbody tr th:only-of-type {\n",
       "        vertical-align: middle;\n",
       "    }\n",
       "\n",
       "    .dataframe tbody tr th {\n",
       "        vertical-align: top;\n",
       "    }\n",
       "\n",
       "    .dataframe thead th {\n",
       "        text-align: right;\n",
       "    }\n",
       "</style>\n",
       "<table border=\"1\" class=\"dataframe\">\n",
       "  <thead>\n",
       "    <tr style=\"text-align: right;\">\n",
       "      <th></th>\n",
       "      <th>시가</th>\n",
       "      <th>고가</th>\n",
       "      <th>저가</th>\n",
       "      <th>종가</th>\n",
       "      <th>거래량</th>\n",
       "    </tr>\n",
       "    <tr>\n",
       "      <th>날짜</th>\n",
       "      <th></th>\n",
       "      <th></th>\n",
       "      <th></th>\n",
       "      <th></th>\n",
       "      <th></th>\n",
       "    </tr>\n",
       "  </thead>\n",
       "  <tbody>\n",
       "    <tr>\n",
       "      <th>2022-01-03</th>\n",
       "      <td>79400</td>\n",
       "      <td>79800</td>\n",
       "      <td>78200</td>\n",
       "      <td>78600</td>\n",
       "      <td>13502112</td>\n",
       "    </tr>\n",
       "    <tr>\n",
       "      <th>2022-01-04</th>\n",
       "      <td>78800</td>\n",
       "      <td>79200</td>\n",
       "      <td>78300</td>\n",
       "      <td>78700</td>\n",
       "      <td>12427416</td>\n",
       "    </tr>\n",
       "    <tr>\n",
       "      <th>2022-01-05</th>\n",
       "      <td>78800</td>\n",
       "      <td>79000</td>\n",
       "      <td>76400</td>\n",
       "      <td>77400</td>\n",
       "      <td>25470640</td>\n",
       "    </tr>\n",
       "    <tr>\n",
       "      <th>2022-01-06</th>\n",
       "      <td>76700</td>\n",
       "      <td>77600</td>\n",
       "      <td>76600</td>\n",
       "      <td>76900</td>\n",
       "      <td>12931954</td>\n",
       "    </tr>\n",
       "    <tr>\n",
       "      <th>2022-01-07</th>\n",
       "      <td>78100</td>\n",
       "      <td>78400</td>\n",
       "      <td>77400</td>\n",
       "      <td>78300</td>\n",
       "      <td>15163757</td>\n",
       "    </tr>\n",
       "  </tbody>\n",
       "</table>\n",
       "</div>"
      ],
      "text/plain": [
       "               시가     고가     저가     종가       거래량\n",
       "날짜                                              \n",
       "2022-01-03  79400  79800  78200  78600  13502112\n",
       "2022-01-04  78800  79200  78300  78700  12427416\n",
       "2022-01-05  78800  79000  76400  77400  25470640\n",
       "2022-01-06  76700  77600  76600  76900  12931954\n",
       "2022-01-07  78100  78400  77400  78300  15163757"
      ]
     },
     "execution_count": 24,
     "metadata": {},
     "output_type": "execute_result"
    }
   ],
   "source": [
    "# 삼성전자의 20220701~20221015 주가데이터\n",
    "samsung = stock.get_market_ohlcv_by_date(fromdate=\"20220101\", todate=\"20220630\", ticker=\"005930\")\n",
    "samsung.head()"
   ]
  },
  {
   "cell_type": "code",
   "execution_count": 25,
   "metadata": {},
   "outputs": [],
   "source": [
    "from mpl_finance import candlestick_ohlc"
   ]
  },
  {
   "cell_type": "code",
   "execution_count": 26,
   "metadata": {},
   "outputs": [
    {
     "data": {
      "image/png": "[encoded data removed]",
      "text/plain": [
       "<Figure size 864x576 with 1 Axes>"
      ]
     },
     "metadata": {
      "needs_background": "light"
     },
     "output_type": "display_data"
    }
   ],
   "source": [
    "fig = plt.figure(figsize=(12, 8))\n",
    "ax = fig.add_subplot(111)\n",
    "mpl_finance.candlestick2_ohlc(ax, samsung['시가'], samsung['고가'], samsung['저가'], samsung['종가'], \n",
    "                             width=0.5, colorup='r', colordown='b')\n",
    "plt.show()"
   ]
  }
 ],
 "metadata": {
  "kernelspec": {
   "display_name": "Python 3 (ipykernel)",
   "language": "python",
   "name": "python3"
  },
  "language_info": {
   "codemirror_mode": {
    "name": "ipython",
    "version": 3
   },
   "file_extension": ".py",
   "mimetype": "text/x-python",
   "name": "python",
   "nbconvert_exporter": "python",
   "pygments_lexer": "ipython3",
   "version": "3.8.13"
  }
 },
 "nbformat": 4,
 "nbformat_minor": 4
}
