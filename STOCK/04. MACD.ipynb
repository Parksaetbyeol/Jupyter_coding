{
 "cells": [
  {
   "cell_type": "markdown",
   "metadata": {},
   "source": [
    "보조지표 MACD를 활용한 코스피 200 종목 분석https://kpumangyou.tistory.com/92"
   ]
  },
  {
   "cell_type": "raw",
   "metadata": {},
   "source": [
    "'Accent', 'Accent_r', 'Blues', 'Blues_r', 'BrBG', 'BrBG_r', 'BuGn', 'BuGn_r', 'BuPu', 'BuPu_r', 'CMRmap', 'CMRmap_r', 'Dark2', 'Dark2_r', 'GnBu', 'GnBu_r', 'Greens', 'Greens_r', 'Greys', 'Greys_r', 'OrRd', 'OrRd_r', 'Oranges', 'Oranges_r', 'PRGn', 'PRGn_r', 'Paired', 'Paired_r', 'Pastel1', 'Pastel1_r', 'Pastel2', 'Pastel2_r', 'PiYG', 'PiYG_r', 'PuBu', 'PuBuGn', 'PuBuGn_r', 'PuBu_r', 'PuOr', 'PuOr_r', 'PuRd', 'PuRd_r', 'Purples', 'Purples_r', 'RdBu', 'RdBu_r', 'RdGy', 'RdGy_r', 'RdPu', 'RdPu_r', 'RdYlBu', 'RdYlBu_r', 'RdYlGn', 'RdYlGn_r', 'Reds', 'Reds_r', 'Set1', 'Set1_r', 'Set2', 'Set2_r', 'Set3', 'Set3_r', 'Spectral', 'Spectral_r', 'Wistia', 'Wistia_r', 'YlGn', 'YlGnBu', 'YlGnBu_r', 'YlGn_r', 'YlOrBr', 'YlOrBr_r', 'YlOrRd', 'YlOrRd_r', 'afmhot', 'afmhot_r', 'autumn', 'autumn_r', 'binary', 'binary_r', 'bone', 'bone_r', 'brg', 'brg_r', 'bwr', 'bwr_r', 'cividis', 'cividis_r', 'cool', 'cool_r', 'coolwarm', 'coolwarm_r', 'copper', 'copper_r', 'cubehelix', 'cubehelix_r', 'flag', 'flag_r', 'gist_earth', 'gist_earth_r', 'gist_gray', 'gist_gray_r', 'gist_heat', 'gist_heat_r', 'gist_ncar', 'gist_ncar_r', 'gist_rainbow', 'gist_rainbow_r', 'gist_stern', 'gist_stern_r', 'gist_yarg', 'gist_yarg_r', 'gnuplot', 'gnuplot2', 'gnuplot2_r', 'gnuplot_r', 'gray', 'gray_r', 'hot', 'hot_r', 'hsv', 'hsv_r', 'inferno', 'inferno_r', 'jet', 'jet_r', 'magma', 'magma_r', 'nipy_spectral', 'nipy_spectral_r', 'ocean', 'ocean_r', 'pink', 'pink_r', 'plasma', 'plasma_r', 'prism', 'prism_r', 'rainbow', 'rainbow_r', 'seismic', 'seismic_r', 'spring', 'spring_r', 'summer', 'summer_r', 'tab10', 'tab10_r', 'tab20', 'tab20_r', 'tab20b', 'tab20b_r', 'tab20c', 'tab20c_r', 'terrain', 'terrain_r', 'turbo', 'turbo_r', 'twilight', 'twilight_r', 'twilight_shifted', 'twilight_shifted_r', 'viridis', 'viridis_r', 'winter', 'winter_r'"
   ]
  },
  {
   "cell_type": "markdown",
   "metadata": {},
   "source": [
    "# MACD\n",
    "- MACD 곡선 = 단기지수이동평균-장기지수이동평균\n",
    "- Signal 곡선 = n일의 MACD 지수이동평균\n",
    "    - 보통 단기지수이동평균는 12일 장기지수이동평균은 26일을 사용한다. 그리고 Signal곡선의 n은 9일을 일반적으로 사용한다.\n",
    "- MACD 곡선이 Signal 곡선을 상향 돌파시 : 매수  \n",
    "- MACD 곡선이 Signal 곡선을 하향 돌파시 : 매도"
   ]
  },
  {
   "cell_type": "markdown",
   "metadata": {},
   "source": [
    "- 백테스팅이란?\n",
    "    - 과거 데이터를 활용해 자신의 알고리즘, 투자전략 원칙을 검증하는 과정을 의미한다.\n",
    "\n",
    "    - 초기투자금액 설정, 시작일이나 종료일을 설정하거나 매매나 수익의 분석을 제공하는 등의 성과를 분석하여 어느 정도의 수익을 낼 수 있는지를 확인하는 것.\n",
    "    - 즉, 과거의 데이터(Back)와 알고리즘을 테스트한다는 의미인 테스팅(testing)이 결합된 용어"
   ]
  },
  {
   "cell_type": "markdown",
   "metadata": {
    "tags": []
   },
   "source": [
    "## 퀀트\n",
    "* 가치투자-> 계량투자\n",
    "* 장기투자-> 단기투자\n",
    "* 직관투자-> 과학투자(수학,통계)\n",
    "* 투자산업발달\n",
    "    * 예측\n",
    "    * 투자 세력\n",
    "        - 매수 세력\n",
    "        - 매도 세력\n",
    "    * 금융 상품\n",
    "        - 셀사이드: 금융상품을 만들어 파는쪽\n",
    "        - 바이사이드: 금융상품을 사는쪽\n",
    "        - 중개소 발달\n",
    "* 투자퀀트\n",
    "    - 기본:이동평균선\n",
    "    - MACD(Moving Average Convergence Divergence) \n",
    "        - 이동평균 수렴 확산 지수\n",
    "        - 이동평균선의 거리의 변화에 따른 신호를 포착하여 매수 매도 타이밍을 포착\n",
    "        - 가정\n",
    "            - 장이평선이 기준선으로 장기적 상승과 하락을 표현\n",
    "            - 장이평선에서 단이평선이 멀어지면 \n",
    "            - 단이평선은 장이평선으로 가까이갈 힘을 받는다\n",
    "        - 매매타이밍\n",
    "            - 단이평선이 장이평선 위에서 점점 상승세가 줄고 있다(매도)\n",
    "                - 데드크로스\n",
    "                - MACD선이 시그널선을 뚫고 내려올때\n",
    "            - 단이평선이 장이평선 아래서 점점 하락세가 줄고 있다(매수)\n",
    "                - 골든크로스\n",
    "                - MACD 선이 시그널선을 뚫고 올라갈때\n",
    "        - 계산\n",
    "            - MACD 단이평선-장이평선 \n",
    "            - 시그널 : MACD 이평선\n",
    "            - 기본값(단기 12,단기선 26,장기선 9시그널)\n",
    "        - 한계\n",
    "            - 횡보장에서 MACD 크로스가 많이 발생하면서 거짓신호가 많음\n",
    "            - 교차시 각도를 주의\n",
    "            \n",
    "            \n",
    "            "
   ]
  },
  {
   "cell_type": "code",
   "execution_count": 2,
   "metadata": {},
   "outputs": [],
   "source": [
    "import sqlite3\n",
    "import numpy as np\n",
    "import pandas as pd\n",
    "import matplotlib as mpl\n",
    "import matplotlib.pyplot as plt"
   ]
  },
  {
   "cell_type": "code",
   "execution_count": 15,
   "metadata": {},
   "outputs": [
    {
     "name": "stdout",
     "output_type": "stream",
     "text": [
      "select sday,sclose from stockdb where sday>\"2022-01-01\" order by sday asc\n"
     ]
    },
    {
     "data": {
      "text/plain": [
       "[('2022-01-03', 128500),\n",
       " ('2022-01-04', 128500),\n",
       " ('2022-01-05', 125500),\n",
       " ('2022-01-06', 125000),\n",
       " ('2022-01-07', 127000)]"
      ]
     },
     "execution_count": 15,
     "metadata": {},
     "output_type": "execute_result"
    }
   ],
   "source": [
    "def seldata(cols=['sday','sclose'],where='where sday>\"2022-01-01\" order by sday asc'):\n",
    "    fname='_db/nstock.db'\n",
    "    with sqlite3.connect(fname) as conn:\n",
    "        cur=conn.cursor()\n",
    "        coltxt=','.join(cols)\n",
    "        sql='select '+coltxt+' from stockdb '+where\n",
    "        print(sql)\n",
    "        res=cur.execute(sql).fetchall()\n",
    "    return res\n",
    "\n",
    "res=seldata()    \n",
    "res[:5]"
   ]
  },
  {
   "cell_type": "code",
   "execution_count": 30,
   "metadata": {},
   "outputs": [
    {
     "data": {
      "text/html": [
       "<div>\n",
       "<style scoped>\n",
       "    .dataframe tbody tr th:only-of-type {\n",
       "        vertical-align: middle;\n",
       "    }\n",
       "\n",
       "    .dataframe tbody tr th {\n",
       "        vertical-align: top;\n",
       "    }\n",
       "\n",
       "    .dataframe thead th {\n",
       "        text-align: right;\n",
       "    }\n",
       "</style>\n",
       "<table border=\"1\" class=\"dataframe\">\n",
       "  <thead>\n",
       "    <tr style=\"text-align: right;\">\n",
       "      <th></th>\n",
       "      <th>sclose</th>\n",
       "    </tr>\n",
       "    <tr>\n",
       "      <th>sday</th>\n",
       "      <th></th>\n",
       "    </tr>\n",
       "  </thead>\n",
       "  <tbody>\n",
       "    <tr>\n",
       "      <th>2022-05-06</th>\n",
       "      <td>107500</td>\n",
       "    </tr>\n",
       "    <tr>\n",
       "      <th>2022-05-09</th>\n",
       "      <td>107500</td>\n",
       "    </tr>\n",
       "    <tr>\n",
       "      <th>2022-05-10</th>\n",
       "      <td>110000</td>\n",
       "    </tr>\n",
       "    <tr>\n",
       "      <th>2022-05-11</th>\n",
       "      <td>110500</td>\n",
       "    </tr>\n",
       "    <tr>\n",
       "      <th>2022-05-12</th>\n",
       "      <td>110500</td>\n",
       "    </tr>\n",
       "  </tbody>\n",
       "</table>\n",
       "</div>"
      ],
      "text/plain": [
       "            sclose\n",
       "sday              \n",
       "2022-05-06  107500\n",
       "2022-05-09  107500\n",
       "2022-05-10  110000\n",
       "2022-05-11  110500\n",
       "2022-05-12  110500"
      ]
     },
     "execution_count": 30,
     "metadata": {},
     "output_type": "execute_result"
    }
   ],
   "source": [
    "cols=['sday','sclose']\n",
    "df = pd.DataFrame(res,columns=cols)\n",
    "mdf=df.set_index('sday')\n",
    "mdf.tail()"
   ]
  },
  {
   "cell_type": "code",
   "execution_count": 31,
   "metadata": {},
   "outputs": [],
   "source": [
    "## 단이평선 12\n",
    "mdf['shortl']=mdf['sclose'].rolling(window=12).mean()\n",
    "\n",
    "## 장이평선 26\n",
    "mdf['longl']=mdf['sclose'].rolling(window=26).mean()"
   ]
  },
  {
   "cell_type": "code",
   "execution_count": 32,
   "metadata": {},
   "outputs": [],
   "source": [
    "## 시그널 9\n",
    "mdf['macd']=mdf['shortl']-mdf['longl']\n",
    "mdf['sig']=mdf['macd'].ewm(span=9).mean()"
   ]
  },
  {
   "cell_type": "code",
   "execution_count": 33,
   "metadata": {},
   "outputs": [
    {
     "data": {
      "text/html": [
       "<div>\n",
       "<style scoped>\n",
       "    .dataframe tbody tr th:only-of-type {\n",
       "        vertical-align: middle;\n",
       "    }\n",
       "\n",
       "    .dataframe tbody tr th {\n",
       "        vertical-align: top;\n",
       "    }\n",
       "\n",
       "    .dataframe thead th {\n",
       "        text-align: right;\n",
       "    }\n",
       "</style>\n",
       "<table border=\"1\" class=\"dataframe\">\n",
       "  <thead>\n",
       "    <tr style=\"text-align: right;\">\n",
       "      <th></th>\n",
       "      <th>sclose</th>\n",
       "      <th>shortl</th>\n",
       "      <th>longl</th>\n",
       "      <th>macd</th>\n",
       "      <th>sig</th>\n",
       "    </tr>\n",
       "    <tr>\n",
       "      <th>sday</th>\n",
       "      <th></th>\n",
       "      <th></th>\n",
       "      <th></th>\n",
       "      <th></th>\n",
       "      <th></th>\n",
       "    </tr>\n",
       "  </thead>\n",
       "  <tbody>\n",
       "    <tr>\n",
       "      <th>2022-05-06</th>\n",
       "      <td>107500</td>\n",
       "      <td>110250.000000</td>\n",
       "      <td>111692.307692</td>\n",
       "      <td>-1442.307692</td>\n",
       "      <td>-2446.527931</td>\n",
       "    </tr>\n",
       "    <tr>\n",
       "      <th>2022-05-09</th>\n",
       "      <td>107500</td>\n",
       "      <td>109833.333333</td>\n",
       "      <td>111288.461538</td>\n",
       "      <td>-1455.128205</td>\n",
       "      <td>-2248.247682</td>\n",
       "    </tr>\n",
       "    <tr>\n",
       "      <th>2022-05-10</th>\n",
       "      <td>110000</td>\n",
       "      <td>109583.333333</td>\n",
       "      <td>111057.692308</td>\n",
       "      <td>-1474.358974</td>\n",
       "      <td>-2093.469751</td>\n",
       "    </tr>\n",
       "    <tr>\n",
       "      <th>2022-05-11</th>\n",
       "      <td>110500</td>\n",
       "      <td>109583.333333</td>\n",
       "      <td>110807.692308</td>\n",
       "      <td>-1224.358974</td>\n",
       "      <td>-1919.647425</td>\n",
       "    </tr>\n",
       "    <tr>\n",
       "      <th>2022-05-12</th>\n",
       "      <td>110500</td>\n",
       "      <td>109791.666667</td>\n",
       "      <td>110576.923077</td>\n",
       "      <td>-785.256410</td>\n",
       "      <td>-1692.769044</td>\n",
       "    </tr>\n",
       "  </tbody>\n",
       "</table>\n",
       "</div>"
      ],
      "text/plain": [
       "            sclose         shortl          longl         macd          sig\n",
       "sday                                                                      \n",
       "2022-05-06  107500  110250.000000  111692.307692 -1442.307692 -2446.527931\n",
       "2022-05-09  107500  109833.333333  111288.461538 -1455.128205 -2248.247682\n",
       "2022-05-10  110000  109583.333333  111057.692308 -1474.358974 -2093.469751\n",
       "2022-05-11  110500  109583.333333  110807.692308 -1224.358974 -1919.647425\n",
       "2022-05-12  110500  109791.666667  110576.923077  -785.256410 -1692.769044"
      ]
     },
     "execution_count": 33,
     "metadata": {},
     "output_type": "execute_result"
    }
   ],
   "source": [
    "mdf.tail()"
   ]
  },
  {
   "cell_type": "raw",
   "metadata": {},
   "source": [
    "mdf['shortmv']=mdf['macd']\n",
    "mdf['longmv']=mdf['sig']"
   ]
  },
  {
   "cell_type": "code",
   "execution_count": 36,
   "metadata": {},
   "outputs": [],
   "source": [
    "def simStock(mdf,stxt='shortmv',ltxt='longmv'):\n",
    "    findex=mdf.iloc[:1,:].index[0]\n",
    "    lindex=mdf.iloc[-1:,:].index[0]\n",
    "    lindex\n",
    "    invest=200000\n",
    "    beforePos=-1\n",
    "    beforeHold=0\n",
    "\n",
    "    for i,row in mdf.iloc[10:,:].iterrows():\n",
    "        if(row[stxt]>=row[ltxt]):\n",
    "            nowpos=1 # short 상위\n",
    "        else:\n",
    "            nowpos=-1 # short 하위\n",
    "        if beforePos==-1 and nowpos==1 and beforeHold==0:\n",
    "            timing=1 # 매수타이밍\n",
    "            hold=1\n",
    "            mdf.loc[i,'cash']=-row['sclose']\n",
    "            mdf.loc[i,'hold']=1\n",
    "        elif beforePos==1 and nowpos==-1 and beforeHold==1:\n",
    "            timing=-1 # 매수타이밍\n",
    "            hold=0\n",
    "            mdf.loc[i,'cash']=row['sclose']\n",
    "            mdf.loc[i,'hold']=0\n",
    "        else:\n",
    "            mdf.loc[i,'cash']=0\n",
    "            timing=0 # 홀드\n",
    "            hold=beforeHold\n",
    "            mdf.loc[i,'hold']=beforeHold\n",
    "        beforeHold=hold\n",
    "        beforePos=nowpos\n",
    "        mdf.loc[findex,'cash']=invest\n",
    "        mdf['cumcash']=mdf['cash'].cumsum()\n",
    "        mdf['balalce']=mdf['sclose']*mdf['hold']+mdf['cumcash']\n",
    "    mdf.tail()\n",
    "    ecash=mdf.loc[lindex,'balalce']-invest\n",
    "    erate=ecash/invest\n",
    "    return(invest,ecash,erate)"
   ]
  },
  {
   "cell_type": "code",
   "execution_count": 37,
   "metadata": {},
   "outputs": [
    {
     "data": {
      "text/plain": [
       "(200000, -7000.0, -0.035)"
      ]
     },
     "execution_count": 37,
     "metadata": {},
     "output_type": "execute_result"
    }
   ],
   "source": [
    "simStock(mdf,'macd','sig')"
   ]
  },
  {
   "cell_type": "code",
   "execution_count": 38,
   "metadata": {},
   "outputs": [
    {
     "data": {
      "text/plain": [
       "(200000, -16000.0, -0.08)"
      ]
     },
     "execution_count": 38,
     "metadata": {},
     "output_type": "execute_result"
    }
   ],
   "source": [
    "# 일반 이평선 기반 투자\n",
    "## 단이평선 12\n",
    "mdf['shortNmv']=mdf['sclose'].ewm(span=12).mean()\n",
    "## 장이평선 26\n",
    "mdf['longNmv']=mdf['sclose'].ewm(span=26).mean()\n",
    "simStock(mdf,'shortNmv','longNmv')"
   ]
  },
  {
   "cell_type": "code",
   "execution_count": 70,
   "metadata": {},
   "outputs": [
    {
     "data": {
      "image/png": "[encoded data removed]",
      "text/plain": [
       "<Figure size 432x288 with 2 Axes>"
      ]
     },
     "metadata": {
      "needs_background": "light"
     },
     "output_type": "display_data"
    }
   ],
   "source": [
    "fig,ax1=plt.subplots()\n",
    "mdf[['macd','sig']].plot(ax=ax1, rot=45)\n",
    "ax2=ax1.twinx()\n",
    "\n",
    "#ax1.get_xaxis().set_visible(False)\n",
    "\n",
    "mdf[['sclose','shortNmv','longNmv']].plot(ax=ax2,cmap='Accent_r').legend(loc='lower left')\n",
    "\n",
    "plt.show()"
   ]
  },
  {
   "cell_type": "code",
   "execution_count": null,
   "metadata": {},
   "outputs": [],
   "source": []
  }
 ],
 "metadata": {
  "kernelspec": {
   "display_name": "Python 3 (ipykernel)",
   "language": "python",
   "name": "python3"
  },
  "language_info": {
   "codemirror_mode": {
    "name": "ipython",
    "version": 3
   },
   "file_extension": ".py",
   "mimetype": "text/x-python",
   "name": "python",
   "nbconvert_exporter": "python",
   "pygments_lexer": "ipython3",
   "version": "3.8.13"
  }
 },
 "nbformat": 4,
 "nbformat_minor": 4
}
