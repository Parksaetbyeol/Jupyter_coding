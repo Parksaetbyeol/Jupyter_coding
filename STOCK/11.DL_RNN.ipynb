{
 "cells": [
  {
   "cell_type": "markdown",
   "metadata": {},
   "source": [
    "### 딥러닝 회귀\n",
    "* 딥러닝 회귀        \n",
    "    * NN: 뉴럴네트워크 \n",
    "    * DNN: 딥뉴렬네트워크(심층신경망)\n",
    "    * CNN: 컨볼루션 뉴럴 네트워크( 특징추출)\n",
    "    * RNN: 리커런트 뉴럴 네트워크( 순환신경망: 시계열)\n",
    "        - LSTM\n",
    "* 가중치 기반의 데이터 분류 \n",
    "    - 데이터의 영향을 평준화\n",
    "        - 스케일링( minmax scale)\n",
    "    "
   ]
  },
  {
   "cell_type": "code",
   "execution_count": 1,
   "metadata": {},
   "outputs": [],
   "source": [
    "import sqlite3\n",
    "import numpy as np\n",
    "import pandas as pd\n",
    "import matplotlib as mpl\n",
    "import matplotlib.pyplot as plt"
   ]
  },
  {
   "cell_type": "code",
   "execution_count": 2,
   "metadata": {},
   "outputs": [
    {
     "data": {
      "text/plain": [
       "[('1996-12-26', 23000, 23000, 23000, 23000, 0),\n",
       " ('1996-12-27', 23000, 23000, 23000, 23000, 0),\n",
       " ('1997-01-03', 20000, 20100, 20000, 20000, 145680),\n",
       " ('1997-01-04', 20000, 20000, 20000, 20000, 277690),\n",
       " ('1997-01-06', 20000, 20000, 20000, 20000, 436190)]"
      ]
     },
     "execution_count": 2,
     "metadata": {},
     "output_type": "execute_result"
    }
   ],
   "source": [
    "def seldata(cols=['sday','sopen','shigh','slow','sclose','svol'],where='where sday>\"2022-01-01\" order by sday asc'):\n",
    "    fname='_db/nstock.db'\n",
    "    with sqlite3.connect(fname) as conn:\n",
    "        cur=conn.cursor()\n",
    "        coltxt=','.join(cols)\n",
    "        sql='select '+coltxt+' from stockdb '+where\n",
    "        #print(sql)\n",
    "        res=cur.execute(sql).fetchall()\n",
    "    return res\n",
    "\n",
    "res=seldata(where=' order by sday asc')    \n",
    "res[:5]"
   ]
  },
  {
   "cell_type": "code",
   "execution_count": 3,
   "metadata": {},
   "outputs": [
    {
     "data": {
      "text/html": [
       "<div>\n",
       "<style scoped>\n",
       "    .dataframe tbody tr th:only-of-type {\n",
       "        vertical-align: middle;\n",
       "    }\n",
       "\n",
       "    .dataframe tbody tr th {\n",
       "        vertical-align: top;\n",
       "    }\n",
       "\n",
       "    .dataframe thead th {\n",
       "        text-align: right;\n",
       "    }\n",
       "</style>\n",
       "<table border=\"1\" class=\"dataframe\">\n",
       "  <thead>\n",
       "    <tr style=\"text-align: right;\">\n",
       "      <th></th>\n",
       "      <th>sopen</th>\n",
       "      <th>shigh</th>\n",
       "      <th>slow</th>\n",
       "      <th>sclose</th>\n",
       "      <th>svol</th>\n",
       "    </tr>\n",
       "    <tr>\n",
       "      <th>sday</th>\n",
       "      <th></th>\n",
       "      <th></th>\n",
       "      <th></th>\n",
       "      <th></th>\n",
       "      <th></th>\n",
       "    </tr>\n",
       "  </thead>\n",
       "  <tbody>\n",
       "    <tr>\n",
       "      <th>2022-05-06</th>\n",
       "      <td>108000</td>\n",
       "      <td>108500</td>\n",
       "      <td>106500</td>\n",
       "      <td>107500</td>\n",
       "      <td>2566813</td>\n",
       "    </tr>\n",
       "    <tr>\n",
       "      <th>2022-05-09</th>\n",
       "      <td>107000</td>\n",
       "      <td>109000</td>\n",
       "      <td>106500</td>\n",
       "      <td>107500</td>\n",
       "      <td>2203472</td>\n",
       "    </tr>\n",
       "    <tr>\n",
       "      <th>2022-05-10</th>\n",
       "      <td>107000</td>\n",
       "      <td>111000</td>\n",
       "      <td>107000</td>\n",
       "      <td>110000</td>\n",
       "      <td>4141923</td>\n",
       "    </tr>\n",
       "    <tr>\n",
       "      <th>2022-05-11</th>\n",
       "      <td>110500</td>\n",
       "      <td>112500</td>\n",
       "      <td>108000</td>\n",
       "      <td>110500</td>\n",
       "      <td>3658168</td>\n",
       "    </tr>\n",
       "    <tr>\n",
       "      <th>2022-05-12</th>\n",
       "      <td>109500</td>\n",
       "      <td>111500</td>\n",
       "      <td>108500</td>\n",
       "      <td>110500</td>\n",
       "      <td>1938788</td>\n",
       "    </tr>\n",
       "  </tbody>\n",
       "</table>\n",
       "</div>"
      ],
      "text/plain": [
       "             sopen   shigh    slow  sclose     svol\n",
       "sday                                               \n",
       "2022-05-06  108000  108500  106500  107500  2566813\n",
       "2022-05-09  107000  109000  106500  107500  2203472\n",
       "2022-05-10  107000  111000  107000  110000  4141923\n",
       "2022-05-11  110500  112500  108000  110500  3658168\n",
       "2022-05-12  109500  111500  108500  110500  1938788"
      ]
     },
     "execution_count": 3,
     "metadata": {},
     "output_type": "execute_result"
    }
   ],
   "source": [
    "cols=['sday','sopen','shigh','slow','sclose','svol']\n",
    "df = pd.DataFrame(res,columns=cols)\n",
    "mdf=df.set_index('sday')\n",
    "mdf.tail()"
   ]
  },
  {
   "cell_type": "code",
   "execution_count": 50,
   "metadata": {},
   "outputs": [
    {
     "data": {
      "text/html": [
       "<div>\n",
       "<style scoped>\n",
       "    .dataframe tbody tr th:only-of-type {\n",
       "        vertical-align: middle;\n",
       "    }\n",
       "\n",
       "    .dataframe tbody tr th {\n",
       "        vertical-align: top;\n",
       "    }\n",
       "\n",
       "    .dataframe thead th {\n",
       "        text-align: right;\n",
       "    }\n",
       "</style>\n",
       "<table border=\"1\" class=\"dataframe\">\n",
       "  <thead>\n",
       "    <tr style=\"text-align: right;\">\n",
       "      <th></th>\n",
       "      <th>sopen</th>\n",
       "      <th>shigh</th>\n",
       "      <th>slow</th>\n",
       "      <th>sclose</th>\n",
       "      <th>svol</th>\n",
       "      <th>y</th>\n",
       "    </tr>\n",
       "    <tr>\n",
       "      <th>sday</th>\n",
       "      <th></th>\n",
       "      <th></th>\n",
       "      <th></th>\n",
       "      <th></th>\n",
       "      <th></th>\n",
       "      <th></th>\n",
       "    </tr>\n",
       "  </thead>\n",
       "  <tbody>\n",
       "    <tr>\n",
       "      <th>2022-05-04</th>\n",
       "      <td>110500</td>\n",
       "      <td>111000</td>\n",
       "      <td>108500</td>\n",
       "      <td>109500</td>\n",
       "      <td>2491890</td>\n",
       "      <td>107500.0</td>\n",
       "    </tr>\n",
       "    <tr>\n",
       "      <th>2022-05-06</th>\n",
       "      <td>108000</td>\n",
       "      <td>108500</td>\n",
       "      <td>106500</td>\n",
       "      <td>107500</td>\n",
       "      <td>2566813</td>\n",
       "      <td>107500.0</td>\n",
       "    </tr>\n",
       "    <tr>\n",
       "      <th>2022-05-09</th>\n",
       "      <td>107000</td>\n",
       "      <td>109000</td>\n",
       "      <td>106500</td>\n",
       "      <td>107500</td>\n",
       "      <td>2203472</td>\n",
       "      <td>110000.0</td>\n",
       "    </tr>\n",
       "    <tr>\n",
       "      <th>2022-05-10</th>\n",
       "      <td>107000</td>\n",
       "      <td>111000</td>\n",
       "      <td>107000</td>\n",
       "      <td>110000</td>\n",
       "      <td>4141923</td>\n",
       "      <td>110500.0</td>\n",
       "    </tr>\n",
       "    <tr>\n",
       "      <th>2022-05-11</th>\n",
       "      <td>110500</td>\n",
       "      <td>112500</td>\n",
       "      <td>108000</td>\n",
       "      <td>110500</td>\n",
       "      <td>3658168</td>\n",
       "      <td>110500.0</td>\n",
       "    </tr>\n",
       "  </tbody>\n",
       "</table>\n",
       "</div>"
      ],
      "text/plain": [
       "             sopen   shigh    slow  sclose     svol         y\n",
       "sday                                                         \n",
       "2022-05-04  110500  111000  108500  109500  2491890  107500.0\n",
       "2022-05-06  108000  108500  106500  107500  2566813  107500.0\n",
       "2022-05-09  107000  109000  106500  107500  2203472  110000.0\n",
       "2022-05-10  107000  111000  107000  110000  4141923  110500.0\n",
       "2022-05-11  110500  112500  108000  110500  3658168  110500.0"
      ]
     },
     "execution_count": 50,
     "metadata": {},
     "output_type": "execute_result"
    }
   ],
   "source": [
    "mdf['y']=mdf['sclose'].shift(periods=-1)\n",
    "sdf=mdf.iloc[2000:-1,:].copy()\n",
    "sdf.tail()"
   ]
  },
  {
   "cell_type": "code",
   "execution_count": 51,
   "metadata": {},
   "outputs": [
    {
     "data": {
      "text/html": [
       "<div>\n",
       "<style scoped>\n",
       "    .dataframe tbody tr th:only-of-type {\n",
       "        vertical-align: middle;\n",
       "    }\n",
       "\n",
       "    .dataframe tbody tr th {\n",
       "        vertical-align: top;\n",
       "    }\n",
       "\n",
       "    .dataframe thead th {\n",
       "        text-align: right;\n",
       "    }\n",
       "</style>\n",
       "<table border=\"1\" class=\"dataframe\">\n",
       "  <thead>\n",
       "    <tr style=\"text-align: right;\">\n",
       "      <th></th>\n",
       "      <th>sopen</th>\n",
       "      <th>shigh</th>\n",
       "      <th>slow</th>\n",
       "      <th>sclose</th>\n",
       "      <th>svol</th>\n",
       "      <th>y</th>\n",
       "    </tr>\n",
       "  </thead>\n",
       "  <tbody>\n",
       "    <tr>\n",
       "      <th>count</th>\n",
       "      <td>4347.000000</td>\n",
       "      <td>4347.00000</td>\n",
       "      <td>4347.000000</td>\n",
       "      <td>4347.000000</td>\n",
       "      <td>4.347000e+03</td>\n",
       "      <td>4347.000000</td>\n",
       "    </tr>\n",
       "    <tr>\n",
       "      <th>mean</th>\n",
       "      <td>46375.730389</td>\n",
       "      <td>47033.57718</td>\n",
       "      <td>45654.761905</td>\n",
       "      <td>46303.919945</td>\n",
       "      <td>6.256912e+06</td>\n",
       "      <td>46326.073154</td>\n",
       "    </tr>\n",
       "    <tr>\n",
       "      <th>std</th>\n",
       "      <td>31418.086755</td>\n",
       "      <td>31798.96885</td>\n",
       "      <td>30966.898622</td>\n",
       "      <td>31379.546838</td>\n",
       "      <td>5.645681e+06</td>\n",
       "      <td>31390.867729</td>\n",
       "    </tr>\n",
       "    <tr>\n",
       "      <th>min</th>\n",
       "      <td>6000.000000</td>\n",
       "      <td>6240.00000</td>\n",
       "      <td>5770.000000</td>\n",
       "      <td>5850.000000</td>\n",
       "      <td>8.425620e+05</td>\n",
       "      <td>5850.000000</td>\n",
       "    </tr>\n",
       "    <tr>\n",
       "      <th>25%</th>\n",
       "      <td>24325.000000</td>\n",
       "      <td>24700.00000</td>\n",
       "      <td>23850.000000</td>\n",
       "      <td>24300.000000</td>\n",
       "      <td>3.046764e+06</td>\n",
       "      <td>24300.000000</td>\n",
       "    </tr>\n",
       "    <tr>\n",
       "      <th>50%</th>\n",
       "      <td>32800.000000</td>\n",
       "      <td>33250.00000</td>\n",
       "      <td>32350.000000</td>\n",
       "      <td>32750.000000</td>\n",
       "      <td>4.582101e+06</td>\n",
       "      <td>32750.000000</td>\n",
       "    </tr>\n",
       "    <tr>\n",
       "      <th>75%</th>\n",
       "      <td>68400.000000</td>\n",
       "      <td>69600.00000</td>\n",
       "      <td>67550.000000</td>\n",
       "      <td>68500.000000</td>\n",
       "      <td>7.310902e+06</td>\n",
       "      <td>68550.000000</td>\n",
       "    </tr>\n",
       "    <tr>\n",
       "      <th>max</th>\n",
       "      <td>149000.000000</td>\n",
       "      <td>150500.00000</td>\n",
       "      <td>142500.000000</td>\n",
       "      <td>148500.000000</td>\n",
       "      <td>6.710867e+07</td>\n",
       "      <td>148500.000000</td>\n",
       "    </tr>\n",
       "  </tbody>\n",
       "</table>\n",
       "</div>"
      ],
      "text/plain": [
       "               sopen         shigh           slow         sclose  \\\n",
       "count    4347.000000    4347.00000    4347.000000    4347.000000   \n",
       "mean    46375.730389   47033.57718   45654.761905   46303.919945   \n",
       "std     31418.086755   31798.96885   30966.898622   31379.546838   \n",
       "min      6000.000000    6240.00000    5770.000000    5850.000000   \n",
       "25%     24325.000000   24700.00000   23850.000000   24300.000000   \n",
       "50%     32800.000000   33250.00000   32350.000000   32750.000000   \n",
       "75%     68400.000000   69600.00000   67550.000000   68500.000000   \n",
       "max    149000.000000  150500.00000  142500.000000  148500.000000   \n",
       "\n",
       "               svol              y  \n",
       "count  4.347000e+03    4347.000000  \n",
       "mean   6.256912e+06   46326.073154  \n",
       "std    5.645681e+06   31390.867729  \n",
       "min    8.425620e+05    5850.000000  \n",
       "25%    3.046764e+06   24300.000000  \n",
       "50%    4.582101e+06   32750.000000  \n",
       "75%    7.310902e+06   68550.000000  \n",
       "max    6.710867e+07  148500.000000  "
      ]
     },
     "execution_count": 51,
     "metadata": {},
     "output_type": "execute_result"
    }
   ],
   "source": [
    "sdf.describe()"
   ]
  },
  {
   "cell_type": "code",
   "execution_count": 52,
   "metadata": {},
   "outputs": [
    {
     "name": "stdout",
     "output_type": "stream",
     "text": [
      "5770 150500 842562 67108666\n"
     ]
    }
   ],
   "source": [
    "smin=np.min(sdf[['sopen','shigh','slow','sclose']].values)\n",
    "smax=np.max(sdf[['sopen','shigh','slow','sclose']].values)\n",
    "vmin=np.min(sdf[['svol']].values)\n",
    "vmax=np.max(sdf[['svol']].values)\n",
    "print(smin,smax,vmin,vmax)"
   ]
  },
  {
   "cell_type": "code",
   "execution_count": 53,
   "metadata": {},
   "outputs": [],
   "source": [
    "sdiff=smax-smin\n",
    "vdiff=vmax-vmin\n",
    "sdf['ropen']=(sdf['sopen']-smin)/sdiff\n",
    "sdf['rhigh']=(sdf['shigh']-smin)/sdiff\n",
    "sdf['rlow']=(sdf['slow']-smin)/sdiff\n",
    "sdf['rclose']=(sdf['sclose']-smin)/sdiff\n",
    "sdf['ry']=(sdf['y']-smin)/sdiff\n",
    "sdf['rvol']=(sdf['svol']-vmin)/vdiff"
   ]
  },
  {
   "cell_type": "code",
   "execution_count": 64,
   "metadata": {},
   "outputs": [],
   "source": [
    "mxdf=sdf.copy()\n",
    "mxdf.reset_index(drop=True, inplace=True)"
   ]
  },
  {
   "cell_type": "code",
   "execution_count": 66,
   "metadata": {},
   "outputs": [],
   "source": [
    "xval=list(mxdf[['ropen','rhigh','rlow','rclose','rvol']].rolling(window=5))[5:]\n"
   ]
  },
  {
   "cell_type": "code",
   "execution_count": 67,
   "metadata": {},
   "outputs": [
    {
     "name": "stdout",
     "output_type": "stream",
     "text": [
      "(4342, 5, 5) (4342,)\n"
     ]
    }
   ],
   "source": [
    "X=np.array(xval)\n",
    "Y=sdf['ry'].values[5:]\n",
    "print(X.shape,Y.shape)"
   ]
  },
  {
   "cell_type": "code",
   "execution_count": 68,
   "metadata": {},
   "outputs": [],
   "source": [
    "X_train=X[:-100]\n",
    "Y_train=Y[:-100]\n",
    "X_test=X[-100:]\n",
    "Y_test=Y[-100:]"
   ]
  },
  {
   "cell_type": "code",
   "execution_count": 69,
   "metadata": {},
   "outputs": [
    {
     "data": {
      "text/plain": [
       "(4242, 5, 5)"
      ]
     },
     "execution_count": 69,
     "metadata": {},
     "output_type": "execute_result"
    }
   ],
   "source": [
    "X_train.shape"
   ]
  },
  {
   "cell_type": "code",
   "execution_count": 86,
   "metadata": {},
   "outputs": [],
   "source": [
    "from tensorflow.keras.models import Sequential\n",
    "from tensorflow.keras.layers import LSTM,Dense,Dropout\n",
    "from tensorflow.keras.metrics import CosineSimilarity,RootMeanSquaredError"
   ]
  },
  {
   "cell_type": "code",
   "execution_count": 87,
   "metadata": {},
   "outputs": [
    {
     "name": "stdout",
     "output_type": "stream",
     "text": [
      "Model: \"sequential_4\"\n",
      "_________________________________________________________________\n",
      " Layer (type)                Output Shape              Param #   \n",
      "=================================================================\n",
      " lstm_3 (LSTM)               (None, 64)                17920     \n",
      "                                                                 \n",
      " dense_2 (Dense)             (None, 32)                2080      \n",
      "                                                                 \n",
      " dense_3 (Dense)             (None, 1)                 33        \n",
      "                                                                 \n",
      "=================================================================\n",
      "Total params: 20,033\n",
      "Trainable params: 20,033\n",
      "Non-trainable params: 0\n",
      "_________________________________________________________________\n"
     ]
    }
   ],
   "source": [
    "# 모델생성\n",
    "model=Sequential()\n",
    "model.add(LSTM(64,input_shape=(X_train.shape[1],X_train.shape[2])))\n",
    "model.add(Dense(32,activation='relu'))\n",
    "model.add(Dense(1))\n",
    "model.summary()"
   ]
  },
  {
   "cell_type": "code",
   "execution_count": 90,
   "metadata": {
    "collapsed": true,
    "jupyter": {
     "outputs_hidden": true
    }
   },
   "outputs": [
    {
     "name": "stdout",
     "output_type": "stream",
     "text": [
      "Epoch 1/100\n",
      "43/43 [==============================] - 1s 3ms/step - loss: 0.0167 - cosine_similarity: 0.9500\n",
      "Epoch 2/100\n",
      "43/43 [==============================] - 0s 3ms/step - loss: 2.6096e-04 - cosine_similarity: 1.0000\n",
      "Epoch 3/100\n",
      "43/43 [==============================] - 0s 3ms/step - loss: 1.9007e-04 - cosine_similarity: 1.0000\n",
      "Epoch 4/100\n",
      "43/43 [==============================] - 0s 3ms/step - loss: 1.8203e-04 - cosine_similarity: 1.0000\n",
      "Epoch 5/100\n",
      "43/43 [==============================] - 0s 3ms/step - loss: 1.7209e-04 - cosine_similarity: 1.0000\n",
      "Epoch 6/100\n",
      "43/43 [==============================] - 0s 3ms/step - loss: 1.6693e-04 - cosine_similarity: 1.0000\n",
      "Epoch 7/100\n",
      "43/43 [==============================] - 0s 3ms/step - loss: 1.6644e-04 - cosine_similarity: 1.0000\n",
      "Epoch 8/100\n",
      "43/43 [==============================] - 0s 3ms/step - loss: 1.6621e-04 - cosine_similarity: 1.0000\n",
      "Epoch 9/100\n",
      "43/43 [==============================] - 0s 3ms/step - loss: 1.6144e-04 - cosine_similarity: 1.0000\n",
      "Epoch 10/100\n",
      "43/43 [==============================] - 0s 3ms/step - loss: 1.6048e-04 - cosine_similarity: 1.0000\n",
      "Epoch 11/100\n",
      "43/43 [==============================] - 0s 3ms/step - loss: 1.6072e-04 - cosine_similarity: 1.0000\n",
      "Epoch 12/100\n",
      "43/43 [==============================] - 0s 3ms/step - loss: 1.5983e-04 - cosine_similarity: 1.0000\n",
      "Epoch 13/100\n",
      "43/43 [==============================] - 0s 3ms/step - loss: 1.5492e-04 - cosine_similarity: 1.0000\n",
      "Epoch 14/100\n",
      "43/43 [==============================] - 0s 3ms/step - loss: 1.5489e-04 - cosine_similarity: 1.0000\n",
      "Epoch 15/100\n",
      "43/43 [==============================] - 0s 3ms/step - loss: 1.6030e-04 - cosine_similarity: 1.0000\n",
      "Epoch 16/100\n",
      "43/43 [==============================] - 0s 3ms/step - loss: 1.5827e-04 - cosine_similarity: 1.0000\n",
      "Epoch 17/100\n",
      "43/43 [==============================] - 0s 3ms/step - loss: 1.5108e-04 - cosine_similarity: 1.0000\n",
      "Epoch 18/100\n",
      "43/43 [==============================] - 0s 3ms/step - loss: 1.5967e-04 - cosine_similarity: 1.0000\n",
      "Epoch 19/100\n",
      "43/43 [==============================] - 0s 3ms/step - loss: 1.4978e-04 - cosine_similarity: 1.0000\n",
      "Epoch 20/100\n",
      "43/43 [==============================] - 0s 3ms/step - loss: 1.5206e-04 - cosine_similarity: 1.0000\n",
      "Epoch 21/100\n",
      "43/43 [==============================] - 0s 4ms/step - loss: 1.4800e-04 - cosine_similarity: 1.0000\n",
      "Epoch 22/100\n",
      "43/43 [==============================] - 0s 3ms/step - loss: 1.4935e-04 - cosine_similarity: 1.0000\n",
      "Epoch 23/100\n",
      "43/43 [==============================] - 0s 3ms/step - loss: 1.6235e-04 - cosine_similarity: 1.0000\n",
      "Epoch 24/100\n",
      "43/43 [==============================] - 0s 3ms/step - loss: 1.4573e-04 - cosine_similarity: 1.0000\n",
      "Epoch 25/100\n",
      "43/43 [==============================] - 0s 3ms/step - loss: 1.4430e-04 - cosine_similarity: 1.0000\n",
      "Epoch 26/100\n",
      "43/43 [==============================] - 0s 3ms/step - loss: 1.4434e-04 - cosine_similarity: 1.0000\n",
      "Epoch 27/100\n",
      "43/43 [==============================] - 0s 3ms/step - loss: 1.5252e-04 - cosine_similarity: 1.0000\n",
      "Epoch 28/100\n",
      "43/43 [==============================] - 0s 3ms/step - loss: 1.3947e-04 - cosine_similarity: 1.0000\n",
      "Epoch 29/100\n",
      "43/43 [==============================] - 0s 3ms/step - loss: 1.4704e-04 - cosine_similarity: 1.0000\n",
      "Epoch 30/100\n",
      "43/43 [==============================] - 0s 3ms/step - loss: 1.4249e-04 - cosine_similarity: 1.0000\n",
      "Epoch 31/100\n",
      "43/43 [==============================] - 0s 3ms/step - loss: 1.4664e-04 - cosine_similarity: 1.0000\n",
      "Epoch 32/100\n",
      "43/43 [==============================] - 0s 3ms/step - loss: 1.4125e-04 - cosine_similarity: 1.0000\n",
      "Epoch 33/100\n",
      "43/43 [==============================] - 0s 3ms/step - loss: 1.3795e-04 - cosine_similarity: 1.0000\n",
      "Epoch 34/100\n",
      "43/43 [==============================] - 0s 3ms/step - loss: 1.4259e-04 - cosine_similarity: 1.0000\n",
      "Epoch 35/100\n",
      "43/43 [==============================] - 0s 3ms/step - loss: 1.4257e-04 - cosine_similarity: 1.0000\n",
      "Epoch 36/100\n",
      "43/43 [==============================] - 0s 3ms/step - loss: 1.3280e-04 - cosine_similarity: 1.0000\n",
      "Epoch 37/100\n",
      "43/43 [==============================] - 0s 3ms/step - loss: 1.3140e-04 - cosine_similarity: 1.0000\n",
      "Epoch 38/100\n",
      "43/43 [==============================] - 0s 3ms/step - loss: 1.3612e-04 - cosine_similarity: 1.0000\n",
      "Epoch 39/100\n",
      "43/43 [==============================] - 0s 3ms/step - loss: 1.2999e-04 - cosine_similarity: 1.0000\n",
      "Epoch 40/100\n",
      "43/43 [==============================] - 0s 3ms/step - loss: 1.2624e-04 - cosine_similarity: 1.0000\n",
      "Epoch 41/100\n",
      "43/43 [==============================] - 0s 3ms/step - loss: 1.3875e-04 - cosine_similarity: 1.0000\n",
      "Epoch 42/100\n",
      "43/43 [==============================] - 0s 3ms/step - loss: 1.2593e-04 - cosine_similarity: 1.0000\n",
      "Epoch 43/100\n",
      "43/43 [==============================] - 0s 3ms/step - loss: 1.2554e-04 - cosine_similarity: 1.0000\n",
      "Epoch 44/100\n",
      "43/43 [==============================] - 0s 3ms/step - loss: 1.2306e-04 - cosine_similarity: 1.0000\n",
      "Epoch 45/100\n",
      "43/43 [==============================] - 0s 3ms/step - loss: 1.1931e-04 - cosine_similarity: 1.0000\n",
      "Epoch 46/100\n",
      "43/43 [==============================] - 0s 3ms/step - loss: 1.2507e-04 - cosine_similarity: 1.0000\n",
      "Epoch 47/100\n",
      "43/43 [==============================] - 0s 3ms/step - loss: 1.2367e-04 - cosine_similarity: 1.0000\n",
      "Epoch 48/100\n",
      "43/43 [==============================] - 0s 3ms/step - loss: 1.2120e-04 - cosine_similarity: 1.0000\n",
      "Epoch 49/100\n",
      "43/43 [==============================] - 0s 3ms/step - loss: 1.1443e-04 - cosine_similarity: 1.0000\n",
      "Epoch 50/100\n",
      "43/43 [==============================] - 0s 3ms/step - loss: 1.1451e-04 - cosine_similarity: 1.0000\n",
      "Epoch 51/100\n",
      "43/43 [==============================] - 0s 3ms/step - loss: 1.1166e-04 - cosine_similarity: 1.0000\n",
      "Epoch 52/100\n",
      "43/43 [==============================] - 0s 3ms/step - loss: 1.1766e-04 - cosine_similarity: 1.0000\n",
      "Epoch 53/100\n",
      "43/43 [==============================] - 0s 3ms/step - loss: 1.2475e-04 - cosine_similarity: 1.0000\n",
      "Epoch 54/100\n",
      "43/43 [==============================] - 0s 3ms/step - loss: 1.0934e-04 - cosine_similarity: 1.0000\n",
      "Epoch 55/100\n",
      "43/43 [==============================] - 0s 4ms/step - loss: 1.1122e-04 - cosine_similarity: 1.0000\n",
      "Epoch 56/100\n",
      "43/43 [==============================] - 0s 4ms/step - loss: 1.3664e-04 - cosine_similarity: 1.0000\n",
      "Epoch 57/100\n",
      "43/43 [==============================] - 0s 3ms/step - loss: 1.1607e-04 - cosine_similarity: 1.0000\n",
      "Epoch 58/100\n",
      "43/43 [==============================] - 0s 3ms/step - loss: 1.1146e-04 - cosine_similarity: 1.0000\n",
      "Epoch 59/100\n",
      "43/43 [==============================] - 0s 3ms/step - loss: 1.0698e-04 - cosine_similarity: 1.0000\n",
      "Epoch 60/100\n",
      "43/43 [==============================] - 0s 3ms/step - loss: 1.1410e-04 - cosine_similarity: 1.0000\n",
      "Epoch 61/100\n",
      "43/43 [==============================] - 0s 3ms/step - loss: 1.1649e-04 - cosine_similarity: 1.0000\n",
      "Epoch 62/100\n",
      "43/43 [==============================] - 0s 3ms/step - loss: 1.1085e-04 - cosine_similarity: 1.0000\n",
      "Epoch 63/100\n",
      "43/43 [==============================] - 0s 3ms/step - loss: 1.1715e-04 - cosine_similarity: 1.0000\n",
      "Epoch 64/100\n",
      "43/43 [==============================] - 0s 3ms/step - loss: 1.0269e-04 - cosine_similarity: 1.0000\n",
      "Epoch 65/100\n",
      "43/43 [==============================] - 0s 3ms/step - loss: 1.0479e-04 - cosine_similarity: 1.0000\n",
      "Epoch 66/100\n",
      "43/43 [==============================] - 0s 3ms/step - loss: 1.0421e-04 - cosine_similarity: 1.0000\n",
      "Epoch 67/100\n",
      "43/43 [==============================] - 0s 3ms/step - loss: 1.1341e-04 - cosine_similarity: 1.0000\n",
      "Epoch 68/100\n",
      "43/43 [==============================] - 0s 3ms/step - loss: 1.0780e-04 - cosine_similarity: 1.0000\n",
      "Epoch 69/100\n",
      "43/43 [==============================] - 0s 3ms/step - loss: 1.1023e-04 - cosine_similarity: 1.0000\n",
      "Epoch 70/100\n",
      "43/43 [==============================] - 0s 3ms/step - loss: 9.8566e-05 - cosine_similarity: 1.0000\n",
      "Epoch 71/100\n",
      "43/43 [==============================] - 0s 3ms/step - loss: 1.0298e-04 - cosine_similarity: 1.0000\n",
      "Epoch 72/100\n",
      "43/43 [==============================] - 0s 3ms/step - loss: 1.0209e-04 - cosine_similarity: 1.0000\n",
      "Epoch 73/100\n",
      "43/43 [==============================] - 0s 3ms/step - loss: 1.0123e-04 - cosine_similarity: 1.0000\n",
      "Epoch 74/100\n",
      "43/43 [==============================] - 0s 4ms/step - loss: 9.8002e-05 - cosine_similarity: 1.0000\n",
      "Epoch 75/100\n",
      "43/43 [==============================] - 0s 3ms/step - loss: 1.0218e-04 - cosine_similarity: 1.0000\n",
      "Epoch 76/100\n",
      "43/43 [==============================] - 0s 4ms/step - loss: 1.1518e-04 - cosine_similarity: 1.0000\n",
      "Epoch 77/100\n",
      "43/43 [==============================] - 0s 4ms/step - loss: 9.7684e-05 - cosine_similarity: 1.0000\n",
      "Epoch 78/100\n",
      "43/43 [==============================] - 0s 4ms/step - loss: 9.1208e-05 - cosine_similarity: 1.0000\n",
      "Epoch 79/100\n",
      "43/43 [==============================] - 0s 3ms/step - loss: 9.5573e-05 - cosine_similarity: 1.0000\n",
      "Epoch 80/100\n",
      "43/43 [==============================] - 0s 3ms/step - loss: 9.8460e-05 - cosine_similarity: 1.0000\n",
      "Epoch 81/100\n",
      "43/43 [==============================] - 0s 3ms/step - loss: 9.9690e-05 - cosine_similarity: 1.0000\n",
      "Epoch 82/100\n",
      "43/43 [==============================] - 0s 3ms/step - loss: 9.3171e-05 - cosine_similarity: 1.0000\n",
      "Epoch 83/100\n",
      "43/43 [==============================] - 0s 3ms/step - loss: 9.8460e-05 - cosine_similarity: 1.0000\n",
      "Epoch 84/100\n",
      "43/43 [==============================] - 0s 3ms/step - loss: 8.9126e-05 - cosine_similarity: 1.0000\n",
      "Epoch 85/100\n",
      "43/43 [==============================] - 0s 3ms/step - loss: 9.2527e-05 - cosine_similarity: 1.0000\n",
      "Epoch 86/100\n",
      "43/43 [==============================] - 0s 3ms/step - loss: 9.3079e-05 - cosine_similarity: 1.0000\n",
      "Epoch 87/100\n",
      "43/43 [==============================] - 0s 3ms/step - loss: 1.0360e-04 - cosine_similarity: 0.9995\n",
      "Epoch 88/100\n",
      "43/43 [==============================] - 0s 3ms/step - loss: 9.0023e-05 - cosine_similarity: 1.0000\n",
      "Epoch 89/100\n",
      "43/43 [==============================] - 0s 3ms/step - loss: 9.9403e-05 - cosine_similarity: 1.0000\n",
      "Epoch 90/100\n",
      "43/43 [==============================] - 0s 3ms/step - loss: 9.0351e-05 - cosine_similarity: 1.0000\n",
      "Epoch 91/100\n",
      "43/43 [==============================] - 0s 3ms/step - loss: 9.6646e-05 - cosine_similarity: 1.0000\n",
      "Epoch 92/100\n",
      "43/43 [==============================] - 0s 3ms/step - loss: 9.4425e-05 - cosine_similarity: 1.0000\n",
      "Epoch 93/100\n",
      "43/43 [==============================] - 0s 3ms/step - loss: 9.2960e-05 - cosine_similarity: 1.0000\n",
      "Epoch 94/100\n",
      "43/43 [==============================] - 0s 3ms/step - loss: 8.9164e-05 - cosine_similarity: 1.0000\n",
      "Epoch 95/100\n",
      "43/43 [==============================] - 0s 3ms/step - loss: 8.9620e-05 - cosine_similarity: 1.0000\n",
      "Epoch 96/100\n",
      "43/43 [==============================] - 0s 3ms/step - loss: 9.6420e-05 - cosine_similarity: 1.0000\n",
      "Epoch 97/100\n",
      "43/43 [==============================] - 0s 3ms/step - loss: 9.7899e-05 - cosine_similarity: 1.0000\n",
      "Epoch 98/100\n",
      "43/43 [==============================] - 0s 3ms/step - loss: 8.9984e-05 - cosine_similarity: 1.0000\n",
      "Epoch 99/100\n",
      "43/43 [==============================] - 0s 3ms/step - loss: 8.7158e-05 - cosine_similarity: 1.0000\n",
      "Epoch 100/100\n",
      "43/43 [==============================] - 0s 3ms/step - loss: 8.9187e-05 - cosine_similarity: 1.0000\n"
     ]
    }
   ],
   "source": [
    "model.compile(loss='mse',optimizer='Adam',metrics=['CosineSimilarity'])\n",
    "hist=model.fit(X_train,Y_train,epochs=100,batch_size=100)"
   ]
  },
  {
   "cell_type": "code",
   "execution_count": 91,
   "metadata": {},
   "outputs": [
    {
     "data": {
      "text/plain": [
       "dict_keys(['loss', 'cosine_similarity'])"
      ]
     },
     "execution_count": 91,
     "metadata": {},
     "output_type": "execute_result"
    }
   ],
   "source": [
    "hist.history.keys()"
   ]
  },
  {
   "cell_type": "code",
   "execution_count": 92,
   "metadata": {},
   "outputs": [
    {
     "data": {
      "text/plain": [
       "[<matplotlib.lines.Line2D at 0x136d1b2ca90>]"
      ]
     },
     "execution_count": 92,
     "metadata": {},
     "output_type": "execute_result"
    },
    {
     "data": {
      "image/png": "[encoded data removed]",
      "text/plain": [
       "<Figure size 432x288 with 1 Axes>"
      ]
     },
     "metadata": {
      "needs_background": "light"
     },
     "output_type": "display_data"
    }
   ],
   "source": [
    "plt.plot(hist.history['loss'][:20])"
   ]
  },
  {
   "cell_type": "code",
   "execution_count": 94,
   "metadata": {},
   "outputs": [
    {
     "data": {
      "text/plain": [
       "[<matplotlib.lines.Line2D at 0x136d6baabe0>]"
      ]
     },
     "execution_count": 94,
     "metadata": {},
     "output_type": "execute_result"
    },
    {
     "data": {
      "image/png": "[encoded data removed]",
      "text/plain": [
       "<Figure size 432x288 with 1 Axes>"
      ]
     },
     "metadata": {
      "needs_background": "light"
     },
     "output_type": "display_data"
    }
   ],
   "source": [
    "plt.plot(hist.history['cosine_similarity'][:20])"
   ]
  },
  {
   "cell_type": "code",
   "execution_count": 98,
   "metadata": {},
   "outputs": [
    {
     "data": {
      "image/png": "[encoded data removed]",
      "text/plain": [
       "<Figure size 432x288 with 1 Axes>"
      ]
     },
     "metadata": {
      "needs_background": "light"
     },
     "output_type": "display_data"
    }
   ],
   "source": [
    "pred=model.predict(X_test)\n",
    "plt.plot(pred,label='pred')\n",
    "plt.plot(Y_test,label='y')\n",
    "plt.legend()\n",
    "plt.show()"
   ]
  },
  {
   "cell_type": "code",
   "execution_count": 112,
   "metadata": {},
   "outputs": [
    {
     "data": {
      "text/html": [
       "<div>\n",
       "<style scoped>\n",
       "    .dataframe tbody tr th:only-of-type {\n",
       "        vertical-align: middle;\n",
       "    }\n",
       "\n",
       "    .dataframe tbody tr th {\n",
       "        vertical-align: top;\n",
       "    }\n",
       "\n",
       "    .dataframe thead th {\n",
       "        text-align: right;\n",
       "    }\n",
       "</style>\n",
       "<table border=\"1\" class=\"dataframe\">\n",
       "  <thead>\n",
       "    <tr style=\"text-align: right;\">\n",
       "      <th></th>\n",
       "      <th>sopen</th>\n",
       "      <th>shigh</th>\n",
       "      <th>slow</th>\n",
       "      <th>sclose</th>\n",
       "      <th>svol</th>\n",
       "      <th>y</th>\n",
       "      <th>ropen</th>\n",
       "      <th>rhigh</th>\n",
       "      <th>rlow</th>\n",
       "      <th>rclose</th>\n",
       "      <th>ry</th>\n",
       "      <th>rvol</th>\n",
       "    </tr>\n",
       "    <tr>\n",
       "      <th>sday</th>\n",
       "      <th></th>\n",
       "      <th></th>\n",
       "      <th></th>\n",
       "      <th></th>\n",
       "      <th></th>\n",
       "      <th></th>\n",
       "      <th></th>\n",
       "      <th></th>\n",
       "      <th></th>\n",
       "      <th></th>\n",
       "      <th></th>\n",
       "      <th></th>\n",
       "    </tr>\n",
       "  </thead>\n",
       "  <tbody>\n",
       "    <tr>\n",
       "      <th>2022-05-04</th>\n",
       "      <td>110500</td>\n",
       "      <td>111000</td>\n",
       "      <td>108500</td>\n",
       "      <td>109500</td>\n",
       "      <td>2491890</td>\n",
       "      <td>107500.0</td>\n",
       "      <td>0.723623</td>\n",
       "      <td>0.727078</td>\n",
       "      <td>0.709804</td>\n",
       "      <td>0.716714</td>\n",
       "      <td>0.702895</td>\n",
       "      <td>0.024889</td>\n",
       "    </tr>\n",
       "    <tr>\n",
       "      <th>2022-05-06</th>\n",
       "      <td>108000</td>\n",
       "      <td>108500</td>\n",
       "      <td>106500</td>\n",
       "      <td>107500</td>\n",
       "      <td>2566813</td>\n",
       "      <td>107500.0</td>\n",
       "      <td>0.706350</td>\n",
       "      <td>0.709804</td>\n",
       "      <td>0.695986</td>\n",
       "      <td>0.702895</td>\n",
       "      <td>0.702895</td>\n",
       "      <td>0.026020</td>\n",
       "    </tr>\n",
       "    <tr>\n",
       "      <th>2022-05-09</th>\n",
       "      <td>107000</td>\n",
       "      <td>109000</td>\n",
       "      <td>106500</td>\n",
       "      <td>107500</td>\n",
       "      <td>2203472</td>\n",
       "      <td>110000.0</td>\n",
       "      <td>0.699440</td>\n",
       "      <td>0.713259</td>\n",
       "      <td>0.695986</td>\n",
       "      <td>0.702895</td>\n",
       "      <td>0.720169</td>\n",
       "      <td>0.020537</td>\n",
       "    </tr>\n",
       "    <tr>\n",
       "      <th>2022-05-10</th>\n",
       "      <td>107000</td>\n",
       "      <td>111000</td>\n",
       "      <td>107000</td>\n",
       "      <td>110000</td>\n",
       "      <td>4141923</td>\n",
       "      <td>110500.0</td>\n",
       "      <td>0.699440</td>\n",
       "      <td>0.727078</td>\n",
       "      <td>0.699440</td>\n",
       "      <td>0.720169</td>\n",
       "      <td>0.723623</td>\n",
       "      <td>0.049790</td>\n",
       "    </tr>\n",
       "    <tr>\n",
       "      <th>2022-05-11</th>\n",
       "      <td>110500</td>\n",
       "      <td>112500</td>\n",
       "      <td>108000</td>\n",
       "      <td>110500</td>\n",
       "      <td>3658168</td>\n",
       "      <td>110500.0</td>\n",
       "      <td>0.723623</td>\n",
       "      <td>0.737442</td>\n",
       "      <td>0.706350</td>\n",
       "      <td>0.723623</td>\n",
       "      <td>0.723623</td>\n",
       "      <td>0.042489</td>\n",
       "    </tr>\n",
       "  </tbody>\n",
       "</table>\n",
       "</div>"
      ],
      "text/plain": [
       "             sopen   shigh    slow  sclose     svol         y     ropen  \\\n",
       "sday                                                                      \n",
       "2022-05-04  110500  111000  108500  109500  2491890  107500.0  0.723623   \n",
       "2022-05-06  108000  108500  106500  107500  2566813  107500.0  0.706350   \n",
       "2022-05-09  107000  109000  106500  107500  2203472  110000.0  0.699440   \n",
       "2022-05-10  107000  111000  107000  110000  4141923  110500.0  0.699440   \n",
       "2022-05-11  110500  112500  108000  110500  3658168  110500.0  0.723623   \n",
       "\n",
       "               rhigh      rlow    rclose        ry      rvol  \n",
       "sday                                                          \n",
       "2022-05-04  0.727078  0.709804  0.716714  0.702895  0.024889  \n",
       "2022-05-06  0.709804  0.695986  0.702895  0.702895  0.026020  \n",
       "2022-05-09  0.713259  0.695986  0.702895  0.720169  0.020537  \n",
       "2022-05-10  0.727078  0.699440  0.720169  0.723623  0.049790  \n",
       "2022-05-11  0.737442  0.706350  0.723623  0.723623  0.042489  "
      ]
     },
     "execution_count": 112,
     "metadata": {},
     "output_type": "execute_result"
    }
   ],
   "source": [
    "sdf.tail()"
   ]
  },
  {
   "cell_type": "code",
   "execution_count": 113,
   "metadata": {},
   "outputs": [
    {
     "data": {
      "text/html": [
       "<div>\n",
       "<style scoped>\n",
       "    .dataframe tbody tr th:only-of-type {\n",
       "        vertical-align: middle;\n",
       "    }\n",
       "\n",
       "    .dataframe tbody tr th {\n",
       "        vertical-align: top;\n",
       "    }\n",
       "\n",
       "    .dataframe thead th {\n",
       "        text-align: right;\n",
       "    }\n",
       "</style>\n",
       "<table border=\"1\" class=\"dataframe\">\n",
       "  <thead>\n",
       "    <tr style=\"text-align: right;\">\n",
       "      <th></th>\n",
       "      <th>sclose</th>\n",
       "      <th>ry</th>\n",
       "      <th>pred</th>\n",
       "      <th>yt</th>\n",
       "      <th>shortL</th>\n",
       "      <th>longL</th>\n",
       "    </tr>\n",
       "    <tr>\n",
       "      <th>sday</th>\n",
       "      <th></th>\n",
       "      <th></th>\n",
       "      <th></th>\n",
       "      <th></th>\n",
       "      <th></th>\n",
       "      <th></th>\n",
       "    </tr>\n",
       "  </thead>\n",
       "  <tbody>\n",
       "    <tr>\n",
       "      <th>2021-12-21</th>\n",
       "      <td>124500</td>\n",
       "      <td>0.837629</td>\n",
       "      <td>0.813484</td>\n",
       "      <td>0.837629</td>\n",
       "      <td>123506.0</td>\n",
       "      <td>122298.0</td>\n",
       "    </tr>\n",
       "    <tr>\n",
       "      <th>2021-12-22</th>\n",
       "      <td>127000</td>\n",
       "      <td>0.841083</td>\n",
       "      <td>0.836921</td>\n",
       "      <td>0.841083</td>\n",
       "      <td>126898.0</td>\n",
       "      <td>123302.4</td>\n",
       "    </tr>\n",
       "    <tr>\n",
       "      <th>2021-12-23</th>\n",
       "      <td>127500</td>\n",
       "      <td>0.844538</td>\n",
       "      <td>0.843626</td>\n",
       "      <td>0.844538</td>\n",
       "      <td>127868.0</td>\n",
       "      <td>124120.4</td>\n",
       "    </tr>\n",
       "    <tr>\n",
       "      <th>2021-12-24</th>\n",
       "      <td>128000</td>\n",
       "      <td>0.830719</td>\n",
       "      <td>0.847988</td>\n",
       "      <td>0.830719</td>\n",
       "      <td>128499.0</td>\n",
       "      <td>125537.6</td>\n",
       "    </tr>\n",
       "    <tr>\n",
       "      <th>2021-12-27</th>\n",
       "      <td>126000</td>\n",
       "      <td>0.841083</td>\n",
       "      <td>0.836718</td>\n",
       "      <td>0.841083</td>\n",
       "      <td>126868.0</td>\n",
       "      <td>126727.8</td>\n",
       "    </tr>\n",
       "    <tr>\n",
       "      <th>...</th>\n",
       "      <td>...</td>\n",
       "      <td>...</td>\n",
       "      <td>...</td>\n",
       "      <td>...</td>\n",
       "      <td>...</td>\n",
       "      <td>...</td>\n",
       "    </tr>\n",
       "    <tr>\n",
       "      <th>2022-05-04</th>\n",
       "      <td>109500</td>\n",
       "      <td>0.702895</td>\n",
       "      <td>0.716739</td>\n",
       "      <td>0.702895</td>\n",
       "      <td>109504.0</td>\n",
       "      <td>110052.4</td>\n",
       "    </tr>\n",
       "    <tr>\n",
       "      <th>2022-05-06</th>\n",
       "      <td>107500</td>\n",
       "      <td>0.702895</td>\n",
       "      <td>0.701362</td>\n",
       "      <td>0.702895</td>\n",
       "      <td>107278.0</td>\n",
       "      <td>109727.4</td>\n",
       "    </tr>\n",
       "    <tr>\n",
       "      <th>2022-05-09</th>\n",
       "      <td>107500</td>\n",
       "      <td>0.720169</td>\n",
       "      <td>0.700352</td>\n",
       "      <td>0.720169</td>\n",
       "      <td>107132.0</td>\n",
       "      <td>108921.2</td>\n",
       "    </tr>\n",
       "    <tr>\n",
       "      <th>2022-05-10</th>\n",
       "      <td>110000</td>\n",
       "      <td>0.723623</td>\n",
       "      <td>0.710999</td>\n",
       "      <td>0.723623</td>\n",
       "      <td>108673.0</td>\n",
       "      <td>108565.8</td>\n",
       "    </tr>\n",
       "    <tr>\n",
       "      <th>2022-05-11</th>\n",
       "      <td>110500</td>\n",
       "      <td>0.723623</td>\n",
       "      <td>0.721584</td>\n",
       "      <td>0.723623</td>\n",
       "      <td>110205.0</td>\n",
       "      <td>108558.4</td>\n",
       "    </tr>\n",
       "  </tbody>\n",
       "</table>\n",
       "<p>95 rows × 6 columns</p>\n",
       "</div>"
      ],
      "text/plain": [
       "            sclose        ry      pred        yt    shortL     longL\n",
       "sday                                                                \n",
       "2021-12-21  124500  0.837629  0.813484  0.837629  123506.0  122298.0\n",
       "2021-12-22  127000  0.841083  0.836921  0.841083  126898.0  123302.4\n",
       "2021-12-23  127500  0.844538  0.843626  0.844538  127868.0  124120.4\n",
       "2021-12-24  128000  0.830719  0.847988  0.830719  128499.0  125537.6\n",
       "2021-12-27  126000  0.841083  0.836718  0.841083  126868.0  126727.8\n",
       "...            ...       ...       ...       ...       ...       ...\n",
       "2022-05-04  109500  0.702895  0.716739  0.702895  109504.0  110052.4\n",
       "2022-05-06  107500  0.702895  0.701362  0.702895  107278.0  109727.4\n",
       "2022-05-09  107500  0.720169  0.700352  0.720169  107132.0  108921.2\n",
       "2022-05-10  110000  0.723623  0.710999  0.723623  108673.0  108565.8\n",
       "2022-05-11  110500  0.723623  0.721584  0.723623  110205.0  108558.4\n",
       "\n",
       "[95 rows x 6 columns]"
      ]
     },
     "execution_count": 113,
     "metadata": {},
     "output_type": "execute_result"
    }
   ],
   "source": [
    "fdf=sdf.iloc[-100:,[3,-2]].copy()\n",
    "fdf['pred']=pred\n",
    "fdf['yt']=Y_test\n",
    "fdf['shortL']=np.round(pred*sdiff+smin)\n",
    "fdf['longL']=fdf['shortL'].rolling(window=5).mean()\n",
    "fdf[5:]"
   ]
  },
  {
   "cell_type": "code",
   "execution_count": 118,
   "metadata": {},
   "outputs": [],
   "source": [
    "def simStock(srcdf,stxt='shortmv',ltxt='longmv'):\n",
    "    mdf=srcdf.copy()\n",
    "    findex=mdf.iloc[:1,:].index[0]\n",
    "    lindex=mdf.iloc[-1:,:].index[0]\n",
    "    lindex\n",
    "    invest=200000\n",
    "    beforePos=-1\n",
    "    beforeHold=0\n",
    "\n",
    "    for i,row in mdf.iloc[10:,:].iterrows():\n",
    "        if(row[stxt]>=row[ltxt]):\n",
    "            nowpos=1 # short 상위\n",
    "        else:\n",
    "            nowpos=-1 # short 하위\n",
    "        if beforePos==-1 and nowpos==1 and beforeHold==0:\n",
    "            timing=1# 매수타이밍\n",
    "            hold=1\n",
    "            mdf.loc[i,'cash']=-row['sclose']\n",
    "            mdf.loc[i,'hold']=1\n",
    "        elif beforePos==1 and nowpos==-1 and beforeHold==1:\n",
    "            timing=-1# 매수타이밍\n",
    "            hold=0\n",
    "            mdf.loc[i,'cash']=row['sclose']\n",
    "            mdf.loc[i,'hold']=0\n",
    "        else:\n",
    "            mdf.loc[i,'cash']=0\n",
    "            timing=0 # 홀드\n",
    "            hold=beforeHold\n",
    "            mdf.loc[i,'hold']=beforeHold\n",
    "        beforeHold=hold\n",
    "        beforePos=nowpos\n",
    "        mdf.loc[findex,'cash']=invest\n",
    "        mdf['cumcash']=mdf['cash'].cumsum()\n",
    "        mdf['balalce']=mdf['sclose']*mdf['hold']+mdf['cumcash']\n",
    "    mdf.tail()\n",
    "    ecash=mdf.loc[lindex,'balalce']-invest\n",
    "    erate=ecash/invest\n",
    "    return(invest,ecash,erate)"
   ]
  },
  {
   "cell_type": "code",
   "execution_count": 119,
   "metadata": {},
   "outputs": [
    {
     "data": {
      "text/plain": [
       "(200000, -14500.0, -0.0725)"
      ]
     },
     "execution_count": 119,
     "metadata": {},
     "output_type": "execute_result"
    }
   ],
   "source": [
    "simStock(fdf[5:],stxt='shortL',ltxt='longL')"
   ]
  },
  {
   "cell_type": "code",
   "execution_count": 122,
   "metadata": {},
   "outputs": [
    {
     "data": {
      "text/plain": [
       "<AxesSubplot:xlabel='sday'>"
      ]
     },
     "execution_count": 122,
     "metadata": {},
     "output_type": "execute_result"
    },
    {
     "data": {
      "image/png": "[encoded data removed]",
      "text/plain": [
       "<Figure size 432x288 with 1 Axes>"
      ]
     },
     "metadata": {
      "needs_background": "light"
     },
     "output_type": "display_data"
    }
   ],
   "source": [
    "fdf.iloc[5:,[0,4,5]].plot()\n"
   ]
  }
 ],
 "metadata": {
  "kernelspec": {
   "display_name": "Python 3 (ipykernel)",
   "language": "python",
   "name": "python3"
  },
  "language_info": {
   "codemirror_mode": {
    "name": "ipython",
    "version": 3
   },
   "file_extension": ".py",
   "mimetype": "text/x-python",
   "name": "python",
   "nbconvert_exporter": "python",
   "pygments_lexer": "ipython3",
   "version": "3.8.13"
  }
 },
 "nbformat": 4,
 "nbformat_minor": 4
}
