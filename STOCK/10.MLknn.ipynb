{
 "cells": [
  {
   "cell_type": "markdown",
   "metadata": {},
   "source": [
    "### 머신러닝 회귀\n",
    "* 머신러닝\n",
    "    - 분류\n",
    "        - 떨어져 있는 수\n",
    "        - 범주형 자료\n",
    "    - 회귀\n",
    "        - 연속적인 수\n",
    "\n",
    "* 머신러닝 회귀        \n",
    "    * knn regressor\n",
    "    * dt regressor\n",
    "    * rf regressor\n",
    "    * svm regressor\n",
    "    "
   ]
  },
  {
   "cell_type": "code",
   "execution_count": 1,
   "metadata": {},
   "outputs": [],
   "source": [
    "import sqlite3\n",
    "import numpy as np\n",
    "import pandas as pd\n",
    "import matplotlib as mpl\n",
    "import matplotlib.pyplot as plt"
   ]
  },
  {
   "cell_type": "code",
   "execution_count": 11,
   "metadata": {},
   "outputs": [
    {
     "data": {
      "text/plain": [
       "[('1996-12-26', 23000, 23000, 23000, 23000, 0),\n",
       " ('1996-12-27', 23000, 23000, 23000, 23000, 0),\n",
       " ('1997-01-03', 20000, 20100, 20000, 20000, 145680),\n",
       " ('1997-01-04', 20000, 20000, 20000, 20000, 277690),\n",
       " ('1997-01-06', 20000, 20000, 20000, 20000, 436190)]"
      ]
     },
     "execution_count": 11,
     "metadata": {},
     "output_type": "execute_result"
    }
   ],
   "source": [
    "def seldata(cols=['sday','sopen','shigh','slow','sclose','svol'],where='where sday>\"2022-01-01\" order by sday asc'):\n",
    "    fname='_db/nstock.db'\n",
    "    with sqlite3.connect(fname) as conn:\n",
    "        cur=conn.cursor()\n",
    "        coltxt=','.join(cols)\n",
    "        sql='select '+coltxt+' from stockdb '+where\n",
    "        #print(sql)\n",
    "        res=cur.execute(sql).fetchall()\n",
    "    return res\n",
    "\n",
    "res=seldata(where=' order by sday asc')    \n",
    "res[:5]"
   ]
  },
  {
   "cell_type": "code",
   "execution_count": 12,
   "metadata": {},
   "outputs": [
    {
     "data": {
      "text/html": [
       "<div>\n",
       "<style scoped>\n",
       "    .dataframe tbody tr th:only-of-type {\n",
       "        vertical-align: middle;\n",
       "    }\n",
       "\n",
       "    .dataframe tbody tr th {\n",
       "        vertical-align: top;\n",
       "    }\n",
       "\n",
       "    .dataframe thead th {\n",
       "        text-align: right;\n",
       "    }\n",
       "</style>\n",
       "<table border=\"1\" class=\"dataframe\">\n",
       "  <thead>\n",
       "    <tr style=\"text-align: right;\">\n",
       "      <th></th>\n",
       "      <th>sopen</th>\n",
       "      <th>shigh</th>\n",
       "      <th>slow</th>\n",
       "      <th>sclose</th>\n",
       "      <th>svol</th>\n",
       "    </tr>\n",
       "    <tr>\n",
       "      <th>sday</th>\n",
       "      <th></th>\n",
       "      <th></th>\n",
       "      <th></th>\n",
       "      <th></th>\n",
       "      <th></th>\n",
       "    </tr>\n",
       "  </thead>\n",
       "  <tbody>\n",
       "    <tr>\n",
       "      <th>2022-05-06</th>\n",
       "      <td>108000</td>\n",
       "      <td>108500</td>\n",
       "      <td>106500</td>\n",
       "      <td>107500</td>\n",
       "      <td>2566813</td>\n",
       "    </tr>\n",
       "    <tr>\n",
       "      <th>2022-05-09</th>\n",
       "      <td>107000</td>\n",
       "      <td>109000</td>\n",
       "      <td>106500</td>\n",
       "      <td>107500</td>\n",
       "      <td>2203472</td>\n",
       "    </tr>\n",
       "    <tr>\n",
       "      <th>2022-05-10</th>\n",
       "      <td>107000</td>\n",
       "      <td>111000</td>\n",
       "      <td>107000</td>\n",
       "      <td>110000</td>\n",
       "      <td>4141923</td>\n",
       "    </tr>\n",
       "    <tr>\n",
       "      <th>2022-05-11</th>\n",
       "      <td>110500</td>\n",
       "      <td>112500</td>\n",
       "      <td>108000</td>\n",
       "      <td>110500</td>\n",
       "      <td>3658168</td>\n",
       "    </tr>\n",
       "    <tr>\n",
       "      <th>2022-05-12</th>\n",
       "      <td>109500</td>\n",
       "      <td>111500</td>\n",
       "      <td>108500</td>\n",
       "      <td>110500</td>\n",
       "      <td>1938788</td>\n",
       "    </tr>\n",
       "  </tbody>\n",
       "</table>\n",
       "</div>"
      ],
      "text/plain": [
       "             sopen   shigh    slow  sclose     svol\n",
       "sday                                               \n",
       "2022-05-06  108000  108500  106500  107500  2566813\n",
       "2022-05-09  107000  109000  106500  107500  2203472\n",
       "2022-05-10  107000  111000  107000  110000  4141923\n",
       "2022-05-11  110500  112500  108000  110500  3658168\n",
       "2022-05-12  109500  111500  108500  110500  1938788"
      ]
     },
     "execution_count": 12,
     "metadata": {},
     "output_type": "execute_result"
    }
   ],
   "source": [
    "cols=['sday','sopen','shigh','slow','sclose','svol']\n",
    "df = pd.DataFrame(res,columns=cols)\n",
    "mdf=df.set_index('sday')\n",
    "mdf.tail()"
   ]
  },
  {
   "cell_type": "code",
   "execution_count": 33,
   "metadata": {},
   "outputs": [
    {
     "name": "stdout",
     "output_type": "stream",
     "text": [
      "            sopen  shigh   slow  sclose     svol\n",
      "sday                                            \n",
      "1997-01-09  20000  20100  20000   20000   203650\n",
      "1997-01-10  20000  20100  20000   20000  2144420\n",
      "1997-01-11  20100  20100  20000   20000    69610\n",
      "1997-01-13  20000  20100  20000   20000    94400\n",
      "1997-01-14  20100  21000  20000   20900   399790\n",
      "20900\n",
      "6348 6348\n"
     ]
    }
   ],
   "source": [
    "k=5\n",
    "slist=list(mdf[['sopen','shigh','slow','sclose','svol']].rolling(5))\n",
    "ylist=mdf['sclose'].values\n",
    "print(slist[11])\n",
    "print(ylist[11])\n",
    "print(len(slist),len(ylist))"
   ]
  },
  {
   "cell_type": "code",
   "execution_count": 93,
   "metadata": {},
   "outputs": [],
   "source": [
    "Y=[]\n",
    "X=[]\n",
    "for i in range(len(slist)-1):\n",
    "    ns=np.array(slist[i].values).reshape(-1)\n",
    "    X.append(ns)\n",
    "    Y.append(ylist[i+1])"
   ]
  },
  {
   "cell_type": "code",
   "execution_count": 94,
   "metadata": {},
   "outputs": [
    {
     "name": "stdout",
     "output_type": "stream",
     "text": [
      "[  20000   20000   20000   20000  206320   20000   20100   20000   20000\n",
      "  203650   20000   20100   20000   20000 2144420   20100   20100   20000\n",
      "   20000   69610   20000   20100   20000   20000   94400] 20900\n"
     ]
    }
   ],
   "source": [
    "print(X[10],Y[10])"
   ]
  },
  {
   "cell_type": "code",
   "execution_count": 101,
   "metadata": {},
   "outputs": [
    {
     "name": "stdout",
     "output_type": "stream",
     "text": [
      "6347 5073 1269 6347 5073 1269\n"
     ]
    }
   ],
   "source": [
    "from sklearn.model_selection import train_test_split\n",
    "cutratio=0.2\n",
    "X_train,X_test=train_test_split(X[5:],test_size=cutratio,shuffle=False,stratify=None)\n",
    "Y_train,Y_test=train_test_split(Y[5:],test_size=cutratio,shuffle=False,stratify=None)\n",
    "print(len(X),len(X_train),len(X_test),len(Y),len(Y_train),len(Y_test))"
   ]
  },
  {
   "cell_type": "code",
   "execution_count": 102,
   "metadata": {},
   "outputs": [
    {
     "name": "stdout",
     "output_type": "stream",
     "text": [
      "[array([  49100,   49300,   48050,   48800, 3439908,   48800,   49300,\n",
      "         47900,   48000, 3728263,   48200,   48850,   48000,   48000,\n",
      "       2957372,   48100,   49550,   47500,   49200, 3849912,   49550,\n",
      "         51100,   49300,   51000, 4948062], dtype=int64), array([  48800,   49300,   47900,   48000, 3728263,   48200,   48850,\n",
      "         48000,   48000, 2957372,   48100,   49550,   47500,   49200,\n",
      "       3849912,   49550,   51100,   49300,   51000, 4948062,   51800,\n",
      "         51900,   50300,   50300, 4024138], dtype=int64)] [50300, 48800]\n"
     ]
    }
   ],
   "source": [
    "print(X_test[:2],Y_test[:2])"
   ]
  },
  {
   "cell_type": "code",
   "execution_count": 105,
   "metadata": {},
   "outputs": [],
   "source": [
    "from sklearn.neighbors import KNeighborsRegressor\n",
    "from sklearn.metrics import mean_squared_error\n",
    "n=3\n",
    "rmses=[]\n",
    "for k in range(2,20):\n",
    "    model=KNeighborsRegressor(n_neighbors=k)\n",
    "    model.fit(np.array(X_train),np.array(Y_train))\n",
    "    pred=model.predict(X_test)\n",
    "    rmse=np.sqrt(mean_squared_error(Y_test,pred))\n",
    "    rmses.append(rmse)"
   ]
  },
  {
   "cell_type": "code",
   "execution_count": 106,
   "metadata": {
    "collapsed": true,
    "jupyter": {
     "outputs_hidden": true
    }
   },
   "outputs": [
    {
     "data": {
      "text/plain": [
       "[<matplotlib.lines.Line2D at 0x2c0105769a0>]"
      ]
     },
     "execution_count": 106,
     "metadata": {},
     "output_type": "execute_result"
    },
    {
     "data": {
      "image/png": "[encoded data removed]",
      "text/plain": [
       "<Figure size 432x288 with 1 Axes>"
      ]
     },
     "metadata": {
      "needs_background": "light"
     },
     "output_type": "display_data"
    }
   ],
   "source": [
    "plt.plot(range(len(rmses)),rmses)"
   ]
  },
  {
   "cell_type": "code",
   "execution_count": 108,
   "metadata": {},
   "outputs": [
    {
     "name": "stdout",
     "output_type": "stream",
     "text": [
      "1269 1269\n"
     ]
    }
   ],
   "source": [
    "bestk=2\n",
    "model=KNeighborsRegressor(n_neighbors=bestk)\n",
    "model.fit(np.array(X_train),np.array(Y_train))\n",
    "pred=model.predict(X_test)\n",
    "print(len(pred),len(Y_test))"
   ]
  },
  {
   "cell_type": "code",
   "execution_count": 110,
   "metadata": {},
   "outputs": [
    {
     "data": {
      "text/plain": [
       "<AxesSubplot:>"
      ]
     },
     "execution_count": 110,
     "metadata": {},
     "output_type": "execute_result"
    },
    {
     "data": {
      "image/png": "[encoded data removed]",
      "text/plain": [
       "<Figure size 432x288 with 1 Axes>"
      ]
     },
     "metadata": {
      "needs_background": "light"
     },
     "output_type": "display_data"
    }
   ],
   "source": [
    "sdf=pd.DataFrame({'sclose':Y_test,'spred':pred})\n",
    "sdf.plot()"
   ]
  }
 ],
 "metadata": {
  "kernelspec": {
   "display_name": "Python 3 (ipykernel)",
   "language": "python",
   "name": "python3"
  },
  "language_info": {
   "codemirror_mode": {
    "name": "ipython",
    "version": 3
   },
   "file_extension": ".py",
   "mimetype": "text/x-python",
   "name": "python",
   "nbconvert_exporter": "python",
   "pygments_lexer": "ipython3",
   "version": "3.8.13"
  }
 },
 "nbformat": 4,
 "nbformat_minor": 4
}
