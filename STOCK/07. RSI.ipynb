{
 "cells": [
  {
   "cell_type": "markdown",
   "metadata": {},
   "source": [
    "# RSI (상대강도지수 relative strength index)\n",
    "- 1978년 Welles Wilders라는 사람이 가격의 상승과 하락 추세에서 상승 폭과 하락 폭을 계산하여 그 강도를 백분율로 계산해 현재 가격의 상태를 평가하고자 만든 기술적 지표\n",
    "- 주식 또는 기타 자산 가격의 과매수 또는 과매도 상태를 평가하기 위해 최근 가격 변화의 규모를 측정하는 기술 분석에 사용되는 모멘텀 지표\n",
    "- 주식 또는 자산의 주요 추세는 지표의 수치를 올바르게 이해하는 데 중요한 도구\n",
    "- 70 이상의 값이 증권이 과매수 또는 과대 평가되고 있음을 나타냄, 추세 반전 또는 가격 조정 조정에 대비할 수 있다\n",
    "- 30 이하이면 과매도 또는 저평가 상태를 나타냄"
   ]
  },
  {
   "cell_type": "markdown",
   "metadata": {},
   "source": [
    "- MACD 와 유사한 아이디어에서 시작\n",
    "- MACD는 횡보 진행 장에서 잘못된 시그널을 남발\n",
    "    -  기간평균에 따른 문제\n",
    "- RSI\n",
    "    - 오름과 내림의 구분 전일비 변화량의 평균값-> 강도\n",
    "        * 과매수상태인지 과매도 상태인지를 파악\n",
    "    - 요소\n",
    "        * U(ups)\n",
    "        * D(downs)\n",
    "        * AU(Average Ups) 평균상승분: 전일대비 상승한날의 평균\n",
    "        * AD(Average Downs) 평균하락분: 전일대비 하락한날의 평균\n",
    "    - RS(relative strength):AU/AD\n",
    "        * RSI=RS/(1+RS)\n",
    "        * RSI=(AU/AD)/(1+AU/AD)=AU/(AU+AD)\n",
    "    - 단점\n",
    "        * 지속상승장과 지속 하락장에서 잘못된 시그널을 보낼수 있음"
   ]
  },
  {
   "cell_type": "code",
   "execution_count": 1,
   "metadata": {},
   "outputs": [],
   "source": [
    "import sqlite3\n",
    "import numpy as np\n",
    "import pandas as pd\n",
    "import matplotlib as mpl\n",
    "import matplotlib.pyplot as plt"
   ]
  },
  {
   "cell_type": "code",
   "execution_count": 2,
   "metadata": {},
   "outputs": [
    {
     "name": "stdout",
     "output_type": "stream",
     "text": [
      "select sday,sclose from stockdb where sday>\"2022-01-01\" order by sday asc\n"
     ]
    },
    {
     "data": {
      "text/plain": [
       "[('2022-01-03', 128500),\n",
       " ('2022-01-04', 128500),\n",
       " ('2022-01-05', 125500),\n",
       " ('2022-01-06', 125000),\n",
       " ('2022-01-07', 127000)]"
      ]
     },
     "execution_count": 2,
     "metadata": {},
     "output_type": "execute_result"
    }
   ],
   "source": [
    "def seldata(cols=['sday','sclose'], where='where sday>\"2022-01-01\" order by sday asc'):\n",
    "    fname='_db/nstock.db'\n",
    "    with sqlite3.connect(fname) as conn: # 사용할 SQLite DB파일 오픈\n",
    "        cur=conn.cursor() # cursor 생성\n",
    "        coltxt=','.join(cols)\n",
    "        sql='select '+coltxt+' from stockdb '+where\n",
    "        print(sql)\n",
    "        res=cur.execute(sql).fetchall() # sql쿼리 실행\n",
    "    return res\n",
    "\n",
    "res=seldata()    \n",
    "res[:5]"
   ]
  },
  {
   "cell_type": "code",
   "execution_count": 3,
   "metadata": {},
   "outputs": [
    {
     "data": {
      "text/html": [
       "<div>\n",
       "<style scoped>\n",
       "    .dataframe tbody tr th:only-of-type {\n",
       "        vertical-align: middle;\n",
       "    }\n",
       "\n",
       "    .dataframe tbody tr th {\n",
       "        vertical-align: top;\n",
       "    }\n",
       "\n",
       "    .dataframe thead th {\n",
       "        text-align: right;\n",
       "    }\n",
       "</style>\n",
       "<table border=\"1\" class=\"dataframe\">\n",
       "  <thead>\n",
       "    <tr style=\"text-align: right;\">\n",
       "      <th></th>\n",
       "      <th>sclose</th>\n",
       "    </tr>\n",
       "    <tr>\n",
       "      <th>sday</th>\n",
       "      <th></th>\n",
       "    </tr>\n",
       "  </thead>\n",
       "  <tbody>\n",
       "    <tr>\n",
       "      <th>2022-05-06</th>\n",
       "      <td>107500</td>\n",
       "    </tr>\n",
       "    <tr>\n",
       "      <th>2022-05-09</th>\n",
       "      <td>107500</td>\n",
       "    </tr>\n",
       "    <tr>\n",
       "      <th>2022-05-10</th>\n",
       "      <td>110000</td>\n",
       "    </tr>\n",
       "    <tr>\n",
       "      <th>2022-05-11</th>\n",
       "      <td>110500</td>\n",
       "    </tr>\n",
       "    <tr>\n",
       "      <th>2022-05-12</th>\n",
       "      <td>110500</td>\n",
       "    </tr>\n",
       "  </tbody>\n",
       "</table>\n",
       "</div>"
      ],
      "text/plain": [
       "            sclose\n",
       "sday              \n",
       "2022-05-06  107500\n",
       "2022-05-09  107500\n",
       "2022-05-10  110000\n",
       "2022-05-11  110500\n",
       "2022-05-12  110500"
      ]
     },
     "execution_count": 3,
     "metadata": {},
     "output_type": "execute_result"
    }
   ],
   "source": [
    "cols=['sday','sclose']\n",
    "df = pd.DataFrame(res,columns=cols)\n",
    "mdf=df.set_index('sday')\n",
    "mdf.tail()"
   ]
  },
  {
   "cell_type": "code",
   "execution_count": 5,
   "metadata": {},
   "outputs": [
    {
     "data": {
      "image/png": "[encoded data removed]",
      "text/plain": [
       "<Figure size 432x288 with 1 Axes>"
      ]
     },
     "metadata": {
      "needs_background": "light"
     },
     "output_type": "display_data"
    }
   ],
   "source": [
    "mdf.plot()\n",
    "plt.show()"
   ]
  },
  {
   "cell_type": "code",
   "execution_count": 31,
   "metadata": {},
   "outputs": [
    {
     "data": {
      "text/html": [
       "<div>\n",
       "<style scoped>\n",
       "    .dataframe tbody tr th:only-of-type {\n",
       "        vertical-align: middle;\n",
       "    }\n",
       "\n",
       "    .dataframe tbody tr th {\n",
       "        vertical-align: top;\n",
       "    }\n",
       "\n",
       "    .dataframe thead th {\n",
       "        text-align: right;\n",
       "    }\n",
       "</style>\n",
       "<table border=\"1\" class=\"dataframe\">\n",
       "  <thead>\n",
       "    <tr style=\"text-align: right;\">\n",
       "      <th></th>\n",
       "      <th>sclose</th>\n",
       "      <th>U</th>\n",
       "      <th>D</th>\n",
       "      <th>AU</th>\n",
       "      <th>AD</th>\n",
       "      <th>RSI</th>\n",
       "      <th>Rsig</th>\n",
       "    </tr>\n",
       "    <tr>\n",
       "      <th>sday</th>\n",
       "      <th></th>\n",
       "      <th></th>\n",
       "      <th></th>\n",
       "      <th></th>\n",
       "      <th></th>\n",
       "      <th></th>\n",
       "      <th></th>\n",
       "    </tr>\n",
       "  </thead>\n",
       "  <tbody>\n",
       "    <tr>\n",
       "      <th>2022-01-03</th>\n",
       "      <td>128500</td>\n",
       "      <td>0.0</td>\n",
       "      <td>0.0</td>\n",
       "      <td>0.0</td>\n",
       "      <td>0.0</td>\n",
       "      <td>0.0</td>\n",
       "      <td>0.0</td>\n",
       "    </tr>\n",
       "    <tr>\n",
       "      <th>2022-01-04</th>\n",
       "      <td>128500</td>\n",
       "      <td>0.0</td>\n",
       "      <td>0.0</td>\n",
       "      <td>0.0</td>\n",
       "      <td>0.0</td>\n",
       "      <td>0.0</td>\n",
       "      <td>0.0</td>\n",
       "    </tr>\n",
       "    <tr>\n",
       "      <th>2022-01-05</th>\n",
       "      <td>125500</td>\n",
       "      <td>0.0</td>\n",
       "      <td>3000.0</td>\n",
       "      <td>0.0</td>\n",
       "      <td>0.0</td>\n",
       "      <td>0.0</td>\n",
       "      <td>0.0</td>\n",
       "    </tr>\n",
       "    <tr>\n",
       "      <th>2022-01-06</th>\n",
       "      <td>125000</td>\n",
       "      <td>0.0</td>\n",
       "      <td>500.0</td>\n",
       "      <td>0.0</td>\n",
       "      <td>0.0</td>\n",
       "      <td>0.0</td>\n",
       "      <td>0.0</td>\n",
       "    </tr>\n",
       "    <tr>\n",
       "      <th>2022-01-07</th>\n",
       "      <td>127000</td>\n",
       "      <td>2000.0</td>\n",
       "      <td>0.0</td>\n",
       "      <td>0.0</td>\n",
       "      <td>0.0</td>\n",
       "      <td>0.0</td>\n",
       "      <td>0.0</td>\n",
       "    </tr>\n",
       "  </tbody>\n",
       "</table>\n",
       "</div>"
      ],
      "text/plain": [
       "            sclose       U       D   AU   AD  RSI  Rsig\n",
       "sday                                                   \n",
       "2022-01-03  128500     0.0     0.0  0.0  0.0  0.0   0.0\n",
       "2022-01-04  128500     0.0     0.0  0.0  0.0  0.0   0.0\n",
       "2022-01-05  125500     0.0  3000.0  0.0  0.0  0.0   0.0\n",
       "2022-01-06  125000     0.0   500.0  0.0  0.0  0.0   0.0\n",
       "2022-01-07  127000  2000.0     0.0  0.0  0.0  0.0   0.0"
      ]
     },
     "execution_count": 31,
     "metadata": {},
     "output_type": "execute_result"
    }
   ],
   "source": [
    "wsize=10\n",
    "sigsize=5\n",
    "beforeP=mdf.iloc[0,:]['sclose']\n",
    "#print(beforeP)\n",
    "\n",
    "for i,row in mdf.iterrows():\n",
    "    if (row['sclose']>beforeP):\n",
    "        mdf.loc[i,'U']=row['sclose']-beforeP\n",
    "        mdf.loc[i,'D']=0\n",
    "    else:\n",
    "        mdf.loc[i,'D']=beforeP-row['sclose']\n",
    "        mdf.loc[i,'U']=0\n",
    "    beforeP=row['sclose']\n",
    "mdf['AU']=mdf['U'].rolling(window=wsize).mean()\n",
    "mdf['AD']=mdf['D'].rolling(window=wsize).mean()\n",
    "rdf=mdf.fillna(0)\n",
    "rdf['RSI']=rdf['AU']/(rdf['AU']+rdf['AD']+0.0000001)\n",
    "rdf['Rsig']=rdf['RSI'].ewm(span=5).mean()\n",
    "rdf.head()"
   ]
  },
  {
   "cell_type": "code",
   "execution_count": 51,
   "metadata": {},
   "outputs": [
    {
     "data": {
      "text/plain": [
       "<matplotlib.legend.Legend at 0x17ebbc9aa90>"
      ]
     },
     "execution_count": 51,
     "metadata": {},
     "output_type": "execute_result"
    },
    {
     "data": {
      "image/png": "[encoded data removed]",
      "text/plain": [
       "<Figure size 432x288 with 2 Axes>"
      ]
     },
     "metadata": {
      "needs_background": "light"
     },
     "output_type": "display_data"
    }
   ],
   "source": [
    "fig,ax1=plt.subplots()\n",
    "rdf[['RSI','Rsig']].plot(ax=ax1,cmap='Set3')\n",
    "ax2=ax1.twinx()\n",
    "rdf['sclose'].plot(ax=ax2).legend(loc='lower center')"
   ]
  },
  {
   "cell_type": "code",
   "execution_count": 33,
   "metadata": {},
   "outputs": [],
   "source": [
    "def simStock(mdf,stxt='shortmv',ltxt='longmv'):\n",
    "    findex=mdf.iloc[:1,:].index[0]\n",
    "    lindex=mdf.iloc[-1:,:].index[0]\n",
    "    lindex\n",
    "    invest=200000\n",
    "    beforePos=-1\n",
    "    beforeHold=0\n",
    "\n",
    "    for i,row in mdf.iloc[10:,:].iterrows():\n",
    "        if(row[stxt]>=row[ltxt]):\n",
    "            nowpos=1 # short 상위\n",
    "        else:\n",
    "            nowpos=-1 # short 하위\n",
    "        if beforePos==-1 and nowpos==1 and beforeHold==0:\n",
    "            timing=1# 매수타이밍\n",
    "            hold=1\n",
    "            mdf.loc[i,'cash']=-row['sclose']\n",
    "            mdf.loc[i,'hold']=1\n",
    "        elif beforePos==1 and nowpos==-1 and beforeHold==1:\n",
    "            timing=-1# 매수타이밍\n",
    "            hold=0\n",
    "            mdf.loc[i,'cash']=row['sclose']\n",
    "            mdf.loc[i,'hold']=0\n",
    "        else:\n",
    "            mdf.loc[i,'cash']=0\n",
    "            timing=0 # 홀드\n",
    "            hold=beforeHold\n",
    "            mdf.loc[i,'hold']=beforeHold\n",
    "        beforeHold=hold\n",
    "        beforePos=nowpos\n",
    "        mdf.loc[findex,'cash']=invest\n",
    "        mdf['cumcash']=mdf['cash'].cumsum()\n",
    "        mdf['balalce']=mdf['sclose']*mdf['hold']+mdf['cumcash']\n",
    "    mdf.tail()\n",
    "    ecash=mdf.loc[lindex,'balalce']-invest\n",
    "    erate=ecash/invest\n",
    "    return(invest,ecash,erate)"
   ]
  },
  {
   "cell_type": "code",
   "execution_count": 34,
   "metadata": {},
   "outputs": [
    {
     "data": {
      "text/plain": [
       "(200000, -5000.0, -0.025)"
      ]
     },
     "execution_count": 34,
     "metadata": {},
     "output_type": "execute_result"
    }
   ],
   "source": [
    "simStock(rdf,stxt='RSI',ltxt='Rsig')"
   ]
  }
 ],
 "metadata": {
  "kernelspec": {
   "display_name": "Python 3 (ipykernel)",
   "language": "python",
   "name": "python3"
  },
  "language_info": {
   "codemirror_mode": {
    "name": "ipython",
    "version": 3
   },
   "file_extension": ".py",
   "mimetype": "text/x-python",
   "name": "python",
   "nbconvert_exporter": "python",
   "pygments_lexer": "ipython3",
   "version": "3.8.13"
  }
 },
 "nbformat": 4,
 "nbformat_minor": 4
}
