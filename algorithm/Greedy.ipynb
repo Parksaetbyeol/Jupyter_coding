{
 "cells": [
  {
   "cell_type": "markdown",
   "id": "992fe3c1-2d72-430b-b205-f2063787c9cf",
   "metadata": {},
   "source": [
    "# 그리디(Greedy) 알고리즘\n",
    "- 그리디 알고리즘(탐욕법)은 현재 상황에서 지금 당장 좋은 것만 고르는 방법\n",
    "- 문제를 풀기위한 최소한의 아이디어를 떠올릴 수 있는 능력을 요구\n",
    "- 정당성 분석이 중요 \n",
    "    - 단순히 가장 좋아보이는 것을 반복적으로 선택해도 최적의 해를 구할 수 있는지 검토합니다.\n",
    "- 최적의 해를 보장할 수 없을때가 많다."
   ]
  },
  {
   "cell_type": "markdown",
   "id": "c691cd21-6c32-4fd2-bafa-de73e34275bf",
   "metadata": {},
   "source": [
    "### Q. 거스름돈\n",
    "- 거스듬돈 줘야하는데 카운터에 500원, 100원, 50원, 10원짜리 동전이 무한히 존재. 거스름돈이 N원일때 동전의 최소 개수를 구하세요. 단 거슬러 줘야할 돈 N은 항상 10의 배수입니다.\n",
    "- 최적의 해를 빠르게 구하기 위해서는 가장 큰 화폐 단위부터 돈을 거슬러 주면 된다.\n",
    "- 정당성 분석 \n",
    "    - 가장 큰 화폐 단위부터 돈을 거슬러 주는 것이 최적의 해를 보장하는 이유는?\n",
    "    - 가지고 있는 동전 중에서 \"큰 단위가 항상 작은 단위의 배수이므로\" 작은 단위의 동전들을 종합해 다른 해가 나올 수 없기 떄문이다.\n",
    "    - 만약에 800원을 거슬러 줘야하면 화폐 단위가 500원,400원,100원이라면 어떻게 될까?\n",
    "        - 그리디 알고리즘에 의하면 500원 1개, 100원 3개를 주겠지만, 최소 개수는 400원 2개를 주면된다.\n",
    "    - 그리지 알고리즘 문제에서는 이처럼 문제 풀이를 위한 최소한의 아이디어를 떠올리고 이것이 정당한지 검토할 수 있어야한다."
   ]
  },
  {
   "cell_type": "code",
   "execution_count": 1,
   "id": "cc182005-6fb1-4bb8-af2c-ec70b6c22c29",
   "metadata": {},
   "outputs": [
    {
     "name": "stdout",
     "output_type": "stream",
     "text": [
      "6\n"
     ]
    }
   ],
   "source": [
    "n = 1260 # 거스름돈\n",
    "count = 0 # 몫\n",
    "\n",
    "array=[500,100,50,10]\n",
    "\n",
    "for coin in array:\n",
    "    count += n // coin # 해당 화폐로 거슬러 줄 수 있는 동전의 개수 세기\n",
    "    n %= coin # 나눈 나머지 값을 다시 coin 으로 나눌수 있도록 n으로 넣음\n",
    "print(count)"
   ]
  },
  {
   "cell_type": "markdown",
   "id": "480a5adc-6b6f-40d9-aec1-f8e65ba7fbff",
   "metadata": {},
   "source": [
    "### 거스름돈 : 시간 복잡도 문제\n",
    "- 화폐의 종류가 K라고 할때, 소스코드의 시간 복잡도는 O(K)입니다.\n",
    "- 이 알고리즘의 시간 복잡도는 거슬러줘야 하는 금액과는 무관하며, 동전의 총 종류에만 영향을 받습니다."
   ]
  },
  {
   "cell_type": "markdown",
   "id": "8e42cb20-c100-4406-bf70-4413817c7110",
   "metadata": {},
   "source": [
    "### Q. 1이 될때까지 \n",
    "- 어떤 수 N이 1이 될때까지 두 과정 중 하나를 반복적으로 선택해서 수행하려고 한다. 단, 두 연산은 N이 K로 나누어 떨어질때만 선택할 수 있다.\n",
    "- N에서 1을 뺍니다.\n",
    "- N을 K로 나눕니다.\n",
    "- ex) n=17, k=4 이때 1번의 과정을 한번 수행하면 n은 16이 되고, 이후 2번 과정을 두번 수행하면 n은 1이 된다. 결과적으로 이 경우 전체 과정을 실행한 횟수는 3이 된다. 이는 n을 1로 만드는 최소 횟수이다.\n",
    "- N과 K가 주어질때 N이 1이 될때까지 1번 혹은 2번 과정을 수행해야 하는 최소 횟수를 구하는 프로그램을 작성하시오."
   ]
  },
  {
   "cell_type": "markdown",
   "id": "7673220d-6fa7-4861-9a74-c8fc24ee5efa",
   "metadata": {},
   "source": [
    "- 1<=N<=100,000과 2<=K<=100,000 가 공백을 기준으로 각각 자연수로 주어진다.\n",
    "- 첫째줄에 N이 1이 될때까지 1번 혹은 2번의 과정을 수행해야하는 최솟값을 출력\n",
    "    - N에 대하여 최대한 많이 나누기를 수행하면 된다.\n",
    "    - N의 값을 줄일때 2 이상의 수로 나누는 작업이 1을 빼는 작업보다 수를 훨씬 많이 줄인다."
   ]
  },
  {
   "cell_type": "code",
   "execution_count": 1,
   "id": "a684b993-a895-4434-bd4f-402a3b354f11",
   "metadata": {},
   "outputs": [
    {
     "name": "stdin",
     "output_type": "stream",
     "text": [
      " 25 3\n"
     ]
    },
    {
     "name": "stdout",
     "output_type": "stream",
     "text": [
      "6\n"
     ]
    }
   ],
   "source": [
    "# n,k를 공백을 기준으로 구분하여 입력받기\n",
    "n, k = map(int, input().split())\n",
    "\n",
    "result=0 # 연산 수행 횟수\n",
    "\n",
    "while True:\n",
    "    # N이 K로 나누어 떨어지는 수가 될때까지 빼기\n",
    "    target = (n//k)*k\n",
    "    result += (n-target)\n",
    "    n = target\n",
    "    \n",
    "    # N이 K보다 작을때 (더 이상 나눌 수 없을때) 반복문 탈출\n",
    "    if n < k:\n",
    "        break\n",
    "        \n",
    "    # K로 나누기\n",
    "    result += 1\n",
    "    n //= k\n",
    "    \n",
    "# 마지막으로 남은 수에 대하여 1씩 빼기\n",
    "result += (n-1)\n",
    "print(result)"
   ]
  },
  {
   "cell_type": "code",
   "execution_count": null,
   "id": "f2fbe4a7-5711-460e-952f-c8cb3847802d",
   "metadata": {},
   "outputs": [],
   "source": []
  }
 ],
 "metadata": {
  "kernelspec": {
   "display_name": "Python 3 (ipykernel)",
   "language": "python",
   "name": "python3"
  },
  "language_info": {
   "codemirror_mode": {
    "name": "ipython",
    "version": 3
   },
   "file_extension": ".py",
   "mimetype": "text/x-python",
   "name": "python",
   "nbconvert_exporter": "python",
   "pygments_lexer": "ipython3",
   "version": "3.8.13"
  }
 },
 "nbformat": 4,
 "nbformat_minor": 5
}
