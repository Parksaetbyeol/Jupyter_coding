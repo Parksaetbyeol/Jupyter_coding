{
 "cells": [
  {
   "cell_type": "markdown",
   "id": "7291ee61-fec9-4098-abb1-658c44bdf148",
   "metadata": {},
   "source": [
    "# 1. Hash 해시\n",
    "- 임의의 크기를 가진 데이터(Key)를 고정된 크기의 데이터(Value)로 변화시켜 저장하는 것\n",
    "- 키에 대한 해시값을 사용하여 값을 저장하고 키-값 쌍의 갯수에 따라 동적으로 크기가 증가하는 associate array 이다\n",
    "- 키에 대한 해시값을 구하는 과정을 hashing(해싱)이라고 한다.\n",
    "- 해시값 자체를 index로 사용하기 때문에 평균시간복잡도가 O(1) 로 매우 빠르다\n",
    "- → 해시 태이블의 크기에 상관없이 데이터에 빠르게 접근할 수 있다.\n",
    "- → 모든 데이터를 살피지 않아도 검색과 삽입/삭제를 빠르게 실행할 수 있다.\n",
    "<img src=\"img/hash.png\"/>"
   ]
  },
  {
   "cell_type": "markdown",
   "id": "1bb00a9e-0d3b-4487-8b40-e1ab585f6ed6",
   "metadata": {},
   "source": [
    "## 해시함수\n",
    "- 위에 설명한 것과 같이 키에 대한 해시값을 만드는 함수(알고리즘)\n",
    "- 계산이 복잡하지 않고 키값에 대해 중복없이 해시값을 고르게 만들어 내는 함수가 좋은 함수 (충돌이 일어나지 않을수록 좋다)\n",
    "- 대표적으로 나눗셈법(Division Method)와 곱셉법(Multiplication Method)이 있다.\n",
    "- 좋은 해시함수의 조건은 Simple uniform hash 함수를 만드는 것으로, 조건은 다음과 같다.\n",
    "    - 계산된 해쉬값들은 0부터 배열의 크기-1 사이의 범위를 '동일한 확률'로 골고루 나타날 것.\n",
    "    - → 충돌이 일어날 확률이 적어진다.\n",
    "    - 각각의 해쉬값들은 서로 연관성을 가지지 않고 독립적으로 생성될 것.\n",
    "    - → 해쉬값들이 서로 연관이 있을 경우 연관성이 있으면 해당 해쉬값이 등장하는 패턴이나 순서가 존재 할 수 있고, 이는 반복적인 충돌을 일으 킬 확률이 있기 때문에 독립적으로 생성되도록 한다."
   ]
  },
  {
   "cell_type": "markdown",
   "id": "c10bdf46-147a-4110-a488-88e18849a251",
   "metadata": {
    "tags": []
   },
   "source": [
    "## 2. 충돌 (Collusion)\n",
    "- 해시테이블은 '충돌'이 일어날 수 있다는 문제점이 있다.\n",
    "- 충돌이란 키에 대한 해시값이 같은 경우, 즉 사용하고자하는 해시 버킷이 이미 사용중인 경우를 말한다.\n",
    "- 이를 방지하기위한 방법이 있으나, 충돌을 '완전히' 방지하기는 어렵다는 점이 해시의 한계이다.\n",
    "- 충돌 해결을 위한 방법들\n",
    "    - Chaining\n",
    "        - 충돌이 일어날 경우 데이터들을 포인터를 이용해 서로 링크드 리스트(체인)형태로 연결하는 것 \n",
    "        - 충돌을 허용하되, 최소화하는 방식에 가깝다.\n",
    "        - key값을 포인터로 이어서 연결\n",
    "        - 최악의 경우 모든 데이터가 같은 해시값을 가져 O(n)의 복잡도를 가짐\n",
    "        - JDK 라이브러리에 구현된 HashMap 은 chaining 방식을 사용하며 해당 버킷의 길이에 따라 LinkedList에서 Tree로 변경될수 있다.\n",
    "    - Open Addressing\n",
    "        - 모든 데이터를 테이블에 저장하는 방법\n",
    "        - 사용하려는 해시 버킷(테이블)이 이미 사용중인 경우 다른 버킷을 사용\n",
    "        - 포인터를 쓰지 않아 오버헤드를 방지할 수 있고 데이터가 적을 경우 연속된 공간에 인자를 저장하기 때문에 공간 효율이 높다\n",
    "        - 포인터가 필요없어 구현이 훨씬 용이해졌으며, 포인터 접근에 필요한 시간이 없어졌기 때문에 큰 성능향상이 있다.\n",
    "        - 하지만 테이블의 크기가 커질수록 장점이 사라진다.\n",
    "    - Linear Probing\n",
    "        - 충돌이 발생한다면 바로 다음 인덱스에 데이터를 저장하는 방식 다음으로 이동한 이후에도 충돌이 발생했다면 또 다시 바로 다음인덱스에 저장\n",
    "    - Double Hashing\n",
    "        - Quadratic probing의 secondary clustering를 해결하기 위해서 사용하는 방법이다.\n",
    "        - 원리는 간단한데, 해쉬 함수를 해쉬 함수 2개로 구성하는 것이다."
   ]
  },
  {
   "cell_type": "markdown",
   "id": "5a2446bc-dc22-44ea-9b9b-0f5b4461ff3f",
   "metadata": {
    "tags": []
   },
   "source": [
    "## 시간복잡도\n",
    "- 알고리즘의 로직을 코드로 구현할 때, 시간 복잡도를 고려한다는 것은 ‘입력값의 변화에 따라 연산을 실행할 때, 연산 횟수에 비해 시간이 얼마만큼 걸리는가?’라는 말이다.\n",
    "- 효율적인 알고리즘을 구현한다는 것은 바꾸어 말해 입력값이 커짐에 따라 증가하는 시간의 비율을 최소화한 알고리즘을 구성했다는 이야기이다.\n",
    "- 그리고 이 시간 복잡도는 주로 빅-오 표기법을 사용해 나타낸다.\n",
    "    - Big-O(빅-오) ⇒ 상한 점근\n",
    "    - Big-Ω(빅-오메가) ⇒ 하한 점근\n",
    "    - Big-θ(빅-세타) ⇒ 그 둘의 평균\n",
    "    - 위 세 가지 표기법은 시간 복잡도를 각각 최악, 최선, 중간(평균)의 경우에 대하여 나타내는 방법이다.\n",
    "<img src=\"img/bigO.png\"/>"
   ]
  },
  {
   "cell_type": "markdown",
   "id": "52c2d5cf-48ab-41d0-a1d8-2e8be8214f7d",
   "metadata": {},
   "source": [
    "- O(1)\n",
    "    - O(1)는 일정한 복잡도(constant complexity)라고 하며, 입력값이 증가하더라도 시간이 늘어나지 않는다.\n",
    "    - 다시 말해 입력값의 크기와 관계없이, 즉시 출력값을 얻어낼 수 있다는 의미이다.   \n",
    "- O(n)\n",
    "    - O(n)은 선형 복잡도(linear complexity)라고 부르며, 입력값이 증가함에 따라 시간 또한 같은 비율로 증가하는 것을 의미한다.\n",
    "    - 예를 들어 입력값이 1일 때 1초의 시간이 걸리고, 입력값을 100배로 증가시켰을 때 1초의 100배인 100초가 걸리는 알고리즘을 구현했다면, 그 알고리즘은 O(n)의 시간 복잡도를 가진다고 할 수 있다.    \n",
    "- O(log n)\n",
    "    - O(log n)은 로그 복잡도(logarithmic complexity)라고 부르며, Big-O표기법중 O(1) 다음으로 빠른 시간 복잡도를 가진다.\n",
    "    - 자료구조에서 배웠던 BST(Binary Search Tree)를 기억하는가?\n",
    "    - BST에선 원하는 값을 탐색할 때, 노드를 이동할 때마다 경우의 수가 절반으로 줄어든다.\n",
    "    - 이해하기 쉬운 게임으로 비유해 보자면 up & down을 예로 들 수 있다.\n",
    "        - 1~100 중 하나의 숫자를 플레이어1이 고른다. (30을 골랐다고 가정한다.)\n",
    "        - 50(가운데) 숫자를 제시하면 50보다 작으므로 down을 외친다.\n",
    "        - 1~50중의 하나의 숫자이므로 또다시 경우의 수를 절반으로 줄이기 위해 25를 제시한다.\n",
    "        - 25보다 크므로 up을 외친다.\n",
    "        - 경우의 수를 계속 절반으로 줄여나가며 정답을 찾는다.\n",
    "    - 매번 숫자를 제시할 때마다 경우의 수가 절반이 줄어들기 때문에 최악의 경우에도 7번이면 원하는 숫자를 찾아낼 수 있게 된다.\n",
    "    - BST의 값 탐색 또한 이와같은 로직으로, O(log n)의 시간 복잡도를 가진 알고리즘(탐색기법)이다.\n",
    "- O(n2)\n",
    "    - O(n2)은 2차 복잡도(quadratic complexity)라고 부르며, 입력값이 증가함에 따라 시간이 n의 제곱수의 비율로 증가하는 것을 의미한다.\n",
    "    - 예를 들어 입력값이 1일 경우 1초가 걸리던 알고리즘에 5라는 값을 주었더니 25초가 걸리게 된다면, 이 알고리즘의 시간 복잡도는 O(n2)라고 표현한다.   \n",
    "- O(2n)\n",
    "    - O(2n)은 기하급수적 복잡도(exponential complexity)라고 부르며, Big-O 표기법 중 가장 느린 시간 복잡도를 가진다.\n",
    "    - 종이를 42번 접으면 그 두께가 지구에서 달까지의 거리보다 커진다는 이야기를 들어보신 적 있으신가?\n",
    "    - 고작 42번 만에 얇은 종이가 그만한 두께를 가질 수 있는 것은, 매번 접힐 때마다 두께가 2배 로 늘어나기 때문이다.\n",
    "    - 구현한 알고리즘의 시간 복잡도가 O(2n)이라면 다른 접근 방식을 고민해 보는 것이 좋다.\n",
    "    - 재귀로 구현하는 피보나치 수열은 O(2n)의 시간 복잡도를 가진 대표적인 알고리즘이다.\n",
    "    - 브라우저 개발자 창에서 n을 40으로 두어도 수초가 걸리는 것을 확인할 수 있으며, n이 100 이상이면 평생 결과를 반환받지 못할 수도 있다."
   ]
  },
  {
   "cell_type": "markdown",
   "id": "5a51285c-7b1e-4220-b319-fd93112cdbd8",
   "metadata": {},
   "source": [
    "### 해시는 언제 사용\n",
    "- 1. 리스트를 쓸 수 없을 때 \n",
    "    - 리스트는 숫자 인덱스를 이용하여 원소에 접근하는데 즉 list[1]은 가능하지만 list['a']는 불가능.\n",
    "    - 인덱스 값을 숫자가 아닌 다른 값 '문자열, 튜플'을 사용하려고 할 때 딕셔너리를 사용하면 좋다.\n",
    "- 2. 빠른 접근 / 탐색이 필요할 때 \n",
    "    - 딕셔너리 함수의 시간복잡도는 대부분 O(1)이므로 아주 빠른 자료구조이다.\n",
    "- 3. 집계가 필요할 때\n",
    "    - 원소의 개수를 세는 문제는 코딩 테스트에서 많이 출제되는 문제이다. 이때 해시와, collections 모듈의 Counter 클래스를 사용하면 아주 빠르게 문제를 푸실 수 있다."
   ]
  },
  {
   "cell_type": "markdown",
   "id": "7292b9f7-b53a-436b-a01e-144eff26cc82",
   "metadata": {},
   "source": [
    "## 딕셔너리(Dictionary)"
   ]
  },
  {
   "cell_type": "markdown",
   "id": "e03f2e3e-cd69-4e88-bf9b-9f6f44ec7c41",
   "metadata": {},
   "source": [
    "- 해시(Hash)는 파이썬에서 딕셔너리 자료구조로 제공한다."
   ]
  },
  {
   "cell_type": "code",
   "execution_count": 1,
   "id": "a0381a2d-26cf-4728-a354-87418aab10f8",
   "metadata": {},
   "outputs": [],
   "source": [
    "# 빈딕셔너리 생성\n",
    "dict1 = {}\n",
    "dict2 = dict() "
   ]
  },
  {
   "cell_type": "code",
   "execution_count": 11,
   "id": "b891d5ed-3514-4913-9e8b-033b33a2ce30",
   "metadata": {},
   "outputs": [
    {
     "data": {
      "text/plain": [
       "{'apple': '1000', 'grape': 2000, 'orange': 3000}"
      ]
     },
     "execution_count": 11,
     "metadata": {},
     "output_type": "execute_result"
    }
   ],
   "source": [
    "# 특정 key-value쌍을 가진 dictionary 선언\n",
    "\n",
    "fruit = {\n",
    "    'apple': '1000',\n",
    "    'grape': 2000,\n",
    "    'orange': 3000,\n",
    "}\n",
    "fruit"
   ]
  },
  {
   "cell_type": "code",
   "execution_count": 12,
   "id": "b1b94d19-73d9-4a40-ab56-253d620d97e4",
   "metadata": {},
   "outputs": [
    {
     "data": {
      "text/plain": [
       "{'Tiger': {'name': '무궁이', 'age': '3'}, 'panda': {'name': '푸바오', 'weight': 500}}"
      ]
     },
     "execution_count": 12,
     "metadata": {},
     "output_type": "execute_result"
    }
   ],
   "source": [
    "# dictionary를 value로 가지는 dictionary 선언\n",
    "\n",
    "Animals = {\n",
    "    'Tiger': {\n",
    "        'name': '무궁이',\n",
    "        'age': '3'\n",
    "    },\n",
    "    'panda': {\n",
    "        'name': '푸바오',\n",
    "        'weight': 500\n",
    "    }\n",
    "}\n",
    "Animals"
   ]
  },
  {
   "cell_type": "markdown",
   "id": "9e728ba2-5c81-45d8-a090-08b2ded2820d",
   "metadata": {},
   "source": [
    "- 딕셔녀리의 원소를 가져오는 방법은 [] 와 get 메소드가 있다."
   ]
  },
  {
   "cell_type": "code",
   "execution_count": 20,
   "id": "3bd8785a-98ca-417d-905b-58df49a9a497",
   "metadata": {},
   "outputs": [
    {
     "data": {
      "text/plain": [
       "'1000'"
      ]
     },
     "execution_count": 20,
     "metadata": {},
     "output_type": "execute_result"
    }
   ],
   "source": [
    "# [] 기호\n",
    "\n",
    "fruit = {'apple': '1000', 'grape': 2000 }\n",
    "fruit['apple']"
   ]
  },
  {
   "cell_type": "code",
   "execution_count": 21,
   "id": "ed49d6f8-0cbe-48ab-a1b7-b43840bde82e",
   "metadata": {},
   "outputs": [
    {
     "data": {
      "text/plain": [
       "0"
      ]
     },
     "execution_count": 21,
     "metadata": {},
     "output_type": "execute_result"
    }
   ],
   "source": [
    "# get 메소드\n",
    "# 딕셔너리에 해당 key가 없을때 Key Error 를 내는 대신, 특정한 값을 가져온다.\n",
    "\n",
    "fruit = {'apple': '1000', 'grape': 2000 }\n",
    "fruit.get('orange', 0)"
   ]
  },
  {
   "cell_type": "code",
   "execution_count": 22,
   "id": "bf0e269f-9bee-488b-8ca0-34c08915fe5b",
   "metadata": {},
   "outputs": [
    {
     "data": {
      "text/plain": [
       "'1000'"
      ]
     },
     "execution_count": 22,
     "metadata": {},
     "output_type": "execute_result"
    }
   ],
   "source": [
    "# get 메소드\n",
    "# 딕셔너리에 해당 key가 있으면 대응하는 value를 가져온다.\n",
    "\n",
    "fruit = {'apple': '1000', 'grape': 2000 }\n",
    "fruit.get('apple', 0) # 180"
   ]
  },
  {
   "cell_type": "markdown",
   "id": "d4f7b24c-049f-4142-8021-c91d81286489",
   "metadata": {},
   "source": [
    "#### Set\n",
    "- 딕셔너리에 값을 집어넣거나, 값을 업데이트 할 때 [ ] 사용"
   ]
  },
  {
   "cell_type": "code",
   "execution_count": 23,
   "id": "b0706f5e-4646-4b38-9ad8-b02e8798ef04",
   "metadata": {},
   "outputs": [
    {
     "data": {
      "text/plain": [
       "{'유재석': 180, '조세호': 160, '박명수': 170}"
      ]
     },
     "execution_count": 23,
     "metadata": {},
     "output_type": "execute_result"
    }
   ],
   "source": [
    "# 값 집어넣기\n",
    "\n",
    "dict = {'유재석': 180, '조세호': 160}\n",
    "dict['박명수'] = 170\n",
    "dict"
   ]
  },
  {
   "cell_type": "code",
   "execution_count": 24,
   "id": "1c51bfa5-a202-458a-bebf-bad2d2e98169",
   "metadata": {},
   "outputs": [],
   "source": [
    "# 값 수정하기\n",
    "\n",
    "dict = {'유재석': 180, '조세호': 160}\n",
    "dict['유재석'] = 170"
   ]
  },
  {
   "cell_type": "code",
   "execution_count": 28,
   "id": "36a47bf5-c2c3-4e7d-b5f0-217d8f4432b1",
   "metadata": {},
   "outputs": [
    {
     "data": {
      "text/plain": [
       "{'유재석': 180, '조세호': 160}"
      ]
     },
     "execution_count": 28,
     "metadata": {},
     "output_type": "execute_result"
    }
   ],
   "source": [
    "# 값 수정하기\n",
    "\n",
    "dict = {'유재석': 170, '조세호': 160}\n",
    "dict['유재석'] += 10\n",
    "dict"
   ]
  },
  {
   "cell_type": "markdown",
   "id": "d194915d-f76a-463c-b83e-5aa1a5759cc8",
   "metadata": {},
   "source": [
    "### delete"
   ]
  },
  {
   "cell_type": "markdown",
   "id": "7e61ef8b-d012-4f78-aad7-0230acc3e85f",
   "metadata": {},
   "source": [
    "- del dict[key]\n",
    "    - 만약 딕셔너리에 key가 없다면 keyError가 발생\n",
    "\n",
    "- pop(key[,default])\n",
    "    - pop메소드는 key 값에 해당하는 value를 리턴. \n",
    "    - key가 없다면 두번째 파라미터인 default를 리턴.\n",
    "    - 만약 default를 설정하지 않으면 keyError가 발생."
   ]
  },
  {
   "cell_type": "code",
   "execution_count": 29,
   "id": "f9fb9300-e821-46b3-b28e-1bfc900f2ca8",
   "metadata": {},
   "outputs": [
    {
     "data": {
      "text/plain": [
       "{'조세호': 160}"
      ]
     },
     "execution_count": 29,
     "metadata": {},
     "output_type": "execute_result"
    }
   ],
   "source": [
    "# del - 키가 있는 경우\n",
    "\n",
    "dict = {'유재석': 180, '조세호': 160}\n",
    "del dict['유재석']\n",
    "    \n",
    "dict"
   ]
  },
  {
   "cell_type": "code",
   "execution_count": 30,
   "id": "0129e569-0f84-48fd-b0c6-78314e0cf72b",
   "metadata": {},
   "outputs": [
    {
     "ename": "KeyError",
     "evalue": "'박명수'",
     "output_type": "error",
     "traceback": [
      "\u001b[1;31m---------------------------------------------------------------------------\u001b[0m",
      "\u001b[1;31mKeyError\u001b[0m                                  Traceback (most recent call last)",
      "Input \u001b[1;32mIn [30]\u001b[0m, in \u001b[0;36m<cell line: 4>\u001b[1;34m()\u001b[0m\n\u001b[0;32m      1\u001b[0m \u001b[38;5;66;03m# del - 키가 없는 경우 KeyError\u001b[39;00m\n\u001b[0;32m      3\u001b[0m \u001b[38;5;28mdict\u001b[39m \u001b[38;5;241m=\u001b[39m {\u001b[38;5;124m'\u001b[39m\u001b[38;5;124m유재석\u001b[39m\u001b[38;5;124m'\u001b[39m: \u001b[38;5;241m180\u001b[39m, \u001b[38;5;124m'\u001b[39m\u001b[38;5;124m조세호\u001b[39m\u001b[38;5;124m'\u001b[39m: \u001b[38;5;241m160\u001b[39m}\n\u001b[1;32m----> 4\u001b[0m \u001b[38;5;28;01mdel\u001b[39;00m \u001b[38;5;28mdict\u001b[39m[\u001b[38;5;124m'\u001b[39m\u001b[38;5;124m박명수\u001b[39m\u001b[38;5;124m'\u001b[39m]\n",
      "\u001b[1;31mKeyError\u001b[0m: '박명수'"
     ]
    }
   ],
   "source": [
    "# del - 키가 없는 경우 KeyError\n",
    "\n",
    "dict = {'유재석': 180, '조세호': 160}\n",
    "del dict['박명수'] "
   ]
  },
  {
   "cell_type": "code",
   "execution_count": 31,
   "id": "b17c707d-0af1-43d5-bfb6-ce01357ace80",
   "metadata": {},
   "outputs": [
    {
     "data": {
      "text/plain": [
       "180"
      ]
     },
     "execution_count": 31,
     "metadata": {},
     "output_type": "execute_result"
    }
   ],
   "source": [
    "# pop 이용하기 - 키가 있는 경우 대응하는 value 리턴\n",
    "\n",
    "dict = {'유재석': 180, '조세호': 160}\n",
    "dict.pop('유재석', 180)"
   ]
  },
  {
   "cell_type": "code",
   "execution_count": 34,
   "id": "4d7194f8-9522-47a0-b8fa-5a93d9660568",
   "metadata": {},
   "outputs": [
    {
     "data": {
      "text/plain": [
       "160"
      ]
     },
     "execution_count": 34,
     "metadata": {},
     "output_type": "execute_result"
    }
   ],
   "source": [
    "# pop 이용하기 - 키가 없는 경우 대응하는 default 리턴\n",
    "\n",
    "dict = {'유재석': 180, '조세호': 160}\n",
    "dict.pop('박명수', 160)"
   ]
  },
  {
   "cell_type": "markdown",
   "id": "b408bda0-38e3-497d-9e47-0e1f12aa476c",
   "metadata": {},
   "source": [
    "### iterate\n",
    "- 딕셔너리를 for문을 이용하여 조회\n",
    "    - key로만 순회하기\n",
    "    - key, value 동시 순회하기 (items() 사용)"
   ]
  },
  {
   "cell_type": "code",
   "execution_count": 35,
   "id": "5b5d7e57-bd17-450a-bf18-9469c98bfe8c",
   "metadata": {},
   "outputs": [
    {
     "name": "stdout",
     "output_type": "stream",
     "text": [
      "유재석\n",
      "조세호\n"
     ]
    }
   ],
   "source": [
    "# key로만 순회\n",
    "\n",
    "dict = {'유재석': 180, '조세호': 160}\n",
    "\n",
    "for key in dict:\n",
    "    print(key)"
   ]
  },
  {
   "cell_type": "code",
   "execution_count": 36,
   "id": "f617567c-14e1-4665-b553-5caf68eb892c",
   "metadata": {},
   "outputs": [
    {
     "name": "stdout",
     "output_type": "stream",
     "text": [
      "유재석 180\n",
      "조세호 160\n"
     ]
    }
   ],
   "source": [
    "# key-value 동시 순회\n",
    "\n",
    "dict = {'유재석': 180, '조세호': 160}\n",
    "\n",
    "for key, value in dict.items():\n",
    "    print(key, value)"
   ]
  },
  {
   "cell_type": "markdown",
   "id": "2433b70e-768a-4a34-a43b-40ce5f7b4549",
   "metadata": {},
   "source": [
    "### in"
   ]
  },
  {
   "cell_type": "code",
   "execution_count": 38,
   "id": "d7bd54bf-4e9f-4acf-b62c-1b9167f23bf7",
   "metadata": {},
   "outputs": [
    {
     "name": "stdout",
     "output_type": "stream",
     "text": [
      "True\n",
      "True\n"
     ]
    }
   ],
   "source": [
    "# 딕셔너리 안에 있는지 조회\n",
    "\n",
    "dict = {'유재석': 180, '조세호': 160}\n",
    "\n",
    "print(\"유재석\" in dict)\n",
    "print(\"박명수\" not in dict)"
   ]
  },
  {
   "cell_type": "markdown",
   "id": "a18e7f40-97a3-4a1d-80f0-2e9bf714d501",
   "metadata": {
    "tags": []
   },
   "source": [
    "### key만 뽑기"
   ]
  },
  {
   "cell_type": "code",
   "execution_count": 40,
   "id": "3731e697-f463-458c-a4c6-ff17882962d0",
   "metadata": {},
   "outputs": [
    {
     "data": {
      "text/plain": [
       "dict_keys(['유재석', '조세호'])"
      ]
     },
     "execution_count": 40,
     "metadata": {},
     "output_type": "execute_result"
    }
   ],
   "source": [
    "dict = {'유재석': 180, '조세호': 160}\n",
    "dict.keys()"
   ]
  },
  {
   "cell_type": "markdown",
   "id": "9da3a784-a3cb-4e21-8286-aec5df400eb3",
   "metadata": {},
   "source": [
    "### value만 뽑기"
   ]
  },
  {
   "cell_type": "code",
   "execution_count": 41,
   "id": "431e9b19-65df-4984-898a-e1ee968b0060",
   "metadata": {},
   "outputs": [
    {
     "data": {
      "text/plain": [
       "dict_values([180, 160])"
      ]
     },
     "execution_count": 41,
     "metadata": {},
     "output_type": "execute_result"
    }
   ],
   "source": [
    "dict = {'유재석': 180, '조세호': 160}\n",
    "dict.values()"
   ]
  },
  {
   "cell_type": "markdown",
   "id": "5f2c1dae-d17c-46b7-a1bd-bf6384794461",
   "metadata": {},
   "source": [
    "### key, value 동시에 뽑기"
   ]
  },
  {
   "cell_type": "code",
   "execution_count": 43,
   "id": "cc0272d7-1405-472d-8844-7a06b5937472",
   "metadata": {},
   "outputs": [
    {
     "data": {
      "text/plain": [
       "dict_items([('유재석', 180), ('조세호', 160)])"
      ]
     },
     "execution_count": 43,
     "metadata": {},
     "output_type": "execute_result"
    }
   ],
   "source": [
    "dict = {'유재석': 180, '조세호': 160}\n",
    "dict.items()"
   ]
  },
  {
   "cell_type": "code",
   "execution_count": null,
   "id": "bf1719f7-a4b6-4d3d-ac12-68489885dd58",
   "metadata": {},
   "outputs": [],
   "source": []
  }
 ],
 "metadata": {
  "kernelspec": {
   "display_name": "Python 3 (ipykernel)",
   "language": "python",
   "name": "python3"
  },
  "language_info": {
   "codemirror_mode": {
    "name": "ipython",
    "version": 3
   },
   "file_extension": ".py",
   "mimetype": "text/x-python",
   "name": "python",
   "nbconvert_exporter": "python",
   "pygments_lexer": "ipython3",
   "version": "3.8.13"
  }
 },
 "nbformat": 4,
 "nbformat_minor": 5
}
