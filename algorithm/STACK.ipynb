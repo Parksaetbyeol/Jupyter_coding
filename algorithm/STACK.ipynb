{
 "cells": [
  {
   "cell_type": "markdown",
   "id": "f35f1b67-fab9-4071-9129-57d5974c1ca9",
   "metadata": {},
   "source": [
    "- DFS : Stack - 마지막에 넣은걸 가장 먼저 꺼낸다. (LIFO:Last In First Out)\n",
    "- BFS : Queue - 첫번째로 넣은걸 가장 먼저 꺼낸다. (FIFO:First In First Out)"
   ]
  },
  {
   "cell_type": "markdown",
   "id": "990a324a-1def-4d00-8eda-875cae79c01f",
   "metadata": {
    "jp-MarkdownHeadingCollapsed": true,
    "tags": []
   },
   "source": [
    "# Stack 스택"
   ]
  },
  {
   "cell_type": "code",
   "execution_count": 3,
   "id": "78f26684-777b-44b2-bede-a9b1eac773b0",
   "metadata": {},
   "outputs": [
    {
     "data": {
      "text/plain": [
       "[]"
      ]
     },
     "execution_count": 3,
     "metadata": {},
     "output_type": "execute_result"
    }
   ],
   "source": [
    "stack=[]\n",
    "stack"
   ]
  },
  {
   "cell_type": "code",
   "execution_count": 5,
   "id": "3ef47487-95f4-4aa1-b088-62f20c6224f7",
   "metadata": {},
   "outputs": [
    {
     "data": {
      "text/plain": [
       "[1, 2, 3, 4]"
      ]
     },
     "execution_count": 5,
     "metadata": {},
     "output_type": "execute_result"
    }
   ],
   "source": [
    "stack=[1,2,3]\n",
    "stack.append(4) # 원소 넣기\n",
    "stack"
   ]
  },
  {
   "cell_type": "code",
   "execution_count": 6,
   "id": "a88d3585-936f-4d9e-8662-e465c1da32a1",
   "metadata": {},
   "outputs": [
    {
     "data": {
      "text/plain": [
       "[1, 2, 3]"
      ]
     },
     "execution_count": 6,
     "metadata": {},
     "output_type": "execute_result"
    }
   ],
   "source": [
    "stack.pop() # 원소 뺴기\n",
    "stack"
   ]
  },
  {
   "cell_type": "code",
   "execution_count": 9,
   "id": "8fb737da-84e5-44d3-aa98-aafc450f9481",
   "metadata": {},
   "outputs": [
    {
     "data": {
      "text/plain": [
       "4"
      ]
     },
     "execution_count": 9,
     "metadata": {},
     "output_type": "execute_result"
    }
   ],
   "source": [
    "stack=[1,2,3]\n",
    "stack.append(4)\n",
    "top=stack.pop()\n",
    "top # 빼는 원소 확인 가능"
   ]
  },
  {
   "cell_type": "code",
   "execution_count": 10,
   "id": "cbbbeae7-98ad-4660-a219-6d150df6b0fe",
   "metadata": {},
   "outputs": [
    {
     "data": {
      "text/plain": [
       "3"
      ]
     },
     "execution_count": 10,
     "metadata": {},
     "output_type": "execute_result"
    }
   ],
   "source": [
    "# 스택에서 원소를 제거하지 않고 가져오기만 할때\n",
    "stack=[1,2,3]\n",
    "top=stack[-1]\n",
    "top"
   ]
  },
  {
   "cell_type": "markdown",
   "id": "77c7cab2-f3cb-46cc-813d-dcfa3deae74b",
   "metadata": {
    "jp-MarkdownHeadingCollapsed": true,
    "tags": []
   },
   "source": [
    "# Queue 큐"
   ]
  },
  {
   "cell_type": "code",
   "execution_count": 29,
   "id": "397e896f-33c9-4a72-826e-cb61c084ac32",
   "metadata": {},
   "outputs": [
    {
     "data": {
      "text/plain": [
       "[1]"
      ]
     },
     "execution_count": 29,
     "metadata": {},
     "output_type": "execute_result"
    }
   ],
   "source": [
    "# 리스트 구조를 사용해서 큐 사용하기\n",
    "queue=[]\n",
    "queue.append(1) # 여러개는 안됨\n",
    "queue"
   ]
  },
  {
   "cell_type": "code",
   "execution_count": 30,
   "id": "f6d4300b-79c7-47ea-83e5-497699d21eef",
   "metadata": {},
   "outputs": [
    {
     "data": {
      "text/plain": [
       "[2, 1, 4, 5, 6]"
      ]
     },
     "execution_count": 30,
     "metadata": {},
     "output_type": "execute_result"
    }
   ],
   "source": [
    "queue=[4,5,6]\n",
    "queue.insert(0,1) # 앞에부터 넣기\n",
    "queue.insert(0,2)\n",
    "queue"
   ]
  },
  {
   "cell_type": "code",
   "execution_count": 31,
   "id": "e24b8919-9c2d-486b-8a77-4729fd97dc30",
   "metadata": {},
   "outputs": [
    {
     "data": {
      "text/plain": [
       "6"
      ]
     },
     "execution_count": 31,
     "metadata": {},
     "output_type": "execute_result"
    }
   ],
   "source": [
    "queue.pop()"
   ]
  },
  {
   "cell_type": "code",
   "execution_count": 32,
   "id": "d7e149c0-038f-4cb3-be0c-d89c238f699c",
   "metadata": {},
   "outputs": [],
   "source": [
    "from queue import Queue # queue모듈의 Queue 클래스 사용하기"
   ]
  },
  {
   "cell_type": "code",
   "execution_count": 37,
   "id": "d5af6207-440d-4885-9938-ae648e78b4e4",
   "metadata": {},
   "outputs": [
    {
     "data": {
      "text/plain": [
       "<queue.Queue at 0x248edfe8b20>"
      ]
     },
     "execution_count": 37,
     "metadata": {},
     "output_type": "execute_result"
    }
   ],
   "source": [
    "que=Queue()\n",
    "que.put(1)\n",
    "que.put(2)\n",
    "que.put(3)\n",
    "que"
   ]
  },
  {
   "cell_type": "code",
   "execution_count": 38,
   "id": "1a5b8594-960a-4a0c-8b02-8922a3d3eb4c",
   "metadata": {},
   "outputs": [
    {
     "data": {
      "text/plain": [
       "1"
      ]
     },
     "execution_count": 38,
     "metadata": {},
     "output_type": "execute_result"
    }
   ],
   "source": [
    "que.get()"
   ]
  },
  {
   "cell_type": "code",
   "execution_count": 39,
   "id": "b48d216a-7431-4f0c-900d-c6968f8d0f9f",
   "metadata": {},
   "outputs": [
    {
     "data": {
      "text/plain": [
       "2"
      ]
     },
     "execution_count": 39,
     "metadata": {},
     "output_type": "execute_result"
    }
   ],
   "source": [
    "que.get()"
   ]
  },
  {
   "cell_type": "code",
   "execution_count": 40,
   "id": "d08b4177-4b1a-41ed-94d2-0e39f5e2488b",
   "metadata": {},
   "outputs": [
    {
     "data": {
      "text/plain": [
       "3"
      ]
     },
     "execution_count": 40,
     "metadata": {},
     "output_type": "execute_result"
    }
   ],
   "source": [
    "que.get()"
   ]
  },
  {
   "cell_type": "markdown",
   "id": "11dac7ea-9b56-4cc0-9471-c4ab7224e983",
   "metadata": {
    "tags": []
   },
   "source": [
    "# deque"
   ]
  },
  {
   "cell_type": "code",
   "execution_count": 2,
   "id": "0b4ca463-14a8-4b40-a1cf-3b6440ec1f09",
   "metadata": {},
   "outputs": [],
   "source": [
    "# 데이터를 양방향에서 추가하고 제거할 수 있는 자료 구조\n",
    "from collections import deque "
   ]
  },
  {
   "cell_type": "code",
   "execution_count": 23,
   "id": "83ce678c-0c41-4742-97ec-89e2f78e62df",
   "metadata": {},
   "outputs": [
    {
     "data": {
      "text/plain": [
       "deque([1, 2, 3, 4])"
      ]
     },
     "execution_count": 23,
     "metadata": {},
     "output_type": "execute_result"
    }
   ],
   "source": [
    "queue = deque([1,2,3])\n",
    "queue.append(4)\n",
    "queue"
   ]
  },
  {
   "cell_type": "code",
   "execution_count": 24,
   "id": "c7481638-25b6-48cd-8f30-2b6f575303a9",
   "metadata": {},
   "outputs": [
    {
     "data": {
      "text/plain": [
       "deque([2, 3, 4])"
      ]
     },
     "execution_count": 24,
     "metadata": {},
     "output_type": "execute_result"
    }
   ],
   "source": [
    "# 가장 앞에부터 제거\n",
    "queue.popleft()\n",
    "queue"
   ]
  },
  {
   "cell_type": "code",
   "execution_count": 25,
   "id": "b7572390-29b3-424e-8d0e-4f1371edfb77",
   "metadata": {},
   "outputs": [
    {
     "data": {
      "text/plain": [
       "deque([4, 1, 2, 3])"
      ]
     },
     "execution_count": 25,
     "metadata": {},
     "output_type": "execute_result"
    }
   ],
   "source": [
    "# 데이터를 맨 앞에서 삽입 = insert(0,n)\n",
    "queue = deque([1,2,3])\n",
    "queue.appendleft(4)\n",
    "queue"
   ]
  },
  {
   "cell_type": "code",
   "execution_count": 26,
   "id": "cf1870a9-ff8e-4548-b0b0-516ac7baedeb",
   "metadata": {},
   "outputs": [
    {
     "data": {
      "text/plain": [
       "3"
      ]
     },
     "execution_count": 26,
     "metadata": {},
     "output_type": "execute_result"
    }
   ],
   "source": [
    "queue.pop()"
   ]
  },
  {
   "cell_type": "code",
   "execution_count": 27,
   "id": "a60effb9-98ef-4a96-bc92-7331055c44c1",
   "metadata": {},
   "outputs": [
    {
     "data": {
      "text/plain": [
       "deque([4, 1, 2])"
      ]
     },
     "execution_count": 27,
     "metadata": {},
     "output_type": "execute_result"
    }
   ],
   "source": [
    "queue"
   ]
  },
  {
   "cell_type": "code",
   "execution_count": 47,
   "id": "bcb0e3cc-e692-47d6-8140-af2889076e55",
   "metadata": {},
   "outputs": [
    {
     "data": {
      "text/plain": [
       "deque([1, 2, 3])"
      ]
     },
     "execution_count": 47,
     "metadata": {},
     "output_type": "execute_result"
    }
   ],
   "source": [
    "queue=deque()\n",
    "queue.append(1)\n",
    "queue.append(2)\n",
    "queue.append(3)\n",
    "queue"
   ]
  },
  {
   "cell_type": "code",
   "execution_count": 48,
   "id": "01959e36-20ee-4058-9c78-879129aab447",
   "metadata": {},
   "outputs": [
    {
     "data": {
      "text/plain": [
       "1"
      ]
     },
     "execution_count": 48,
     "metadata": {},
     "output_type": "execute_result"
    }
   ],
   "source": [
    "queue.popleft() # 가장 왼쪽부터 뺌"
   ]
  },
  {
   "cell_type": "code",
   "execution_count": 49,
   "id": "32c28c55-6198-4f0b-86a4-a2ca350fd995",
   "metadata": {},
   "outputs": [
    {
     "data": {
      "text/plain": [
       "deque([2, 3])"
      ]
     },
     "execution_count": 49,
     "metadata": {},
     "output_type": "execute_result"
    }
   ],
   "source": [
    "queue"
   ]
  },
  {
   "cell_type": "code",
   "execution_count": 51,
   "id": "c94a5729-d383-4dd4-9dec-f6f86aa6c457",
   "metadata": {},
   "outputs": [
    {
     "name": "stdout",
     "output_type": "stream",
     "text": [
      "deque([1, 2, 3])\n",
      "deque([3, 2, 1])\n"
     ]
    }
   ],
   "source": [
    "queue = deque([1,2,3])\n",
    "print(queue) # 먼저 들어온 순서대로 출력\n",
    "queue.reverse() # 역순으로 바꾸기\n",
    "print(queue)"
   ]
  },
  {
   "cell_type": "markdown",
   "id": "43f3f965-e53c-4849-98fc-d69a3d6818fd",
   "metadata": {
    "tags": []
   },
   "source": [
    "# 1. 재귀함수(Recursive Function)\n",
    "- 자기 자신을 다시 호출하는 함수를 의미한다.\n",
    "- 단순한 형태의 재귀 함수 예제\n",
    "    - '재귀 함수를 호출합니다'라는 문자열을 무한히 출력\n",
    "    - 어느 정도 출력하다가 에러가 뜨고 최대 재귀 깊이 초과 메세지가 출력됩니다.\n",
    "- stack과 비슷하여 stack라이브러리를 사용하지 않고 그냥 재귀함수를 사용해서 구현하는 경우도 많음\n",
    "- 함수는 stack의 원리인 LIFO을 따르기 때문에 가장 나중에 호출된 함수가 가장 먼저 종료됨.(역순으로 종료된다는 의미)"
   ]
  },
  {
   "cell_type": "raw",
   "id": "b62e69f0-1ca3-4253-8d19-8654f6c7f027",
   "metadata": {},
   "source": [
    "# 재귀함수 무한 호출\n",
    "def recursive_function():\n",
    "    print('재귀 함수를 호출합니다.')\n",
    "    recursive_function()"
   ]
  },
  {
   "cell_type": "markdown",
   "id": "2bdcba3a-ccb7-4b06-a1a2-5a50cc622e86",
   "metadata": {},
   "source": [
    "- 재귀 함수를 문제 풀이에 사용할 떄는 재귀함수의 '종료 조건'을 반드시 명시해야한다.\n",
    "- 종료 조건을 제대로 명시하지 않으면 함수가 무한히 호출될 수 있음"
   ]
  },
  {
   "cell_type": "code",
   "execution_count": 3,
   "id": "64f61f15-5c3d-489e-b433-5fdf8fdbe96b",
   "metadata": {
    "collapsed": true,
    "jupyter": {
     "outputs_hidden": true
    },
    "tags": []
   },
   "outputs": [
    {
     "name": "stdout",
     "output_type": "stream",
     "text": [
      "1 번째 재귀함수에서 2 번째 재귀함수를 호출합니다.\n",
      "2 번째 재귀함수에서 3 번째 재귀함수를 호출합니다.\n",
      "3 번째 재귀함수에서 4 번째 재귀함수를 호출합니다.\n",
      "4 번째 재귀함수에서 5 번째 재귀함수를 호출합니다.\n",
      "5 번째 재귀함수에서 6 번째 재귀함수를 호출합니다.\n",
      "6 번째 재귀함수에서 7 번째 재귀함수를 호출합니다.\n",
      "7 번째 재귀함수에서 8 번째 재귀함수를 호출합니다.\n",
      "8 번째 재귀함수에서 9 번째 재귀함수를 호출합니다.\n",
      "9 번째 재귀함수에서 10 번째 재귀함수를 호출합니다.\n",
      "10 번째 재귀함수에서 11 번째 재귀함수를 호출합니다.\n",
      "11 번째 재귀함수에서 12 번째 재귀함수를 호출합니다.\n",
      "12 번째 재귀함수에서 13 번째 재귀함수를 호출합니다.\n",
      "13 번째 재귀함수에서 14 번째 재귀함수를 호출합니다.\n",
      "14 번째 재귀함수에서 15 번째 재귀함수를 호출합니다.\n",
      "15 번째 재귀함수에서 16 번째 재귀함수를 호출합니다.\n",
      "16 번째 재귀함수에서 17 번째 재귀함수를 호출합니다.\n",
      "17 번째 재귀함수에서 18 번째 재귀함수를 호출합니다.\n",
      "18 번째 재귀함수에서 19 번째 재귀함수를 호출합니다.\n",
      "19 번째 재귀함수에서 20 번째 재귀함수를 호출합니다.\n",
      "20 번째 재귀함수에서 21 번째 재귀함수를 호출합니다.\n",
      "21 번째 재귀함수에서 22 번째 재귀함수를 호출합니다.\n",
      "22 번째 재귀함수에서 23 번째 재귀함수를 호출합니다.\n",
      "23 번째 재귀함수에서 24 번째 재귀함수를 호출합니다.\n",
      "24 번째 재귀함수에서 25 번째 재귀함수를 호출합니다.\n",
      "25 번째 재귀함수에서 26 번째 재귀함수를 호출합니다.\n",
      "26 번째 재귀함수에서 27 번째 재귀함수를 호출합니다.\n",
      "27 번째 재귀함수에서 28 번째 재귀함수를 호출합니다.\n",
      "28 번째 재귀함수에서 29 번째 재귀함수를 호출합니다.\n",
      "29 번째 재귀함수에서 30 번째 재귀함수를 호출합니다.\n",
      "30 번째 재귀함수에서 31 번째 재귀함수를 호출합니다.\n",
      "31 번째 재귀함수에서 32 번째 재귀함수를 호출합니다.\n",
      "32 번째 재귀함수에서 33 번째 재귀함수를 호출합니다.\n",
      "33 번째 재귀함수에서 34 번째 재귀함수를 호출합니다.\n",
      "34 번째 재귀함수에서 35 번째 재귀함수를 호출합니다.\n",
      "35 번째 재귀함수에서 36 번째 재귀함수를 호출합니다.\n",
      "36 번째 재귀함수에서 37 번째 재귀함수를 호출합니다.\n",
      "37 번째 재귀함수에서 38 번째 재귀함수를 호출합니다.\n",
      "38 번째 재귀함수에서 39 번째 재귀함수를 호출합니다.\n",
      "39 번째 재귀함수에서 40 번째 재귀함수를 호출합니다.\n",
      "40 번째 재귀함수에서 41 번째 재귀함수를 호출합니다.\n",
      "41 번째 재귀함수에서 42 번째 재귀함수를 호출합니다.\n",
      "42 번째 재귀함수에서 43 번째 재귀함수를 호출합니다.\n",
      "43 번째 재귀함수에서 44 번째 재귀함수를 호출합니다.\n",
      "44 번째 재귀함수에서 45 번째 재귀함수를 호출합니다.\n",
      "45 번째 재귀함수에서 46 번째 재귀함수를 호출합니다.\n",
      "46 번째 재귀함수에서 47 번째 재귀함수를 호출합니다.\n",
      "47 번째 재귀함수에서 48 번째 재귀함수를 호출합니다.\n",
      "48 번째 재귀함수에서 49 번째 재귀함수를 호출합니다.\n",
      "49 번째 재귀함수에서 50 번째 재귀함수를 호출합니다.\n",
      "50 번째 재귀함수에서 51 번째 재귀함수를 호출합니다.\n",
      "51 번째 재귀함수에서 52 번째 재귀함수를 호출합니다.\n",
      "52 번째 재귀함수에서 53 번째 재귀함수를 호출합니다.\n",
      "53 번째 재귀함수에서 54 번째 재귀함수를 호출합니다.\n",
      "54 번째 재귀함수에서 55 번째 재귀함수를 호출합니다.\n",
      "55 번째 재귀함수에서 56 번째 재귀함수를 호출합니다.\n",
      "56 번째 재귀함수에서 57 번째 재귀함수를 호출합니다.\n",
      "57 번째 재귀함수에서 58 번째 재귀함수를 호출합니다.\n",
      "58 번째 재귀함수에서 59 번째 재귀함수를 호출합니다.\n",
      "59 번째 재귀함수에서 60 번째 재귀함수를 호출합니다.\n",
      "60 번째 재귀함수에서 61 번째 재귀함수를 호출합니다.\n",
      "61 번째 재귀함수에서 62 번째 재귀함수를 호출합니다.\n",
      "62 번째 재귀함수에서 63 번째 재귀함수를 호출합니다.\n",
      "63 번째 재귀함수에서 64 번째 재귀함수를 호출합니다.\n",
      "64 번째 재귀함수에서 65 번째 재귀함수를 호출합니다.\n",
      "65 번째 재귀함수에서 66 번째 재귀함수를 호출합니다.\n",
      "66 번째 재귀함수에서 67 번째 재귀함수를 호출합니다.\n",
      "67 번째 재귀함수에서 68 번째 재귀함수를 호출합니다.\n",
      "68 번째 재귀함수에서 69 번째 재귀함수를 호출합니다.\n",
      "69 번째 재귀함수에서 70 번째 재귀함수를 호출합니다.\n",
      "70 번째 재귀함수에서 71 번째 재귀함수를 호출합니다.\n",
      "71 번째 재귀함수에서 72 번째 재귀함수를 호출합니다.\n",
      "72 번째 재귀함수에서 73 번째 재귀함수를 호출합니다.\n",
      "73 번째 재귀함수에서 74 번째 재귀함수를 호출합니다.\n",
      "74 번째 재귀함수에서 75 번째 재귀함수를 호출합니다.\n",
      "75 번째 재귀함수에서 76 번째 재귀함수를 호출합니다.\n",
      "76 번째 재귀함수에서 77 번째 재귀함수를 호출합니다.\n",
      "77 번째 재귀함수에서 78 번째 재귀함수를 호출합니다.\n",
      "78 번째 재귀함수에서 79 번째 재귀함수를 호출합니다.\n",
      "79 번째 재귀함수에서 80 번째 재귀함수를 호출합니다.\n",
      "80 번째 재귀함수에서 81 번째 재귀함수를 호출합니다.\n",
      "81 번째 재귀함수에서 82 번째 재귀함수를 호출합니다.\n",
      "82 번째 재귀함수에서 83 번째 재귀함수를 호출합니다.\n",
      "83 번째 재귀함수에서 84 번째 재귀함수를 호출합니다.\n",
      "84 번째 재귀함수에서 85 번째 재귀함수를 호출합니다.\n",
      "85 번째 재귀함수에서 86 번째 재귀함수를 호출합니다.\n",
      "86 번째 재귀함수에서 87 번째 재귀함수를 호출합니다.\n",
      "87 번째 재귀함수에서 88 번째 재귀함수를 호출합니다.\n",
      "88 번째 재귀함수에서 89 번째 재귀함수를 호출합니다.\n",
      "89 번째 재귀함수에서 90 번째 재귀함수를 호출합니다.\n",
      "90 번째 재귀함수에서 91 번째 재귀함수를 호출합니다.\n",
      "91 번째 재귀함수에서 92 번째 재귀함수를 호출합니다.\n",
      "92 번째 재귀함수에서 93 번째 재귀함수를 호출합니다.\n",
      "93 번째 재귀함수에서 94 번째 재귀함수를 호출합니다.\n",
      "94 번째 재귀함수에서 95 번째 재귀함수를 호출합니다.\n",
      "95 번째 재귀함수에서 96 번째 재귀함수를 호출합니다.\n",
      "96 번째 재귀함수에서 97 번째 재귀함수를 호출합니다.\n",
      "97 번째 재귀함수에서 98 번째 재귀함수를 호출합니다.\n",
      "98 번째 재귀함수에서 99 번째 재귀함수를 호출합니다.\n",
      "99 번째 재귀함수에서 100 번째 재귀함수를 호출합니다.\n",
      "99 번째 재귀함수를 종료합니다.\n",
      "98 번째 재귀함수를 종료합니다.\n",
      "97 번째 재귀함수를 종료합니다.\n",
      "96 번째 재귀함수를 종료합니다.\n",
      "95 번째 재귀함수를 종료합니다.\n",
      "94 번째 재귀함수를 종료합니다.\n",
      "93 번째 재귀함수를 종료합니다.\n",
      "92 번째 재귀함수를 종료합니다.\n",
      "91 번째 재귀함수를 종료합니다.\n",
      "90 번째 재귀함수를 종료합니다.\n",
      "89 번째 재귀함수를 종료합니다.\n",
      "88 번째 재귀함수를 종료합니다.\n",
      "87 번째 재귀함수를 종료합니다.\n",
      "86 번째 재귀함수를 종료합니다.\n",
      "85 번째 재귀함수를 종료합니다.\n",
      "84 번째 재귀함수를 종료합니다.\n",
      "83 번째 재귀함수를 종료합니다.\n",
      "82 번째 재귀함수를 종료합니다.\n",
      "81 번째 재귀함수를 종료합니다.\n",
      "80 번째 재귀함수를 종료합니다.\n",
      "79 번째 재귀함수를 종료합니다.\n",
      "78 번째 재귀함수를 종료합니다.\n",
      "77 번째 재귀함수를 종료합니다.\n",
      "76 번째 재귀함수를 종료합니다.\n",
      "75 번째 재귀함수를 종료합니다.\n",
      "74 번째 재귀함수를 종료합니다.\n",
      "73 번째 재귀함수를 종료합니다.\n",
      "72 번째 재귀함수를 종료합니다.\n",
      "71 번째 재귀함수를 종료합니다.\n",
      "70 번째 재귀함수를 종료합니다.\n",
      "69 번째 재귀함수를 종료합니다.\n",
      "68 번째 재귀함수를 종료합니다.\n",
      "67 번째 재귀함수를 종료합니다.\n",
      "66 번째 재귀함수를 종료합니다.\n",
      "65 번째 재귀함수를 종료합니다.\n",
      "64 번째 재귀함수를 종료합니다.\n",
      "63 번째 재귀함수를 종료합니다.\n",
      "62 번째 재귀함수를 종료합니다.\n",
      "61 번째 재귀함수를 종료합니다.\n",
      "60 번째 재귀함수를 종료합니다.\n",
      "59 번째 재귀함수를 종료합니다.\n",
      "58 번째 재귀함수를 종료합니다.\n",
      "57 번째 재귀함수를 종료합니다.\n",
      "56 번째 재귀함수를 종료합니다.\n",
      "55 번째 재귀함수를 종료합니다.\n",
      "54 번째 재귀함수를 종료합니다.\n",
      "53 번째 재귀함수를 종료합니다.\n",
      "52 번째 재귀함수를 종료합니다.\n",
      "51 번째 재귀함수를 종료합니다.\n",
      "50 번째 재귀함수를 종료합니다.\n",
      "49 번째 재귀함수를 종료합니다.\n",
      "48 번째 재귀함수를 종료합니다.\n",
      "47 번째 재귀함수를 종료합니다.\n",
      "46 번째 재귀함수를 종료합니다.\n",
      "45 번째 재귀함수를 종료합니다.\n",
      "44 번째 재귀함수를 종료합니다.\n",
      "43 번째 재귀함수를 종료합니다.\n",
      "42 번째 재귀함수를 종료합니다.\n",
      "41 번째 재귀함수를 종료합니다.\n",
      "40 번째 재귀함수를 종료합니다.\n",
      "39 번째 재귀함수를 종료합니다.\n",
      "38 번째 재귀함수를 종료합니다.\n",
      "37 번째 재귀함수를 종료합니다.\n",
      "36 번째 재귀함수를 종료합니다.\n",
      "35 번째 재귀함수를 종료합니다.\n",
      "34 번째 재귀함수를 종료합니다.\n",
      "33 번째 재귀함수를 종료합니다.\n",
      "32 번째 재귀함수를 종료합니다.\n",
      "31 번째 재귀함수를 종료합니다.\n",
      "30 번째 재귀함수를 종료합니다.\n",
      "29 번째 재귀함수를 종료합니다.\n",
      "28 번째 재귀함수를 종료합니다.\n",
      "27 번째 재귀함수를 종료합니다.\n",
      "26 번째 재귀함수를 종료합니다.\n",
      "25 번째 재귀함수를 종료합니다.\n",
      "24 번째 재귀함수를 종료합니다.\n",
      "23 번째 재귀함수를 종료합니다.\n",
      "22 번째 재귀함수를 종료합니다.\n",
      "21 번째 재귀함수를 종료합니다.\n",
      "20 번째 재귀함수를 종료합니다.\n",
      "19 번째 재귀함수를 종료합니다.\n",
      "18 번째 재귀함수를 종료합니다.\n",
      "17 번째 재귀함수를 종료합니다.\n",
      "16 번째 재귀함수를 종료합니다.\n",
      "15 번째 재귀함수를 종료합니다.\n",
      "14 번째 재귀함수를 종료합니다.\n",
      "13 번째 재귀함수를 종료합니다.\n",
      "12 번째 재귀함수를 종료합니다.\n",
      "11 번째 재귀함수를 종료합니다.\n",
      "10 번째 재귀함수를 종료합니다.\n",
      "9 번째 재귀함수를 종료합니다.\n",
      "8 번째 재귀함수를 종료합니다.\n",
      "7 번째 재귀함수를 종료합니다.\n",
      "6 번째 재귀함수를 종료합니다.\n",
      "5 번째 재귀함수를 종료합니다.\n",
      "4 번째 재귀함수를 종료합니다.\n",
      "3 번째 재귀함수를 종료합니다.\n",
      "2 번째 재귀함수를 종료합니다.\n",
      "1 번째 재귀함수를 종료합니다.\n"
     ]
    }
   ],
   "source": [
    "# 종료조건을 포함한 재귀 함수 예제\n",
    "def recursive_function(i):\n",
    "    # 100번째 호출했을때 종료하도록 '종료조건'명시\n",
    "    if i ==100:\n",
    "        return\n",
    "    print(i, '번째 재귀함수에서', i+1, '번째 재귀함수를 호출합니다.')\n",
    "    recursive_function(i+1)\n",
    "    print(i, '번째 재귀함수를 종료합니다.')\n",
    "    \n",
    "recursive_function(1)"
   ]
  },
  {
   "cell_type": "markdown",
   "id": "4febe208-8135-4b32-b3e1-4f2672705150",
   "metadata": {},
   "source": [
    "## 1-1. 재귀함수 이해하기"
   ]
  },
  {
   "cell_type": "code",
   "execution_count": 5,
   "id": "0e0a88a0-bad1-49f1-adba-855bc69cc699",
   "metadata": {},
   "outputs": [
    {
     "name": "stdout",
     "output_type": "stream",
     "text": [
      "3\n",
      "2\n",
      "1\n",
      "Blastoff!\n"
     ]
    }
   ],
   "source": [
    "def countdown(n):\n",
    "    if n == 0:\n",
    "        print(\"Blastoff!\")\n",
    "    else:\n",
    "        print(n)\n",
    "        countdown(n-1)\n",
    "        \n",
    "countdown(3)"
   ]
  },
  {
   "cell_type": "code",
   "execution_count": 6,
   "id": "1034f0f7-d57f-4f5d-a212-52f3e0417906",
   "metadata": {},
   "outputs": [
    {
     "name": "stdout",
     "output_type": "stream",
     "text": [
      "21\n",
      "13\n"
     ]
    }
   ],
   "source": [
    "def sumOfDigits(num):\n",
    "    if num >= 1:\n",
    "        return num % 10 + sumOfDigits(num // 10)\n",
    "    else:\n",
    "        return 0\n",
    "\n",
    "if __name__ == '__main__':\n",
    "    print(sumOfDigits(47253))\n",
    "    print(sumOfDigits(643))"
   ]
  },
  {
   "cell_type": "code",
   "execution_count": 7,
   "id": "0c900b77-ed3d-4050-8ba4-b49442606348",
   "metadata": {},
   "outputs": [],
   "source": [
    "# 호출단계 k와 최동단계 n 을 포함한 2개의 인자를 만듬\n",
    "def function(k,n):\n",
    "    if n == k:\n",
    "        return\n",
    "    else:\n",
    "        function(k+1, n)\n",
    "        \n",
    "function(0,2)\n",
    "# function(0,2)를 호출하면 (메모리 영역이 구분되고 변수가 만들어진다.)\n",
    "# function(1, 2)를 호출하고 (메모리 영역이 구분되고 변수가 만들어진다.)\n",
    "# function(2, 2)가 되면 리턴한다. (메모리 영역이 구분되고 변수가 만들어진다.)\n",
    "# function(1, 2)로 돌아가서 없어진다.\n",
    "# function(0, 2)로 돌아가서 없어진다."
   ]
  },
  {
   "cell_type": "markdown",
   "id": "f8ee9ad4-5ad9-4708-8871-ee27f673f6aa",
   "metadata": {},
   "source": [
    "### 1-2. 배열의 각 원소를 재귀함수로 접근하기"
   ]
  },
  {
   "cell_type": "code",
   "execution_count": 12,
   "id": "e3604f84-d079-4da0-a7f0-db51db1d8e81",
   "metadata": {},
   "outputs": [
    {
     "name": "stdout",
     "output_type": "stream",
     "text": [
      "3\n"
     ]
    }
   ],
   "source": [
    "# 1,2,3이 저장되어 있는 배열A가 있다.\n",
    "# A=[1,2,3] 배열에서 n인덱스를 선택하는 코드를 재귀로 작성해보자\n",
    "# K : 현재 호출에서 접근할 원소의 인덱스\n",
    "# n : 배열의 크기(?)= 찾을 인덱스의 번호\n",
    "A=[1,2,3]\n",
    "\n",
    "def f(n,k):\n",
    "    if n==k:\n",
    "        print(A[k])\n",
    "    else:\n",
    "        f(n,k+1)\n",
    "        \n",
    "f(2,0) # 0부터 탐색해서 인덱스 2의 원소 print하기"
   ]
  },
  {
   "cell_type": "markdown",
   "id": "a81e71b4-117d-4719-9c55-eb358a6b46d0",
   "metadata": {},
   "source": [
    "### 1-3. 재귀로 집합 A의 부분집합 만들기\n",
    "- 윤도, 재현, 소연이가 음식점을 갈 수도 있고, 안 갈 수도 있다. 하지만, 아무도 안 가지는 않는다. 이러한 경우의 수를 구하시오. ( 이렇게만 문제가 출제되진 않고, 다음 단계에 일어날 경우의 수도 추가시켜 문제가 출제된다.(고난도) )\n",
    "- A = [1, 2, 3]\n",
    "- b = i번 원소의 포함 여부를 나타내는 b"
   ]
  },
  {
   "cell_type": "markdown",
   "id": "9fba95a3-bec1-4821-8fae-caad5fa4c17e",
   "metadata": {},
   "source": [
    "- 재귀 함수로 들어가기 전에 현재의 상태를 업데이트해줄 b 배열을 만들어 준다. 그래서 부분집합에 포함이 됐으면 1, 안 됐으면 0을 넣는 과정을 진행한다."
   ]
  },
  {
   "cell_type": "code",
   "execution_count": 18,
   "id": "64ac396c-d96a-4513-ad09-4a4c26812608",
   "metadata": {},
   "outputs": [
    {
     "name": "stdout",
     "output_type": "stream",
     "text": [
      "\n",
      "3\n",
      "2\n",
      "23\n",
      "1\n",
      "13\n",
      "12\n",
      "123\n"
     ]
    }
   ],
   "source": [
    "def func(k,n):\n",
    "    if n==k: # b배열을 벗어나면\n",
    "        for i in range(n):\n",
    "            if b[i]==1:\n",
    "                print(A[i], end='')\n",
    "        print()\n",
    "    else:\n",
    "        b[k] = 0\n",
    "        func(k+1, n)\n",
    "        b[k] = 1\n",
    "        func(k+1, n)\n",
    "        \n",
    "A = [1,2,3]\n",
    "b = [0,0,0]\n",
    "func(0,3)"
   ]
  },
  {
   "cell_type": "markdown",
   "id": "e6f0f31f-688c-467e-b87e-934372387057",
   "metadata": {},
   "source": [
    "### 1-4. 부분집합 원소의 합\n",
    "- A의 부분집합 중 원소들의 합이 최대인 수를 print 하시오\n",
    "- s : k-1번 원소까지 고려한 합\n",
    "- 재귀 호출 시  f(k+1, n, s+A [k]), f(k+1, n, s)의 차이 : k번 원소까지 고려한 합에서  'k번을 포함할 경우는 s+A [k]'이고 'k번을 포함하지 않는 경우는 s'이다."
   ]
  },
  {
   "cell_type": "code",
   "execution_count": 3,
   "id": "668c349e-c690-4592-9670-bda933a049ca",
   "metadata": {},
   "outputs": [
    {
     "name": "stdout",
     "output_type": "stream",
     "text": [
      "10\n"
     ]
    }
   ],
   "source": [
    "# 부분집합 배열 합의 최대값 구하기\n",
    "def f(k, n, s):\n",
    "    global maxV\n",
    "    if n==k:\n",
    "        if maxV < s:\n",
    "            maxV = s\n",
    "    else:\n",
    "        f(k+1, n, s+A[k])\n",
    "        f(k+1, n, s)\n",
    "maxV = 0\n",
    "A = [1, 4, 3, 2]\n",
    "f(0, 4, 0)\n",
    "\n",
    "print(maxV)"
   ]
  },
  {
   "cell_type": "markdown",
   "id": "3f2d9937-8cc4-42bb-86cb-3c2d0d11af79",
   "metadata": {},
   "source": [
    "### 1-5. 서로 다른 n개의 자연수의 집합에서 부분집합 원소의 합이 M인 경우가 몇 번인지 구하기\n",
    "- k : 0부터 카운터를 위한 변수\n",
    "- n : A 집합의 개수\n",
    "- s : 부분집합의 합\n",
    "- M : 타깃 값( 부분집합의 원소의 합으로 임의 값 )"
   ]
  },
  {
   "cell_type": "code",
   "execution_count": 1,
   "id": "e3f0c5a8-fc7a-481f-99d7-a919beda36bc",
   "metadata": {},
   "outputs": [
    {
     "name": "stdout",
     "output_type": "stream",
     "text": [
      "15\n"
     ]
    }
   ],
   "source": [
    "def f(k, n, s, M):\n",
    "    global cnt\n",
    "    if s==M:\n",
    "        cnt+=1\n",
    "        return\n",
    "    elif n==k:\n",
    "        return\n",
    "    else:\n",
    "        f(k+1, n, s+A[k], M)\n",
    "        f(k+1, n, s, M)\n",
    "\n",
    "A = [1, 2, 3, 4, 5, 6, 7, 8 ,9, 10]\n",
    "cnt = 0\n",
    "f(0, 10, 0, 42)\n",
    "print(cnt)"
   ]
  },
  {
   "cell_type": "markdown",
   "id": "1be0ad2e-9ea9-4199-a0f8-b927c73cce4d",
   "metadata": {},
   "source": [
    "### 반복문\n",
    "- 연속적인 값 순회할때 주로 range()사용\n",
    "- 이때 range(시작값, 끝값+1) 형태로 사용\n",
    "- 인자를 하나만 넣으면 자동으로 시작값은 0이 된다."
   ]
  },
  {
   "cell_type": "code",
   "execution_count": 2,
   "id": "c9a0a4f9-659d-4440-b785-c36a4b114e09",
   "metadata": {},
   "outputs": [
    {
     "name": "stdout",
     "output_type": "stream",
     "text": [
      "1 번 학생은 합격입니다.\n",
      "5 번 학생은 합격입니다.\n"
     ]
    }
   ],
   "source": [
    "scores=[90,85,77,65,97]\n",
    "cheating_student_list={2,4}\n",
    "for i in range(5):\n",
    "    if i + 1 in cheating_student_list:\n",
    "        continue\n",
    "    if scores[i] >= 80:\n",
    "        print(i+1, \"번 학생은 합격입니다.\")"
   ]
  },
  {
   "cell_type": "markdown",
   "id": "61c34fb2-09da-46c6-bc1b-6aca83a1a5da",
   "metadata": {},
   "source": [
    "### global 키워드\n",
    "- global 키워드로 변수를 지정하면 해당 함수에서는 지역 변수를 만들지 않고, 함수 바깥에 선언된 변수를 바로 참조하게 된다."
   ]
  },
  {
   "cell_type": "code",
   "execution_count": 4,
   "id": "3dba99c2-d501-4572-90af-5e83a26a923c",
   "metadata": {},
   "outputs": [
    {
     "name": "stdout",
     "output_type": "stream",
     "text": [
      "10\n"
     ]
    }
   ],
   "source": [
    "a = 0 #함수 바깥에 선언된 변수\n",
    "\n",
    "def func():\n",
    "    global a\n",
    "    a += 1\n",
    "\n",
    "for i in range(10):\n",
    "    func()\n",
    "print(a)"
   ]
  },
  {
   "cell_type": "code",
   "execution_count": null,
   "id": "cdb8a91e-3aca-471a-8c56-97dd104a69a6",
   "metadata": {},
   "outputs": [],
   "source": []
  }
 ],
 "metadata": {
  "kernelspec": {
   "display_name": "Python 3 (ipykernel)",
   "language": "python",
   "name": "python3"
  },
  "language_info": {
   "codemirror_mode": {
    "name": "ipython",
    "version": 3
   },
   "file_extension": ".py",
   "mimetype": "text/x-python",
   "name": "python",
   "nbconvert_exporter": "python",
   "pygments_lexer": "ipython3",
   "version": "3.8.13"
  }
 },
 "nbformat": 4,
 "nbformat_minor": 5
}
