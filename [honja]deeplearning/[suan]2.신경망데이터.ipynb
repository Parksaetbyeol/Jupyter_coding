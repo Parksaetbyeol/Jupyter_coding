{
 "cells": [
  {
   "cell_type": "markdown",
   "metadata": {},
   "source": [
    "# 신경망 데이터 표현"
   ]
  },
  {
   "cell_type": "code",
   "execution_count": 2,
   "metadata": {},
   "outputs": [],
   "source": [
    "import numpy as np\n",
    "import matplotlib.pyplot as plt\n",
    "plt.style.use(['seaborn-whitegrid'])"
   ]
  },
  {
   "cell_type": "markdown",
   "metadata": {},
   "source": [
    "## 텐서(Tensor)\n",
    "- 일반적으로 텐서는 3차원 이상을 다룰 때 표현하는 방식이지만, 여기서는 어떠한 데이터를 표현할때 그 값 모두를 텐서라고 부르기로 함"
   ]
  },
  {
   "cell_type": "code",
   "execution_count": 3,
   "metadata": {},
   "outputs": [],
   "source": [
    "a = np.array([1, 2]) # 1차원의 array\n",
    "b = np.array([[1, 2], # [[ 대괄호 2개 - 2차원 array\n",
    "              [3, 4]])\n",
    "c = np.array([10]) # [대괄호 1개 - 1차원\n",
    "d = np.array(3) # 차원없음 - 없으면 '스칼라'라고 한다."
   ]
  },
  {
   "cell_type": "markdown",
   "metadata": {},
   "source": [
    "a, b, c, d 모두 텐서라고 지칭할 수 있음\n",
    "\n",
    "- 랭크(rank): 텐서의 축을 나타내고, 넘파이(numpy)의 ndim으로 구할 수 있음"
   ]
  },
  {
   "cell_type": "code",
   "execution_count": 6,
   "metadata": {},
   "outputs": [
    {
     "data": {
      "text/plain": [
       "1"
      ]
     },
     "execution_count": 6,
     "metadata": {},
     "output_type": "execute_result"
    }
   ],
   "source": [
    "a = np.array([1, 2])\n",
    "a.ndim"
   ]
  },
  {
   "cell_type": "code",
   "execution_count": 7,
   "metadata": {},
   "outputs": [
    {
     "data": {
      "text/plain": [
       "2"
      ]
     },
     "execution_count": 7,
     "metadata": {},
     "output_type": "execute_result"
    }
   ],
   "source": [
    "b = np.array([[1, 2],[3, 4]])\n",
    "b.ndim"
   ]
  },
  {
   "cell_type": "code",
   "execution_count": 8,
   "metadata": {},
   "outputs": [
    {
     "data": {
      "text/plain": [
       "0"
      ]
     },
     "execution_count": 8,
     "metadata": {},
     "output_type": "execute_result"
    }
   ],
   "source": [
    "d = np.array(3)\n",
    "d.ndim"
   ]
  },
  {
   "cell_type": "markdown",
   "metadata": {},
   "source": [
    "위의 예시에서 알 수 있듯이 대괄호( [ ] )의 개수가 곧 랭크(축)의 값\n",
    "\n",
    "- 크기(shape): 텐서의 각 축을 따라 얼마나 많은 차원이 있는지를 나타내며, 파이썬의 튜플(tuple) 형태"
   ]
  },
  {
   "cell_type": "markdown",
   "metadata": {},
   "source": [
    "### 그림으로 이해하기\n",
    "![이미지](./_src/tensor.png)"
   ]
  },
  {
   "cell_type": "markdown",
   "metadata": {},
   "source": [
    "### 스칼라"
   ]
  },
  {
   "cell_type": "code",
   "execution_count": 10,
   "metadata": {},
   "outputs": [
    {
     "name": "stdout",
     "output_type": "stream",
     "text": [
      "3\n",
      "()\n",
      "0\n"
     ]
    }
   ],
   "source": [
    "x = np.array(3) \n",
    "print(x) # array로 썼는데 3만 출력됨-> 스칼라이다!\n",
    "print(x.shape)\n",
    "print(x.ndim)"
   ]
  },
  {
   "cell_type": "markdown",
   "metadata": {},
   "source": [
    "## 벡터(1차원 텐서)"
   ]
  },
  {
   "cell_type": "code",
   "execution_count": 12,
   "metadata": {},
   "outputs": [
    {
     "name": "stdout",
     "output_type": "stream",
     "text": [
      "[1 2 3 4]\n",
      "(4,)\n",
      "1\n"
     ]
    }
   ],
   "source": [
    "x = np.array([1,2,3,4]) \n",
    "print(x)\n",
    "print(x.shape)\n",
    "print(np.ndim(x))"
   ]
  },
  {
   "cell_type": "markdown",
   "metadata": {},
   "source": [
    "### 벡터의 합"
   ]
  },
  {
   "cell_type": "code",
   "execution_count": 14,
   "metadata": {},
   "outputs": [
    {
     "name": "stdout",
     "output_type": "stream",
     "text": [
      "[ 6  8 10 12]\n",
      "(4,)\n",
      "1\n"
     ]
    }
   ],
   "source": [
    "a = np.array([1,2,3,4])\n",
    "b = np.array([5,6,7,8])\n",
    "c = a+b\n",
    "\n",
    "print(c)\n",
    "print(c.shape)\n",
    "print(c.ndim)"
   ]
  },
  {
   "cell_type": "markdown",
   "metadata": {},
   "source": [
    "### 벡터의 곱\n",
    "- A=(x1, x2, x3, ..., xn) \n",
    "  B=(y1, y2, y3, ..., yn)  일 때,\n",
    "\n",
    "- 원소곱\n",
    "    - 같은 형상(shape)일 때, 각 원소별로 계산\n",
    "    $A \\times B = (x_1, \\ x_2, \\ x_3, \\ ..., \\ x_n) \\times (y_1, \\ y_2, \\ y_3, \\ ..., \\ y_n) \\\\   \n",
    "    \\qquad = (x_1y_1, \\ x_2y_2, \\ x_3y_3, \\ ... \\ ,  \\ x_ny_n)  $\n",
    "- 벡터곱(product, dot)\n",
    "    - 두 1차원 벡터가 있을 때 각각의 성분끼리의 곱을 모두 더하는 계산\n",
    "        $A \\bullet B \\Rightarrow A \\times B^T = (x_1, \\ x_2, \\ x_3, \\ ..., \\ x_n) \\begin{pmatrix} y_1 \\\\ y_2 \\\\ y_3 \\\\ ... \\\\ y_n  \\end{pmatrix} \\\\  \n",
    "    \\qquad = (x_1y_1 + \\ x_2y_2 + \\ x_3y_3 + \\ ... + \\ x_ny_n)  $"
   ]
  },
  {
   "cell_type": "code",
   "execution_count": 19,
   "metadata": {},
   "outputs": [
    {
     "name": "stdout",
     "output_type": "stream",
     "text": [
      "[ 5 12 21 32]\n",
      "(4,)\n",
      "1 차원\n",
      "--------------------------------------------------------------------------------\n",
      "4\n",
      "()\n",
      "0 차원\n"
     ]
    }
   ],
   "source": [
    "a = np.array([1,2,3,4])\n",
    "b = np.array([5,6,7,8])\n",
    "c=a*b\n",
    "\n",
    "print(c)\n",
    "print(c.shape)\n",
    "print(c.ndim,'차원')\n",
    "print('--'*40)\n",
    "\n",
    "x = np.array([1,2,0])\n",
    "y = np.array([0,2,1])\n",
    "z=np.dot(x,y)\n",
    "\n",
    "print(z) # 1*9 + 2*2 + 0*1 = 4\n",
    "print(z.shape)\n",
    "print(z.ndim,'차원')"
   ]
  },
  {
   "cell_type": "markdown",
   "metadata": {},
   "source": [
    "### 스칼라와 벡터의 곱"
   ]
  },
  {
   "cell_type": "code",
   "execution_count": 16,
   "metadata": {},
   "outputs": [
    {
     "name": "stdout",
     "output_type": "stream",
     "text": [
      "[10 20 30]\n"
     ]
    }
   ],
   "source": [
    "a = np.array(10)\n",
    "b = np.array([1,2,3])\n",
    "print(a*b)"
   ]
  },
  {
   "cell_type": "markdown",
   "metadata": {},
   "source": [
    "## 2차원 텐서(행렬)"
   ]
  },
  {
   "cell_type": "code",
   "execution_count": 18,
   "metadata": {},
   "outputs": [
    {
     "name": "stdout",
     "output_type": "stream",
     "text": [
      "[[1 2 3]\n",
      " [4 5 6]]\n",
      "(2, 3)\n",
      "2 차원\n",
      "--------------------------------------------------------------------------------\n",
      "[[1 2 3 4]]\n",
      "(1, 4)\n",
      "2 차원\n"
     ]
    }
   ],
   "source": [
    "matrix = np.array([[1,2,3],[4,5,6]])\n",
    "print(matrix)\n",
    "print(matrix.shape)\n",
    "print(matrix.ndim,'차원')\n",
    "print('--'*40)\n",
    "\n",
    "matrix2 = np.array([[1,2,3,4]])\n",
    "print(matrix2)\n",
    "print(matrix2.shape)\n",
    "print(matrix2.ndim,'차원')"
   ]
  },
  {
   "cell_type": "markdown",
   "metadata": {},
   "source": [
    "### 행렬 원소곱"
   ]
  },
  {
   "cell_type": "code",
   "execution_count": 22,
   "metadata": {},
   "outputs": [
    {
     "name": "stdout",
     "output_type": "stream",
     "text": [
      "행렬A\n",
      " [[1 2]\n",
      " [3 4]]\n",
      "행렬B\n",
      " [[10 10]\n",
      " [10 10]]\n",
      "A*B\n",
      " [[10 20]\n",
      " [30 40]]\n"
     ]
    }
   ],
   "source": [
    "A = np.array([[1,2],[3,4]])\n",
    "B = np.array([[10,10],[10,10]])\n",
    "print('행렬A\\n',A)\n",
    "print('행렬B\\n',B)\n",
    "print('A*B\\n',A*B) # 위치 그대로 곱셈"
   ]
  },
  {
   "cell_type": "markdown",
   "metadata": {},
   "source": [
    "### 행렬 점곱(내적,dot)"
   ]
  },
  {
   "cell_type": "code",
   "execution_count": 25,
   "metadata": {},
   "outputs": [
    {
     "name": "stdout",
     "output_type": "stream",
     "text": [
      "행렬M\n",
      " [[1 2]\n",
      " [3 4]]\n",
      "행렬N\n",
      " [[2 3 4]\n",
      " [2 3 4]]\n",
      "L\n",
      " [[ 6  9 12]\n",
      " [14 21 28]]\n",
      "--------------------------------------------------------------------------------\n",
      "(2, 3)\n",
      "2 차원\n"
     ]
    }
   ],
   "source": [
    "M = np.array([[1,2],[3,4]])\n",
    "N = np.array([[2,3,4],[2,3,4]])\n",
    "L = M.dot(N)\n",
    "print('행렬M\\n',M)\n",
    "print('행렬N\\n',N)\n",
    "print('L\\n',L)\n",
    "print('--'*40)\n",
    "print(L.shape)\n",
    "print(L.ndim,'차원')"
   ]
  },
  {
   "cell_type": "markdown",
   "metadata": {},
   "source": [
    "## 역행렬\n",
    "- 어떤 행렬 A가 있을 때, 곱해서 단위행렬(E)를 만드는 행렬 B가 존재한다면, 행렬 B는 A의 역행렬\n",
    "- np.linalg.inv()"
   ]
  },
  {
   "cell_type": "code",
   "execution_count": 28,
   "metadata": {},
   "outputs": [
    {
     "name": "stdout",
     "output_type": "stream",
     "text": [
      "[[1 2]\n",
      " [3 4]]\n",
      "[[-2.   1. ]\n",
      " [ 1.5 -0.5]]\n",
      "[[1.0000000e+00 0.0000000e+00]\n",
      " [8.8817842e-16 1.0000000e+00]]\n"
     ]
    }
   ],
   "source": [
    "A = np.array([[1,2],[3,4]])\n",
    "print(A)\n",
    "B = np.linalg.inv(A)\n",
    "print(B)\n",
    "print(np.dot(A,B))"
   ]
  },
  {
   "cell_type": "code",
   "execution_count": null,
   "metadata": {},
   "outputs": [],
   "source": [
    "B = np.array([[3,3],[2,2]])\n",
    "print(np.linalg.inv(B)) # 역행렬이 존재하지 않아서 에러뜸"
   ]
  },
  {
   "cell_type": "markdown",
   "metadata": {},
   "source": [
    "## 전치행렬 T\n",
    "- 행과 열을 바꾼 배열의 형태\n",
    "- 대각선을 기준으로 뒤집음\n",
    "\n",
    "![](https://upload.wikimedia.org/wikipedia/commons/e/e4/Matrix_transpose.gif)\n",
    "<br /><sub>출처: https://ko.wikipedia.org/wiki/%EC%A0%84%EC%B9%98%ED%96%89%EB%A0%AC</sub>"
   ]
  },
  {
   "cell_type": "code",
   "execution_count": 32,
   "metadata": {},
   "outputs": [
    {
     "name": "stdout",
     "output_type": "stream",
     "text": [
      "[[1 2 3]\n",
      " [4 5 6]]\n",
      "(2, 3)\n",
      "2 차원\n"
     ]
    }
   ],
   "source": [
    "A = np.array([[1,2,3],[4,5,6]])\n",
    "print(A)\n",
    "print(A.shape)\n",
    "print(A.ndim,'차원')"
   ]
  },
  {
   "cell_type": "code",
   "execution_count": 33,
   "metadata": {},
   "outputs": [
    {
     "name": "stdout",
     "output_type": "stream",
     "text": [
      "[[1 4]\n",
      " [2 5]\n",
      " [3 6]]\n",
      "(3, 2)\n",
      "2 차원\n"
     ]
    }
   ],
   "source": [
    "A_=A.T\n",
    "print(A_)\n",
    "print(A_.shape)\n",
    "print(A_.ndim,'차원')"
   ]
  },
  {
   "cell_type": "markdown",
   "metadata": {},
   "source": [
    "## 3차원 텐서\n",
    "- 보통 이미지를 나타낼때 사용되는 텐서\n",
    "- (width,height,channels) : 색 정보를 3차원으로 표현\n",
    "- 일반적으로 array로 표현"
   ]
  },
  {
   "cell_type": "markdown",
   "metadata": {},
   "source": [
    "- 시계열 데이터 또는 시퀀스(sequence) 데이터를 표현할 때도 사용\n",
    "    - (samples, timesteps, features)\n",
    "    - (예시) 주식 가격 데이터셋, 시간에 따른 질병 발병 건수"
   ]
  },
  {
   "cell_type": "code",
   "execution_count": 38,
   "metadata": {},
   "outputs": [
    {
     "name": "stdout",
     "output_type": "stream",
     "text": [
      "[[[ 5  3  2  1]\n",
      "  [ 5  5  3  1]\n",
      "  [ 6  1  2  3]]\n",
      "\n",
      " [[ 1  1  1  1]\n",
      "  [ 3  4  7  5]\n",
      "  [ 1  8  3  4]]\n",
      "\n",
      " [[10  9  3  9]\n",
      "  [ 5  4  3  2]\n",
      "  [ 7  6  4  3]]]\n",
      "--------------------------------------------------------------------------------\n",
      "(3, 3, 4)\n",
      "--------------------------------------------------------------------------------\n",
      "3 차원\n"
     ]
    }
   ],
   "source": [
    "X = np.array([[[5,3,2,1],[5,5,3,1],[6,1,2,3]],\n",
    "              [[1,1,1,1],[3,4,7,5],[1,8,3,4]],\n",
    "              [[10,9,3,9],[5,4,3,2],[7,6,4,3]]])\n",
    "print(X)\n",
    "print('--'*40)\n",
    "print(X.shape)\n",
    "print('--'*40)\n",
    "print(X.ndim,'차원')"
   ]
  },
  {
   "cell_type": "code",
   "execution_count": 42,
   "metadata": {},
   "outputs": [
    {
     "name": "stdout",
     "output_type": "stream",
     "text": [
      "[[[3 4 5]\n",
      "  [2 3 4]]\n",
      "\n",
      " [[1 1 1]\n",
      "  [1 1 1]]]\n",
      "--------------------------------------------------------------------------------\n",
      "[[[3 1]\n",
      "  [2 1]]\n",
      "\n",
      " [[4 1]\n",
      "  [3 1]]\n",
      "\n",
      " [[5 1]\n",
      "  [4 1]]]\n"
     ]
    }
   ],
   "source": [
    "# 3차원도 내적 가능\n",
    "B = np.array([[[3,4,5],[2,3,4]],\n",
    "               [[1,1,1],[1,1,1]]])\n",
    "print(B)\n",
    "print('--'*40)\n",
    "print(B.T)"
   ]
  },
  {
   "cell_type": "markdown",
   "metadata": {},
   "source": [
    "## 3차원 텐서 활용 예시 (이미지)\n",
    "- MNIST Dataset : 0~9 손으로 쓴 숫자로 이루어진 대형 데이터베이스, 다양한 화상처리 시스템을 트레이닝하기위해 사용.\n",
    "- 28x28 픽셀 사이즈의 gray scale 이미지들로 구성\n",
    "- MNIST 는 60,000개의 트레이닝 이미지와 10,000개의 테스트 이미지를 포함"
   ]
  },
  {
   "cell_type": "markdown",
   "metadata": {},
   "source": [
    "- gray scale : ~255의 값을 통해 밝기를 표현 0으로 갈수록 어두워지고, 255로 갈수록 밝아짐\n",
    "- label 은 각 row가 무슨 숫자인지를 의미한다."
   ]
  },
  {
   "cell_type": "code",
   "execution_count": 43,
   "metadata": {},
   "outputs": [],
   "source": [
    "from keras.datasets import mnist\n",
    "\n",
    "(train_images, train_labels), (test_images, test_labels) = mnist.load_data()"
   ]
  },
  {
   "cell_type": "code",
   "execution_count": 61,
   "metadata": {},
   "outputs": [
    {
     "name": "stdout",
     "output_type": "stream",
     "text": [
      "3 차원\n",
      "(60000, 28, 28)\n",
      "uint8\n"
     ]
    }
   ],
   "source": [
    "print(train_images.ndim,'차원')\n",
    "print(train_images.shape)\n",
    "print(train_images.dtype)"
   ]
  },
  {
   "cell_type": "code",
   "execution_count": 62,
   "metadata": {},
   "outputs": [
    {
     "name": "stdout",
     "output_type": "stream",
     "text": [
      "3 차원\n",
      "(10000, 28, 28)\n",
      "uint8\n"
     ]
    }
   ],
   "source": [
    "print(test_images.ndim,'차원')\n",
    "print(test_images.shape)\n",
    "print(test_images.dtype)"
   ]
  },
  {
   "cell_type": "code",
   "execution_count": 58,
   "metadata": {},
   "outputs": [
    {
     "data": {
      "text/plain": [
       "array([5, 0, 4, 1], dtype=uint8)"
      ]
     },
     "execution_count": 58,
     "metadata": {},
     "output_type": "execute_result"
    }
   ],
   "source": [
    "train_labels[0:4] # label 은 각 row가 무슨 숫자인지를 의미"
   ]
  },
  {
   "cell_type": "code",
   "execution_count": 51,
   "metadata": {},
   "outputs": [
    {
     "data": {
      "image/png": "[encoded data removed]",
      "text/plain": [
       "<Figure size 432x288 with 1 Axes>"
      ]
     },
     "metadata": {},
     "output_type": "display_data"
    }
   ],
   "source": [
    "temp_image = train_images[3]\n",
    "plt.imshow(temp_image,cmap='gray')\n",
    "plt.show() # 경계가 살짝 회색, 실제는 3차원 텐서의 모양이다"
   ]
  },
  {
   "cell_type": "code",
   "execution_count": 60,
   "metadata": {},
   "outputs": [
    {
     "data": {
      "text/plain": [
       "array([7, 2, 1, 0], dtype=uint8)"
      ]
     },
     "execution_count": 60,
     "metadata": {},
     "output_type": "execute_result"
    }
   ],
   "source": [
    "test_labels[0:4]"
   ]
  },
  {
   "cell_type": "code",
   "execution_count": 53,
   "metadata": {},
   "outputs": [
    {
     "data": {
      "image/png": "[encoded data removed]",
      "text/plain": [
       "<Figure size 432x288 with 1 Axes>"
      ]
     },
     "metadata": {},
     "output_type": "display_data"
    }
   ],
   "source": [
    "temp_image2 = test_images[3]\n",
    "plt.imshow(temp_image2,cmap='gray')\n",
    "plt.show()"
   ]
  },
  {
   "cell_type": "markdown",
   "metadata": {},
   "source": [
    "## 브로드캐스팅(broadcasting)\n",
    "- 넘파이에서 다른 형상(shape)끼리는 자동으로 shape을 맞춰서 계산이 가능하다\n",
    "- 더 작은 형상(shape)이 형상이 더 큰 배열에 확장 가능해야함"
   ]
  },
  {
   "cell_type": "markdown",
   "metadata": {},
   "source": [
    "### 브로드캐스팅 조건\n",
    "- 차원의 크기가 1일때 가능하다\n",
    "- 두 배열 간의 연산에서 최소한 하나의 배열의 차원이 1이라면(0번 축이든 1번 축이든; 1행이든 1열이든) 가능하다.\n",
    "- 차원의 짝이 맞을 때 가능하다\n",
    "- 차원에 대해 **축**의 길이가 동일하면 브로드캐스팅이 가능하다."
   ]
  },
  {
   "cell_type": "code",
   "execution_count": 81,
   "metadata": {},
   "outputs": [
    {
     "name": "stdout",
     "output_type": "stream",
     "text": [
      "[100 200 300]\n",
      "[100 200 300]\n"
     ]
    }
   ],
   "source": [
    "a= np.array(10) # () : 스칼라\n",
    "b= np.array([10,20,30]) # (3,)\n",
    "print(a.dot(b))\n",
    "print(a*b)"
   ]
  },
  {
   "cell_type": "code",
   "execution_count": 80,
   "metadata": {},
   "outputs": [
    {
     "name": "stdout",
     "output_type": "stream",
     "text": [
      "행렬 A\n",
      " [[1 2]\n",
      " [3 4]]\n",
      "--------------------------------------------------------------------------------\n",
      "행렬 B\n",
      " [10 20]\n",
      "--------------------------------------------------------------------------------\n",
      "A*B\n",
      " [[10 40]\n",
      " [30 80]]\n",
      "--------------------------------------------------------------------------------\n",
      "A.dot(B)\n",
      " [ 50 110]\n"
     ]
    }
   ],
   "source": [
    "A = np.array([[1,2],[3,4]]) # (2, 2)\n",
    "B = np.array([10,20]) # (2,)\n",
    "print('행렬 A\\n',A)\n",
    "print('--'*40)\n",
    "print('행렬 B\\n',B)\n",
    "print('--'*40)\n",
    "print('A*B\\n',A*B)\n",
    "print('--'*40)\n",
    "print('A.dot(B)\\n',A.dot(B)) # [1*10+2*40=50 3*10+4*20=110]"
   ]
  },
  {
   "cell_type": "code",
   "execution_count": 91,
   "metadata": {},
   "outputs": [
    {
     "name": "stdout",
     "output_type": "stream",
     "text": [
      "[[[[ 0]\n",
      "   [10]\n",
      "   [20]\n",
      "   [30]]]]\n",
      "4\n",
      "--------------------------------------------------------------------------------\n",
      "[0 1 2]\n",
      "1\n",
      "--------------------------------------------------------------------------------\n",
      "[[[[ 0  0  0]\n",
      "   [ 0 10 20]\n",
      "   [ 0 20 40]\n",
      "   [ 0 30 60]]]]\n"
     ]
    }
   ],
   "source": [
    "# 최소한 1개의 배열의 차원이 1이면 가능\n",
    "A = np.array([[[[0],\n",
    "               [10],\n",
    "               [20],\n",
    "               [30]]]]) # (1, 1, 4, 1)\n",
    "B = np.array([0,1,2]) # (3,)\n",
    "print(A)\n",
    "print(A.ndim)\n",
    "print('--'*40)\n",
    "print(B)\n",
    "print(B.ndim)\n",
    "print('--'*40)\n",
    "print(A*B)"
   ]
  },
  {
   "cell_type": "code",
   "execution_count": 92,
   "metadata": {},
   "outputs": [
    {
     "name": "stdout",
     "output_type": "stream",
     "text": [
      "행렬 A\n",
      " [[[1 1 1]\n",
      "  [2 2 2]]\n",
      "\n",
      " [[3 3 3]\n",
      "  [4 4 4]]]\n",
      "3\n",
      "--------------------------------------------------------------------------------\n",
      "행렬 B\n",
      " [[10 10 10]]\n",
      "2\n",
      "--------------------------------------------------------------------------------\n",
      "[[[10 10 10]\n",
      "  [20 20 20]]\n",
      "\n",
      " [[30 30 30]\n",
      "  [40 40 40]]]\n"
     ]
    }
   ],
   "source": [
    "A = np.array([[[1,1,1],\n",
    "               [2,2,2]],\n",
    "              [[3,3,3],\n",
    "               [4,4,4]]]) # (2, 2, 3)\n",
    "B = np.array([[10,10,10]]) # (1, 3)\n",
    "              \n",
    "print('행렬 A\\n',A)\n",
    "print(A.ndim)\n",
    "print('--'*40)\n",
    "print('행렬 B\\n',B)\n",
    "print(B.ndim)\n",
    "print('--'*40)\n",
    "print(A*B)"
   ]
  },
  {
   "cell_type": "code",
   "execution_count": 94,
   "metadata": {},
   "outputs": [
    {
     "name": "stdout",
     "output_type": "stream",
     "text": [
      "(2, 3)\n",
      "2\n",
      "(2,)\n",
      "1\n"
     ]
    }
   ],
   "source": [
    "# 브로드캐스팅 조건에 안맞아서 에러뜸\n",
    "A = np.array([[1,2,3],[4,5,6]])\n",
    "B = np.array([10,10])\n",
    "print(A.shape)\n",
    "print(A.ndim)\n",
    "print(B.shape)\n",
    "print(B.ndim)"
   ]
  },
  {
   "cell_type": "markdown",
   "metadata": {},
   "source": [
    "## 4,5차원 텐서\n",
    "- Color Image Datasets(4차원)\n",
    "    - (samples, height, width, channels) ( Keras, Tensorflow )\n",
    "    - (samples, channels, height, width) ( Pytorch )\n",
    "- 동영상(5차원)\n",
    "    - (samples, frames, height, width, channels)\n",
    "    - (samples, frames, channels, height, width)\n",
    "- 예시 1) (4, 300, 1920, 1080, 3)\n",
    "    - 1920x1080 사이즈 3채널의 300프레임 수를 가진 배치가 4개"
   ]
  },
  {
   "cell_type": "markdown",
   "metadata": {},
   "source": [
    "### 텐서 크기 변환\n",
    "- reshape\n",
    "- 변환 전의 원소의 개수와 변환 이후의 텐서의 개수가 같아야 함"
   ]
  },
  {
   "cell_type": "code",
   "execution_count": 99,
   "metadata": {},
   "outputs": [
    {
     "name": "stdout",
     "output_type": "stream",
     "text": [
      "행렬A\n",
      " [[1 2 3]\n",
      " [4 5 6]]\n",
      "A.shape: (2, 3)\n",
      "--------------------------------------------------------------------------------\n",
      "A.shape: (6,)\n",
      "[1 2 3 4 5 6]\n"
     ]
    }
   ],
   "source": [
    "A = np.array([[1,2,3],[4,5,6]])\n",
    "print('행렬A\\n',A)\n",
    "print('A.shape:',A.shape)\n",
    "print('--'*40)\n",
    "A = A.reshape(6)\n",
    "print('A.shape:',A.shape)\n",
    "print(A)"
   ]
  },
  {
   "cell_type": "code",
   "execution_count": 102,
   "metadata": {},
   "outputs": [
    {
     "name": "stdout",
     "output_type": "stream",
     "text": [
      "행렬B\n",
      " [[[2 3 4]\n",
      "  [2 3 4]]\n",
      "\n",
      " [[1 1 1]\n",
      "  [1 1 1]]]\n",
      "B.shape: (2, 2, 3)\n",
      "--------------------------------------------------------------------------------\n",
      "B.shape: (3, 4)\n",
      "[[2 3 4 2]\n",
      " [3 4 1 1]\n",
      " [1 1 1 1]]\n"
     ]
    }
   ],
   "source": [
    "B = np.array([[[2,3,4],[2,3,4]],\n",
    "             [[1,1,1],[1,1,1]]])\n",
    "print('행렬B\\n',B)\n",
    "print('B.shape:',B.shape)\n",
    "print('--'*40)\n",
    "B = B.reshape(3,4)\n",
    "print('B.shape:',B.shape)\n",
    "print(B)"
   ]
  },
  {
   "cell_type": "markdown",
   "metadata": {},
   "source": [
    "- -1 을 통해 자동으로 형상을 지정 가능\n",
    "- 원소의 갯수에 맞게 넘파이가 자동으로 형상을 지정"
   ]
  },
  {
   "cell_type": "code",
   "execution_count": 103,
   "metadata": {},
   "outputs": [
    {
     "name": "stdout",
     "output_type": "stream",
     "text": [
      "행렬B\n",
      " [[[2 3 4]\n",
      "  [2 3 4]]\n",
      "\n",
      " [[1 1 1]\n",
      "  [1 1 1]]]\n",
      "B.shape: (2, 2, 3)\n",
      "--------------------------------------------------------------------------------\n",
      "B.shape: (4, 3)\n",
      "[[2 3 4]\n",
      " [2 3 4]\n",
      " [1 1 1]\n",
      " [1 1 1]]\n"
     ]
    }
   ],
   "source": [
    "B = np.array([[[2,3,4],[2,3,4]],\n",
    "             [[1,1,1],[1,1,1]]])\n",
    "print('행렬B\\n',B)\n",
    "print('B.shape:',B.shape)\n",
    "print('--'*40)\n",
    "B = B.reshape(4,-1)\n",
    "print('B.shape:',B.shape)\n",
    "print(B)"
   ]
  }
 ],
 "metadata": {
  "kernelspec": {
   "display_name": "Python 3 (ipykernel)",
   "language": "python",
   "name": "python3"
  },
  "language_info": {
   "codemirror_mode": {
    "name": "ipython",
    "version": 3
   },
   "file_extension": ".py",
   "mimetype": "text/x-python",
   "name": "python",
   "nbconvert_exporter": "python",
   "pygments_lexer": "ipython3",
   "version": "3.8.13"
  }
 },
 "nbformat": 4,
 "nbformat_minor": 4
}
